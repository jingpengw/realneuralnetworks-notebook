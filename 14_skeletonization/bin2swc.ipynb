{
 "cells": [
  {
   "cell_type": "code",
   "execution_count": 1,
   "metadata": {},
   "outputs": [],
   "source": [
    "# transform binary skeleton to SWC files\n",
    "\n",
    "from cloudvolume import Skeleton"
   ]
  },
  {
   "cell_type": "code",
   "execution_count": 12,
   "metadata": {},
   "outputs": [
    {
     "name": "stderr",
     "output_type": "stream",
     "text": [
      "100%|██████████| 4094/4094 [16:50<00:00,  4.05it/s]\n"
     ]
    }
   ],
   "source": [
    "import os\n",
    "from tqdm import tqdm\n",
    "\n",
    "for fname in tqdm(os.listdir('../01_data/bin/')):\n",
    "    path = os.path.join('../01_data/bin', fname)\n",
    "    with open(path, 'rb') as f:\n",
    "        data = f.read()\n",
    "        sk = Skeleton.from_precomputed(data)\n",
    "    out_fname = os.path.join('../01_data/swc', fname + '.swc')\n",
    "    swc = sk.to_swc()\n",
    "    with open(out_fname, 'w') as f:\n",
    "        f.write(swc)\n",
    "    "
   ]
  }
 ],
 "metadata": {
  "@webio": {
   "lastCommId": null,
   "lastKernelId": null
  },
  "kernelspec": {
   "display_name": "Python 3",
   "language": "python",
   "name": "python3"
  }
 },
 "nbformat": 4,
 "nbformat_minor": 2
}
