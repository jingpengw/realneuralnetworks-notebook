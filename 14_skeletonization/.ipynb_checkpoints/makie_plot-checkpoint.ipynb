{
 "cells": [
  {
   "cell_type": "code",
   "execution_count": 2,
   "id": "1c96eca1",
   "metadata": {},
   "outputs": [
    {
     "data": {
      "text/plain": [
       "GLMakie.Screen(...)"
      ]
     },
     "execution_count": 2,
     "metadata": {},
     "output_type": "execute_result"
    }
   ],
   "source": [
    "# using Makie\n",
    "# using WGLMakie\n",
    "# WGLMakie.activate!()\n",
    "using GLMakie\n",
    "# GLMakie.activate!()\n",
    "\n",
    "# set_window_config!(;\n",
    "#     vsync = false,\n",
    "#     framerate = 30.0,\n",
    "#     float = false,\n",
    "#     pause_rendering = false,\n",
    "#     focus_on_show = false,\n",
    "#     decorated = true,\n",
    "#     title = \"Makie\"\n",
    "# )\n",
    "\n",
    "\n",
    "# function display3d()\n",
    "\n",
    "#     x = LinRange(0, 10, 100)\n",
    "#     y = sin.(x)\n",
    "#     z = cos.(x)\n",
    "\n",
    "#     fig = lines(x, y, z)\n",
    "\n",
    "#     display(fig)\n",
    "# end\n",
    "\n",
    "# display3d()"
   ]
  },
  {
   "cell_type": "code",
   "execution_count": null,
   "id": "d0165a89",
   "metadata": {},
   "outputs": [],
   "source": [
    "using RealNeuralNetworks\n",
    "using RealNeuralNetworks.Neurons\n",
    "\n",
    "neuron = Neurons.load_swc(\"../01_data/postprocessed_swc/76181.swc\");"
   ]
  },
  {
   "cell_type": "code",
   "execution_count": null,
   "id": "b3a9d3b3",
   "metadata": {},
   "outputs": [],
   "source": [
    "\n",
    "segmentList = Neurons.get_segment_list(neuron)\n",
    "\n",
    "for segment in segmentList\n",
    "    nodeList = Neurons.Segments.get_node_list(segment)\n",
    "    #@show length(nodeList)\n",
    "    #@show nodeList\n",
    "    x = map(n->n[1], nodeList)\n",
    "    y = map(n->n[2], nodeList)\n",
    "    z = map(n->n[3], nodeList)\n",
    "#     plot!(x,y,z) #color=rand(Colors.RGB))\n",
    "    GLMakie.linesegments(x, y, z)\n",
    "end"
   ]
  },
  {
   "cell_type": "code",
   "execution_count": null,
   "id": "fa99bc41",
   "metadata": {},
   "outputs": [],
   "source": []
  },
  {
   "cell_type": "code",
   "execution_count": null,
   "id": "15ff3516",
   "metadata": {},
   "outputs": [],
   "source": []
  }
 ],
 "metadata": {
  "kernelspec": {
   "display_name": "Julia 1.6.0",
   "language": "julia",
   "name": "julia-1.6"
  },
  "language_info": {
   "file_extension": ".jl",
   "mimetype": "application/julia",
   "name": "julia",
   "version": "1.6.0"
  }
 },
 "nbformat": 4,
 "nbformat_minor": 5
}
