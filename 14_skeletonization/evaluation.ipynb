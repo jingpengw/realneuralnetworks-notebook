{
 "cells": [
  {
   "cell_type": "markdown",
   "metadata": {},
   "source": [
    "# evaluate by node distance"
   ]
  },
  {
   "cell_type": "code",
   "execution_count": 1,
   "metadata": {},
   "outputs": [
    {
     "name": "stderr",
     "output_type": "stream",
     "text": [
      "┌ Info: Recompiling stale cache file /usr/people/jingpeng/.julia/compiled/v1.3/RealNeuralNetworks/iv4AJ.ji for RealNeuralNetworks [4491297b-8966-5840-8cb9-b189d60f3398]\n",
      "└ @ Base loading.jl:1240\n",
      "┌ Warning: did not find AWS credential! set it in environment variables.\n",
      "└ @ BigArrays.S3Dicts ~/.julia/dev/BigArrays/src/backends/S3Dicts.jl:23\n"
     ]
    },
    {
     "ename": "ArgumentError",
     "evalue": "ArgumentError: Package DataStructures not found in current path:\n- Run `import Pkg; Pkg.add(\"DataStructures\")` to install the DataStructures package.\n",
     "output_type": "error",
     "traceback": [
      "ArgumentError: Package DataStructures not found in current path:\n- Run `import Pkg; Pkg.add(\"DataStructures\")` to install the DataStructures package.\n",
      "",
      "Stacktrace:",
      " [1] require(::Module, ::Symbol) at ./loading.jl:876",
      " [2] top-level scope at In[1]:4"
     ]
    }
   ],
   "source": [
    "using RealNeuralNetworks\n",
    "using RealNeuralNetworks.SWCs\n",
    "using RealNeuralNetworks.Neurons\n",
    "using DataStructures"
   ]
  },
  {
   "cell_type": "code",
   "execution_count": 2,
   "metadata": {},
   "outputs": [
    {
     "ename": "SystemError",
     "evalue": "SystemError: unable to read directory 0412/swc.bin: No such file or directory",
     "output_type": "error",
     "traceback": [
      "SystemError: unable to read directory 0412/swc.bin: No such file or directory",
      "",
      "Stacktrace:",
      " [1] readdir(::String) at ./file.jl:642",
      " [2] top-level scope at In[2]:2"
     ]
    }
   ],
   "source": [
    "SWC_BIN_DIR = \"0412/swc.bin\"\n",
    "neuronIdList = map(x->parse(x[1:end-8]), readdir(SWC_BIN_DIR))\n",
    "# NEURON_ID_LIST = [77938, 77232, 77946, 77929, 77901, 76893, 78045, 78048]"
   ]
  },
  {
   "cell_type": "code",
   "execution_count": 3,
   "metadata": {},
   "outputs": [
    {
     "ename": "UndefVarError",
     "evalue": "UndefVarError: neuronIdList not defined",
     "output_type": "error",
     "traceback": [
      "UndefVarError: neuronIdList not defined",
      "",
      "Stacktrace:",
      " [1] top-level scope at ./In[3]:2"
     ]
    }
   ],
   "source": [
    "neurons = Dict()\n",
    "for neuronId in neuronIdList\n",
    "    swc = SWCs.load_swc_bin(joinpath(SWC_BIN_DIR, \"$(neuronId).swc.bin\"))\n",
    "    neuron = Neuron(swc)\n",
    "    neurons[neuronId] = neuron\n",
    "end "
   ]
  },
  {
   "cell_type": "code",
   "execution_count": 4,
   "metadata": {},
   "outputs": [
    {
     "data": {
      "text/plain": [
       "0-element Array{Any,1}"
      ]
     },
     "execution_count": 4,
     "metadata": {},
     "output_type": "execute_result"
    }
   ],
   "source": [
    "# node distance distribution\n",
    "nodeDistances = Vector()\n",
    "for (id, neuron) in neurons\n",
    "    nodeDistanceList = Neurons.get_node_distance_list(neuron)\n",
    "    push!(nodeDistances, (id, nodeDistanceList))\n",
    "end \n",
    "\n",
    "sort!(nodeDistances, by=x->maximum(x[2]))"
   ]
  },
  {
   "cell_type": "code",
   "execution_count": 5,
   "metadata": {},
   "outputs": [
    {
     "data": {
      "text/plain": [
       "0-element Array{Any,1}"
      ]
     },
     "execution_count": 5,
     "metadata": {},
     "output_type": "execute_result"
    }
   ],
   "source": [
    "map(x->maximum(x[2]), nodeDistances)"
   ]
  },
  {
   "cell_type": "code",
   "execution_count": 6,
   "metadata": {},
   "outputs": [
    {
     "name": "stderr",
     "output_type": "stream",
     "text": [
      "┌ Info: Recompiling stale cache file /usr/people/jingpeng/.julia/compiled/v1.3/PyPlot/oatAj.ji for PyPlot [d330b81b-6aea-500a-939a-2ce795aea3ee]\n",
      "└ @ Base loading.jl:1240\n"
     ]
    },
    {
     "ename": "BoundsError",
     "evalue": "BoundsError: attempt to access 0-element Array{Any,1} at index [-10:0]",
     "output_type": "error",
     "traceback": [
      "BoundsError: attempt to access 0-element Array{Any,1} at index [-10:0]",
      "",
      "Stacktrace:",
      " [1] throw_boundserror(::Array{Any,1}, ::Tuple{UnitRange{Int64}}) at ./abstractarray.jl:538",
      " [2] checkbounds at ./abstractarray.jl:503 [inlined]",
      " [3] getindex(::Array{Any,1}, ::UnitRange{Int64}) at ./array.jl:748",
      " [4] top-level scope at In[6]:3"
     ]
    }
   ],
   "source": [
    "using PyPlot\n",
    "plotNum = 10\n",
    "PyPlot.boxplot(map(x->x[2], nodeDistances[end-plotNum:end]), \n",
    "                labels=map(x->string(x[1]), nodeDistances[end-plotNum:end]))"
   ]
  },
  {
   "cell_type": "code",
   "execution_count": 7,
   "metadata": {},
   "outputs": [
    {
     "ename": "BoundsError",
     "evalue": "BoundsError: attempt to access 0-element Array{Any,1} at index [-10:0]",
     "output_type": "error",
     "traceback": [
      "BoundsError: attempt to access 0-element Array{Any,1} at index [-10:0]",
      "",
      "Stacktrace:",
      " [1] throw_boundserror(::Array{Any,1}, ::Tuple{UnitRange{Int64}}) at ./abstractarray.jl:538",
      " [2] checkbounds at ./abstractarray.jl:503 [inlined]",
      " [3] getindex(::Array{Any,1}, ::UnitRange{Int64}) at ./array.jl:748",
      " [4] top-level scope at In[7]:1"
     ]
    }
   ],
   "source": [
    "nodeDistances[end-plotNum:end][2]"
   ]
  },
  {
   "cell_type": "code",
   "execution_count": null,
   "metadata": {},
   "outputs": [],
   "source": []
  }
 ],
 "metadata": {
  "kernelspec": {
   "display_name": "Julia 1.3.0-alpha",
   "language": "julia",
   "name": "julia-1.3"
  },
  "language_info": {
   "file_extension": ".jl",
   "mimetype": "application/julia",
   "name": "julia",
   "version": "1.3.0"
  }
 },
 "nbformat": 4,
 "nbformat_minor": 2
}
