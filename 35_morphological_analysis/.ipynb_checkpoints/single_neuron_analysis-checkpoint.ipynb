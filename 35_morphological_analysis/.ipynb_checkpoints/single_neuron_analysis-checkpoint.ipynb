{
 "cells": [
  {
   "cell_type": "code",
   "execution_count": null,
   "metadata": {},
   "outputs": [],
   "source": [
    "using Revise\n",
    "\n",
    "using RealNeuralNetworks\n",
    "using RealNeuralNetworks.Neurons\n",
    "using RealNeuralNetworks.SWCs\n",
    "using RealNeuralNetworks.Neurons.Segments\n",
    "using Plots\n",
    "Plots.plotly()\n",
    "\n",
    "import Pkg\n",
    "include(joinpath(Pkg.dir(\"RealNeuralNetworks\"), \"src/Utils/PlotRecipes.jl\"))\n",
    "using .PlotRecipes"
   ]
  },
  {
   "cell_type": "code",
   "execution_count": null,
   "metadata": {},
   "outputs": [],
   "source": [
    "#cellId = 76390\n",
    "#  cellId = 76749\n",
    "# cellId = 76627\n",
    "#cellId = 76560\n",
    "#cellId = 77151\n",
    "#cellId = 76564\n",
    "cellId = 77710\n",
    "\n",
    "swc = SWCs.load_swc_bin(\"../01_data/postprocessed_swc_bin/$(cellId).swc.bin\")\n",
    "neuron = Neuron(swc)\n",
    "neuron = Neurons.remove_hair(neuron)\n",
    "neuron = Neurons.remove_subtree_in_soma(neuron)\n",
    "neuron = Neurons.remove_terminal_blobs(neuron)\n",
    "neuron = Neurons.remove_redundent_nodes(neuron)\n",
    "\n",
    "segmentList = Neurons.get_segment_list( neuron )"
   ]
  },
  {
   "cell_type": "code",
   "execution_count": null,
   "metadata": {},
   "outputs": [],
   "source": [
    "Neurons.get_total_path_length(neuron)"
   ]
  },
  {
   "cell_type": "code",
   "execution_count": null,
   "metadata": {
    "scrolled": true
   },
   "outputs": [],
   "source": [
    "  \n",
    "# nodeDistanceList = Neurons.get_node_distance_list(neuron)\n",
    "# histogram(nodeDistanceList, xlims = (0, 110))"
   ]
  },
  {
   "cell_type": "code",
   "execution_count": null,
   "metadata": {},
   "outputs": [],
   "source": [
    "neuron = Neurons.downsample_nodes(neuron; nodeNumStep=24)\n",
    "PlotRecipes.plot(neuron; nodeStep=1)"
   ]
  },
  {
   "cell_type": "code",
   "execution_count": null,
   "metadata": {
    "scrolled": true
   },
   "outputs": [],
   "source": [
    "nodeDistanceList = Neurons.get_node_distance_list(neuron)\n",
    "histogram(nodeDistanceList)"
   ]
  },
  {
   "cell_type": "code",
   "execution_count": null,
   "metadata": {},
   "outputs": [],
   "source": [
    "Neurons.get_total_path_length(neuron)"
   ]
  },
  {
   "cell_type": "code",
   "execution_count": null,
   "metadata": {
    "scrolled": true
   },
   "outputs": [],
   "source": [
    "branchingAngleList = map( i -> Neurons.get_branching_angle(neuron, i), 1:length(segmentList) )\n",
    "p = histogram(branchingAngleList, leg=false)\n",
    "xlabel!(p, \"branching angle\")\n",
    "ylabel!(p, \"count of branches\")"
   ]
  },
  {
   "cell_type": "code",
   "execution_count": null,
   "metadata": {},
   "outputs": [],
   "source": [
    "radiusList = Vector{Float64}(5000:5000:120000)\n",
    "@time shollNumList = Neurons.get_sholl_number_list(neuron, radiusList)\n",
    "p = plot(radiusList./1000, shollNumList, line=([:path, :dot],2), leg=false, w=3)\n",
    "xlabel!(p, \"radius from soma (\\u03BCm)\")\n",
    "ylabel!(p, \"sholl number\")"
   ]
  },
  {
   "cell_type": "code",
   "execution_count": null,
   "metadata": {},
   "outputs": [],
   "source": [
    "segmentPathLengthList = Neurons.get_segment_path_length_list( neuron )\n",
    "@time segmentOrderList = Neurons.get_segment_order_list( neuron )\n",
    "plot( segmentPathLengthList./1000, segmentOrderList, line=[:scatter], leg=false, \n",
    "    xlabel=\"segment path length (\\u03BCm)\",\n",
    "    ylabel=\"segment order\")"
   ]
  },
  {
   "cell_type": "code",
   "execution_count": null,
   "metadata": {},
   "outputs": [],
   "source": [
    "@time tortuosityList = map(Neurons.Segments.get_tortuosity, segmentList)\n",
    "p = histogram(tortuosityList, leg=false)\n",
    "xlabel!(p,\"tortuosity\")\n",
    "ylabel!(p, \"count of branches\")"
   ]
  },
  {
   "cell_type": "code",
   "execution_count": null,
   "metadata": {},
   "outputs": [],
   "source": [
    "p = plot(branchingAngleList, tortuosityList, leg=false, line=([:scatter], 3))\n",
    "xlabel!(p, \"branching angle\")\n",
    "ylabel!(p, \"tortuosity\")"
   ]
  },
  {
   "cell_type": "code",
   "execution_count": null,
   "metadata": {},
   "outputs": [],
   "source": [
    "averageRadiusList = map(b -> mean(Neurons.Segments.get_radius_list(b)), segmentList)\n",
    "p = histogram(averageRadiusList, leg=false, nbins=100)\n",
    "xlabel!(p, \"average radius of a segment (nm)\")\n",
    "ylabel!(p, \"count of branches\")"
   ]
  },
  {
   "cell_type": "code",
   "execution_count": null,
   "metadata": {
    "scrolled": true
   },
   "outputs": [],
   "source": [
    "@time path2RootLengthList = map(b -> Neurons.get_path_to_root_length(neuron, b;\n",
    "                                                segmentPathLengthList=segmentPathLengthList), 1:length(segmentList))\n",
    "p = histogram( path2RootLengthList./1000, leg=false, nbins=32)\n",
    "xlabel!(p, \"path to root length (\\u03BCm)\")\n",
    "ylabel!(p, \"count of branches\")"
   ]
  },
  {
   "cell_type": "code",
   "execution_count": null,
   "metadata": {},
   "outputs": [],
   "source": [
    "# identify spines\n",
    "terminalSegmentIndexList = Neurons.get_terminal_segment_id_list(neuron)\n",
    "terminalSegmentList = segmentList[ terminalSegmentIndexList ]\n",
    "segmentPathLengthList = Neurons.get_segment_path_length_list( neuron )\n",
    "terminalSegmentPathLengthList = segmentPathLengthList[ terminalSegmentIndexList ]\n",
    "terminalSegmentTailHeadRadiusRatioList = map(Neurons.Segments.get_tail_head_radius_ratio, terminalSegmentList)\n",
    "\n",
    "plot(terminalSegmentPathLengthList./1000, terminalSegmentTailHeadRadiusRatioList, line = ([:scatter],3), leg=false, \n",
    "        xlabel=\"terminal segment path length (\\u03BCm)\",\n",
    "        ylabel=\"terminal segment tail-head-radius ratio\",\n",
    "        title=\"spine classifier\")"
   ]
  },
  {
   "cell_type": "code",
   "execution_count": null,
   "metadata": {},
   "outputs": [],
   "source": [
    "# @time fractalDimension, radiusList, massList = Neuronss.get_fractal_dimension( Neurons )\n",
    "# p = plot(log(radiusList), log(massList), line=([:scatter], 2), leg=false,\n",
    "#         xlabel=\"log of radius\",\n",
    "#         ylabel=\"log of mass\")"
   ]
  },
  {
   "cell_type": "code",
   "execution_count": null,
   "metadata": {},
   "outputs": [],
   "source": []
  },
  {
   "cell_type": "code",
   "execution_count": null,
   "metadata": {},
   "outputs": [],
   "source": []
  }
 ],
 "metadata": {
  "kernelspec": {
   "display_name": "Julia 1.5.4",
   "language": "julia",
   "name": "julia-1.5"
  },
  "language_info": {
   "file_extension": ".jl",
   "mimetype": "application/julia",
   "name": "julia",
   "version": "1.5.4"
  }
 },
 "nbformat": 4,
 "nbformat_minor": 2
}
