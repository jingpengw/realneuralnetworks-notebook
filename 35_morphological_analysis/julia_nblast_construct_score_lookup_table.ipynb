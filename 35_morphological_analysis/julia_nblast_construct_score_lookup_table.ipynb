{
 "cells": [
  {
   "cell_type": "code",
   "execution_count": 1,
   "metadata": {
    "collapsed": true
   },
   "outputs": [
    {
     "data": {
      "text/plain": [
       "56-element Array{Int64,1}:\n",
       "  2\n",
       "  3\n",
       "  4\n",
       "  5\n",
       "  6\n",
       "  7\n",
       "  8\n",
       "  9\n",
       " 10\n",
       " 11\n",
       " 12\n",
       " 13\n",
       " 14\n",
       "  ⋮\n",
       " 46\n",
       " 47\n",
       " 48\n",
       " 49\n",
       " 50\n",
       " 51\n",
       " 52\n",
       " 53\n",
       " 54\n",
       " 55\n",
       " 56\n",
       " 57"
      ]
     },
     "execution_count": 1,
     "metadata": {},
     "output_type": "execute_result"
    }
   ],
   "source": [
    "using Distributed\n",
    "addprocs();\n",
    "Distributed.nworkers()"
   ]
  },
  {
   "cell_type": "code",
   "execution_count": 159,
   "metadata": {},
   "outputs": [],
   "source": [
    "using PyPlot\n",
    "using Revise\n",
    "\n",
    "using CSV\n",
    "using DataFrames\n",
    "using NearestNeighbors\n",
    "using LinearAlgebra\n",
    "\n",
    "@everywhere using RealNeuralNetworks\n",
    "@everywhere using RealNeuralNetworks.SWCs\n",
    "@everywhere using RealNeuralNetworks.NodeNets\n",
    "@everywhere using RealNeuralNetworks.Neurons\n",
    "@everywhere using RealNeuralNetworks.Neurons.Segments\n",
    "\n",
    "@everywhere using RealNeuralNetworks.NBLASTs\n",
    "@everywhere using RealNeuralNetworks.Utils.VectorClouds\n",
    "@everywhere using RealNeuralNetworks.Utils.RangeIndexingArrays\n",
    "\n",
    "using Statistics\n",
    "\n",
    "@everywhere const DATASET_DIR = expanduser(\"~/seungmount/research/Jingpeng/14_zfish/01_data/20190415\")"
   ]
  },
  {
   "cell_type": "code",
   "execution_count": 160,
   "metadata": {},
   "outputs": [
    {
     "data": {
      "text/html": [
       "<table class=\"data-frame\"><thead><tr><th></th><th>Column1</th><th>(0,0.1]</th><th>(0.1,0.2]</th><th>(0.2,0.3]</th><th>(0.3,0.4]</th><th>(0.4,0.5]</th><th>(0.5,0.6]</th><th>(0.6,0.7]</th></tr><tr><th></th><th>String</th><th>Float64</th><th>Float64</th><th>Float64</th><th>Float64</th><th>Float64</th><th>Float64</th><th>Float64</th></tr></thead><tbody><p>21 rows × 11 columns (omitted printing of 3 columns)</p><tr><th>1</th><td>(0,0.75]</td><td>9.5001</td><td>9.21508</td><td>9.21115</td><td>8.77846</td><td>9.16481</td><td>9.2267</td><td>9.98177</td></tr><tr><th>2</th><td>(0.75,1.5]</td><td>8.44776</td><td>9.04607</td><td>8.66796</td><td>8.62098</td><td>8.77627</td><td>8.9917</td><td>9.618</td></tr><tr><th>3</th><td>(1.5,2]</td><td>7.81414</td><td>8.27558</td><td>8.18661</td><td>8.23731</td><td>8.15599</td><td>8.44982</td><td>9.00303</td></tr><tr><th>4</th><td>(2,2.5]</td><td>7.51617</td><td>7.68156</td><td>7.82524</td><td>7.79366</td><td>7.88688</td><td>8.03177</td><td>7.90419</td></tr><tr><th>5</th><td>(2.5,3]</td><td>6.97831</td><td>6.94308</td><td>7.07922</td><td>7.04965</td><td>7.21306</td><td>6.93875</td><td>7.63697</td></tr><tr><th>6</th><td>(3,3.5]</td><td>6.3372</td><td>6.51045</td><td>6.35737</td><td>6.73067</td><td>6.64134</td><td>6.68494</td><td>6.84521</td></tr><tr><th>7</th><td>(3.5,4]</td><td>5.735</td><td>5.77656</td><td>5.87488</td><td>6.07847</td><td>6.02418</td><td>5.93648</td><td>6.16519</td></tr><tr><th>8</th><td>(4,5]</td><td>5.11582</td><td>5.02165</td><td>5.15657</td><td>5.10427</td><td>5.14093</td><td>5.10869</td><td>5.3135</td></tr><tr><th>9</th><td>(5,6]</td><td>4.23399</td><td>4.15795</td><td>4.20728</td><td>4.15459</td><td>4.12686</td><td>4.07337</td><td>4.13971</td></tr><tr><th>10</th><td>(6,7]</td><td>3.34027</td><td>3.30513</td><td>3.29599</td><td>3.26045</td><td>3.29237</td><td>3.17887</td><td>3.35978</td></tr><tr><th>11</th><td>(7,8]</td><td>2.49516</td><td>2.52098</td><td>2.52306</td><td>2.4695</td><td>2.48276</td><td>2.49589</td><td>2.53248</td></tr><tr><th>12</th><td>(8,9]</td><td>1.80239</td><td>1.78109</td><td>1.70676</td><td>1.77536</td><td>1.7529</td><td>1.75147</td><td>1.79083</td></tr><tr><th>13</th><td>(9,10]</td><td>1.23204</td><td>1.24902</td><td>1.15056</td><td>1.15361</td><td>1.10538</td><td>1.09096</td><td>1.11211</td></tr><tr><th>14</th><td>(10,12]</td><td>0.40103</td><td>0.40586</td><td>0.364813</td><td>0.445293</td><td>0.340572</td><td>0.338199</td><td>0.280083</td></tr><tr><th>15</th><td>(12,14]</td><td>-0.232687</td><td>-0.284913</td><td>-0.336661</td><td>-0.341205</td><td>-0.403613</td><td>-0.449623</td><td>-0.410465</td></tr><tr><th>16</th><td>(14,16]</td><td>-0.720642</td><td>-0.737188</td><td>-0.791599</td><td>-0.913296</td><td>-0.865875</td><td>-0.929915</td><td>-0.938061</td></tr><tr><th>17</th><td>(16,20]</td><td>-1.20775</td><td>-1.22429</td><td>-1.23282</td><td>-1.31778</td><td>-1.33459</td><td>-1.3817</td><td>-1.39944</td></tr><tr><th>18</th><td>(20,25]</td><td>-1.6459</td><td>-1.67268</td><td>-1.69808</td><td>-1.75618</td><td>-1.79136</td><td>-1.87854</td><td>-1.87419</td></tr><tr><th>19</th><td>(25,30]</td><td>-2.51778</td><td>-2.54535</td><td>-2.53972</td><td>-2.54576</td><td>-2.60681</td><td>-2.68595</td><td>-2.66327</td></tr><tr><th>20</th><td>(30,40]</td><td>-3.96009</td><td>-4.03139</td><td>-4.07212</td><td>-4.14735</td><td>-4.33003</td><td>-4.42005</td><td>-4.50792</td></tr><tr><th>21</th><td>(40,500]</td><td>-9.92104</td><td>-10.0876</td><td>-10.0554</td><td>-10.1027</td><td>-10.0868</td><td>-9.9122</td><td>-10.08</td></tr></tbody></table>"
      ],
      "text/latex": [
       "\\begin{tabular}{r|ccccccccc}\n",
       "\t& Column1 & (0,0.1] & (0.1,0.2] & (0.2,0.3] & (0.3,0.4] & (0.4,0.5] & (0.5,0.6] & (0.6,0.7] & \\\\\n",
       "\t\\hline\n",
       "\t& String & Float64 & Float64 & Float64 & Float64 & Float64 & Float64 & Float64 & \\\\\n",
       "\t\\hline\n",
       "\t1 & (0,0.75] & 9.5001 & 9.21508 & 9.21115 & 8.77846 & 9.16481 & 9.2267 & 9.98177 & $\\dots$ \\\\\n",
       "\t2 & (0.75,1.5] & 8.44776 & 9.04607 & 8.66796 & 8.62098 & 8.77627 & 8.9917 & 9.618 & $\\dots$ \\\\\n",
       "\t3 & (1.5,2] & 7.81414 & 8.27558 & 8.18661 & 8.23731 & 8.15599 & 8.44982 & 9.00303 & $\\dots$ \\\\\n",
       "\t4 & (2,2.5] & 7.51617 & 7.68156 & 7.82524 & 7.79366 & 7.88688 & 8.03177 & 7.90419 & $\\dots$ \\\\\n",
       "\t5 & (2.5,3] & 6.97831 & 6.94308 & 7.07922 & 7.04965 & 7.21306 & 6.93875 & 7.63697 & $\\dots$ \\\\\n",
       "\t6 & (3,3.5] & 6.3372 & 6.51045 & 6.35737 & 6.73067 & 6.64134 & 6.68494 & 6.84521 & $\\dots$ \\\\\n",
       "\t7 & (3.5,4] & 5.735 & 5.77656 & 5.87488 & 6.07847 & 6.02418 & 5.93648 & 6.16519 & $\\dots$ \\\\\n",
       "\t8 & (4,5] & 5.11582 & 5.02165 & 5.15657 & 5.10427 & 5.14093 & 5.10869 & 5.3135 & $\\dots$ \\\\\n",
       "\t9 & (5,6] & 4.23399 & 4.15795 & 4.20728 & 4.15459 & 4.12686 & 4.07337 & 4.13971 & $\\dots$ \\\\\n",
       "\t10 & (6,7] & 3.34027 & 3.30513 & 3.29599 & 3.26045 & 3.29237 & 3.17887 & 3.35978 & $\\dots$ \\\\\n",
       "\t11 & (7,8] & 2.49516 & 2.52098 & 2.52306 & 2.4695 & 2.48276 & 2.49589 & 2.53248 & $\\dots$ \\\\\n",
       "\t12 & (8,9] & 1.80239 & 1.78109 & 1.70676 & 1.77536 & 1.7529 & 1.75147 & 1.79083 & $\\dots$ \\\\\n",
       "\t13 & (9,10] & 1.23204 & 1.24902 & 1.15056 & 1.15361 & 1.10538 & 1.09096 & 1.11211 & $\\dots$ \\\\\n",
       "\t14 & (10,12] & 0.40103 & 0.40586 & 0.364813 & 0.445293 & 0.340572 & 0.338199 & 0.280083 & $\\dots$ \\\\\n",
       "\t15 & (12,14] & -0.232687 & -0.284913 & -0.336661 & -0.341205 & -0.403613 & -0.449623 & -0.410465 & $\\dots$ \\\\\n",
       "\t16 & (14,16] & -0.720642 & -0.737188 & -0.791599 & -0.913296 & -0.865875 & -0.929915 & -0.938061 & $\\dots$ \\\\\n",
       "\t17 & (16,20] & -1.20775 & -1.22429 & -1.23282 & -1.31778 & -1.33459 & -1.3817 & -1.39944 & $\\dots$ \\\\\n",
       "\t18 & (20,25] & -1.6459 & -1.67268 & -1.69808 & -1.75618 & -1.79136 & -1.87854 & -1.87419 & $\\dots$ \\\\\n",
       "\t19 & (25,30] & -2.51778 & -2.54535 & -2.53972 & -2.54576 & -2.60681 & -2.68595 & -2.66327 & $\\dots$ \\\\\n",
       "\t20 & (30,40] & -3.96009 & -4.03139 & -4.07212 & -4.14735 & -4.33003 & -4.42005 & -4.50792 & $\\dots$ \\\\\n",
       "\t21 & (40,500] & -9.92104 & -10.0876 & -10.0554 & -10.1027 & -10.0868 & -9.9122 & -10.08 & $\\dots$ \\\\\n",
       "\\end{tabular}\n"
      ],
      "text/plain": [
       "21×11 DataFrame. Omitted printing of 5 columns\n",
       "│ Row │ Column1    │ (0,0.1]   │ (0.1,0.2] │ (0.2,0.3] │ (0.3,0.4] │ (0.4,0.5] │\n",
       "│     │ \u001b[90mString\u001b[39m     │ \u001b[90mFloat64\u001b[39m   │ \u001b[90mFloat64\u001b[39m   │ \u001b[90mFloat64\u001b[39m   │ \u001b[90mFloat64\u001b[39m   │ \u001b[90mFloat64\u001b[39m   │\n",
       "├─────┼────────────┼───────────┼───────────┼───────────┼───────────┼───────────┤\n",
       "│ 1   │ (0,0.75]   │ 9.5001    │ 9.21508   │ 9.21115   │ 8.77846   │ 9.16481   │\n",
       "│ 2   │ (0.75,1.5] │ 8.44776   │ 9.04607   │ 8.66796   │ 8.62098   │ 8.77627   │\n",
       "│ 3   │ (1.5,2]    │ 7.81414   │ 8.27558   │ 8.18661   │ 8.23731   │ 8.15599   │\n",
       "│ 4   │ (2,2.5]    │ 7.51617   │ 7.68156   │ 7.82524   │ 7.79366   │ 7.88688   │\n",
       "│ 5   │ (2.5,3]    │ 6.97831   │ 6.94308   │ 7.07922   │ 7.04965   │ 7.21306   │\n",
       "│ 6   │ (3,3.5]    │ 6.3372    │ 6.51045   │ 6.35737   │ 6.73067   │ 6.64134   │\n",
       "│ 7   │ (3.5,4]    │ 5.735     │ 5.77656   │ 5.87488   │ 6.07847   │ 6.02418   │\n",
       "│ 8   │ (4,5]      │ 5.11582   │ 5.02165   │ 5.15657   │ 5.10427   │ 5.14093   │\n",
       "│ 9   │ (5,6]      │ 4.23399   │ 4.15795   │ 4.20728   │ 4.15459   │ 4.12686   │\n",
       "│ 10  │ (6,7]      │ 3.34027   │ 3.30513   │ 3.29599   │ 3.26045   │ 3.29237   │\n",
       "│ 11  │ (7,8]      │ 2.49516   │ 2.52098   │ 2.52306   │ 2.4695    │ 2.48276   │\n",
       "│ 12  │ (8,9]      │ 1.80239   │ 1.78109   │ 1.70676   │ 1.77536   │ 1.7529    │\n",
       "│ 13  │ (9,10]     │ 1.23204   │ 1.24902   │ 1.15056   │ 1.15361   │ 1.10538   │\n",
       "│ 14  │ (10,12]    │ 0.40103   │ 0.40586   │ 0.364813  │ 0.445293  │ 0.340572  │\n",
       "│ 15  │ (12,14]    │ -0.232687 │ -0.284913 │ -0.336661 │ -0.341205 │ -0.403613 │\n",
       "│ 16  │ (14,16]    │ -0.720642 │ -0.737188 │ -0.791599 │ -0.913296 │ -0.865875 │\n",
       "│ 17  │ (16,20]    │ -1.20775  │ -1.22429  │ -1.23282  │ -1.31778  │ -1.33459  │\n",
       "│ 18  │ (20,25]    │ -1.6459   │ -1.67268  │ -1.69808  │ -1.75618  │ -1.79136  │\n",
       "│ 19  │ (25,30]    │ -2.51778  │ -2.54535  │ -2.53972  │ -2.54576  │ -2.60681  │\n",
       "│ 20  │ (30,40]    │ -3.96009  │ -4.03139  │ -4.07212  │ -4.14735  │ -4.33003  │\n",
       "│ 21  │ (40,500]   │ -9.92104  │ -10.0876  │ -10.0554  │ -10.1027  │ -10.0868  │"
      ]
     },
     "execution_count": 160,
     "metadata": {},
     "output_type": "execute_result"
    }
   ],
   "source": [
    "import Pkg\n",
    "const ASSET_DIR = joinpath(Pkg.devdir(), \"RealNeuralNetworks/asset\")\n",
    "df = CSV.read(\"$(ASSET_DIR)/smat_fcwb.csv\"; copycols=true)\n",
    "ria = RangeIndexingArray{Float32}(df)\n",
    "df"
   ]
  },
  {
   "cell_type": "markdown",
   "metadata": {},
   "source": [
    "# Evaluate the manual clustering\n",
    "There might be some errors in the manual clustering since we already find one by comparing with automatic clustering.  "
   ]
  },
  {
   "cell_type": "code",
   "execution_count": 188,
   "metadata": {
    "scrolled": true
   },
   "outputs": [
    {
     "name": "stdout",
     "output_type": "stream",
     "text": [
      "warning: only found 9 / 10 columns on data row: 64. Filling remaining columns with `missing`\n",
      "write the manual sorting as a json file...\n",
      "notSkeletonizedNeuronIdList = [77521]\n"
     ]
    },
    {
     "data": {
      "text/plain": [
       "Dict{Symbol,Array{Int64,1}} with 10 entries:\n",
       "  :AbdC                        => [77154, 77646, 77682, 77628, 77295, 77652, 77…\n",
       "  :LateralDorsal               => [76629, 76667, 80185, 76691, 76692, 77357, 77…\n",
       "  :DivingAxon                  => [76784, 76783, 77394, 77326, 77772, 77766, 77…\n",
       "  :ABDiR                       => [77631, 77150, 77618, 77886, 78547, 77158, 78…\n",
       "  :unknown                     => [82188, 82178, 82171, 82179, 82181, 82175, 82…\n",
       "  :Bushy                       => [76618, 76625, 76627, 77132, 77162, 77163, 77…\n",
       "  :ABDiC                       => [77148, 77625, 77641, 77692, 77144, 77643, 77…\n",
       "  :TangentialVestibularNeurons => [78046, 78049, 78048, 78047, 78050, 78051, 78…\n",
       "  :IO                          => [77483, 77484, 77485, 77486, 77487, 77488, 77…\n",
       "  :AbdR                        => [77648, 77710, 77300, 77705, 77305, 77301, 77…"
      ]
     },
     "execution_count": 188,
     "metadata": {},
     "output_type": "execute_result"
    }
   ],
   "source": [
    "using CSV\n",
    "\n",
    "\n",
    "df = CSV.read(\"$(DATASET_DIR)/../groundtruth/ManualSorting_forEvaluation.csv\", header = 2, skipto=2)\n",
    "\n",
    "manualClustering = Dict{Symbol, Vector{Int}}()\n",
    "\n",
    "for neuronTypeName in names(df)\n",
    "    col = df[neuronTypeName]\n",
    "    # drop missing values\n",
    "    k = findfirst(ismissing, col)\n",
    "    if k != nothing\n",
    "        col = col[1: k-1 ]\n",
    "    end\n",
    "#     @show col\n",
    "    if isa(col, Vector{Union{Missing, String}})\n",
    "        col = map(Meta.parse, col)\n",
    "    end\n",
    "    manualClustering[neuronTypeName] = col\n",
    "end \n",
    "\n",
    "# eliminate the neurons which are not valid and was not skeletonized\n",
    "notSkeletonizedNeuronIdList = Int[]\n",
    "neuronList = Neuron{Float32}[]\n",
    "\n",
    "for (typeName, neuronIdList) in manualClustering\n",
    "    notSkeletonizedNeuronIdIndex = Int[]\n",
    "    for (index, neuronId) in neuronIdList |> enumerate\n",
    "        if !isfile(joinpath(DATASET_DIR, \"swc.bin/$(neuronId).swc.bin\"))\n",
    "            push!(notSkeletonizedNeuronIdIndex, index)\n",
    "        else\n",
    "            neuron = Neurons.load(\"$(DATASET_DIR)/bin/$(neuronId).bin\")\n",
    "            if Neurons.get_total_path_length(neuron) < 20000\n",
    "                push!(notSkeletonizedNeuronIdIndex, index)\n",
    "            else\n",
    "                push!(neuronList, neuron)\n",
    "            end\n",
    "        end\n",
    "    end\n",
    "    append!(notSkeletonizedNeuronIdList, neuronIdList[notSkeletonizedNeuronIdIndex])\n",
    "    deleteat!(neuronIdList, notSkeletonizedNeuronIdIndex)\n",
    "end\n",
    "\n",
    "using JSON\n",
    "println(\"write the manual sorting as a json file...\")\n",
    "open(\"$(DATASET_DIR)/../groundtruth/manual_sorting.json\", \"w\") do f\n",
    "    write(f, JSON.json(manualClustering))\n",
    "end\n",
    "\n",
    "@show notSkeletonizedNeuronIdList\n",
    "manualClustering"
   ]
  },
  {
   "cell_type": "code",
   "execution_count": 189,
   "metadata": {},
   "outputs": [
    {
     "name": "stdout",
     "output_type": "stream",
     "text": [
      "77483 has length 32154.602\n",
      "77484 has length 37476.91\n",
      "77487 has length 35914.047\n",
      "77488 has length 33487.54\n",
      "77490 has length 36585.65\n",
      "77492 has length 34675.4\n",
      "77496 has length 36700.844\n",
      "77499 has length 36388.227\n",
      "77508 has length 33116.5\n",
      "77523 has length 12436.66\n",
      "77528 has length 39535.707\n",
      "77537 has length 38701.39\n"
     ]
    }
   ],
   "source": [
    "neuronIdList = Int[]\n",
    "for neurons in values(manualClustering)\n",
    "    append!(neuronIdList, neurons)\n",
    "end\n",
    "\n",
    "# pathLengthList = map(Neurons.get_total_path_length, neuronList)\n",
    "for (i, neuronId) in enumerate(neuronIdList)\n",
    "    pathLength = pathLengthList[i]\n",
    "    if pathLength < 40000\n",
    "        println(\"$(neuronId) has length $(pathLength)\")\n",
    "    end\n",
    "end"
   ]
  },
  {
   "cell_type": "code",
   "execution_count": 190,
   "metadata": {},
   "outputs": [
    {
     "name": "stdout",
     "output_type": "stream",
     "text": [
      "77523 has length 12436.66\n",
      "ids = [77523]\n"
     ]
    },
    {
     "data": {
      "text/plain": [
       "1-element Array{Int64,1}:\n",
       " 77523"
      ]
     },
     "execution_count": 190,
     "metadata": {},
     "output_type": "execute_result"
    }
   ],
   "source": [
    "# pathLengthList = map(Neurons.get_total_path_length, neuronList)\n",
    "ids = Int[]\n",
    "for (i, neuronId) in enumerate(neuronIdList)\n",
    "    pathLength = pathLengthList[i]\n",
    "    if pathLength < 20000\n",
    "        println(\"$(neuronId) has length $(pathLength)\")\n",
    "        push!(ids, neuronId)\n",
    "    end\n",
    "end\n",
    "@show ids"
   ]
  },
  {
   "cell_type": "code",
   "execution_count": 191,
   "metadata": {},
   "outputs": [
    {
     "data": {
      "image/png": "[encoded data removed]",
      "text/plain": [
       "Figure(PyObject <Figure size 640x480 with 1 Axes>)"
      ]
     },
     "metadata": {},
     "output_type": "display_data"
    },
    {
     "name": "stderr",
     "output_type": "stream",
     "text": [
      "┌ Warning: `getindex(o::PyObject, s::Symbol)` is deprecated in favor of dot overloading (`getproperty`) so elements should now be accessed as e.g. `o.s` instead of `o[:s]`.\n",
      "│   caller = top-level scope at In[191]:2\n",
      "└ @ Core In[191]:2\n"
     ]
    },
    {
     "data": {
      "text/plain": [
       "(0, 100)"
      ]
     },
     "execution_count": 191,
     "metadata": {},
     "output_type": "execute_result"
    }
   ],
   "source": [
    "using PyPlot\n",
    "PyPlot.plt[:hist](pathLengthList./1000, bins=400)\n",
    "PyPlot.xlim(0,100)"
   ]
  },
  {
   "cell_type": "code",
   "execution_count": 192,
   "metadata": {},
   "outputs": [
    {
     "name": "stdout",
     "output_type": "stream",
     "text": [
      "length(vectorCloudList) = 208\n"
     ]
    },
    {
     "data": {
      "text/plain": [
       "208"
      ]
     },
     "execution_count": 192,
     "metadata": {},
     "output_type": "execute_result"
    }
   ],
   "source": [
    "using ProgressMeter\n",
    "\n",
    "@everywhere function read_vector_cloud(neuronId)\n",
    "    vectorCloud = SWCs.load(joinpath(DATASET_DIR, \"swc.bin/$(neuronId).swc.bin\")) |> NBLASTs.VectorCloud\n",
    "    if isempty(vectorCloud)\n",
    "        @show neuronId\n",
    "    end\n",
    "    vectorCloud[1:3, :]./= Float32(1000)\n",
    "    vectorCloud\n",
    "end\n",
    "\n",
    "vectorCloudList = pmap(read_vector_cloud, neuronIdList)\n",
    "\n",
    "# make sure that the type is as expected\n",
    "vectorCloudList = Vector{Matrix{Float32}}(vectorCloudList)\n",
    "@show length(vectorCloudList)"
   ]
  },
  {
   "cell_type": "markdown",
   "metadata": {},
   "source": [
    "# Construct score look up table for Zebrafish data\n",
    "Although it was claimed useful for clustering zebrafish neurons using Fly score table, it would still be best to construct the lookup table of our own."
   ]
  },
  {
   "cell_type": "code",
   "execution_count": 207,
   "metadata": {},
   "outputs": [
    {
     "name": "stdout",
     "output_type": "stream",
     "text": [
      "maximum(pMatchLookupTable.table) = 8129.0f0\n",
      "totalNumNeurons = 51\n"
     ]
    },
    {
     "data": {
      "text/plain": [
       "RangeIndexingArray{Float32,2}((Float32[0.0, 0.75, 1.5, 2.0, 2.5, 3.0, 3.5, 4.0, 5.0, 6.0  …  9.0, 10.0, 12.0, 14.0, 16.0, 20.0, 25.0, 30.0, 40.0, 500.0], Float32[0.0, 0.1, 0.2, 0.3, 0.4, 0.5, 0.6, 0.7, 0.8, 0.9, 1.0]), Float32[0.00225787 0.00294587 … 0.00543941 0.0130949; 0.00861335 0.00966626 … 0.0171279 0.0308993; … ; 0.0 0.0 … 0.0 6.0818e-5; 0.0 0.0 … 0.0 0.0])"
      ]
     },
     "execution_count": 207,
     "metadata": {},
     "output_type": "execute_result"
    }
   ],
   "source": [
    "using NearestNeighbors\n",
    "\n",
    "function accumulate_range_count!(ria::RangeIndexingArray{T,N}, \n",
    "                                    target::Matrix{T}, query::Matrix{T}, \n",
    "                                    adpList::Vector{Float32}, distList::Vector{Float32},\n",
    "                                    targetTree::KDTree=VectorClouds.to_kd_tree(target)) where {T,N}\n",
    "    idxs, dists = knn(targetTree, query[1:3, :], 1, false)\n",
    "    for (i, nodeIndexList) in idxs |> enumerate \n",
    "        targetNodeIndex = nodeIndexList[1]\n",
    "        dist = dists[i][1]\n",
    "        \n",
    "        queryVector = query[4:6, i]\n",
    "        targetVector = target[4:6, targetNodeIndex]\n",
    "        adp = abs( dot(queryVector, targetVector) )\n",
    "        \n",
    "        ria[dist, adp] += one(T)\n",
    "        \n",
    "        if rem(i, 100) == 0\n",
    "            push!(adpList, adp)\n",
    "            push!(distList, dist)\n",
    "        end\n",
    "    end\n",
    "end\n",
    "\n",
    "pMatchLookupTable = deepcopy(ria)\n",
    "fill!(pMatchLookupTable, zero(Float32))\n",
    "\n",
    "\n",
    "adpMatchList = Vector{Float32}()\n",
    "distMatchList = Vector{Float32}()\n",
    "\n",
    "totalNumNeurons = 0\n",
    "for groupName in Set([:AbdR, :AbdC, :ABDiR, :ABDiC, :TangentialVestibularNeurons])\n",
    "    local neuronIdList\n",
    "    neuronIdList = manualClustering[groupName]\n",
    "    totalNumNeurons += length(neuronIdList)\n",
    "# @showprogress for (groupName, neuronIdList) in manualClustering\n",
    "#     Threads.@threads for i in 1:length(neuronIdList)\n",
    "    for i in 1:length(neuronIdList)\n",
    "        neuronId1 = neuronIdList[i]\n",
    "        vectorCloud1 = vectorCloudList[ i ]\n",
    "        for j in i+1:length(neuronIdList)\n",
    "            neuronId2 = neuronIdList[j]\n",
    "            vectorCloud2 = vectorCloudList[ j ]\n",
    "            accumulate_range_count!(pMatchLookupTable, vectorCloud1, vectorCloud2, adpMatchList, distMatchList)\n",
    "            accumulate_range_count!(pMatchLookupTable, vectorCloud2, vectorCloud1, adpMatchList, distMatchList)\n",
    "        end\n",
    "    end\n",
    "end\n",
    "\n",
    "@show maximum(pMatchLookupTable.table)\n",
    "pMatchLookupTable.table ./= sum(pMatchLookupTable.table)\n",
    "\n",
    "@show totalNumNeurons\n",
    "pMatchLookupTable"
   ]
  },
  {
   "cell_type": "code",
   "execution_count": 208,
   "metadata": {},
   "outputs": [
    {
     "data": {
      "image/png": "[encoded data removed]",
      "text/plain": [
       "Figure(PyObject <Figure size 640x480 with 2 Axes>)"
      ]
     },
     "metadata": {},
     "output_type": "display_data"
    }
   ],
   "source": [
    "using PyPlot\n",
    "PyPlot.imshow(pMatchLookupTable.table, interpolation=\"none\", cmap=\"jet\")\n",
    "PyPlot.colorbar()\n",
    "PyPlot.title(\"p match\")\n",
    "PyPlot.savefig(\"$(DATASET_DIR)/figs/p_match.svg\")"
   ]
  },
  {
   "cell_type": "code",
   "execution_count": 209,
   "metadata": {},
   "outputs": [
    {
     "data": {
      "image/png": "[encoded data removed]",
      "text/plain": [
       "Figure(PyObject <Figure size 640x480 with 1 Axes>)"
      ]
     },
     "metadata": {},
     "output_type": "display_data"
    },
    {
     "name": "stderr",
     "output_type": "stream",
     "text": [
      "┌ Warning: `getindex(o::PyObject, s::Symbol)` is deprecated in favor of dot overloading (`getproperty`) so elements should now be accessed as e.g. `o.s` instead of `o[:s]`.\n",
      "│   caller = top-level scope at In[209]:1\n",
      "└ @ Core In[209]:1\n"
     ]
    },
    {
     "data": {
      "text/plain": [
       "([35.0, 10.0, 15.0, 24.0, 27.0, 6.0, 21.0, 16.0, 15.0, 16.0  …  22.0, 46.0, 41.0, 21.0, 24.0, 37.0, 23.0, 43.0, 59.0, 28.0], Float32[0.00633801, 0.0162591, 0.0261802, 0.0361012, 0.0460223, 0.0559434, 0.0658645, 0.0757855, 0.0857066, 0.0956277  …  0.909156, 0.919077, 0.928998, 0.938919, 0.94884, 0.958761, 0.968682, 0.978604, 0.988525, 0.998446], PyCall.PyObject[PyObject <matplotlib.patches.Rectangle object at 0x7f61e70eea20>, PyObject <matplotlib.patches.Rectangle object at 0x7f61e70eecf8>, PyObject <matplotlib.patches.Rectangle object at 0x7f61e27a2320>, PyObject <matplotlib.patches.Rectangle object at 0x7f61e27a2940>, PyObject <matplotlib.patches.Rectangle object at 0x7f61e496edd8>, PyObject <matplotlib.patches.Rectangle object at 0x7f61e496e9e8>, PyObject <matplotlib.patches.Rectangle object at 0x7f61e496ec18>, PyObject <matplotlib.patches.Rectangle object at 0x7f61e496e940>, PyObject <matplotlib.patches.Rectangle object at 0x7f61e496eb70>, PyObject <matplotlib.patches.Rectangle object at 0x7f61e1730748>  …  PyObject <matplotlib.patches.Rectangle object at 0x7f61dcfa0f28>, PyObject <matplotlib.patches.Rectangle object at 0x7f61dcfa0d68>, PyObject <matplotlib.patches.Rectangle object at 0x7f61dcfa0400>, PyObject <matplotlib.patches.Rectangle object at 0x7f61dcfa06a0>, PyObject <matplotlib.patches.Rectangle object at 0x7f61e705dc50>, PyObject <matplotlib.patches.Rectangle object at 0x7f61e705df98>, PyObject <matplotlib.patches.Rectangle object at 0x7f61e705dfd0>, PyObject <matplotlib.patches.Rectangle object at 0x7f61e71d0668>, PyObject <matplotlib.patches.Rectangle object at 0x7f61e71d09b0>, PyObject <matplotlib.patches.Rectangle object at 0x7f61e71d0cf8>])"
      ]
     },
     "execution_count": 209,
     "metadata": {},
     "output_type": "execute_result"
    }
   ],
   "source": [
    "PyPlot.plt[:hist](adpMatchList, bins=100)"
   ]
  },
  {
   "cell_type": "code",
   "execution_count": 210,
   "metadata": {},
   "outputs": [
    {
     "data": {
      "image/png": "[encoded data removed]",
      "text/plain": [
       "Figure(PyObject <Figure size 640x480 with 1 Axes>)"
      ]
     },
     "metadata": {},
     "output_type": "display_data"
    },
    {
     "name": "stderr",
     "output_type": "stream",
     "text": [
      "┌ Warning: `getindex(o::PyObject, s::Symbol)` is deprecated in favor of dot overloading (`getproperty`) so elements should now be accessed as e.g. `o.s` instead of `o[:s]`.\n",
      "│   caller = top-level scope at In[210]:1\n",
      "└ @ Core In[210]:1\n"
     ]
    },
    {
     "data": {
      "text/plain": [
       "([26.0, 48.0, 55.0, 85.0, 110.0, 102.0, 86.0, 109.0, 123.0, 100.0  …  0.0, 0.0, 6.0, 0.0, 0.0, 0.0, 0.0, 0.0, 0.0, 1.0], Float32[0.243566, 0.462765, 0.681965, 0.901164, 1.12036, 1.33956, 1.55876, 1.77796, 1.99716, 2.21636  …  20.1907, 20.4099, 20.6291, 20.8483, 21.0675, 21.2867, 21.5059, 21.7251, 21.9443, 22.1635], PyCall.PyObject[PyObject <matplotlib.patches.Rectangle object at 0x7f61e707ed68>, PyObject <matplotlib.patches.Rectangle object at 0x7f61e707eb70>, PyObject <matplotlib.patches.Rectangle object at 0x7f61e16c3d68>, PyObject <matplotlib.patches.Rectangle object at 0x7f61e16c31d0>, PyObject <matplotlib.patches.Rectangle object at 0x7f61e16c3780>, PyObject <matplotlib.patches.Rectangle object at 0x7f61e16c3710>, PyObject <matplotlib.patches.Rectangle object at 0x7f61e16c3470>, PyObject <matplotlib.patches.Rectangle object at 0x7f61e16cd438>, PyObject <matplotlib.patches.Rectangle object at 0x7f61e16cd780>, PyObject <matplotlib.patches.Rectangle object at 0x7f61e16cdac8>  …  PyObject <matplotlib.patches.Rectangle object at 0x7f61e4bc98d0>, PyObject <matplotlib.patches.Rectangle object at 0x7f61e4bc9c18>, PyObject <matplotlib.patches.Rectangle object at 0x7f61e4bc9f60>, PyObject <matplotlib.patches.Rectangle object at 0x7f61e4bc9f98>, PyObject <matplotlib.patches.Rectangle object at 0x7f61e4bd5630>, PyObject <matplotlib.patches.Rectangle object at 0x7f61e4bd5978>, PyObject <matplotlib.patches.Rectangle object at 0x7f61e4bd5cc0>, PyObject <matplotlib.patches.Rectangle object at 0x7f61e4bd5fd0>, PyObject <matplotlib.patches.Rectangle object at 0x7f61e4bdf390>, PyObject <matplotlib.patches.Rectangle object at 0x7f61e4bdf6d8>])"
      ]
     },
     "execution_count": 210,
     "metadata": {},
     "output_type": "execute_result"
    }
   ],
   "source": [
    "PyPlot.plt[:hist](distMatchList, bins=100)"
   ]
  },
  {
   "cell_type": "code",
   "execution_count": 211,
   "metadata": {},
   "outputs": [
    {
     "name": "stderr",
     "output_type": "stream",
     "text": [
      "\u001b[32mProgress: 100%|█████████████████████████████████████████| Time: 0:01:31\u001b[39m\n"
     ]
    }
   ],
   "source": [
    "# use analysis neurons for random neuron generation\n",
    "using JSON\n",
    "mostNeuronIdList = JSON.parsefile(\"$(DATASET_DIR)/neuron_ids.json\")[\"analysis\"]\n",
    "\n",
    "neuronId2vectorCloud = Dict{Int, Matrix{Float32}}()\n",
    "@showprogress for neuronId in mostNeuronIdList\n",
    "#     swc = SWCs.load(\"$(DATASET_DIR)/swc.bin/$(neuronId).swc.bin\")\n",
    "    neuron = Neurons.load(\"$(DATASET_DIR)/bin/$(neuronId).bin\")\n",
    "    \n",
    "    vectorCloud = NBLASTs.VectorCloud(neuron)\n",
    "    vectorCloud[1:3, :] ./= Float32(1000)\n",
    "    neuronId2vectorCloud[ neuronId ] = vectorCloud\n",
    "end"
   ]
  },
  {
   "cell_type": "code",
   "execution_count": 212,
   "metadata": {},
   "outputs": [
    {
     "name": "stderr",
     "output_type": "stream",
     "text": [
      "\u001b[32mProgress: 100%|█████████████████████████████████████████| Time: 0:07:24\u001b[39m\n"
     ]
    },
    {
     "name": "stdout",
     "output_type": "stream",
     "text": [
      "maximum(pRandomLookupTable.table) = 8.774032f6\n"
     ]
    },
    {
     "data": {
      "text/plain": [
       "21×10 Array{Float32,2}:\n",
       " 9.91406e-5   9.68699e-5   9.81726e-5   …  0.000183785  0.000371202\n",
       " 0.000321748  0.000324826  0.000322693     0.000536122  0.000929386\n",
       " 0.000321318  0.000323374  0.000321659     0.000507983  0.000816071\n",
       " 0.000395367  0.000396736  0.00039324      0.0006052    0.000943417\n",
       " 0.00045973   0.000455661  0.000462336     0.000677343  0.00102593 \n",
       " 0.00051314   0.000514102  0.000509823  …  0.000734792  0.00110338 \n",
       " 0.000560771  0.000561261  0.000555339     0.000785919  0.00115856 \n",
       " 0.00124555   0.00124856   0.00122958      0.00169859   0.00245412 \n",
       " 0.0013813    0.00137144   0.00135425      0.00182668   0.00260622 \n",
       " 0.00148329   0.00146891   0.00145081      0.00191816   0.00272883 \n",
       " 0.00155408   0.00154001   0.00152115   …  0.00198615   0.00279811 \n",
       " 0.00162152   0.00160234   0.00157492      0.00203671   0.00281619 \n",
       " 0.00166834   0.00164712   0.00161829      0.002064     0.00281616 \n",
       " 0.00344143   0.00337817   0.00331032      0.00413435   0.00558976 \n",
       " 0.0035075    0.00346624   0.00337945      0.00414357   0.00549069 \n",
       " 0.00352942   0.00348189   0.00338356   …  0.00410354   0.00538225 \n",
       " 0.00695205   0.00686905   0.00667187      0.00799377   0.0103744  \n",
       " 0.00835605   0.00821454   0.00800214      0.00938897   0.0119921  \n",
       " 0.0078784    0.0077497    0.00753586      0.00859306   0.0107823  \n",
       " 0.0138848    0.0136488    0.013251        0.0148804    0.0184419  \n",
       " 0.0376792    0.0372344    0.0365178    …  0.0430433    0.0524298  "
      ]
     },
     "execution_count": 212,
     "metadata": {},
     "output_type": "execute_result"
    }
   ],
   "source": [
    "pRandomLookupTable = deepcopy(ria)\n",
    "fill!(pRandomLookupTable, zero(Float32))\n",
    "\n",
    "# @showprogress for i in 1:length(mostNeuronIdList)\n",
    "#     neuronId1 = mostNeuronIdList[i]\n",
    "#     vectorCloud1 = neuronId2vectorCloud[ neuronId1 ]\n",
    "#     for j in i+1:length(mostNeuronIdList)\n",
    "#         neuronId2 = mostNeuronIdList[j]\n",
    "#         vectorCloud2 = neuronId2vectorCloud[ neuronId2 ]\n",
    "#         accumulate_range_count!(pRandomLookupTable, vectorCloud1, vectorCloud2)\n",
    "#         accumulate_range_count!(pRandomLookupTable, vectorCloud2, vectorCloud1)\n",
    "#     end\n",
    "# end\n",
    "\n",
    "# empty the adp and dist list\n",
    "adpRandomList = Vector{Float32}()\n",
    "distRandomList = Vector{Float32}()\n",
    "\n",
    "function compute_rand_pair(mostNeuronIdSet, neuronId2vectorCloud)\n",
    "    neuronId1, neuronId2 = rand(mostNeuronIdSet, 2)\n",
    "    if neuronId1 == neuronId2 \n",
    "        return\n",
    "    end\n",
    "    vectorCloud1 = neuronId2vectorCloud[ neuronId1 ]\n",
    "    vectorCloud2 = neuronId2vectorCloud[ neuronId2 ]\n",
    "    accumulate_range_count!(pRandomLookupTable, vectorCloud1, vectorCloud2, adpRandomList, distRandomList)\n",
    "end\n",
    "\n",
    "# n = zero(Int)\n",
    "mostNeuronIdSet = Set{Int}(mostNeuronIdList)\n",
    "@showprogress for i in 1:3e5\n",
    "   compute_rand_pair(mostNeuronIdSet, neuronId2vectorCloud) \n",
    "end\n",
    "\n",
    "@show maximum(pRandomLookupTable.table)\n",
    "pRandomLookupTable.table ./= sum(pRandomLookupTable.table)"
   ]
  },
  {
   "cell_type": "code",
   "execution_count": 213,
   "metadata": {},
   "outputs": [
    {
     "data": {
      "text/plain": [
       "2-element Array{Int64,1}:\n",
       " 77444\n",
       " 77030"
      ]
     },
     "execution_count": 213,
     "metadata": {},
     "output_type": "execute_result"
    }
   ],
   "source": [
    "rand(mostNeuronIdSet, 2)"
   ]
  },
  {
   "cell_type": "code",
   "execution_count": 214,
   "metadata": {},
   "outputs": [
    {
     "data": {
      "image/png": "[encoded data removed]",
      "text/plain": [
       "Figure(PyObject <Figure size 640x480 with 1 Axes>)"
      ]
     },
     "metadata": {},
     "output_type": "display_data"
    },
    {
     "name": "stderr",
     "output_type": "stream",
     "text": [
      "┌ Warning: `getindex(o::PyObject, s::Symbol)` is deprecated in favor of dot overloading (`getproperty`) so elements should now be accessed as e.g. `o.s` instead of `o[:s]`.\n",
      "│   caller = top-level scope at In[214]:2\n",
      "└ @ Core In[214]:2\n"
     ]
    },
    {
     "data": {
      "text/plain": [
       "([14802.0, 14577.0, 14583.0, 14445.0, 14533.0, 14768.0, 14638.0, 14780.0, 14448.0, 14386.0  …  19162.0, 19606.0, 19956.0, 20367.0, 21108.0, 21555.0, 22473.0, 23318.0, 24408.0, 25399.0], Float32[3.27826e-7, 0.0100003, 0.0200003, 0.0300003, 0.0400003, 0.0500003, 0.0600003, 0.0700003, 0.0800003, 0.0900003  …  0.91, 0.92, 0.93, 0.94, 0.95, 0.96, 0.97, 0.98, 0.99, 1.0], PyCall.PyObject[PyObject <matplotlib.patches.Rectangle object at 0x7f61e4bab128>, PyObject <matplotlib.patches.Rectangle object at 0x7f61e4bb4ef0>, PyObject <matplotlib.patches.Rectangle object at 0x7f61e4bab710>, PyObject <matplotlib.patches.Rectangle object at 0x7f61e4baba58>, PyObject <matplotlib.patches.Rectangle object at 0x7f61e4babda0>, PyObject <matplotlib.patches.Rectangle object at 0x7f61e4babeb8>, PyObject <matplotlib.patches.Rectangle object at 0x7f61e4b46470>, PyObject <matplotlib.patches.Rectangle object at 0x7f61e4b467b8>, PyObject <matplotlib.patches.Rectangle object at 0x7f61e4b46b00>, PyObject <matplotlib.patches.Rectangle object at 0x7f61e4b46e48>  …  PyObject <matplotlib.patches.Rectangle object at 0x7f61e4afbc50>, PyObject <matplotlib.patches.Rectangle object at 0x7f61e4afbf98>, PyObject <matplotlib.patches.Rectangle object at 0x7f61e4afbfd0>, PyObject <matplotlib.patches.Rectangle object at 0x7f61e4a84668>, PyObject <matplotlib.patches.Rectangle object at 0x7f61e4a849b0>, PyObject <matplotlib.patches.Rectangle object at 0x7f61e4a84cf8>, PyObject <matplotlib.patches.Rectangle object at 0x7f61e4a84e10>, PyObject <matplotlib.patches.Rectangle object at 0x7f61e4a903c8>, PyObject <matplotlib.patches.Rectangle object at 0x7f61e4a90710>, PyObject <matplotlib.patches.Rectangle object at 0x7f61e4a90a58>])"
      ]
     },
     "execution_count": 214,
     "metadata": {},
     "output_type": "execute_result"
    }
   ],
   "source": [
    "using ProgressMeter\n",
    "PyPlot.plt[:hist](adpRandomList, bins=100)"
   ]
  },
  {
   "cell_type": "code",
   "execution_count": 215,
   "metadata": {},
   "outputs": [
    {
     "data": {
      "image/png": "[encoded data removed]",
      "text/plain": [
       "Figure(PyObject <Figure size 640x480 with 1 Axes>)"
      ]
     },
     "metadata": {},
     "output_type": "display_data"
    },
    {
     "name": "stderr",
     "output_type": "stream",
     "text": [
      "┌ Warning: `getindex(o::PyObject, s::Symbol)` is deprecated in favor of dot overloading (`getproperty`) so elements should now be accessed as e.g. `o.s` instead of `o[:s]`.\n",
      "│   caller = top-level scope at In[215]:1\n",
      "└ @ Core In[215]:1\n"
     ]
    },
    {
     "data": {
      "text/plain": [
       "([30070.0, 61910.0, 74363.0, 79716.0, 80178.0, 79167.0, 78173.0, 75256.0, 72066.0, 68835.0  …  53.0, 30.0, 38.0, 22.0, 7.0, 8.0, 2.0, 1.0, 0.0, 1.0], Float32[0.0559571, 2.93536, 5.81477, 8.69418, 11.5736, 14.453, 17.3324, 20.2118, 23.0912, 25.9706  …  262.082, 264.961, 267.841, 270.72, 273.6, 276.479, 279.358, 282.238, 285.117, 287.997], PyCall.PyObject[PyObject <matplotlib.patches.Rectangle object at 0x7f61e4a785f8>, PyObject <matplotlib.patches.Rectangle object at 0x7f61dcfa0978>, PyObject <matplotlib.patches.Rectangle object at 0x7f61e4a78be0>, PyObject <matplotlib.patches.Rectangle object at 0x7f61e4a78f28>, PyObject <matplotlib.patches.Rectangle object at 0x7f61e4a78f60>, PyObject <matplotlib.patches.Rectangle object at 0x7f61e4a005f8>, PyObject <matplotlib.patches.Rectangle object at 0x7f61e4a00940>, PyObject <matplotlib.patches.Rectangle object at 0x7f61e4a00c88>, PyObject <matplotlib.patches.Rectangle object at 0x7f61e4a00fd0>, PyObject <matplotlib.patches.Rectangle object at 0x7f61e4a00f98>  …  PyObject <matplotlib.patches.Rectangle object at 0x7f61e49b7ef0>, PyObject <matplotlib.patches.Rectangle object at 0x7f61e48814a8>, PyObject <matplotlib.patches.Rectangle object at 0x7f61e48817f0>, PyObject <matplotlib.patches.Rectangle object at 0x7f61e4881b38>, PyObject <matplotlib.patches.Rectangle object at 0x7f61e4881e80>, PyObject <matplotlib.patches.Rectangle object at 0x7f61e4881f98>, PyObject <matplotlib.patches.Rectangle object at 0x7f61e488c550>, PyObject <matplotlib.patches.Rectangle object at 0x7f61e488c898>, PyObject <matplotlib.patches.Rectangle object at 0x7f61e488cbe0>, PyObject <matplotlib.patches.Rectangle object at 0x7f61e488cf28>])"
      ]
     },
     "execution_count": 215,
     "metadata": {},
     "output_type": "execute_result"
    }
   ],
   "source": [
    "PyPlot.plt[:hist](distRandomList; bins=100)"
   ]
  },
  {
   "cell_type": "code",
   "execution_count": 216,
   "metadata": {},
   "outputs": [
    {
     "data": {
      "image/png": "[encoded data removed]",
      "text/plain": [
       "Figure(PyObject <Figure size 640x480 with 2 Axes>)"
      ]
     },
     "metadata": {},
     "output_type": "display_data"
    }
   ],
   "source": [
    "PyPlot.imshow(pRandomLookupTable.table, interpolation=\"none\", cmap=\"jet\")\n",
    "PyPlot.colorbar()\n",
    "PyPlot.title(\"p random\")\n",
    "PyPlot.savefig(\"$(DATASET_DIR)/figs/p_random.svg\")"
   ]
  },
  {
   "cell_type": "code",
   "execution_count": 217,
   "metadata": {},
   "outputs": [
    {
     "data": {
      "image/png": "[encoded data removed]",
      "text/plain": [
       "Figure(PyObject <Figure size 640x480 with 2 Axes>)"
      ]
     },
     "metadata": {},
     "output_type": "display_data"
    }
   ],
   "source": [
    "scoreTable = log2.((pMatchLookupTable.table .+ 1e-6) ./ (pRandomLookupTable.table.+1e-6))\n",
    "\n",
    "zfishRangeIndexingArray = RangeIndexingArray(ria.septaListTuple, scoreTable)\n",
    "\n",
    "PyPlot.imshow(scoreTable, interpolation=\"none\", cmap=\"jet\")\n",
    "PyPlot.colorbar()\n",
    "PyPlot.title(\"score lookup table from zebra fish\")\n",
    "PyPlot.savefig(\"$(DATASET_DIR)/figs/zfish_score_table.svg\")"
   ]
  },
  {
   "cell_type": "code",
   "execution_count": 218,
   "metadata": {},
   "outputs": [
    {
     "data": {
      "image/png": "[encoded data removed]",
      "text/plain": [
       "Figure(PyObject <Figure size 640x480 with 2 Axes>)"
      ]
     },
     "metadata": {},
     "output_type": "display_data"
    }
   ],
   "source": [
    "PyPlot.imshow(ria.table, interpolation=\"none\", cmap=\"jet\")\n",
    "PyPlot.colorbar()\n",
    "PyPlot.title(\"score lookup table from fly\")\n",
    "PyPlot.savefig(\"$(DATASET_DIR)/figs/fly_score_table.svg\")"
   ]
  },
  {
   "cell_type": "code",
   "execution_count": 219,
   "metadata": {},
   "outputs": [
    {
     "data": {
      "text/plain": [
       "\"/usr/opt/julia-1.0.4/local/share/julia/dev/RealNeuralNetworks/asset/zfish_score_table_latest.csv\""
      ]
     },
     "execution_count": 219,
     "metadata": {},
     "output_type": "execute_result"
    }
   ],
   "source": [
    "# save zfish score table as csv file\n",
    "    \n",
    "df = DataFrame(zfishRangeIndexingArray)\n",
    "\n",
    "using Pkg\n",
    "CSV.write(joinpath(Pkg.devdir(), \"RealNeuralNetworks/asset/zfish_score_table.csv\"), df)"
   ]
  },
  {
   "cell_type": "code",
   "execution_count": 220,
   "metadata": {},
   "outputs": [
    {
     "data": {
      "text/html": [
       "<table class=\"data-frame\"><thead><tr><th></th><th>Column1</th><th>(0.0,0.1]</th><th>(0.1,0.2]</th><th>(0.2,0.3]</th><th>(0.3,0.4]</th><th>(0.4,0.5]</th><th>(0.5,0.6]</th></tr><tr><th></th><th>Symbol</th><th>Float64</th><th>Float64</th><th>Float64</th><th>Float64</th><th>Float64</th><th>Float64</th></tr></thead><tbody><p>21 rows × 11 columns (omitted printing of 4 columns)</p><tr><th>1</th><td>(0.0,0.75]</td><td>4.4955</td><td>4.91217</td><td>4.81667</td><td>4.59524</td><td>4.75981</td><td>4.85873</td></tr><tr><th>2</th><td>(0.75,1.5]</td><td>4.73826</td><td>4.89093</td><td>4.79512</td><td>4.75954</td><td>4.90156</td><td>4.80875</td></tr><tr><th>3</th><td>(1.5,2.0]</td><td>4.48074</td><td>4.69492</td><td>4.5338</td><td>4.73145</td><td>4.73422</td><td>4.74494</td></tr><tr><th>4</th><td>(2.0,2.5]</td><td>4.33209</td><td>4.37308</td><td>4.33365</td><td>4.49428</td><td>4.41996</td><td>4.53751</td></tr><tr><th>5</th><td>(2.5,3.0]</td><td>4.12868</td><td>4.10286</td><td>4.08262</td><td>4.20563</td><td>4.13552</td><td>4.23549</td></tr><tr><th>6</th><td>(3.0,3.5]</td><td>3.72071</td><td>3.6123</td><td>3.76442</td><td>3.76746</td><td>3.61342</td><td>3.77769</td></tr><tr><th>7</th><td>(3.5,4.0]</td><td>3.09781</td><td>3.34425</td><td>3.32552</td><td>3.44283</td><td>3.32357</td><td>3.33891</td></tr><tr><th>8</th><td>(4.0,5.0]</td><td>2.63936</td><td>2.6838</td><td>2.77587</td><td>2.68848</td><td>2.79552</td><td>2.80647</td></tr><tr><th>9</th><td>(5.0,6.0]</td><td>2.04457</td><td>2.03846</td><td>2.11385</td><td>2.15561</td><td>2.12114</td><td>2.07543</td></tr><tr><th>10</th><td>(6.0,7.0]</td><td>1.30116</td><td>1.53325</td><td>1.4161</td><td>1.51765</td><td>1.63369</td><td>1.43816</td></tr><tr><th>11</th><td>(7.0,8.0]</td><td>1.02281</td><td>0.962954</td><td>1.00964</td><td>1.0572</td><td>0.979433</td><td>1.09298</td></tr><tr><th>12</th><td>(8.0,9.0]</td><td>0.670229</td><td>0.704284</td><td>0.560097</td><td>0.534012</td><td>0.340182</td><td>0.588031</td></tr><tr><th>13</th><td>(9.0,10.0]</td><td>0.453215</td><td>-0.159291</td><td>0.243318</td><td>0.24367</td><td>0.0909535</td><td>0.344706</td></tr><tr><th>14</th><td>(10.0,12.0]</td><td>-0.265776</td><td>-0.35254</td><td>-0.144231</td><td>-0.276449</td><td>-0.331375</td><td>-0.288974</td></tr><tr><th>15</th><td>(12.0,14.0]</td><td>-0.824346</td><td>-0.779864</td><td>-1.17356</td><td>-0.717742</td><td>-0.862429</td><td>-0.629939</td></tr><tr><th>16</th><td>(14.0,16.0]</td><td>-1.05422</td><td>-1.05088</td><td>-1.33373</td><td>-1.11326</td><td>-0.887366</td><td>-1.06357</td></tr><tr><th>17</th><td>(16.0,20.0]</td><td>-2.20669</td><td>-1.93318</td><td>-2.34194</td><td>-2.03938</td><td>-1.82796</td><td>-1.67912</td></tr><tr><th>18</th><td>(20.0,25.0]</td><td>-3.62449</td><td>-4.19186</td><td>-3.19278</td><td>-3.32681</td><td>-3.31356</td><td>-3.48171</td></tr><tr><th>19</th><td>(25.0,30.0]</td><td>-5.15293</td><td>-12.9201</td><td>-6.41335</td><td>-5.50244</td><td>-6.14616</td><td>-5.92328</td></tr><tr><th>20</th><td>(30.0,40.0]</td><td>-13.7613</td><td>-13.7366</td><td>-13.6939</td><td>-8.10125</td><td>-13.5972</td><td>-13.5753</td></tr><tr><th>21</th><td>(40.0,500.0]</td><td>-15.2015</td><td>-15.1844</td><td>-15.1564</td><td>-15.1269</td><td>-15.1031</td><td>-15.1025</td></tr></tbody></table>"
      ],
      "text/latex": [
       "\\begin{tabular}{r|cccccccc}\n",
       "\t& Column1 & (0.0,0.1] & (0.1,0.2] & (0.2,0.3] & (0.3,0.4] & (0.4,0.5] & (0.5,0.6] & \\\\\n",
       "\t\\hline\n",
       "\t& Symbol & Float64 & Float64 & Float64 & Float64 & Float64 & Float64 & \\\\\n",
       "\t\\hline\n",
       "\t1 & (0.0,0.75] & 4.4955 & 4.91217 & 4.81667 & 4.59524 & 4.75981 & 4.85873 & $\\dots$ \\\\\n",
       "\t2 & (0.75,1.5] & 4.73826 & 4.89093 & 4.79512 & 4.75954 & 4.90156 & 4.80875 & $\\dots$ \\\\\n",
       "\t3 & (1.5,2.0] & 4.48074 & 4.69492 & 4.5338 & 4.73145 & 4.73422 & 4.74494 & $\\dots$ \\\\\n",
       "\t4 & (2.0,2.5] & 4.33209 & 4.37308 & 4.33365 & 4.49428 & 4.41996 & 4.53751 & $\\dots$ \\\\\n",
       "\t5 & (2.5,3.0] & 4.12868 & 4.10286 & 4.08262 & 4.20563 & 4.13552 & 4.23549 & $\\dots$ \\\\\n",
       "\t6 & (3.0,3.5] & 3.72071 & 3.6123 & 3.76442 & 3.76746 & 3.61342 & 3.77769 & $\\dots$ \\\\\n",
       "\t7 & (3.5,4.0] & 3.09781 & 3.34425 & 3.32552 & 3.44283 & 3.32357 & 3.33891 & $\\dots$ \\\\\n",
       "\t8 & (4.0,5.0] & 2.63936 & 2.6838 & 2.77587 & 2.68848 & 2.79552 & 2.80647 & $\\dots$ \\\\\n",
       "\t9 & (5.0,6.0] & 2.04457 & 2.03846 & 2.11385 & 2.15561 & 2.12114 & 2.07543 & $\\dots$ \\\\\n",
       "\t10 & (6.0,7.0] & 1.30116 & 1.53325 & 1.4161 & 1.51765 & 1.63369 & 1.43816 & $\\dots$ \\\\\n",
       "\t11 & (7.0,8.0] & 1.02281 & 0.962954 & 1.00964 & 1.0572 & 0.979433 & 1.09298 & $\\dots$ \\\\\n",
       "\t12 & (8.0,9.0] & 0.670229 & 0.704284 & 0.560097 & 0.534012 & 0.340182 & 0.588031 & $\\dots$ \\\\\n",
       "\t13 & (9.0,10.0] & 0.453215 & -0.159291 & 0.243318 & 0.24367 & 0.0909535 & 0.344706 & $\\dots$ \\\\\n",
       "\t14 & (10.0,12.0] & -0.265776 & -0.35254 & -0.144231 & -0.276449 & -0.331375 & -0.288974 & $\\dots$ \\\\\n",
       "\t15 & (12.0,14.0] & -0.824346 & -0.779864 & -1.17356 & -0.717742 & -0.862429 & -0.629939 & $\\dots$ \\\\\n",
       "\t16 & (14.0,16.0] & -1.05422 & -1.05088 & -1.33373 & -1.11326 & -0.887366 & -1.06357 & $\\dots$ \\\\\n",
       "\t17 & (16.0,20.0] & -2.20669 & -1.93318 & -2.34194 & -2.03938 & -1.82796 & -1.67912 & $\\dots$ \\\\\n",
       "\t18 & (20.0,25.0] & -3.62449 & -4.19186 & -3.19278 & -3.32681 & -3.31356 & -3.48171 & $\\dots$ \\\\\n",
       "\t19 & (25.0,30.0] & -5.15293 & -12.9201 & -6.41335 & -5.50244 & -6.14616 & -5.92328 & $\\dots$ \\\\\n",
       "\t20 & (30.0,40.0] & -13.7613 & -13.7366 & -13.6939 & -8.10125 & -13.5972 & -13.5753 & $\\dots$ \\\\\n",
       "\t21 & (40.0,500.0] & -15.2015 & -15.1844 & -15.1564 & -15.1269 & -15.1031 & -15.1025 & $\\dots$ \\\\\n",
       "\\end{tabular}\n"
      ],
      "text/plain": [
       "21×11 DataFrame. Omitted printing of 6 columns\n",
       "│ Row │ Column1      │ (0.0,0.1] │ (0.1,0.2] │ (0.2,0.3] │ (0.3,0.4] │\n",
       "│     │ \u001b[90mSymbol\u001b[39m       │ \u001b[90mFloat64\u001b[39m   │ \u001b[90mFloat64\u001b[39m   │ \u001b[90mFloat64\u001b[39m   │ \u001b[90mFloat64\u001b[39m   │\n",
       "├─────┼──────────────┼───────────┼───────────┼───────────┼───────────┤\n",
       "│ 1   │ (0.0,0.75]   │ 4.4955    │ 4.91217   │ 4.81667   │ 4.59524   │\n",
       "│ 2   │ (0.75,1.5]   │ 4.73826   │ 4.89093   │ 4.79512   │ 4.75954   │\n",
       "│ 3   │ (1.5,2.0]    │ 4.48074   │ 4.69492   │ 4.5338    │ 4.73145   │\n",
       "│ 4   │ (2.0,2.5]    │ 4.33209   │ 4.37308   │ 4.33365   │ 4.49428   │\n",
       "│ 5   │ (2.5,3.0]    │ 4.12868   │ 4.10286   │ 4.08262   │ 4.20563   │\n",
       "│ 6   │ (3.0,3.5]    │ 3.72071   │ 3.6123    │ 3.76442   │ 3.76746   │\n",
       "│ 7   │ (3.5,4.0]    │ 3.09781   │ 3.34425   │ 3.32552   │ 3.44283   │\n",
       "│ 8   │ (4.0,5.0]    │ 2.63936   │ 2.6838    │ 2.77587   │ 2.68848   │\n",
       "│ 9   │ (5.0,6.0]    │ 2.04457   │ 2.03846   │ 2.11385   │ 2.15561   │\n",
       "│ 10  │ (6.0,7.0]    │ 1.30116   │ 1.53325   │ 1.4161    │ 1.51765   │\n",
       "│ 11  │ (7.0,8.0]    │ 1.02281   │ 0.962954  │ 1.00964   │ 1.0572    │\n",
       "│ 12  │ (8.0,9.0]    │ 0.670229  │ 0.704284  │ 0.560097  │ 0.534012  │\n",
       "│ 13  │ (9.0,10.0]   │ 0.453215  │ -0.159291 │ 0.243318  │ 0.24367   │\n",
       "│ 14  │ (10.0,12.0]  │ -0.265776 │ -0.35254  │ -0.144231 │ -0.276449 │\n",
       "│ 15  │ (12.0,14.0]  │ -0.824346 │ -0.779864 │ -1.17356  │ -0.717742 │\n",
       "│ 16  │ (14.0,16.0]  │ -1.05422  │ -1.05088  │ -1.33373  │ -1.11326  │\n",
       "│ 17  │ (16.0,20.0]  │ -2.20669  │ -1.93318  │ -2.34194  │ -2.03938  │\n",
       "│ 18  │ (20.0,25.0]  │ -3.62449  │ -4.19186  │ -3.19278  │ -3.32681  │\n",
       "│ 19  │ (25.0,30.0]  │ -5.15293  │ -12.9201  │ -6.41335  │ -5.50244  │\n",
       "│ 20  │ (30.0,40.0]  │ -13.7613  │ -13.7366  │ -13.6939  │ -8.10125  │\n",
       "│ 21  │ (40.0,500.0] │ -15.2015  │ -15.1844  │ -15.1564  │ -15.1269  │"
      ]
     },
     "execution_count": 220,
     "metadata": {},
     "output_type": "execute_result"
    },
    {
     "name": "stderr",
     "output_type": "stream",
     "text": [
      "\u001b[91mUndefVarError: OffsetArray not defined\u001b[39m\n",
      "Stacktrace:\n",
      " [1] \u001b[1m#collect_args#33\u001b[22m\u001b[1m(\u001b[22m::Bool, ::Function, ::JuliaInterpreter.Frame, ::Expr\u001b[1m)\u001b[22m at \u001b[1m/home/jingpeng/.julia/packages/JuliaInterpreter/Or807/src/interpret.jl:64\u001b[22m\n",
      " [2] \u001b[1mcollect_args\u001b[22m at \u001b[1m/home/jingpeng/.julia/packages/JuliaInterpreter/Or807/src/interpret.jl:139\u001b[22m [inlined]\n",
      " [3] \u001b[1mlookup_callexpr\u001b[22m at \u001b[1m/home/jingpeng/.julia/packages/Revise/agmgx/src/lowered.jl:13\u001b[22m [inlined]\n",
      " [4] \u001b[1m#methods_by_execution!#14\u001b[22m\u001b[1m(\u001b[22m::Bool, ::Bool, ::Function, ::Any, ::Revise.CodeTrackingMethodInfo, ::Dict{Module,Array{Expr,1}}, ::JuliaInterpreter.Frame\u001b[1m)\u001b[22m at \u001b[1m/home/jingpeng/.julia/packages/Revise/agmgx/src/lowered.jl:187\u001b[22m\n",
      " [5] \u001b[1m#methods_by_execution!\u001b[22m at \u001b[1m./none:0\u001b[22m [inlined]\n",
      " [6] \u001b[1m#methods_by_execution!#9\u001b[22m\u001b[1m(\u001b[22m::Base.Iterators.Pairs{Symbol,Bool,Tuple{Symbol},NamedTuple{(:define,),Tuple{Bool}}}, ::Function, ::Any, ::Revise.CodeTrackingMethodInfo, ::Dict{Module,Array{Expr,1}}, ::Module, ::Expr\u001b[1m)\u001b[22m at \u001b[1m/home/jingpeng/.julia/packages/Revise/agmgx/src/lowered.jl:49\u001b[22m\n",
      " [7] \u001b[1m#methods_by_execution!\u001b[22m at \u001b[1m./none:0\u001b[22m [inlined]\n",
      " [8] \u001b[1m#eval_with_signatures#59\u001b[22m at \u001b[1m/home/jingpeng/.julia/packages/Revise/agmgx/src/Revise.jl:344\u001b[22m [inlined]\n",
      " [9] \u001b[1m#eval_with_signatures\u001b[22m at \u001b[1m./none:0\u001b[22m [inlined]\n",
      " [10] \u001b[1m#instantiate_sigs!#60\u001b[22m\u001b[1m(\u001b[22m::Bool, ::Base.Iterators.Pairs{Union{},Union{},Tuple{},NamedTuple{(),Tuple{}}}, ::Function, ::OrderedCollections.OrderedDict{Module,OrderedCollections.OrderedDict{Revise.RelocatableExpr,Union{Nothing, Array{Any,1}}}}\u001b[1m)\u001b[22m at \u001b[1m/home/jingpeng/.julia/packages/Revise/agmgx/src/Revise.jl:352\u001b[22m\n",
      " [11] \u001b[1minstantiate_sigs!\u001b[22m at \u001b[1m/home/jingpeng/.julia/packages/Revise/agmgx/src/Revise.jl:349\u001b[22m [inlined]\n",
      " [12] \u001b[1mmaybe_parse_from_cache!\u001b[22m\u001b[1m(\u001b[22m::Revise.PkgData, ::String\u001b[1m)\u001b[22m at \u001b[1m/home/jingpeng/.julia/packages/Revise/agmgx/src/pkgs.jl:224\u001b[22m\n",
      " [13] \u001b[1m(::getfield(Revise, Symbol(\"##26#27\")){String})\u001b[22m\u001b[1m(\u001b[22m\u001b[1m)\u001b[22m at \u001b[1m/home/jingpeng/.julia/packages/Revise/agmgx/src/pkgs.jl:370\u001b[22m\n",
      " [14] \u001b[1mwith_logstate\u001b[22m\u001b[1m(\u001b[22m::getfield(Revise, Symbol(\"##26#27\")){String}, ::Base.CoreLogging.LogState\u001b[1m)\u001b[22m at \u001b[1m./logging.jl:395\u001b[22m\n",
      " [15] \u001b[1mwith_logger\u001b[22m at \u001b[1m./logging.jl:491\u001b[22m [inlined]\n",
      " [16] \u001b[1mwatch_manifest\u001b[22m\u001b[1m(\u001b[22m::String\u001b[1m)\u001b[22m at \u001b[1m/home/jingpeng/.julia/packages/Revise/agmgx/src/pkgs.jl:349\u001b[22m\n",
      " [17] \u001b[1m(::Revise.Rescheduler{typeof(Revise.watch_manifest),Tuple{String}})\u001b[22m\u001b[1m(\u001b[22m\u001b[1m)\u001b[22m at \u001b[1m/home/jingpeng/.julia/packages/Revise/agmgx/src/types.jl:235\u001b[22m\n",
      "while evaluating\n",
      "struct OffsetArray{T, N, AA <: AbstractArray} <: AbstractArray{T, N}\n",
      "    #= /usr/opt/julia-1.0.4/local/share/julia/packages/OffsetArrays/ruvC7/src/OffsetArrays.jl:15 =#\n",
      "    parent::AA\n",
      "    #= /usr/opt/julia-1.0.4/local/share/julia/packages/OffsetArrays/ruvC7/src/OffsetArrays.jl:16 =#\n",
      "    offsets::NTuple{N, Int}\n",
      "end\n",
      "in module Main.OffsetArrays\n",
      "\u001b[91mUndefVarError: OffsetArray not defined\u001b[39m\n",
      "Stacktrace:\n",
      " [1] \u001b[1m#collect_args#33\u001b[22m\u001b[1m(\u001b[22m::Bool, ::Function, ::JuliaInterpreter.Frame, ::Expr\u001b[1m)\u001b[22m at \u001b[1m/home/jingpeng/.julia/packages/JuliaInterpreter/Or807/src/interpret.jl:64\u001b[22m\n",
      " [2] \u001b[1mcollect_args\u001b[22m at \u001b[1m/home/jingpeng/.julia/packages/JuliaInterpreter/Or807/src/interpret.jl:139\u001b[22m [inlined]\n",
      " [3] \u001b[1mlookup_callexpr\u001b[22m at \u001b[1m/home/jingpeng/.julia/packages/Revise/agmgx/src/lowered.jl:13\u001b[22m [inlined]\n",
      " [4] \u001b[1m#methods_by_execution!#14\u001b[22m\u001b[1m(\u001b[22m::Bool, ::Bool, ::Function, ::Any, ::Revise.CodeTrackingMethodInfo, ::Dict{Module,Array{Expr,1}}, ::JuliaInterpreter.Frame\u001b[1m)\u001b[22m at \u001b[1m/home/jingpeng/.julia/packages/Revise/agmgx/src/lowered.jl:187\u001b[22m\n",
      " [5] \u001b[1m#methods_by_execution!\u001b[22m at \u001b[1m./none:0\u001b[22m [inlined]\n",
      " [6] \u001b[1m#methods_by_execution!#9\u001b[22m\u001b[1m(\u001b[22m::Base.Iterators.Pairs{Symbol,Bool,Tuple{Symbol},NamedTuple{(:define,),Tuple{Bool}}}, ::Function, ::Any, ::Revise.CodeTrackingMethodInfo, ::Dict{Module,Array{Expr,1}}, ::Module, ::Expr\u001b[1m)\u001b[22m at \u001b[1m/home/jingpeng/.julia/packages/Revise/agmgx/src/lowered.jl:49\u001b[22m\n",
      " [7] \u001b[1m#methods_by_execution!\u001b[22m at \u001b[1m./none:0\u001b[22m [inlined]\n",
      " [8] \u001b[1m#eval_with_signatures#59\u001b[22m at \u001b[1m/home/jingpeng/.julia/packages/Revise/agmgx/src/Revise.jl:344\u001b[22m [inlined]\n",
      " [9] \u001b[1m#eval_with_signatures\u001b[22m at \u001b[1m./none:0\u001b[22m [inlined]\n",
      " [10] \u001b[1m#instantiate_sigs!#60\u001b[22m\u001b[1m(\u001b[22m::Bool, ::Base.Iterators.Pairs{Union{},Union{},Tuple{},NamedTuple{(),Tuple{}}}, ::Function, ::OrderedCollections.OrderedDict{Module,OrderedCollections.OrderedDict{Revise.RelocatableExpr,Union{Nothing, Array{Any,1}}}}\u001b[1m)\u001b[22m at \u001b[1m/home/jingpeng/.julia/packages/Revise/agmgx/src/Revise.jl:352\u001b[22m\n",
      " [11] \u001b[1minstantiate_sigs!\u001b[22m at \u001b[1m/home/jingpeng/.julia/packages/Revise/agmgx/src/Revise.jl:349\u001b[22m [inlined]\n",
      " [12] \u001b[1mmaybe_parse_from_cache!\u001b[22m\u001b[1m(\u001b[22m::Revise.PkgData, ::String\u001b[1m)\u001b[22m at \u001b[1m/home/jingpeng/.julia/packages/Revise/agmgx/src/pkgs.jl:224\u001b[22m\n",
      " [13] \u001b[1m(::getfield(Revise, Symbol(\"##26#27\")){String})\u001b[22m\u001b[1m(\u001b[22m\u001b[1m)\u001b[22m at \u001b[1m/home/jingpeng/.julia/packages/Revise/agmgx/src/pkgs.jl:370\u001b[22m\n",
      " [14] \u001b[1mwith_logstate\u001b[22m\u001b[1m(\u001b[22m::getfield(Revise, Symbol(\"##26#27\")){String}, ::Base.CoreLogging.LogState\u001b[1m)\u001b[22m at \u001b[1m./logging.jl:395\u001b[22m\n",
      " [15] \u001b[1mwith_logger\u001b[22m at \u001b[1m./logging.jl:491\u001b[22m [inlined]\n",
      " [16] \u001b[1mwatch_manifest\u001b[22m\u001b[1m(\u001b[22m::String\u001b[1m)\u001b[22m at \u001b[1m/home/jingpeng/.julia/packages/Revise/agmgx/src/pkgs.jl:349\u001b[22m\n",
      " [17] \u001b[1m(::Revise.Rescheduler{typeof(Revise.watch_manifest),Tuple{String}})\u001b[22m\u001b[1m(\u001b[22m\u001b[1m)\u001b[22m at \u001b[1m/home/jingpeng/.julia/packages/Revise/agmgx/src/types.jl:235\u001b[22m\n",
      "while evaluating\n",
      "OffsetVector{T, AA <: AbstractArray} = OffsetArray{T, 1, AA}\n",
      "in module Main.OffsetArrays\n",
      "Revise.LogRecord(Warn, omitting call expression (Core.apply_type)(Main.OffsetArrays.OffsetArray, T, N) in (\"none\", 0), lowered, Revise_c21d3a4d, \"/home/jingpeng/.julia/packages/Revise/agmgx/src/lowered.jl\", 188)\u001b[91mUndefVarError: ArrayInitializer not defined\u001b[39m\n",
      "Stacktrace:\n",
      " [1] \u001b[1m#collect_args#33\u001b[22m\u001b[1m(\u001b[22m::Bool, ::Function, ::JuliaInterpreter.Frame, ::Expr\u001b[1m)\u001b[22m at \u001b[1m/home/jingpeng/.julia/packages/JuliaInterpreter/Or807/src/interpret.jl:64\u001b[22m\n",
      " [2] \u001b[1mcollect_args\u001b[22m at \u001b[1m/home/jingpeng/.julia/packages/JuliaInterpreter/Or807/src/interpret.jl:139\u001b[22m [inlined]\n",
      " [3] \u001b[1mlookup_callexpr\u001b[22m at \u001b[1m/home/jingpeng/.julia/packages/Revise/agmgx/src/lowered.jl:13\u001b[22m [inlined]\n",
      " [4] \u001b[1m#methods_by_execution!#14\u001b[22m\u001b[1m(\u001b[22m::Bool, ::Bool, ::Function, ::Any, ::Revise.CodeTrackingMethodInfo, ::Dict{Module,Array{Expr,1}}, ::JuliaInterpreter.Frame\u001b[1m)\u001b[22m at \u001b[1m/home/jingpeng/.julia/packages/Revise/agmgx/src/lowered.jl:187\u001b[22m\n",
      " [5] \u001b[1m#methods_by_execution!\u001b[22m at \u001b[1m./none:0\u001b[22m [inlined]\n",
      " [6] \u001b[1m#methods_by_execution!#9\u001b[22m\u001b[1m(\u001b[22m::Base.Iterators.Pairs{Symbol,Bool,Tuple{Symbol},NamedTuple{(:define,),Tuple{Bool}}}, ::Function, ::Any, ::Revise.CodeTrackingMethodInfo, ::Dict{Module,Array{Expr,1}}, ::Module, ::Expr\u001b[1m)\u001b[22m at \u001b[1m/home/jingpeng/.julia/packages/Revise/agmgx/src/lowered.jl:49\u001b[22m\n",
      " [7] \u001b[1m#methods_by_execution!\u001b[22m at \u001b[1m./none:0\u001b[22m [inlined]\n",
      " [8] \u001b[1m#eval_with_signatures#59\u001b[22m at \u001b[1m/home/jingpeng/.julia/packages/Revise/agmgx/src/Revise.jl:344\u001b[22m [inlined]\n",
      " [9] \u001b[1m#eval_with_signatures\u001b[22m at \u001b[1m./none:0\u001b[22m [inlined]\n",
      " [10] \u001b[1m#instantiate_sigs!#60\u001b[22m\u001b[1m(\u001b[22m::Bool, ::Base.Iterators.Pairs{Union{},Union{},Tuple{},NamedTuple{(),Tuple{}}}, ::Function, ::OrderedCollections.OrderedDict{Module,OrderedCollections.OrderedDict{Revise.RelocatableExpr,Union{Nothing, Array{Any,1}}}}\u001b[1m)\u001b[22m at \u001b[1m/home/jingpeng/.julia/packages/Revise/agmgx/src/Revise.jl:352\u001b[22m\n",
      " [11] \u001b[1minstantiate_sigs!\u001b[22m at \u001b[1m/home/jingpeng/.julia/packages/Revise/agmgx/src/Revise.jl:349\u001b[22m [inlined]\n",
      " [12] \u001b[1mmaybe_parse_from_cache!\u001b[22m\u001b[1m(\u001b[22m::Revise.PkgData, ::String\u001b[1m)\u001b[22m at \u001b[1m/home/jingpeng/.julia/packages/Revise/agmgx/src/pkgs.jl:224\u001b[22m\n",
      " [13] \u001b[1m(::getfield(Revise, Symbol(\"##26#27\")){String})\u001b[22m\u001b[1m(\u001b[22m\u001b[1m)\u001b[22m at \u001b[1m/home/jingpeng/.julia/packages/Revise/agmgx/src/pkgs.jl:370\u001b[22m\n",
      " [14] \u001b[1mwith_logstate\u001b[22m\u001b[1m(\u001b[22m::getfield(Revise, Symbol(\"##26#27\")){String}, ::Base.CoreLogging.LogState\u001b[1m)\u001b[22m at \u001b[1m./logging.jl:395\u001b[22m\n",
      " [15] \u001b[1mwith_logger\u001b[22m at \u001b[1m./logging.jl:491\u001b[22m [inlined]\n",
      " [16] \u001b[1mwatch_manifest\u001b[22m\u001b[1m(\u001b[22m::String\u001b[1m)\u001b[22m at \u001b[1m/home/jingpeng/.julia/packages/Revise/agmgx/src/pkgs.jl:349\u001b[22m\n",
      " [17] \u001b[1m(::Revise.Rescheduler{typeof(Revise.watch_manifest),Tuple{String}})\u001b[22m\u001b[1m(\u001b[22m\u001b[1m)\u001b[22m at \u001b[1m/home/jingpeng/.julia/packages/Revise/agmgx/src/types.jl:235\u001b[22m\n",
      "while evaluating\n",
      "(OffsetArray{T, N}(init::ArrayInitializer, inds::Indices{N}) where {T, N}) = begin\n",
      "        #= /usr/opt/julia-1.0.4/local/share/julia/packages/OffsetArrays/ruvC7/src/OffsetArrays.jl:26 =#\n"
     ]
    },
    {
     "name": "stderr",
     "output_type": "stream",
     "text": [
      "        OffsetArray{T, N, Array{T, N}}(Array{T, N}(init, map(indexlength, inds)), map(indexoffset, inds))\n",
      "    end\n",
      "in module Main.OffsetArrays\n",
      "Revise.LogRecord(Warn, omitting call expression (Core.apply_type)(Main.OffsetArrays.OffsetArray, T) in (\"none\", 0), lowered, Revise_c21d3a4d, \"/home/jingpeng/.julia/packages/Revise/agmgx/src/lowered.jl\", 188)\u001b[91mUndefVarError: ArrayInitializer not defined\u001b[39m\n",
      "Stacktrace:\n",
      " [1] \u001b[1m#collect_args#33\u001b[22m\u001b[1m(\u001b[22m::Bool, ::Function, ::JuliaInterpreter.Frame, ::Expr\u001b[1m)\u001b[22m at \u001b[1m/home/jingpeng/.julia/packages/JuliaInterpreter/Or807/src/interpret.jl:64\u001b[22m\n",
      " [2] \u001b[1mcollect_args\u001b[22m at \u001b[1m/home/jingpeng/.julia/packages/JuliaInterpreter/Or807/src/interpret.jl:139\u001b[22m [inlined]\n",
      " [3] \u001b[1mlookup_callexpr\u001b[22m at \u001b[1m/home/jingpeng/.julia/packages/Revise/agmgx/src/lowered.jl:13\u001b[22m [inlined]\n",
      " [4] \u001b[1m#methods_by_execution!#14\u001b[22m\u001b[1m(\u001b[22m::Bool, ::Bool, ::Function, ::Any, ::Revise.CodeTrackingMethodInfo, ::Dict{Module,Array{Expr,1}}, ::JuliaInterpreter.Frame\u001b[1m)\u001b[22m at \u001b[1m/home/jingpeng/.julia/packages/Revise/agmgx/src/lowered.jl:187\u001b[22m\n",
      " [5] \u001b[1m#methods_by_execution!\u001b[22m at \u001b[1m./none:0\u001b[22m [inlined]\n",
      " [6] \u001b[1m#methods_by_execution!#9\u001b[22m\u001b[1m(\u001b[22m::Base.Iterators.Pairs{Symbol,Bool,Tuple{Symbol},NamedTuple{(:define,),Tuple{Bool}}}, ::Function, ::Any, ::Revise.CodeTrackingMethodInfo, ::Dict{Module,Array{Expr,1}}, ::Module, ::Expr\u001b[1m)\u001b[22m at \u001b[1m/home/jingpeng/.julia/packages/Revise/agmgx/src/lowered.jl:49\u001b[22m\n",
      " [7] \u001b[1m#methods_by_execution!\u001b[22m at \u001b[1m./none:0\u001b[22m [inlined]\n",
      " [8] \u001b[1m#eval_with_signatures#59\u001b[22m at \u001b[1m/home/jingpeng/.julia/packages/Revise/agmgx/src/Revise.jl:344\u001b[22m [inlined]\n",
      " [9] \u001b[1m#eval_with_signatures\u001b[22m at \u001b[1m./none:0\u001b[22m [inlined]\n",
      " [10] \u001b[1m#instantiate_sigs!#60\u001b[22m\u001b[1m(\u001b[22m::Bool, ::Base.Iterators.Pairs{Union{},Union{},Tuple{},NamedTuple{(),Tuple{}}}, ::Function, ::OrderedCollections.OrderedDict{Module,OrderedCollections.OrderedDict{Revise.RelocatableExpr,Union{Nothing, Array{Any,1}}}}\u001b[1m)\u001b[22m at \u001b[1m/home/jingpeng/.julia/packages/Revise/agmgx/src/Revise.jl:352\u001b[22m\n",
      " [11] \u001b[1minstantiate_sigs!\u001b[22m at \u001b[1m/home/jingpeng/.julia/packages/Revise/agmgx/src/Revise.jl:349\u001b[22m [inlined]\n",
      " [12] \u001b[1mmaybe_parse_from_cache!\u001b[22m\u001b[1m(\u001b[22m::Revise.PkgData, ::String\u001b[1m)\u001b[22m at \u001b[1m/home/jingpeng/.julia/packages/Revise/agmgx/src/pkgs.jl:224\u001b[22m\n",
      " [13] \u001b[1m(::getfield(Revise, Symbol(\"##26#27\")){String})\u001b[22m\u001b[1m(\u001b[22m\u001b[1m)\u001b[22m at \u001b[1m/home/jingpeng/.julia/packages/Revise/agmgx/src/pkgs.jl:370\u001b[22m\n",
      " [14] \u001b[1mwith_logstate\u001b[22m\u001b[1m(\u001b[22m::getfield(Revise, Symbol(\"##26#27\")){String}, ::Base.CoreLogging.LogState\u001b[1m)\u001b[22m at \u001b[1m./logging.jl:395\u001b[22m\n",
      " [15] \u001b[1mwith_logger\u001b[22m at \u001b[1m./logging.jl:491\u001b[22m [inlined]\n",
      " [16] \u001b[1mwatch_manifest\u001b[22m\u001b[1m(\u001b[22m::String\u001b[1m)\u001b[22m at \u001b[1m/home/jingpeng/.julia/packages/Revise/agmgx/src/pkgs.jl:349\u001b[22m\n",
      " [17] \u001b[1m(::Revise.Rescheduler{typeof(Revise.watch_manifest),Tuple{String}})\u001b[22m\u001b[1m(\u001b[22m\u001b[1m)\u001b[22m at \u001b[1m/home/jingpeng/.julia/packages/Revise/agmgx/src/types.jl:235\u001b[22m\n",
      "while evaluating\n",
      "(OffsetArray{T}(init::ArrayInitializer, inds::Indices{N}) where {T, N}) = begin\n",
      "        #= /usr/opt/julia-1.0.4/local/share/julia/packages/OffsetArrays/ruvC7/src/OffsetArrays.jl:28 =#\n",
      "        OffsetArray{T, N}(init, inds)\n",
      "    end\n",
      "in module Main.OffsetArrays\n",
      "Revise.LogRecord(Warn, omitting call expression (Core.apply_type)(Main.OffsetArrays.OffsetArray, T, N) in (\"none\", 0), lowered, Revise_c21d3a4d, \"/home/jingpeng/.julia/packages/Revise/agmgx/src/lowered.jl\", 188)\u001b[91mUndefVarError: ArrayInitializer not defined\u001b[39m\n",
      "Stacktrace:\n",
      " [1] \u001b[1m#collect_args#33\u001b[22m\u001b[1m(\u001b[22m::Bool, ::Function, ::JuliaInterpreter.Frame, ::Expr\u001b[1m)\u001b[22m at \u001b[1m/home/jingpeng/.julia/packages/JuliaInterpreter/Or807/src/interpret.jl:64\u001b[22m\n",
      " [2] \u001b[1mcollect_args\u001b[22m at \u001b[1m/home/jingpeng/.julia/packages/JuliaInterpreter/Or807/src/interpret.jl:139\u001b[22m [inlined]\n",
      " [3] \u001b[1mlookup_callexpr\u001b[22m at \u001b[1m/home/jingpeng/.julia/packages/Revise/agmgx/src/lowered.jl:13\u001b[22m [inlined]\n",
      " [4] \u001b[1m#methods_by_execution!#14\u001b[22m\u001b[1m(\u001b[22m::Bool, ::Bool, ::Function, ::Any, ::Revise.CodeTrackingMethodInfo, ::Dict{Module,Array{Expr,1}}, ::JuliaInterpreter.Frame\u001b[1m)\u001b[22m at \u001b[1m/home/jingpeng/.julia/packages/Revise/agmgx/src/lowered.jl:187\u001b[22m\n",
      " [5] \u001b[1m#methods_by_execution!\u001b[22m at \u001b[1m./none:0\u001b[22m [inlined]\n",
      " [6] \u001b[1m#methods_by_execution!#9\u001b[22m\u001b[1m(\u001b[22m::Base.Iterators.Pairs{Symbol,Bool,Tuple{Symbol},NamedTuple{(:define,),Tuple{Bool}}}, ::Function, ::Any, ::Revise.CodeTrackingMethodInfo, ::Dict{Module,Array{Expr,1}}, ::Module, ::Expr\u001b[1m)\u001b[22m at \u001b[1m/home/jingpeng/.julia/packages/Revise/agmgx/src/lowered.jl:49\u001b[22m\n",
      " [7] \u001b[1m#methods_by_execution!\u001b[22m at \u001b[1m./none:0\u001b[22m [inlined]\n",
      " [8] \u001b[1m#eval_with_signatures#59\u001b[22m at \u001b[1m/home/jingpeng/.julia/packages/Revise/agmgx/src/Revise.jl:344\u001b[22m [inlined]\n",
      " [9] \u001b[1m#eval_with_signatures\u001b[22m at \u001b[1m./none:0\u001b[22m [inlined]\n",
      " [10] \u001b[1m#instantiate_sigs!#60\u001b[22m\u001b[1m(\u001b[22m::Bool, ::Base.Iterators.Pairs{Union{},Union{},Tuple{},NamedTuple{(),Tuple{}}}, ::Function, ::OrderedCollections.OrderedDict{Module,OrderedCollections.OrderedDict{Revise.RelocatableExpr,Union{Nothing, Array{Any,1}}}}\u001b[1m)\u001b[22m at \u001b[1m/home/jingpeng/.julia/packages/Revise/agmgx/src/Revise.jl:352\u001b[22m\n",
      " [11] \u001b[1minstantiate_sigs!\u001b[22m at \u001b[1m/home/jingpeng/.julia/packages/Revise/agmgx/src/Revise.jl:349\u001b[22m [inlined]\n",
      " [12] \u001b[1mmaybe_parse_from_cache!\u001b[22m\u001b[1m(\u001b[22m::Revise.PkgData, ::String\u001b[1m)\u001b[22m at \u001b[1m/home/jingpeng/.julia/packages/Revise/agmgx/src/pkgs.jl:224\u001b[22m\n",
      " [13] \u001b[1m(::getfield(Revise, Symbol(\"##26#27\")){String})\u001b[22m\u001b[1m(\u001b[22m\u001b[1m)\u001b[22m at \u001b[1m/home/jingpeng/.julia/packages/Revise/agmgx/src/pkgs.jl:370\u001b[22m\n",
      " [14] \u001b[1mwith_logstate\u001b[22m\u001b[1m(\u001b[22m::getfield(Revise, Symbol(\"##26#27\")){String}, ::Base.CoreLogging.LogState\u001b[1m)\u001b[22m at \u001b[1m./logging.jl:395\u001b[22m\n",
      " [15] \u001b[1mwith_logger\u001b[22m at \u001b[1m./logging.jl:491\u001b[22m [inlined]\n",
      " [16] \u001b[1mwatch_manifest\u001b[22m\u001b[1m(\u001b[22m::String\u001b[1m)\u001b[22m at \u001b[1m/home/jingpeng/.julia/packages/Revise/agmgx/src/pkgs.jl:349\u001b[22m\n",
      " [17] \u001b[1m(::Revise.Rescheduler{typeof(Revise.watch_manifest),Tuple{String}})\u001b[22m\u001b[1m(\u001b[22m\u001b[1m)\u001b[22m at \u001b[1m/home/jingpeng/.julia/packages/Revise/agmgx/src/types.jl:235\u001b[22m\n",
      "while evaluating\n",
      "(OffsetArray{T, N}(init::ArrayInitializer, inds::Vararg{AbstractUnitRange, N}) where {T, N}) = begin\n",
      "        #= /usr/opt/julia-1.0.4/local/share/julia/packages/OffsetArrays/ruvC7/src/OffsetArrays.jl:29 =#\n",
      "        OffsetArray{T, N}(init, inds)\n",
      "    end\n",
      "in module Main.OffsetArrays\n",
      "Revise.LogRecord(Warn, omitting call expression (Core.apply_type)(Main.OffsetArrays.OffsetArray, T) in (\"none\", 0), lowered, Revise_c21d3a4d, \"/home/jingpeng/.julia/packages/Revise/agmgx/src/lowered.jl\", 188)\u001b[91mUndefVarError: ArrayInitializer not defined\u001b[39m\n",
      "Stacktrace:\n",
      " [1] \u001b[1m#collect_args#33\u001b[22m\u001b[1m(\u001b[22m::Bool, ::Function, ::JuliaInterpreter.Frame, ::Expr\u001b[1m)\u001b[22m at \u001b[1m/home/jingpeng/.julia/packages/JuliaInterpreter/Or807/src/interpret.jl:64\u001b[22m\n",
      " [2] \u001b[1mcollect_args\u001b[22m at \u001b[1m/home/jingpeng/.julia/packages/JuliaInterpreter/Or807/src/interpret.jl:139\u001b[22m [inlined]\n",
      " [3] \u001b[1mlookup_callexpr\u001b[22m at \u001b[1m/home/jingpeng/.julia/packages/Revise/agmgx/src/lowered.jl:13\u001b[22m [inlined]\n",
      " [4] \u001b[1m#methods_by_execution!#14\u001b[22m\u001b[1m(\u001b[22m::Bool, ::Bool, ::Function, ::Any, ::Revise.CodeTrackingMethodInfo, ::Dict{Module,Array{Expr,1}}, ::JuliaInterpreter.Frame\u001b[1m)\u001b[22m at \u001b[1m/home/jingpeng/.julia/packages/Revise/agmgx/src/lowered.jl:187\u001b[22m\n",
      " [5] \u001b[1m#methods_by_execution!\u001b[22m at \u001b[1m./none:0\u001b[22m [inlined]\n",
      " [6] \u001b[1m#methods_by_execution!#9\u001b[22m\u001b[1m(\u001b[22m::Base.Iterators.Pairs{Symbol,Bool,Tuple{Symbol},NamedTuple{(:define,),Tuple{Bool}}}, ::Function, ::Any, ::Revise.CodeTrackingMethodInfo, ::Dict{Module,Array{Expr,1}}, ::Module, ::Expr\u001b[1m)\u001b[22m at \u001b[1m/home/jingpeng/.julia/packages/Revise/agmgx/src/lowered.jl:49\u001b[22m\n",
      " [7] \u001b[1m#methods_by_execution!\u001b[22m at \u001b[1m./none:0\u001b[22m [inlined]\n",
      " [8] \u001b[1m#eval_with_signatures#59\u001b[22m at \u001b[1m/home/jingpeng/.julia/packages/Revise/agmgx/src/Revise.jl:344\u001b[22m [inlined]\n",
      " [9] \u001b[1m#eval_with_signatures\u001b[22m at \u001b[1m./none:0\u001b[22m [inlined]\n",
      " [10] \u001b[1m#instantiate_sigs!#60\u001b[22m\u001b[1m(\u001b[22m::Bool, ::Base.Iterators.Pairs{Union{},Union{},Tuple{},NamedTuple{(),Tuple{}}}, ::Function, ::OrderedCollections.OrderedDict{Module,OrderedCollections.OrderedDict{Revise.RelocatableExpr,Union{Nothing, Array{Any,1}}}}\u001b[1m)\u001b[22m at \u001b[1m/home/jingpeng/.julia/packages/Revise/agmgx/src/Revise.jl:352\u001b[22m\n",
      " [11] \u001b[1minstantiate_sigs!\u001b[22m at \u001b[1m/home/jingpeng/.julia/packages/Revise/agmgx/src/Revise.jl:349\u001b[22m [inlined]\n",
      " [12] \u001b[1mmaybe_parse_from_cache!\u001b[22m\u001b[1m(\u001b[22m::Revise.PkgData, ::String\u001b[1m)\u001b[22m at \u001b[1m/home/jingpeng/.julia/packages/Revise/agmgx/src/pkgs.jl:224\u001b[22m\n",
      " [13] \u001b[1m(::getfield(Revise, Symbol(\"##26#27\")){String})\u001b[22m\u001b[1m(\u001b[22m\u001b[1m)\u001b[22m at \u001b[1m/home/jingpeng/.julia/packages/Revise/agmgx/src/pkgs.jl:370\u001b[22m\n",
      " [14] \u001b[1mwith_logstate\u001b[22m\u001b[1m(\u001b[22m::getfield(Revise, Symbol(\"##26#27\")){String}, ::Base.CoreLogging.LogState\u001b[1m)\u001b[22m at \u001b[1m./logging.jl:395\u001b[22m\n",
      " [15] \u001b[1mwith_logger\u001b[22m at \u001b[1m./logging.jl:491\u001b[22m [inlined]\n",
      " [16] \u001b[1mwatch_manifest\u001b[22m\u001b[1m(\u001b[22m::String\u001b[1m)\u001b[22m at \u001b[1m/home/jingpeng/.julia/packages/Revise/agmgx/src/pkgs.jl:349\u001b[22m\n",
      " [17] \u001b[1m(::Revise.Rescheduler{typeof(Revise.watch_manifest),Tuple{String}})\u001b[22m\u001b[1m(\u001b[22m\u001b[1m)\u001b[22m at \u001b[1m/home/jingpeng/.julia/packages/Revise/agmgx/src/types.jl:235\u001b[22m\n",
      "while evaluating\n",
      "(OffsetArray{T}(init::ArrayInitializer, inds::Vararg{AbstractUnitRange, N}) where {T, N}) = begin\n",
      "        #= /usr/opt/julia-1.0.4/local/share/julia/packages/OffsetArrays/ruvC7/src/OffsetArrays.jl:30 =#\n",
      "        OffsetArray{T, N}(init, inds)\n",
      "    end\n",
      "in module Main.OffsetArrays\n",
      "Revise.LogRecord(Warn, omitting call expression (Core.apply_type)(Main.OffsetArrays.OffsetVector, T) in (\"none\", 0), lowered, Revise_c21d3a4d, \"/home/jingpeng/.julia/packages/Revise/agmgx/src/lowered.jl\", 188)\u001b[91mUndefVarError: ArrayInitializer not defined\u001b[39m\n",
      "Stacktrace:\n",
      " [1] \u001b[1m#collect_args#33\u001b[22m\u001b[1m(\u001b[22m::Bool, ::Function, ::JuliaInterpreter.Frame, ::Expr\u001b[1m)\u001b[22m at \u001b[1m/home/jingpeng/.julia/packages/JuliaInterpreter/Or807/src/interpret.jl:64\u001b[22m\n"
     ]
    },
    {
     "name": "stderr",
     "output_type": "stream",
     "text": [
      " [2] \u001b[1mcollect_args\u001b[22m at \u001b[1m/home/jingpeng/.julia/packages/JuliaInterpreter/Or807/src/interpret.jl:139\u001b[22m [inlined]\n",
      " [3] \u001b[1mlookup_callexpr\u001b[22m at \u001b[1m/home/jingpeng/.julia/packages/Revise/agmgx/src/lowered.jl:13\u001b[22m [inlined]\n",
      " [4] \u001b[1m#methods_by_execution!#14\u001b[22m\u001b[1m(\u001b[22m::Bool, ::Bool, ::Function, ::Any, ::Revise.CodeTrackingMethodInfo, ::Dict{Module,Array{Expr,1}}, ::JuliaInterpreter.Frame\u001b[1m)\u001b[22m at \u001b[1m/home/jingpeng/.julia/packages/Revise/agmgx/src/lowered.jl:187\u001b[22m\n",
      " [5] \u001b[1m#methods_by_execution!\u001b[22m at \u001b[1m./none:0\u001b[22m [inlined]\n",
      " [6] \u001b[1m#methods_by_execution!#9\u001b[22m\u001b[1m(\u001b[22m::Base.Iterators.Pairs{Symbol,Bool,Tuple{Symbol},NamedTuple{(:define,),Tuple{Bool}}}, ::Function, ::Any, ::Revise.CodeTrackingMethodInfo, ::Dict{Module,Array{Expr,1}}, ::Module, ::Expr\u001b[1m)\u001b[22m at \u001b[1m/home/jingpeng/.julia/packages/Revise/agmgx/src/lowered.jl:49\u001b[22m\n",
      " [7] \u001b[1m#methods_by_execution!\u001b[22m at \u001b[1m./none:0\u001b[22m [inlined]\n",
      " [8] \u001b[1m#eval_with_signatures#59\u001b[22m at \u001b[1m/home/jingpeng/.julia/packages/Revise/agmgx/src/Revise.jl:344\u001b[22m [inlined]\n",
      " [9] \u001b[1m#eval_with_signatures\u001b[22m at \u001b[1m./none:0\u001b[22m [inlined]\n",
      " [10] \u001b[1m#instantiate_sigs!#60\u001b[22m\u001b[1m(\u001b[22m::Bool, ::Base.Iterators.Pairs{Union{},Union{},Tuple{},NamedTuple{(),Tuple{}}}, ::Function, ::OrderedCollections.OrderedDict{Module,OrderedCollections.OrderedDict{Revise.RelocatableExpr,Union{Nothing, Array{Any,1}}}}\u001b[1m)\u001b[22m at \u001b[1m/home/jingpeng/.julia/packages/Revise/agmgx/src/Revise.jl:352\u001b[22m\n",
      " [11] \u001b[1minstantiate_sigs!\u001b[22m at \u001b[1m/home/jingpeng/.julia/packages/Revise/agmgx/src/Revise.jl:349\u001b[22m [inlined]\n",
      " [12] \u001b[1mmaybe_parse_from_cache!\u001b[22m\u001b[1m(\u001b[22m::Revise.PkgData, ::String\u001b[1m)\u001b[22m at \u001b[1m/home/jingpeng/.julia/packages/Revise/agmgx/src/pkgs.jl:224\u001b[22m\n",
      " [13] \u001b[1m(::getfield(Revise, Symbol(\"##26#27\")){String})\u001b[22m\u001b[1m(\u001b[22m\u001b[1m)\u001b[22m at \u001b[1m/home/jingpeng/.julia/packages/Revise/agmgx/src/pkgs.jl:370\u001b[22m\n",
      " [14] \u001b[1mwith_logstate\u001b[22m\u001b[1m(\u001b[22m::getfield(Revise, Symbol(\"##26#27\")){String}, ::Base.CoreLogging.LogState\u001b[1m)\u001b[22m at \u001b[1m./logging.jl:395\u001b[22m\n",
      " [15] \u001b[1mwith_logger\u001b[22m at \u001b[1m./logging.jl:491\u001b[22m [inlined]\n",
      " [16] \u001b[1mwatch_manifest\u001b[22m\u001b[1m(\u001b[22m::String\u001b[1m)\u001b[22m at \u001b[1m/home/jingpeng/.julia/packages/Revise/agmgx/src/pkgs.jl:349\u001b[22m\n",
      " [17] \u001b[1m(::Revise.Rescheduler{typeof(Revise.watch_manifest),Tuple{String}})\u001b[22m\u001b[1m(\u001b[22m\u001b[1m)\u001b[22m at \u001b[1m/home/jingpeng/.julia/packages/Revise/agmgx/src/types.jl:235\u001b[22m\n",
      "while evaluating\n",
      "(OffsetVector{T}(init::ArrayInitializer, inds::AbstractUnitRange) where T) = begin\n",
      "        #= /usr/opt/julia-1.0.4/local/share/julia/packages/OffsetArrays/ruvC7/src/OffsetArrays.jl:35 =#\n",
      "        OffsetArray{T}(init, inds)\n",
      "    end\n",
      "in module Main.OffsetArrays\n",
      "\u001b[91mTypeError: in Type{...} expression, expected UnionAll, got typeof(Main.OffsetArrays.OffsetArray)\u001b[39m\n",
      "Stacktrace:\n",
      " [1] top-level scope at \u001b[1mnone:0\u001b[22m\n",
      " [2] \u001b[1meval\u001b[22m at \u001b[1m./boot.jl:319\u001b[22m [inlined]\n",
      " [3] \u001b[1mprepare_thunk\u001b[22m\u001b[1m(\u001b[22m::Module, ::Expr, ::Bool\u001b[1m)\u001b[22m at \u001b[1m/home/jingpeng/.julia/packages/JuliaInterpreter/Or807/src/construct.jl:355\u001b[22m\n",
      " [4] \u001b[1mprepare_thunk\u001b[22m\u001b[1m(\u001b[22m::Module, ::Expr, ::Bool\u001b[1m)\u001b[22m at \u001b[1m/home/jingpeng/.julia/packages/JuliaInterpreter/Or807/src/construct.jl:361\u001b[22m\n",
      " [5] \u001b[1mprepare_thunk\u001b[22m at \u001b[1m/home/jingpeng/.julia/packages/JuliaInterpreter/Or807/src/construct.jl:347\u001b[22m [inlined]\n",
      " [6] \u001b[1m#methods_by_execution!#9\u001b[22m\u001b[1m(\u001b[22m::Base.Iterators.Pairs{Symbol,Bool,Tuple{Symbol},NamedTuple{(:define,),Tuple{Bool}}}, ::Function, ::Any, ::Revise.CodeTrackingMethodInfo, ::Dict{Module,Array{Expr,1}}, ::Module, ::Expr\u001b[1m)\u001b[22m at \u001b[1m/home/jingpeng/.julia/packages/Revise/agmgx/src/lowered.jl:47\u001b[22m\n",
      " [7] \u001b[1m#methods_by_execution!\u001b[22m at \u001b[1m./none:0\u001b[22m [inlined]\n",
      " [8] \u001b[1m#eval_with_signatures#59\u001b[22m at \u001b[1m/home/jingpeng/.julia/packages/Revise/agmgx/src/Revise.jl:344\u001b[22m [inlined]\n",
      " [9] \u001b[1m#eval_with_signatures\u001b[22m at \u001b[1m./none:0\u001b[22m [inlined]\n",
      " [10] \u001b[1m#instantiate_sigs!#60\u001b[22m\u001b[1m(\u001b[22m::Bool, ::Base.Iterators.Pairs{Union{},Union{},Tuple{},NamedTuple{(),Tuple{}}}, ::Function, ::OrderedCollections.OrderedDict{Module,OrderedCollections.OrderedDict{Revise.RelocatableExpr,Union{Nothing, Array{Any,1}}}}\u001b[1m)\u001b[22m at \u001b[1m/home/jingpeng/.julia/packages/Revise/agmgx/src/Revise.jl:352\u001b[22m\n",
      " [11] \u001b[1minstantiate_sigs!\u001b[22m at \u001b[1m/home/jingpeng/.julia/packages/Revise/agmgx/src/Revise.jl:349\u001b[22m [inlined]\n",
      " [12] \u001b[1mmaybe_parse_from_cache!\u001b[22m\u001b[1m(\u001b[22m::Revise.PkgData, ::String\u001b[1m)\u001b[22m at \u001b[1m/home/jingpeng/.julia/packages/Revise/agmgx/src/pkgs.jl:224\u001b[22m\n",
      " [13] \u001b[1m(::getfield(Revise, Symbol(\"##26#27\")){String})\u001b[22m\u001b[1m(\u001b[22m\u001b[1m)\u001b[22m at \u001b[1m/home/jingpeng/.julia/packages/Revise/agmgx/src/pkgs.jl:370\u001b[22m\n",
      " [14] \u001b[1mwith_logstate\u001b[22m\u001b[1m(\u001b[22m::getfield(Revise, Symbol(\"##26#27\")){String}, ::Base.CoreLogging.LogState\u001b[1m)\u001b[22m at \u001b[1m./logging.jl:395\u001b[22m\n",
      " [15] \u001b[1mwith_logger\u001b[22m at \u001b[1m./logging.jl:491\u001b[22m [inlined]\n",
      " [16] \u001b[1mwatch_manifest\u001b[22m\u001b[1m(\u001b[22m::String\u001b[1m)\u001b[22m at \u001b[1m/home/jingpeng/.julia/packages/Revise/agmgx/src/pkgs.jl:349\u001b[22m\n",
      " [17] \u001b[1m(::Revise.Rescheduler{typeof(Revise.watch_manifest),Tuple{String}})\u001b[22m\u001b[1m(\u001b[22m\u001b[1m)\u001b[22m at \u001b[1m/home/jingpeng/.julia/packages/Revise/agmgx/src/types.jl:235\u001b[22m\n",
      "while evaluating\n",
      "#= /usr/opt/julia-1.0.4/local/share/julia/packages/OffsetArrays/ruvC7/src/OffsetArrays.jl:42 =# @deprecate OffsetArray{T, N}(inds::Indices{N}) where {T, N} OffsetArray{T, N}(undef, inds)\n",
      "in module Main.OffsetArrays\n",
      "\u001b[91mTypeError: in Type{...} expression, expected UnionAll, got typeof(Main.OffsetArrays.OffsetArray)\u001b[39m\n",
      "Stacktrace:\n",
      " [1] top-level scope at \u001b[1mnone:0\u001b[22m\n",
      " [2] \u001b[1meval\u001b[22m at \u001b[1m./boot.jl:319\u001b[22m [inlined]\n",
      " [3] \u001b[1mprepare_thunk\u001b[22m\u001b[1m(\u001b[22m::Module, ::Expr, ::Bool\u001b[1m)\u001b[22m at \u001b[1m/home/jingpeng/.julia/packages/JuliaInterpreter/Or807/src/construct.jl:355\u001b[22m\n",
      " [4] \u001b[1mprepare_thunk\u001b[22m\u001b[1m(\u001b[22m::Module, ::Expr, ::Bool\u001b[1m)\u001b[22m at \u001b[1m/home/jingpeng/.julia/packages/JuliaInterpreter/Or807/src/construct.jl:361\u001b[22m\n",
      " [5] \u001b[1mprepare_thunk\u001b[22m at \u001b[1m/home/jingpeng/.julia/packages/JuliaInterpreter/Or807/src/construct.jl:347\u001b[22m [inlined]\n",
      " [6] \u001b[1m#methods_by_execution!#9\u001b[22m\u001b[1m(\u001b[22m::Base.Iterators.Pairs{Symbol,Bool,Tuple{Symbol},NamedTuple{(:define,),Tuple{Bool}}}, ::Function, ::Any, ::Revise.CodeTrackingMethodInfo, ::Dict{Module,Array{Expr,1}}, ::Module, ::Expr\u001b[1m)\u001b[22m at \u001b[1m/home/jingpeng/.julia/packages/Revise/agmgx/src/lowered.jl:47\u001b[22m\n",
      " [7] \u001b[1m#methods_by_execution!\u001b[22m at \u001b[1m./none:0\u001b[22m [inlined]\n",
      " [8] \u001b[1m#eval_with_signatures#59\u001b[22m at \u001b[1m/home/jingpeng/.julia/packages/Revise/agmgx/src/Revise.jl:344\u001b[22m [inlined]\n",
      " [9] \u001b[1m#eval_with_signatures\u001b[22m at \u001b[1m./none:0\u001b[22m [inlined]\n",
      " [10] \u001b[1m#instantiate_sigs!#60\u001b[22m\u001b[1m(\u001b[22m::Bool, ::Base.Iterators.Pairs{Union{},Union{},Tuple{},NamedTuple{(),Tuple{}}}, ::Function, ::OrderedCollections.OrderedDict{Module,OrderedCollections.OrderedDict{Revise.RelocatableExpr,Union{Nothing, Array{Any,1}}}}\u001b[1m)\u001b[22m at \u001b[1m/home/jingpeng/.julia/packages/Revise/agmgx/src/Revise.jl:352\u001b[22m\n",
      " [11] \u001b[1minstantiate_sigs!\u001b[22m at \u001b[1m/home/jingpeng/.julia/packages/Revise/agmgx/src/Revise.jl:349\u001b[22m [inlined]\n",
      " [12] \u001b[1mmaybe_parse_from_cache!\u001b[22m\u001b[1m(\u001b[22m::Revise.PkgData, ::String\u001b[1m)\u001b[22m at \u001b[1m/home/jingpeng/.julia/packages/Revise/agmgx/src/pkgs.jl:224\u001b[22m\n",
      " [13] \u001b[1m(::getfield(Revise, Symbol(\"##26#27\")){String})\u001b[22m\u001b[1m(\u001b[22m\u001b[1m)\u001b[22m at \u001b[1m/home/jingpeng/.julia/packages/Revise/agmgx/src/pkgs.jl:370\u001b[22m\n",
      " [14] \u001b[1mwith_logstate\u001b[22m\u001b[1m(\u001b[22m::getfield(Revise, Symbol(\"##26#27\")){String}, ::Base.CoreLogging.LogState\u001b[1m)\u001b[22m at \u001b[1m./logging.jl:395\u001b[22m\n",
      " [15] \u001b[1mwith_logger\u001b[22m at \u001b[1m./logging.jl:491\u001b[22m [inlined]\n",
      " [16] \u001b[1mwatch_manifest\u001b[22m\u001b[1m(\u001b[22m::String\u001b[1m)\u001b[22m at \u001b[1m/home/jingpeng/.julia/packages/Revise/agmgx/src/pkgs.jl:349\u001b[22m\n",
      " [17] \u001b[1m(::Revise.Rescheduler{typeof(Revise.watch_manifest),Tuple{String}})\u001b[22m\u001b[1m(\u001b[22m\u001b[1m)\u001b[22m at \u001b[1m/home/jingpeng/.julia/packages/Revise/agmgx/src/types.jl:235\u001b[22m\n",
      "while evaluating\n",
      "#= /usr/opt/julia-1.0.4/local/share/julia/packages/OffsetArrays/ruvC7/src/OffsetArrays.jl:43 =# @deprecate OffsetArray{T}(inds::Indices{N}) where {T, N} OffsetArray{T}(undef, inds)\n",
      "in module Main.OffsetArrays\n",
      "\u001b[91mTypeError: in Type{...} expression, expected UnionAll, got typeof(Main.OffsetArrays.OffsetArray)\u001b[39m\n",
      "Stacktrace:\n",
      " [1] top-level scope at \u001b[1mnone:0\u001b[22m\n",
      " [2] \u001b[1meval\u001b[22m at \u001b[1m./boot.jl:319\u001b[22m [inlined]\n",
      " [3] \u001b[1mprepare_thunk\u001b[22m\u001b[1m(\u001b[22m::Module, ::Expr, ::Bool\u001b[1m)\u001b[22m at \u001b[1m/home/jingpeng/.julia/packages/JuliaInterpreter/Or807/src/construct.jl:355\u001b[22m\n",
      " [4] \u001b[1mprepare_thunk\u001b[22m\u001b[1m(\u001b[22m::Module, ::Expr, ::Bool\u001b[1m)\u001b[22m at \u001b[1m/home/jingpeng/.julia/packages/JuliaInterpreter/Or807/src/construct.jl:361\u001b[22m\n",
      " [5] \u001b[1mprepare_thunk\u001b[22m at \u001b[1m/home/jingpeng/.julia/packages/JuliaInterpreter/Or807/src/construct.jl:347\u001b[22m [inlined]\n",
      " [6] \u001b[1m#methods_by_execution!#9\u001b[22m\u001b[1m(\u001b[22m::Base.Iterators.Pairs{Symbol,Bool,Tuple{Symbol},NamedTuple{(:define,),Tuple{Bool}}}, ::Function, ::Any, ::Revise.CodeTrackingMethodInfo, ::Dict{Module,Array{Expr,1}}, ::Module, ::Expr\u001b[1m)\u001b[22m at \u001b[1m/home/jingpeng/.julia/packages/Revise/agmgx/src/lowered.jl:47\u001b[22m\n",
      " [7] \u001b[1m#methods_by_execution!\u001b[22m at \u001b[1m./none:0\u001b[22m [inlined]\n",
      " [8] \u001b[1m#eval_with_signatures#59\u001b[22m at \u001b[1m/home/jingpeng/.julia/packages/Revise/agmgx/src/Revise.jl:344\u001b[22m [inlined]\n",
      " [9] \u001b[1m#eval_with_signatures\u001b[22m at \u001b[1m./none:0\u001b[22m [inlined]\n",
      " [10] \u001b[1m#instantiate_sigs!#60\u001b[22m\u001b[1m(\u001b[22m::Bool, ::Base.Iterators.Pairs{Union{},Union{},Tuple{},NamedTuple{(),Tuple{}}}, ::Function, ::OrderedCollections.OrderedDict{Module,OrderedCollections.OrderedDict{Revise.RelocatableExpr,Union{Nothing, Array{Any,1}}}}\u001b[1m)\u001b[22m at \u001b[1m/home/jingpeng/.julia/packages/Revise/agmgx/src/Revise.jl:352\u001b[22m\n",
      " [11] \u001b[1minstantiate_sigs!\u001b[22m at \u001b[1m/home/jingpeng/.julia/packages/Revise/agmgx/src/Revise.jl:349\u001b[22m [inlined]\n",
      " [12] \u001b[1mmaybe_parse_from_cache!\u001b[22m\u001b[1m(\u001b[22m::Revise.PkgData, ::String\u001b[1m)\u001b[22m at \u001b[1m/home/jingpeng/.julia/packages/Revise/agmgx/src/pkgs.jl:224\u001b[22m\n",
      " [13] \u001b[1m(::getfield(Revise, Symbol(\"##26#27\")){String})\u001b[22m\u001b[1m(\u001b[22m\u001b[1m)\u001b[22m at \u001b[1m/home/jingpeng/.julia/packages/Revise/agmgx/src/pkgs.jl:370\u001b[22m\n",
      " [14] \u001b[1mwith_logstate\u001b[22m\u001b[1m(\u001b[22m::getfield(Revise, Symbol(\"##26#27\")){String}, ::Base.CoreLogging.LogState\u001b[1m)\u001b[22m at \u001b[1m./logging.jl:395\u001b[22m\n",
      " [15] \u001b[1mwith_logger\u001b[22m at \u001b[1m./logging.jl:491\u001b[22m [inlined]\n",
      " [16] \u001b[1mwatch_manifest\u001b[22m\u001b[1m(\u001b[22m::String\u001b[1m)\u001b[22m at \u001b[1m/home/jingpeng/.julia/packages/Revise/agmgx/src/pkgs.jl:349\u001b[22m\n",
      " [17] \u001b[1m(::Revise.Rescheduler{typeof(Revise.watch_manifest),Tuple{String}})\u001b[22m\u001b[1m(\u001b[22m\u001b[1m)\u001b[22m at \u001b[1m/home/jingpeng/.julia/packages/Revise/agmgx/src/types.jl:235\u001b[22m\n",
      "while evaluating\n",
      "#= /usr/opt/julia-1.0.4/local/share/julia/packages/OffsetArrays/ruvC7/src/OffsetArrays.jl:44 =# @deprecate OffsetArray{T, N}(inds::Vararg{AbstractUnitRange, N}) where {T, N} OffsetArray{T, N}(undef, inds)\n",
      "in module Main.OffsetArrays\n",
      "\u001b[91mTypeError: in Type{...} expression, expected UnionAll, got typeof(Main.OffsetArrays.OffsetArray)\u001b[39m\n",
      "Stacktrace:\n",
      " [1] top-level scope at \u001b[1mnone:0\u001b[22m\n",
      " [2] \u001b[1meval\u001b[22m at \u001b[1m./boot.jl:319\u001b[22m [inlined]\n",
      " [3] \u001b[1mprepare_thunk\u001b[22m\u001b[1m(\u001b[22m::Module, ::Expr, ::Bool\u001b[1m)\u001b[22m at \u001b[1m/home/jingpeng/.julia/packages/JuliaInterpreter/Or807/src/construct.jl:355\u001b[22m\n",
      " [4] \u001b[1mprepare_thunk\u001b[22m\u001b[1m(\u001b[22m::Module, ::Expr, ::Bool\u001b[1m)\u001b[22m at \u001b[1m/home/jingpeng/.julia/packages/JuliaInterpreter/Or807/src/construct.jl:361\u001b[22m\n",
      " [5] \u001b[1mprepare_thunk\u001b[22m at \u001b[1m/home/jingpeng/.julia/packages/JuliaInterpreter/Or807/src/construct.jl:347\u001b[22m [inlined]\n",
      " [6] \u001b[1m#methods_by_execution!#9\u001b[22m\u001b[1m(\u001b[22m::Base.Iterators.Pairs{Symbol,Bool,Tuple{Symbol},NamedTuple{(:define,),Tuple{Bool}}}, ::Function, ::Any, ::Revise.CodeTrackingMethodInfo, ::Dict{Module,Array{Expr,1}}, ::Module, ::Expr\u001b[1m)\u001b[22m at \u001b[1m/home/jingpeng/.julia/packages/Revise/agmgx/src/lowered.jl:47\u001b[22m\n",
      " [7] \u001b[1m#methods_by_execution!\u001b[22m at \u001b[1m./none:0\u001b[22m [inlined]\n",
      " [8] \u001b[1m#eval_with_signatures#59\u001b[22m at \u001b[1m/home/jingpeng/.julia/packages/Revise/agmgx/src/Revise.jl:344\u001b[22m [inlined]\n",
      " [9] \u001b[1m#eval_with_signatures\u001b[22m at \u001b[1m./none:0\u001b[22m [inlined]\n",
      " [10] \u001b[1m#instantiate_sigs!#60\u001b[22m\u001b[1m(\u001b[22m::Bool, ::Base.Iterators.Pairs{Union{},Union{},Tuple{},NamedTuple{(),Tuple{}}}, ::Function, ::OrderedCollections.OrderedDict{Module,OrderedCollections.OrderedDict{Revise.RelocatableExpr,Union{Nothing, Array{Any,1}}}}\u001b[1m)\u001b[22m at \u001b[1m/home/jingpeng/.julia/packages/Revise/agmgx/src/Revise.jl:352\u001b[22m\n",
      " [11] \u001b[1minstantiate_sigs!\u001b[22m at \u001b[1m/home/jingpeng/.julia/packages/Revise/agmgx/src/Revise.jl:349\u001b[22m [inlined]\n",
      " [12] \u001b[1mmaybe_parse_from_cache!\u001b[22m\u001b[1m(\u001b[22m::Revise.PkgData, ::String\u001b[1m)\u001b[22m at \u001b[1m/home/jingpeng/.julia/packages/Revise/agmgx/src/pkgs.jl:224\u001b[22m\n"
     ]
    },
    {
     "name": "stderr",
     "output_type": "stream",
     "text": [
      " [13] \u001b[1m(::getfield(Revise, Symbol(\"##26#27\")){String})\u001b[22m\u001b[1m(\u001b[22m\u001b[1m)\u001b[22m at \u001b[1m/home/jingpeng/.julia/packages/Revise/agmgx/src/pkgs.jl:370\u001b[22m\n",
      " [14] \u001b[1mwith_logstate\u001b[22m\u001b[1m(\u001b[22m::getfield(Revise, Symbol(\"##26#27\")){String}, ::Base.CoreLogging.LogState\u001b[1m)\u001b[22m at \u001b[1m./logging.jl:395\u001b[22m\n",
      " [15] \u001b[1mwith_logger\u001b[22m at \u001b[1m./logging.jl:491\u001b[22m [inlined]\n",
      " [16] \u001b[1mwatch_manifest\u001b[22m\u001b[1m(\u001b[22m::String\u001b[1m)\u001b[22m at \u001b[1m/home/jingpeng/.julia/packages/Revise/agmgx/src/pkgs.jl:349\u001b[22m\n",
      " [17] \u001b[1m(::Revise.Rescheduler{typeof(Revise.watch_manifest),Tuple{String}})\u001b[22m\u001b[1m(\u001b[22m\u001b[1m)\u001b[22m at \u001b[1m/home/jingpeng/.julia/packages/Revise/agmgx/src/types.jl:235\u001b[22m\n",
      "while evaluating\n",
      "#= /usr/opt/julia-1.0.4/local/share/julia/packages/OffsetArrays/ruvC7/src/OffsetArrays.jl:45 =# @deprecate OffsetArray{T}(inds::Vararg{AbstractUnitRange, N}) where {T, N} OffsetArray{T}(undef, inds)\n",
      "in module Main.OffsetArrays\n",
      "\u001b[91mTypeError: in Type{...} expression, expected UnionAll, got typeof(Main.OffsetArrays.OffsetVector)\u001b[39m\n",
      "Stacktrace:\n",
      " [1] top-level scope at \u001b[1mnone:0\u001b[22m\n",
      " [2] \u001b[1meval\u001b[22m at \u001b[1m./boot.jl:319\u001b[22m [inlined]\n",
      " [3] \u001b[1mprepare_thunk\u001b[22m\u001b[1m(\u001b[22m::Module, ::Expr, ::Bool\u001b[1m)\u001b[22m at \u001b[1m/home/jingpeng/.julia/packages/JuliaInterpreter/Or807/src/construct.jl:355\u001b[22m\n",
      " [4] \u001b[1mprepare_thunk\u001b[22m\u001b[1m(\u001b[22m::Module, ::Expr, ::Bool\u001b[1m)\u001b[22m at \u001b[1m/home/jingpeng/.julia/packages/JuliaInterpreter/Or807/src/construct.jl:361\u001b[22m\n",
      " [5] \u001b[1mprepare_thunk\u001b[22m at \u001b[1m/home/jingpeng/.julia/packages/JuliaInterpreter/Or807/src/construct.jl:347\u001b[22m [inlined]\n",
      " [6] \u001b[1m#methods_by_execution!#9\u001b[22m\u001b[1m(\u001b[22m::Base.Iterators.Pairs{Symbol,Bool,Tuple{Symbol},NamedTuple{(:define,),Tuple{Bool}}}, ::Function, ::Any, ::Revise.CodeTrackingMethodInfo, ::Dict{Module,Array{Expr,1}}, ::Module, ::Expr\u001b[1m)\u001b[22m at \u001b[1m/home/jingpeng/.julia/packages/Revise/agmgx/src/lowered.jl:47\u001b[22m\n",
      " [7] \u001b[1m#methods_by_execution!\u001b[22m at \u001b[1m./none:0\u001b[22m [inlined]\n",
      " [8] \u001b[1m#eval_with_signatures#59\u001b[22m at \u001b[1m/home/jingpeng/.julia/packages/Revise/agmgx/src/Revise.jl:344\u001b[22m [inlined]\n",
      " [9] \u001b[1m#eval_with_signatures\u001b[22m at \u001b[1m./none:0\u001b[22m [inlined]\n",
      " [10] \u001b[1m#instantiate_sigs!#60\u001b[22m\u001b[1m(\u001b[22m::Bool, ::Base.Iterators.Pairs{Union{},Union{},Tuple{},NamedTuple{(),Tuple{}}}, ::Function, ::OrderedCollections.OrderedDict{Module,OrderedCollections.OrderedDict{Revise.RelocatableExpr,Union{Nothing, Array{Any,1}}}}\u001b[1m)\u001b[22m at \u001b[1m/home/jingpeng/.julia/packages/Revise/agmgx/src/Revise.jl:352\u001b[22m\n",
      " [11] \u001b[1minstantiate_sigs!\u001b[22m at \u001b[1m/home/jingpeng/.julia/packages/Revise/agmgx/src/Revise.jl:349\u001b[22m [inlined]\n",
      " [12] \u001b[1mmaybe_parse_from_cache!\u001b[22m\u001b[1m(\u001b[22m::Revise.PkgData, ::String\u001b[1m)\u001b[22m at \u001b[1m/home/jingpeng/.julia/packages/Revise/agmgx/src/pkgs.jl:224\u001b[22m\n",
      " [13] \u001b[1m(::getfield(Revise, Symbol(\"##26#27\")){String})\u001b[22m\u001b[1m(\u001b[22m\u001b[1m)\u001b[22m at \u001b[1m/home/jingpeng/.julia/packages/Revise/agmgx/src/pkgs.jl:370\u001b[22m\n",
      " [14] \u001b[1mwith_logstate\u001b[22m\u001b[1m(\u001b[22m::getfield(Revise, Symbol(\"##26#27\")){String}, ::Base.CoreLogging.LogState\u001b[1m)\u001b[22m at \u001b[1m./logging.jl:395\u001b[22m\n",
      " [15] \u001b[1mwith_logger\u001b[22m at \u001b[1m./logging.jl:491\u001b[22m [inlined]\n",
      " [16] \u001b[1mwatch_manifest\u001b[22m\u001b[1m(\u001b[22m::String\u001b[1m)\u001b[22m at \u001b[1m/home/jingpeng/.julia/packages/Revise/agmgx/src/pkgs.jl:349\u001b[22m\n",
      " [17] \u001b[1m(::Revise.Rescheduler{typeof(Revise.watch_manifest),Tuple{String}})\u001b[22m\u001b[1m(\u001b[22m\u001b[1m)\u001b[22m at \u001b[1m/home/jingpeng/.julia/packages/Revise/agmgx/src/types.jl:235\u001b[22m\n",
      "while evaluating\n",
      "#= /usr/opt/julia-1.0.4/local/share/julia/packages/OffsetArrays/ruvC7/src/OffsetArrays.jl:46 =# @deprecate OffsetVector{T}(inds::AbstractUnitRange) where T OffsetVector{T}(undef, inds)\n",
      "in module Main.OffsetArrays\n",
      "\u001b[91mTypeError: in Type{...} expression, expected UnionAll, got typeof(Main.OffsetArrays.OffsetArray)\u001b[39m\n",
      "Stacktrace:\n",
      " [1] \u001b[1mmaybe_evaluate_builtin\u001b[22m\u001b[1m(\u001b[22m::JuliaInterpreter.Frame, ::Expr, ::Bool\u001b[1m)\u001b[22m at \u001b[1m/home/jingpeng/.julia/packages/JuliaInterpreter/Or807/src/builtins.jl:86\u001b[22m\n",
      " [2] \u001b[1m#evaluate_call_recurse!#37\u001b[22m\u001b[1m(\u001b[22m::Bool, ::Function, ::Any, ::JuliaInterpreter.Frame, ::Expr\u001b[1m)\u001b[22m at \u001b[1m/home/jingpeng/.julia/packages/JuliaInterpreter/Or807/src/interpret.jl:209\u001b[22m\n",
      " [3] \u001b[1mevaluate_call_recurse!\u001b[22m at \u001b[1m/home/jingpeng/.julia/packages/JuliaInterpreter/Or807/src/interpret.jl:206\u001b[22m [inlined]\n",
      " [4] \u001b[1meval_rhs\u001b[22m\u001b[1m(\u001b[22m::Any, ::JuliaInterpreter.Frame, ::Expr\u001b[1m)\u001b[22m at \u001b[1m/home/jingpeng/.julia/packages/JuliaInterpreter/Or807/src/interpret.jl:381\u001b[22m\n",
      " [5] \u001b[1mstep_expr!\u001b[22m\u001b[1m(\u001b[22m::Any, ::JuliaInterpreter.Frame, ::Any, ::Bool\u001b[1m)\u001b[22m at \u001b[1m/home/jingpeng/.julia/packages/JuliaInterpreter/Or807/src/interpret.jl:509\u001b[22m\n",
      " [6] \u001b[1msignature\u001b[22m\u001b[1m(\u001b[22m::Any, ::JuliaInterpreter.Frame, ::Any, ::Int64\u001b[1m)\u001b[22m at \u001b[1m/home/jingpeng/.julia/packages/LoweredCodeUtils/6EZqd/src/LoweredCodeUtils.jl:146\u001b[22m\n",
      " [7] \u001b[1m#methoddef!#3\u001b[22m\u001b[1m(\u001b[22m::Bool, ::Function, ::Any, ::Array{Any,1}, ::JuliaInterpreter.Frame, ::Any, ::Int64\u001b[1m)\u001b[22m at \u001b[1m/home/jingpeng/.julia/packages/LoweredCodeUtils/6EZqd/src/LoweredCodeUtils.jl:420\u001b[22m\n",
      " [8] \u001b[1m(::getfield(LoweredCodeUtils, Symbol(\"#kw##methoddef!\")))\u001b[22m\u001b[1m(\u001b[22m::NamedTuple{(:define,),Tuple{Bool}}, ::typeof(LoweredCodeUtils.methoddef!), ::Function, ::Array{Any,1}, ::JuliaInterpreter.Frame, ::Expr, ::Int64\u001b[1m)\u001b[22m at \u001b[1m./none:0\u001b[22m\n",
      " [9] \u001b[1m#methods_by_execution!#14\u001b[22m\u001b[1m(\u001b[22m::Bool, ::Bool, ::Function, ::Any, ::Revise.CodeTrackingMethodInfo, ::Dict{Module,Array{Expr,1}}, ::JuliaInterpreter.Frame\u001b[1m)\u001b[22m at \u001b[1m/home/jingpeng/.julia/packages/Revise/agmgx/src/lowered.jl:81\u001b[22m\n",
      " [10] \u001b[1m#methods_by_execution!\u001b[22m at \u001b[1m./none:0\u001b[22m [inlined]\n",
      " [11] \u001b[1m#methods_by_execution!#9\u001b[22m\u001b[1m(\u001b[22m::Base.Iterators.Pairs{Symbol,Bool,Tuple{Symbol},NamedTuple{(:define,),Tuple{Bool}}}, ::Function, ::Any, ::Revise.CodeTrackingMethodInfo, ::Dict{Module,Array{Expr,1}}, ::Module, ::Expr\u001b[1m)\u001b[22m at \u001b[1m/home/jingpeng/.julia/packages/Revise/agmgx/src/lowered.jl:49\u001b[22m\n",
      " [12] \u001b[1m#methods_by_execution!\u001b[22m at \u001b[1m./none:0\u001b[22m [inlined]\n",
      " [13] \u001b[1m#eval_with_signatures#59\u001b[22m at \u001b[1m/home/jingpeng/.julia/packages/Revise/agmgx/src/Revise.jl:344\u001b[22m [inlined]\n",
      " [14] \u001b[1m#eval_with_signatures\u001b[22m at \u001b[1m./none:0\u001b[22m [inlined]\n",
      " [15] \u001b[1m#instantiate_sigs!#60\u001b[22m\u001b[1m(\u001b[22m::Bool, ::Base.Iterators.Pairs{Union{},Union{},Tuple{},NamedTuple{(),Tuple{}}}, ::Function, ::OrderedCollections.OrderedDict{Module,OrderedCollections.OrderedDict{Revise.RelocatableExpr,Union{Nothing, Array{Any,1}}}}\u001b[1m)\u001b[22m at \u001b[1m/home/jingpeng/.julia/packages/Revise/agmgx/src/Revise.jl:352\u001b[22m\n",
      " [16] \u001b[1minstantiate_sigs!\u001b[22m at \u001b[1m/home/jingpeng/.julia/packages/Revise/agmgx/src/Revise.jl:349\u001b[22m [inlined]\n",
      " [17] \u001b[1mmaybe_parse_from_cache!\u001b[22m\u001b[1m(\u001b[22m::Revise.PkgData, ::String\u001b[1m)\u001b[22m at \u001b[1m/home/jingpeng/.julia/packages/Revise/agmgx/src/pkgs.jl:224\u001b[22m\n",
      " [18] \u001b[1m(::getfield(Revise, Symbol(\"##26#27\")){String})\u001b[22m\u001b[1m(\u001b[22m\u001b[1m)\u001b[22m at \u001b[1m/home/jingpeng/.julia/packages/Revise/agmgx/src/pkgs.jl:370\u001b[22m\n",
      " [19] \u001b[1mwith_logstate\u001b[22m\u001b[1m(\u001b[22m::getfield(Revise, Symbol(\"##26#27\")){String}, ::Base.CoreLogging.LogState\u001b[1m)\u001b[22m at \u001b[1m./logging.jl:395\u001b[22m\n",
      " [20] \u001b[1mwith_logger\u001b[22m at \u001b[1m./logging.jl:491\u001b[22m [inlined]\n",
      " [21] \u001b[1mwatch_manifest\u001b[22m\u001b[1m(\u001b[22m::String\u001b[1m)\u001b[22m at \u001b[1m/home/jingpeng/.julia/packages/Revise/agmgx/src/pkgs.jl:349\u001b[22m\n",
      " [22] \u001b[1m(::Revise.Rescheduler{typeof(Revise.watch_manifest),Tuple{String}})\u001b[22m\u001b[1m(\u001b[22m\u001b[1m)\u001b[22m at \u001b[1m/home/jingpeng/.julia/packages/Revise/agmgx/src/types.jl:235\u001b[22m\n",
      "while evaluating\n",
      "(OffsetArray(A::OffsetArray{T, 0}, inds::Tuple{}) where T) = begin\n",
      "        #= /usr/opt/julia-1.0.4/local/share/julia/packages/OffsetArrays/ruvC7/src/OffsetArrays.jl:65 =#\n",
      "        OffsetArray{T, 0, typeof(A)}(parent(A), ())\n",
      "    end\n",
      "in module Main.OffsetArrays\n",
      "\u001b[91mTypeError: in Type{...} expression, expected UnionAll, got typeof(Main.OffsetArrays.OffsetArray)\u001b[39m\n",
      "Stacktrace:\n",
      " [1] \u001b[1mmaybe_evaluate_builtin\u001b[22m\u001b[1m(\u001b[22m::JuliaInterpreter.Frame, ::Expr, ::Bool\u001b[1m)\u001b[22m at \u001b[1m/home/jingpeng/.julia/packages/JuliaInterpreter/Or807/src/builtins.jl:86\u001b[22m\n",
      " [2] \u001b[1m#evaluate_call_recurse!#37\u001b[22m\u001b[1m(\u001b[22m::Bool, ::Function, ::Any, ::JuliaInterpreter.Frame, ::Expr\u001b[1m)\u001b[22m at \u001b[1m/home/jingpeng/.julia/packages/JuliaInterpreter/Or807/src/interpret.jl:209\u001b[22m\n",
      " [3] \u001b[1mevaluate_call_recurse!\u001b[22m at \u001b[1m/home/jingpeng/.julia/packages/JuliaInterpreter/Or807/src/interpret.jl:206\u001b[22m [inlined]\n",
      " [4] \u001b[1meval_rhs\u001b[22m\u001b[1m(\u001b[22m::Any, ::JuliaInterpreter.Frame, ::Expr\u001b[1m)\u001b[22m at \u001b[1m/home/jingpeng/.julia/packages/JuliaInterpreter/Or807/src/interpret.jl:381\u001b[22m\n",
      " [5] \u001b[1mstep_expr!\u001b[22m\u001b[1m(\u001b[22m::Any, ::JuliaInterpreter.Frame, ::Any, ::Bool\u001b[1m)\u001b[22m at \u001b[1m/home/jingpeng/.julia/packages/JuliaInterpreter/Or807/src/interpret.jl:509\u001b[22m\n",
      " [6] \u001b[1msignature\u001b[22m\u001b[1m(\u001b[22m::Any, ::JuliaInterpreter.Frame, ::Any, ::Int64\u001b[1m)\u001b[22m at \u001b[1m/home/jingpeng/.julia/packages/LoweredCodeUtils/6EZqd/src/LoweredCodeUtils.jl:146\u001b[22m\n",
      " [7] \u001b[1m#methoddef!#3\u001b[22m\u001b[1m(\u001b[22m::Bool, ::Function, ::Any, ::Array{Any,1}, ::JuliaInterpreter.Frame, ::Any, ::Int64\u001b[1m)\u001b[22m at \u001b[1m/home/jingpeng/.julia/packages/LoweredCodeUtils/6EZqd/src/LoweredCodeUtils.jl:420\u001b[22m\n",
      " [8] \u001b[1m(::getfield(LoweredCodeUtils, Symbol(\"#kw##methoddef!\")))\u001b[22m\u001b[1m(\u001b[22m::NamedTuple{(:define,),Tuple{Bool}}, ::typeof(LoweredCodeUtils.methoddef!), ::Function, ::Array{Any,1}, ::JuliaInterpreter.Frame, ::Expr, ::Int64\u001b[1m)\u001b[22m at \u001b[1m./none:0\u001b[22m\n",
      " [9] \u001b[1m#methods_by_execution!#14\u001b[22m\u001b[1m(\u001b[22m::Bool, ::Bool, ::Function, ::Any, ::Revise.CodeTrackingMethodInfo, ::Dict{Module,Array{Expr,1}}, ::JuliaInterpreter.Frame\u001b[1m)\u001b[22m at \u001b[1m/home/jingpeng/.julia/packages/Revise/agmgx/src/lowered.jl:81\u001b[22m\n",
      " [10] \u001b[1m#methods_by_execution!\u001b[22m at \u001b[1m./none:0\u001b[22m [inlined]\n",
      " [11] \u001b[1m#methods_by_execution!#9\u001b[22m\u001b[1m(\u001b[22m::Base.Iterators.Pairs{Symbol,Bool,Tuple{Symbol},NamedTuple{(:define,),Tuple{Bool}}}, ::Function, ::Any, ::Revise.CodeTrackingMethodInfo, ::Dict{Module,Array{Expr,1}}, ::Module, ::Expr\u001b[1m)\u001b[22m at \u001b[1m/home/jingpeng/.julia/packages/Revise/agmgx/src/lowered.jl:49\u001b[22m\n",
      " [12] \u001b[1m#methods_by_execution!\u001b[22m at \u001b[1m./none:0\u001b[22m [inlined]\n",
      " [13] \u001b[1m#eval_with_signatures#59\u001b[22m at \u001b[1m/home/jingpeng/.julia/packages/Revise/agmgx/src/Revise.jl:344\u001b[22m [inlined]\n"
     ]
    },
    {
     "name": "stderr",
     "output_type": "stream",
     "text": [
      " [14] \u001b[1m#eval_with_signatures\u001b[22m at \u001b[1m./none:0\u001b[22m [inlined]\n",
      " [15] \u001b[1m#instantiate_sigs!#60\u001b[22m\u001b[1m(\u001b[22m::Bool, ::Base.Iterators.Pairs{Union{},Union{},Tuple{},NamedTuple{(),Tuple{}}}, ::Function, ::OrderedCollections.OrderedDict{Module,OrderedCollections.OrderedDict{Revise.RelocatableExpr,Union{Nothing, Array{Any,1}}}}\u001b[1m)\u001b[22m at \u001b[1m/home/jingpeng/.julia/packages/Revise/agmgx/src/Revise.jl:352\u001b[22m\n",
      " [16] \u001b[1minstantiate_sigs!\u001b[22m at \u001b[1m/home/jingpeng/.julia/packages/Revise/agmgx/src/Revise.jl:349\u001b[22m [inlined]\n",
      " [17] \u001b[1mmaybe_parse_from_cache!\u001b[22m\u001b[1m(\u001b[22m::Revise.PkgData, ::String\u001b[1m)\u001b[22m at \u001b[1m/home/jingpeng/.julia/packages/Revise/agmgx/src/pkgs.jl:224\u001b[22m\n",
      " [18] \u001b[1m(::getfield(Revise, Symbol(\"##26#27\")){String})\u001b[22m\u001b[1m(\u001b[22m\u001b[1m)\u001b[22m at \u001b[1m/home/jingpeng/.julia/packages/Revise/agmgx/src/pkgs.jl:370\u001b[22m\n",
      " [19] \u001b[1mwith_logstate\u001b[22m\u001b[1m(\u001b[22m::getfield(Revise, Symbol(\"##26#27\")){String}, ::Base.CoreLogging.LogState\u001b[1m)\u001b[22m at \u001b[1m./logging.jl:395\u001b[22m\n",
      " [20] \u001b[1mwith_logger\u001b[22m at \u001b[1m./logging.jl:491\u001b[22m [inlined]\n",
      " [21] \u001b[1mwatch_manifest\u001b[22m\u001b[1m(\u001b[22m::String\u001b[1m)\u001b[22m at \u001b[1m/home/jingpeng/.julia/packages/Revise/agmgx/src/pkgs.jl:349\u001b[22m\n",
      " [22] \u001b[1m(::Revise.Rescheduler{typeof(Revise.watch_manifest),Tuple{String}})\u001b[22m\u001b[1m(\u001b[22m\u001b[1m)\u001b[22m at \u001b[1m/home/jingpeng/.julia/packages/Revise/agmgx/src/types.jl:235\u001b[22m\n",
      "while evaluating\n",
      "(OffsetArray(A::OffsetArray{T, N}, inds::Tuple{}) where {T, N}) = begin\n",
      "        #= /usr/opt/julia-1.0.4/local/share/julia/packages/OffsetArrays/ruvC7/src/OffsetArrays.jl:66 =#\n",
      "        error(\"this should never be called\")\n",
      "    end\n",
      "in module Main.OffsetArrays\n",
      "Revise.LogRecord(Warn, omitting call expression (TypeVar)(OA, Main.OffsetArrays.OffsetArray) in (\"none\", 0), lowered, Revise_c21d3a4d, \"/home/jingpeng/.julia/packages/Revise/agmgx/src/lowered.jl\", 188)\u001b[91mexpected return statement, got ($(QuoteNode(getproperty)))(Base, :IndexStyle)\u001b[39m\n",
      "Stacktrace:\n",
      " [1] \u001b[1merror\u001b[22m\u001b[1m(\u001b[22m::String, ::Expr\u001b[1m)\u001b[22m at \u001b[1m./error.jl:42\u001b[22m\n",
      " [2] \u001b[1mget_return\u001b[22m\u001b[1m(\u001b[22m::JuliaInterpreter.Frame\u001b[1m)\u001b[22m at \u001b[1m/home/jingpeng/.julia/packages/JuliaInterpreter/Or807/src/interpret.jl:607\u001b[22m\n",
      " [3] \u001b[1m#methods_by_execution!#14\u001b[22m\u001b[1m(\u001b[22m::Bool, ::Bool, ::Function, ::Any, ::Revise.CodeTrackingMethodInfo, ::Dict{Module,Array{Expr,1}}, ::JuliaInterpreter.Frame\u001b[1m)\u001b[22m at \u001b[1m/home/jingpeng/.julia/packages/Revise/agmgx/src/lowered.jl:204\u001b[22m\n",
      " [4] \u001b[1m#methods_by_execution!\u001b[22m at \u001b[1m./none:0\u001b[22m [inlined]\n",
      " [5] \u001b[1m#methods_by_execution!#9\u001b[22m\u001b[1m(\u001b[22m::Base.Iterators.Pairs{Symbol,Bool,Tuple{Symbol},NamedTuple{(:define,),Tuple{Bool}}}, ::Function, ::Any, ::Revise.CodeTrackingMethodInfo, ::Dict{Module,Array{Expr,1}}, ::Module, ::Expr\u001b[1m)\u001b[22m at \u001b[1m/home/jingpeng/.julia/packages/Revise/agmgx/src/lowered.jl:49\u001b[22m\n",
      " [6] \u001b[1m#methods_by_execution!\u001b[22m at \u001b[1m./none:0\u001b[22m [inlined]\n",
      " [7] \u001b[1m#eval_with_signatures#59\u001b[22m at \u001b[1m/home/jingpeng/.julia/packages/Revise/agmgx/src/Revise.jl:344\u001b[22m [inlined]\n",
      " [8] \u001b[1m#eval_with_signatures\u001b[22m at \u001b[1m./none:0\u001b[22m [inlined]\n",
      " [9] \u001b[1m#instantiate_sigs!#60\u001b[22m\u001b[1m(\u001b[22m::Bool, ::Base.Iterators.Pairs{Union{},Union{},Tuple{},NamedTuple{(),Tuple{}}}, ::Function, ::OrderedCollections.OrderedDict{Module,OrderedCollections.OrderedDict{Revise.RelocatableExpr,Union{Nothing, Array{Any,1}}}}\u001b[1m)\u001b[22m at \u001b[1m/home/jingpeng/.julia/packages/Revise/agmgx/src/Revise.jl:352\u001b[22m\n",
      " [10] \u001b[1minstantiate_sigs!\u001b[22m at \u001b[1m/home/jingpeng/.julia/packages/Revise/agmgx/src/Revise.jl:349\u001b[22m [inlined]\n",
      " [11] \u001b[1mmaybe_parse_from_cache!\u001b[22m\u001b[1m(\u001b[22m::Revise.PkgData, ::String\u001b[1m)\u001b[22m at \u001b[1m/home/jingpeng/.julia/packages/Revise/agmgx/src/pkgs.jl:224\u001b[22m\n",
      " [12] \u001b[1m(::getfield(Revise, Symbol(\"##26#27\")){String})\u001b[22m\u001b[1m(\u001b[22m\u001b[1m)\u001b[22m at \u001b[1m/home/jingpeng/.julia/packages/Revise/agmgx/src/pkgs.jl:370\u001b[22m\n",
      " [13] \u001b[1mwith_logstate\u001b[22m\u001b[1m(\u001b[22m::getfield(Revise, Symbol(\"##26#27\")){String}, ::Base.CoreLogging.LogState\u001b[1m)\u001b[22m at \u001b[1m./logging.jl:395\u001b[22m\n",
      " [14] \u001b[1mwith_logger\u001b[22m at \u001b[1m./logging.jl:491\u001b[22m [inlined]\n",
      " [15] \u001b[1mwatch_manifest\u001b[22m\u001b[1m(\u001b[22m::String\u001b[1m)\u001b[22m at \u001b[1m/home/jingpeng/.julia/packages/Revise/agmgx/src/pkgs.jl:349\u001b[22m\n",
      " [16] \u001b[1m(::Revise.Rescheduler{typeof(Revise.watch_manifest),Tuple{String}})\u001b[22m\u001b[1m(\u001b[22m\u001b[1m)\u001b[22m at \u001b[1m/home/jingpeng/.julia/packages/Revise/agmgx/src/types.jl:235\u001b[22m\n",
      "while evaluating\n",
      "(Base.IndexStyle(::Type{OA}) where OA <: OffsetArray) = begin\n",
      "        #= /usr/opt/julia-1.0.4/local/share/julia/packages/OffsetArrays/ruvC7/src/OffsetArrays.jl:68 =#\n",
      "        IndexStyle(parenttype(OA))\n",
      "    end\n",
      "in module Main.OffsetArrays\n",
      "\u001b[91mTypeError: in Type{...} expression, expected UnionAll, got typeof(Main.OffsetArrays.OffsetArray)\u001b[39m\n",
      "Stacktrace:\n",
      " [1] \u001b[1mmaybe_evaluate_builtin\u001b[22m\u001b[1m(\u001b[22m::JuliaInterpreter.Frame, ::Expr, ::Bool\u001b[1m)\u001b[22m at \u001b[1m/home/jingpeng/.julia/packages/JuliaInterpreter/Or807/src/builtins.jl:86\u001b[22m\n",
      " [2] \u001b[1m#evaluate_call_recurse!#37\u001b[22m\u001b[1m(\u001b[22m::Bool, ::Function, ::Any, ::JuliaInterpreter.Frame, ::Expr\u001b[1m)\u001b[22m at \u001b[1m/home/jingpeng/.julia/packages/JuliaInterpreter/Or807/src/interpret.jl:209\u001b[22m\n",
      " [3] \u001b[1mevaluate_call_recurse!\u001b[22m at \u001b[1m/home/jingpeng/.julia/packages/JuliaInterpreter/Or807/src/interpret.jl:206\u001b[22m [inlined]\n",
      " [4] \u001b[1meval_rhs\u001b[22m\u001b[1m(\u001b[22m::Any, ::JuliaInterpreter.Frame, ::Expr\u001b[1m)\u001b[22m at \u001b[1m/home/jingpeng/.julia/packages/JuliaInterpreter/Or807/src/interpret.jl:381\u001b[22m\n",
      " [5] \u001b[1mstep_expr!\u001b[22m\u001b[1m(\u001b[22m::Any, ::JuliaInterpreter.Frame, ::Any, ::Bool\u001b[1m)\u001b[22m at \u001b[1m/home/jingpeng/.julia/packages/JuliaInterpreter/Or807/src/interpret.jl:509\u001b[22m\n",
      " [6] \u001b[1msignature\u001b[22m\u001b[1m(\u001b[22m::Any, ::JuliaInterpreter.Frame, ::Any, ::Int64\u001b[1m)\u001b[22m at \u001b[1m/home/jingpeng/.julia/packages/LoweredCodeUtils/6EZqd/src/LoweredCodeUtils.jl:146\u001b[22m\n",
      " [7] \u001b[1m#methoddef!#3\u001b[22m\u001b[1m(\u001b[22m::Bool, ::Function, ::Any, ::Array{Any,1}, ::JuliaInterpreter.Frame, ::Any, ::Int64\u001b[1m)\u001b[22m at \u001b[1m/home/jingpeng/.julia/packages/LoweredCodeUtils/6EZqd/src/LoweredCodeUtils.jl:420\u001b[22m\n",
      " [8] \u001b[1m(::getfield(LoweredCodeUtils, Symbol(\"#kw##methoddef!\")))\u001b[22m\u001b[1m(\u001b[22m::NamedTuple{(:define,),Tuple{Bool}}, ::typeof(LoweredCodeUtils.methoddef!), ::Function, ::Array{Any,1}, ::JuliaInterpreter.Frame, ::Expr, ::Int64\u001b[1m)\u001b[22m at \u001b[1m./none:0\u001b[22m\n",
      " [9] \u001b[1m#methods_by_execution!#14\u001b[22m\u001b[1m(\u001b[22m::Bool, ::Bool, ::Function, ::Any, ::Revise.CodeTrackingMethodInfo, ::Dict{Module,Array{Expr,1}}, ::JuliaInterpreter.Frame\u001b[1m)\u001b[22m at \u001b[1m/home/jingpeng/.julia/packages/Revise/agmgx/src/lowered.jl:81\u001b[22m\n",
      " [10] \u001b[1m#methods_by_execution!\u001b[22m at \u001b[1m./none:0\u001b[22m [inlined]\n",
      " [11] \u001b[1m#methods_by_execution!#9\u001b[22m\u001b[1m(\u001b[22m::Base.Iterators.Pairs{Symbol,Bool,Tuple{Symbol},NamedTuple{(:define,),Tuple{Bool}}}, ::Function, ::Any, ::Revise.CodeTrackingMethodInfo, ::Dict{Module,Array{Expr,1}}, ::Module, ::Expr\u001b[1m)\u001b[22m at \u001b[1m/home/jingpeng/.julia/packages/Revise/agmgx/src/lowered.jl:49\u001b[22m\n",
      " [12] \u001b[1m#methods_by_execution!\u001b[22m at \u001b[1m./none:0\u001b[22m [inlined]\n",
      " [13] \u001b[1m#eval_with_signatures#59\u001b[22m at \u001b[1m/home/jingpeng/.julia/packages/Revise/agmgx/src/Revise.jl:344\u001b[22m [inlined]\n",
      " [14] \u001b[1m#eval_with_signatures\u001b[22m at \u001b[1m./none:0\u001b[22m [inlined]\n",
      " [15] \u001b[1m#instantiate_sigs!#60\u001b[22m\u001b[1m(\u001b[22m::Bool, ::Base.Iterators.Pairs{Union{},Union{},Tuple{},NamedTuple{(),Tuple{}}}, ::Function, ::OrderedCollections.OrderedDict{Module,OrderedCollections.OrderedDict{Revise.RelocatableExpr,Union{Nothing, Array{Any,1}}}}\u001b[1m)\u001b[22m at \u001b[1m/home/jingpeng/.julia/packages/Revise/agmgx/src/Revise.jl:352\u001b[22m\n",
      " [16] \u001b[1minstantiate_sigs!\u001b[22m at \u001b[1m/home/jingpeng/.julia/packages/Revise/agmgx/src/Revise.jl:349\u001b[22m [inlined]\n",
      " [17] \u001b[1mmaybe_parse_from_cache!\u001b[22m\u001b[1m(\u001b[22m::Revise.PkgData, ::String\u001b[1m)\u001b[22m at \u001b[1m/home/jingpeng/.julia/packages/Revise/agmgx/src/pkgs.jl:224\u001b[22m\n",
      " [18] \u001b[1m(::getfield(Revise, Symbol(\"##26#27\")){String})\u001b[22m\u001b[1m(\u001b[22m\u001b[1m)\u001b[22m at \u001b[1m/home/jingpeng/.julia/packages/Revise/agmgx/src/pkgs.jl:370\u001b[22m\n",
      " [19] \u001b[1mwith_logstate\u001b[22m\u001b[1m(\u001b[22m::getfield(Revise, Symbol(\"##26#27\")){String}, ::Base.CoreLogging.LogState\u001b[1m)\u001b[22m at \u001b[1m./logging.jl:395\u001b[22m\n",
      " [20] \u001b[1mwith_logger\u001b[22m at \u001b[1m./logging.jl:491\u001b[22m [inlined]\n",
      " [21] \u001b[1mwatch_manifest\u001b[22m\u001b[1m(\u001b[22m::String\u001b[1m)\u001b[22m at \u001b[1m/home/jingpeng/.julia/packages/Revise/agmgx/src/pkgs.jl:349\u001b[22m\n",
      " [22] \u001b[1m(::Revise.Rescheduler{typeof(Revise.watch_manifest),Tuple{String}})\u001b[22m\u001b[1m(\u001b[22m\u001b[1m)\u001b[22m at \u001b[1m/home/jingpeng/.julia/packages/Revise/agmgx/src/types.jl:235\u001b[22m\n",
      "while evaluating\n",
      "(parenttype(::Type{OffsetArray{T, N, AA}}) where {T, N, AA}) = begin\n",
      "        #= /usr/opt/julia-1.0.4/local/share/julia/packages/OffsetArrays/ruvC7/src/OffsetArrays.jl:69 =#\n",
      "        AA\n",
      "    end\n",
      "in module Main.OffsetArrays\n"
     ]
    },
    {
     "name": "stderr",
     "output_type": "stream",
     "text": [
      "Revise.LogRecord(Warn, omitting call expression (Core.apply_type)(Main.OffsetArrays.OffsetArray, T, 0) in (\"none\", 0), lowered, Revise_c21d3a4d, \"/home/jingpeng/.julia/packages/Revise/agmgx/src/lowered.jl\", 188)\u001b[91mUndefVarError: IdentityUnitRange not defined\u001b[39m\n",
      "Stacktrace:\n",
      " [1] \u001b[1m#collect_args#33\u001b[22m\u001b[1m(\u001b[22m::Bool, ::Function, ::JuliaInterpreter.Frame, ::Expr\u001b[1m)\u001b[22m at \u001b[1m/home/jingpeng/.julia/packages/JuliaInterpreter/Or807/src/interpret.jl:64\u001b[22m\n",
      " [2] \u001b[1mcollect_args\u001b[22m at \u001b[1m/home/jingpeng/.julia/packages/JuliaInterpreter/Or807/src/interpret.jl:139\u001b[22m [inlined]\n",
      " [3] \u001b[1mlookup_callexpr\u001b[22m at \u001b[1m/home/jingpeng/.julia/packages/Revise/agmgx/src/lowered.jl:13\u001b[22m [inlined]\n",
      " [4] \u001b[1m#methods_by_execution!#14\u001b[22m\u001b[1m(\u001b[22m::Bool, ::Bool, ::Function, ::Any, ::Revise.CodeTrackingMethodInfo, ::Dict{Module,Array{Expr,1}}, ::JuliaInterpreter.Frame\u001b[1m)\u001b[22m at \u001b[1m/home/jingpeng/.julia/packages/Revise/agmgx/src/lowered.jl:187\u001b[22m\n",
      " [5] \u001b[1m#methods_by_execution!\u001b[22m at \u001b[1m./none:0\u001b[22m [inlined]\n",
      " [6] \u001b[1m#methods_by_execution!#9\u001b[22m\u001b[1m(\u001b[22m::Base.Iterators.Pairs{Symbol,Bool,Tuple{Symbol},NamedTuple{(:define,),Tuple{Bool}}}, ::Function, ::Any, ::Revise.CodeTrackingMethodInfo, ::Dict{Module,Array{Expr,1}}, ::Module, ::Expr\u001b[1m)\u001b[22m at \u001b[1m/home/jingpeng/.julia/packages/Revise/agmgx/src/lowered.jl:49\u001b[22m\n",
      " [7] \u001b[1m#methods_by_execution!\u001b[22m at \u001b[1m./none:0\u001b[22m [inlined]\n",
      " [8] \u001b[1m#eval_with_signatures#59\u001b[22m at \u001b[1m/home/jingpeng/.julia/packages/Revise/agmgx/src/Revise.jl:344\u001b[22m [inlined]\n",
      " [9] \u001b[1m#eval_with_signatures\u001b[22m at \u001b[1m./none:0\u001b[22m [inlined]\n",
      " [10] \u001b[1m#instantiate_sigs!#60\u001b[22m\u001b[1m(\u001b[22m::Bool, ::Base.Iterators.Pairs{Union{},Union{},Tuple{},NamedTuple{(),Tuple{}}}, ::Function, ::OrderedCollections.OrderedDict{Module,OrderedCollections.OrderedDict{Revise.RelocatableExpr,Union{Nothing, Array{Any,1}}}}\u001b[1m)\u001b[22m at \u001b[1m/home/jingpeng/.julia/packages/Revise/agmgx/src/Revise.jl:352\u001b[22m\n",
      " [11] \u001b[1minstantiate_sigs!\u001b[22m at \u001b[1m/home/jingpeng/.julia/packages/Revise/agmgx/src/Revise.jl:349\u001b[22m [inlined]\n",
      " [12] \u001b[1mmaybe_parse_from_cache!\u001b[22m\u001b[1m(\u001b[22m::Revise.PkgData, ::String\u001b[1m)\u001b[22m at \u001b[1m/home/jingpeng/.julia/packages/Revise/agmgx/src/pkgs.jl:224\u001b[22m\n",
      " [13] \u001b[1m(::getfield(Revise, Symbol(\"##26#27\")){String})\u001b[22m\u001b[1m(\u001b[22m\u001b[1m)\u001b[22m at \u001b[1m/home/jingpeng/.julia/packages/Revise/agmgx/src/pkgs.jl:370\u001b[22m\n",
      " [14] \u001b[1mwith_logstate\u001b[22m\u001b[1m(\u001b[22m::getfield(Revise, Symbol(\"##26#27\")){String}, ::Base.CoreLogging.LogState\u001b[1m)\u001b[22m at \u001b[1m./logging.jl:395\u001b[22m\n",
      " [15] \u001b[1mwith_logger\u001b[22m at \u001b[1m./logging.jl:491\u001b[22m [inlined]\n",
      " [16] \u001b[1mwatch_manifest\u001b[22m\u001b[1m(\u001b[22m::String\u001b[1m)\u001b[22m at \u001b[1m/home/jingpeng/.julia/packages/Revise/agmgx/src/pkgs.jl:349\u001b[22m\n",
      " [17] \u001b[1m(::Revise.Rescheduler{typeof(Revise.watch_manifest),Tuple{String}})\u001b[22m\u001b[1m(\u001b[22m\u001b[1m)\u001b[22m at \u001b[1m/home/jingpeng/.julia/packages/Revise/agmgx/src/types.jl:235\u001b[22m\n",
      "while evaluating\n",
      "const OffsetAxis = Union{Integer, UnitRange, Base.OneTo, IdentityUnitRange}\n",
      "in module Main.OffsetArrays\n",
      "\u001b[91mUndefVarError: OffsetAxis not defined\u001b[39m\n",
      "Stacktrace:\n",
      " [1] \u001b[1m#collect_args#33\u001b[22m\u001b[1m(\u001b[22m::Bool, ::Function, ::JuliaInterpreter.Frame, ::Expr\u001b[1m)\u001b[22m at \u001b[1m/home/jingpeng/.julia/packages/JuliaInterpreter/Or807/src/interpret.jl:64\u001b[22m\n",
      " [2] \u001b[1mcollect_args\u001b[22m at \u001b[1m/home/jingpeng/.julia/packages/JuliaInterpreter/Or807/src/interpret.jl:139\u001b[22m [inlined]\n",
      " [3] \u001b[1mlookup_callexpr\u001b[22m at \u001b[1m/home/jingpeng/.julia/packages/Revise/agmgx/src/lowered.jl:13\u001b[22m [inlined]\n",
      " [4] \u001b[1m#methods_by_execution!#14\u001b[22m\u001b[1m(\u001b[22m::Bool, ::Bool, ::Function, ::Any, ::Revise.CodeTrackingMethodInfo, ::Dict{Module,Array{Expr,1}}, ::JuliaInterpreter.Frame\u001b[1m)\u001b[22m at \u001b[1m/home/jingpeng/.julia/packages/Revise/agmgx/src/lowered.jl:187\u001b[22m\n",
      " [5] \u001b[1m#methods_by_execution!\u001b[22m at \u001b[1m./none:0\u001b[22m [inlined]\n",
      " [6] \u001b[1m#methods_by_execution!#9\u001b[22m\u001b[1m(\u001b[22m::Base.Iterators.Pairs{Symbol,Bool,Tuple{Symbol},NamedTuple{(:define,),Tuple{Bool}}}, ::Function, ::Any, ::Revise.CodeTrackingMethodInfo, ::Dict{Module,Array{Expr,1}}, ::Module, ::Expr\u001b[1m)\u001b[22m at \u001b[1m/home/jingpeng/.julia/packages/Revise/agmgx/src/lowered.jl:49\u001b[22m\n",
      " [7] \u001b[1m#methods_by_execution!\u001b[22m at \u001b[1m./none:0\u001b[22m [inlined]\n",
      " [8] \u001b[1m#eval_with_signatures#59\u001b[22m at \u001b[1m/home/jingpeng/.julia/packages/Revise/agmgx/src/Revise.jl:344\u001b[22m [inlined]\n",
      " [9] \u001b[1m#eval_with_signatures\u001b[22m at \u001b[1m./none:0\u001b[22m [inlined]\n",
      " [10] \u001b[1m#instantiate_sigs!#60\u001b[22m\u001b[1m(\u001b[22m::Bool, ::Base.Iterators.Pairs{Union{},Union{},Tuple{},NamedTuple{(),Tuple{}}}, ::Function, ::OrderedCollections.OrderedDict{Module,OrderedCollections.OrderedDict{Revise.RelocatableExpr,Union{Nothing, Array{Any,1}}}}\u001b[1m)\u001b[22m at \u001b[1m/home/jingpeng/.julia/packages/Revise/agmgx/src/Revise.jl:352\u001b[22m\n",
      " [11] \u001b[1minstantiate_sigs!\u001b[22m at \u001b[1m/home/jingpeng/.julia/packages/Revise/agmgx/src/Revise.jl:349\u001b[22m [inlined]\n",
      " [12] \u001b[1mmaybe_parse_from_cache!\u001b[22m\u001b[1m(\u001b[22m::Revise.PkgData, ::String\u001b[1m)\u001b[22m at \u001b[1m/home/jingpeng/.julia/packages/Revise/agmgx/src/pkgs.jl:224\u001b[22m\n",
      " [13] \u001b[1m(::getfield(Revise, Symbol(\"##26#27\")){String})\u001b[22m\u001b[1m(\u001b[22m\u001b[1m)\u001b[22m at \u001b[1m/home/jingpeng/.julia/packages/Revise/agmgx/src/pkgs.jl:370\u001b[22m\n",
      " [14] \u001b[1mwith_logstate\u001b[22m\u001b[1m(\u001b[22m::getfield(Revise, Symbol(\"##26#27\")){String}, ::Base.CoreLogging.LogState\u001b[1m)\u001b[22m at \u001b[1m./logging.jl:395\u001b[22m\n",
      " [15] \u001b[1mwith_logger\u001b[22m at \u001b[1m./logging.jl:491\u001b[22m [inlined]\n",
      " [16] \u001b[1mwatch_manifest\u001b[22m\u001b[1m(\u001b[22m::String\u001b[1m)\u001b[22m at \u001b[1m/home/jingpeng/.julia/packages/Revise/agmgx/src/pkgs.jl:349\u001b[22m\n",
      " [17] \u001b[1m(::Revise.Rescheduler{typeof(Revise.watch_manifest),Tuple{String}})\u001b[22m\u001b[1m(\u001b[22m\u001b[1m)\u001b[22m at \u001b[1m/home/jingpeng/.julia/packages/Revise/agmgx/src/types.jl:235\u001b[22m\n",
      "while evaluating\n",
      "function Base.similar(A::AbstractArray, ::Type{T}, inds::Tuple{OffsetAxis, Vararg{OffsetAxis}}) where T\n",
      "    #= /usr/opt/julia-1.0.4/local/share/julia/packages/OffsetArrays/ruvC7/src/OffsetArrays.jl:100 =#\n",
      "    B = similar(A, T, map(indexlength, inds))\n",
      "    #= /usr/opt/julia-1.0.4/local/share/julia/packages/OffsetArrays/ruvC7/src/OffsetArrays.jl:101 =#\n",
      "    OffsetArray(B, map(indexoffset, inds))\n",
      "end\n",
      "in module Main.OffsetArrays\n",
      "\u001b[91mUndefVarError: OffsetAxis not defined\u001b[39m\n",
      "Stacktrace:\n",
      " [1] \u001b[1m#collect_args#33\u001b[22m\u001b[1m(\u001b[22m::Bool, ::Function, ::JuliaInterpreter.Frame, ::Expr\u001b[1m)\u001b[22m at \u001b[1m/home/jingpeng/.julia/packages/JuliaInterpreter/Or807/src/interpret.jl:64\u001b[22m\n",
      " [2] \u001b[1mcollect_args\u001b[22m at \u001b[1m/home/jingpeng/.julia/packages/JuliaInterpreter/Or807/src/interpret.jl:139\u001b[22m [inlined]\n",
      " [3] \u001b[1mlookup_callexpr\u001b[22m at \u001b[1m/home/jingpeng/.julia/packages/Revise/agmgx/src/lowered.jl:13\u001b[22m [inlined]\n",
      " [4] \u001b[1m#methods_by_execution!#14\u001b[22m\u001b[1m(\u001b[22m::Bool, ::Bool, ::Function, ::Any, ::Revise.CodeTrackingMethodInfo, ::Dict{Module,Array{Expr,1}}, ::JuliaInterpreter.Frame\u001b[1m)\u001b[22m at \u001b[1m/home/jingpeng/.julia/packages/Revise/agmgx/src/lowered.jl:187\u001b[22m\n",
      " [5] \u001b[1m#methods_by_execution!\u001b[22m at \u001b[1m./none:0\u001b[22m [inlined]\n",
      " [6] \u001b[1m#methods_by_execution!#9\u001b[22m\u001b[1m(\u001b[22m::Base.Iterators.Pairs{Symbol,Bool,Tuple{Symbol},NamedTuple{(:define,),Tuple{Bool}}}, ::Function, ::Any, ::Revise.CodeTrackingMethodInfo, ::Dict{Module,Array{Expr,1}}, ::Module, ::Expr\u001b[1m)\u001b[22m at \u001b[1m/home/jingpeng/.julia/packages/Revise/agmgx/src/lowered.jl:49\u001b[22m\n",
      " [7] \u001b[1m#methods_by_execution!\u001b[22m at \u001b[1m./none:0\u001b[22m [inlined]\n",
      " [8] \u001b[1m#eval_with_signatures#59\u001b[22m at \u001b[1m/home/jingpeng/.julia/packages/Revise/agmgx/src/Revise.jl:344\u001b[22m [inlined]\n",
      " [9] \u001b[1m#eval_with_signatures\u001b[22m at \u001b[1m./none:0\u001b[22m [inlined]\n",
      " [10] \u001b[1m#instantiate_sigs!#60\u001b[22m\u001b[1m(\u001b[22m::Bool, ::Base.Iterators.Pairs{Union{},Union{},Tuple{},NamedTuple{(),Tuple{}}}, ::Function, ::OrderedCollections.OrderedDict{Module,OrderedCollections.OrderedDict{Revise.RelocatableExpr,Union{Nothing, Array{Any,1}}}}\u001b[1m)\u001b[22m at \u001b[1m/home/jingpeng/.julia/packages/Revise/agmgx/src/Revise.jl:352\u001b[22m\n",
      " [11] \u001b[1minstantiate_sigs!\u001b[22m at \u001b[1m/home/jingpeng/.julia/packages/Revise/agmgx/src/Revise.jl:349\u001b[22m [inlined]\n",
      " [12] \u001b[1mmaybe_parse_from_cache!\u001b[22m\u001b[1m(\u001b[22m::Revise.PkgData, ::String\u001b[1m)\u001b[22m at \u001b[1m/home/jingpeng/.julia/packages/Revise/agmgx/src/pkgs.jl:224\u001b[22m\n",
      " [13] \u001b[1m(::getfield(Revise, Symbol(\"##26#27\")){String})\u001b[22m\u001b[1m(\u001b[22m\u001b[1m)\u001b[22m at \u001b[1m/home/jingpeng/.julia/packages/Revise/agmgx/src/pkgs.jl:370\u001b[22m\n",
      " [14] \u001b[1mwith_logstate\u001b[22m\u001b[1m(\u001b[22m::getfield(Revise, Symbol(\"##26#27\")){String}, ::Base.CoreLogging.LogState\u001b[1m)\u001b[22m at \u001b[1m./logging.jl:395\u001b[22m\n",
      " [15] \u001b[1mwith_logger\u001b[22m at \u001b[1m./logging.jl:491\u001b[22m [inlined]\n",
      " [16] \u001b[1mwatch_manifest\u001b[22m\u001b[1m(\u001b[22m::String\u001b[1m)\u001b[22m at \u001b[1m/home/jingpeng/.julia/packages/Revise/agmgx/src/pkgs.jl:349\u001b[22m\n",
      " [17] \u001b[1m(::Revise.Rescheduler{typeof(Revise.watch_manifest),Tuple{String}})\u001b[22m\u001b[1m(\u001b[22m\u001b[1m)\u001b[22m at \u001b[1m/home/jingpeng/.julia/packages/Revise/agmgx/src/types.jl:235\u001b[22m\n",
      "while evaluating\n",
      "Base.reshape(A::AbstractArray, inds::Tuple{OffsetAxis, Vararg{OffsetAxis}}) = begin\n",
      "        #= /usr/opt/julia-1.0.4/local/share/julia/packages/OffsetArrays/ruvC7/src/OffsetArrays.jl:104 =#\n",
      "        OffsetArray(reshape(A, map(indexlength, inds)), map(indexoffset, inds))\n",
      "    end\n",
      "in module Main.OffsetArrays\n",
      "\u001b[91mUndefVarError: OffsetAxis not defined\u001b[39m\n",
      "Stacktrace:\n",
      " [1] \u001b[1m#collect_args#33\u001b[22m\u001b[1m(\u001b[22m::Bool, ::Function, ::JuliaInterpreter.Frame, ::Expr\u001b[1m)\u001b[22m at \u001b[1m/home/jingpeng/.julia/packages/JuliaInterpreter/Or807/src/interpret.jl:64\u001b[22m\n",
      " [2] \u001b[1mcollect_args\u001b[22m at \u001b[1m/home/jingpeng/.julia/packages/JuliaInterpreter/Or807/src/interpret.jl:139\u001b[22m [inlined]\n",
      " [3] \u001b[1mlookup_callexpr\u001b[22m at \u001b[1m/home/jingpeng/.julia/packages/Revise/agmgx/src/lowered.jl:13\u001b[22m [inlined]\n",
      " [4] \u001b[1m#methods_by_execution!#14\u001b[22m\u001b[1m(\u001b[22m::Bool, ::Bool, ::Function, ::Any, ::Revise.CodeTrackingMethodInfo, ::Dict{Module,Array{Expr,1}}, ::JuliaInterpreter.Frame\u001b[1m)\u001b[22m at \u001b[1m/home/jingpeng/.julia/packages/Revise/agmgx/src/lowered.jl:187\u001b[22m\n",
      " [5] \u001b[1m#methods_by_execution!\u001b[22m at \u001b[1m./none:0\u001b[22m [inlined]\n",
      " [6] \u001b[1m#methods_by_execution!#9\u001b[22m\u001b[1m(\u001b[22m::Base.Iterators.Pairs{Symbol,Bool,Tuple{Symbol},NamedTuple{(:define,),Tuple{Bool}}}, ::Function, ::Any, ::Revise.CodeTrackingMethodInfo, ::Dict{Module,Array{Expr,1}}, ::Module, ::Expr\u001b[1m)\u001b[22m at \u001b[1m/home/jingpeng/.julia/packages/Revise/agmgx/src/lowered.jl:49\u001b[22m\n"
     ]
    },
    {
     "name": "stderr",
     "output_type": "stream",
     "text": [
      " [7] \u001b[1m#methods_by_execution!\u001b[22m at \u001b[1m./none:0\u001b[22m [inlined]\n",
      " [8] \u001b[1m#eval_with_signatures#59\u001b[22m at \u001b[1m/home/jingpeng/.julia/packages/Revise/agmgx/src/Revise.jl:344\u001b[22m [inlined]\n",
      " [9] \u001b[1m#eval_with_signatures\u001b[22m at \u001b[1m./none:0\u001b[22m [inlined]\n",
      " [10] \u001b[1m#instantiate_sigs!#60\u001b[22m\u001b[1m(\u001b[22m::Bool, ::Base.Iterators.Pairs{Union{},Union{},Tuple{},NamedTuple{(),Tuple{}}}, ::Function, ::OrderedCollections.OrderedDict{Module,OrderedCollections.OrderedDict{Revise.RelocatableExpr,Union{Nothing, Array{Any,1}}}}\u001b[1m)\u001b[22m at \u001b[1m/home/jingpeng/.julia/packages/Revise/agmgx/src/Revise.jl:352\u001b[22m\n",
      " [11] \u001b[1minstantiate_sigs!\u001b[22m at \u001b[1m/home/jingpeng/.julia/packages/Revise/agmgx/src/Revise.jl:349\u001b[22m [inlined]\n",
      " [12] \u001b[1mmaybe_parse_from_cache!\u001b[22m\u001b[1m(\u001b[22m::Revise.PkgData, ::String\u001b[1m)\u001b[22m at \u001b[1m/home/jingpeng/.julia/packages/Revise/agmgx/src/pkgs.jl:224\u001b[22m\n",
      " [13] \u001b[1m(::getfield(Revise, Symbol(\"##26#27\")){String})\u001b[22m\u001b[1m(\u001b[22m\u001b[1m)\u001b[22m at \u001b[1m/home/jingpeng/.julia/packages/Revise/agmgx/src/pkgs.jl:370\u001b[22m\n",
      " [14] \u001b[1mwith_logstate\u001b[22m\u001b[1m(\u001b[22m::getfield(Revise, Symbol(\"##26#27\")){String}, ::Base.CoreLogging.LogState\u001b[1m)\u001b[22m at \u001b[1m./logging.jl:395\u001b[22m\n",
      " [15] \u001b[1mwith_logger\u001b[22m at \u001b[1m./logging.jl:491\u001b[22m [inlined]\n",
      " [16] \u001b[1mwatch_manifest\u001b[22m\u001b[1m(\u001b[22m::String\u001b[1m)\u001b[22m at \u001b[1m/home/jingpeng/.julia/packages/Revise/agmgx/src/pkgs.jl:349\u001b[22m\n",
      " [17] \u001b[1m(::Revise.Rescheduler{typeof(Revise.watch_manifest),Tuple{String}})\u001b[22m\u001b[1m(\u001b[22m\u001b[1m)\u001b[22m at \u001b[1m/home/jingpeng/.julia/packages/Revise/agmgx/src/types.jl:235\u001b[22m\n",
      "while evaluating\n",
      "Base.reshape(A::OffsetArray, inds::Tuple{OffsetAxis, Vararg{OffsetAxis}}) = begin\n",
      "        #= /usr/opt/julia-1.0.4/local/share/julia/packages/OffsetArrays/ruvC7/src/OffsetArrays.jl:109 =#\n",
      "        OffsetArray(reshape(parent(A), map(indexlength, inds)), map(indexoffset, inds))\n",
      "    end\n",
      "in module Main.OffsetArrays\n",
      "\u001b[91mUndefVarError: OffsetAxis not defined\u001b[39m\n",
      "Stacktrace:\n",
      " [1] \u001b[1m#collect_args#33\u001b[22m\u001b[1m(\u001b[22m::Bool, ::Function, ::JuliaInterpreter.Frame, ::Expr\u001b[1m)\u001b[22m at \u001b[1m/home/jingpeng/.julia/packages/JuliaInterpreter/Or807/src/interpret.jl:64\u001b[22m\n",
      " [2] \u001b[1mcollect_args\u001b[22m at \u001b[1m/home/jingpeng/.julia/packages/JuliaInterpreter/Or807/src/interpret.jl:139\u001b[22m [inlined]\n",
      " [3] \u001b[1mlookup_callexpr\u001b[22m at \u001b[1m/home/jingpeng/.julia/packages/Revise/agmgx/src/lowered.jl:13\u001b[22m [inlined]\n",
      " [4] \u001b[1m#methods_by_execution!#14\u001b[22m\u001b[1m(\u001b[22m::Bool, ::Bool, ::Function, ::Any, ::Revise.CodeTrackingMethodInfo, ::Dict{Module,Array{Expr,1}}, ::JuliaInterpreter.Frame\u001b[1m)\u001b[22m at \u001b[1m/home/jingpeng/.julia/packages/Revise/agmgx/src/lowered.jl:187\u001b[22m\n",
      " [5] \u001b[1m#methods_by_execution!\u001b[22m at \u001b[1m./none:0\u001b[22m [inlined]\n",
      " [6] \u001b[1m#methods_by_execution!#9\u001b[22m\u001b[1m(\u001b[22m::Base.Iterators.Pairs{Symbol,Bool,Tuple{Symbol},NamedTuple{(:define,),Tuple{Bool}}}, ::Function, ::Any, ::Revise.CodeTrackingMethodInfo, ::Dict{Module,Array{Expr,1}}, ::Module, ::Expr\u001b[1m)\u001b[22m at \u001b[1m/home/jingpeng/.julia/packages/Revise/agmgx/src/lowered.jl:49\u001b[22m\n",
      " [7] \u001b[1m#methods_by_execution!\u001b[22m at \u001b[1m./none:0\u001b[22m [inlined]\n",
      " [8] \u001b[1m#eval_with_signatures#59\u001b[22m at \u001b[1m/home/jingpeng/.julia/packages/Revise/agmgx/src/Revise.jl:344\u001b[22m [inlined]\n",
      " [9] \u001b[1m#eval_with_signatures\u001b[22m at \u001b[1m./none:0\u001b[22m [inlined]\n",
      " [10] \u001b[1m#instantiate_sigs!#60\u001b[22m\u001b[1m(\u001b[22m::Bool, ::Base.Iterators.Pairs{Union{},Union{},Tuple{},NamedTuple{(),Tuple{}}}, ::Function, ::OrderedCollections.OrderedDict{Module,OrderedCollections.OrderedDict{Revise.RelocatableExpr,Union{Nothing, Array{Any,1}}}}\u001b[1m)\u001b[22m at \u001b[1m/home/jingpeng/.julia/packages/Revise/agmgx/src/Revise.jl:352\u001b[22m\n",
      " [11] \u001b[1minstantiate_sigs!\u001b[22m at \u001b[1m/home/jingpeng/.julia/packages/Revise/agmgx/src/Revise.jl:349\u001b[22m [inlined]\n",
      " [12] \u001b[1mmaybe_parse_from_cache!\u001b[22m\u001b[1m(\u001b[22m::Revise.PkgData, ::String\u001b[1m)\u001b[22m at \u001b[1m/home/jingpeng/.julia/packages/Revise/agmgx/src/pkgs.jl:224\u001b[22m\n",
      " [13] \u001b[1m(::getfield(Revise, Symbol(\"##26#27\")){String})\u001b[22m\u001b[1m(\u001b[22m\u001b[1m)\u001b[22m at \u001b[1m/home/jingpeng/.julia/packages/Revise/agmgx/src/pkgs.jl:370\u001b[22m\n",
      " [14] \u001b[1mwith_logstate\u001b[22m\u001b[1m(\u001b[22m::getfield(Revise, Symbol(\"##26#27\")){String}, ::Base.CoreLogging.LogState\u001b[1m)\u001b[22m at \u001b[1m./logging.jl:395\u001b[22m\n",
      " [15] \u001b[1mwith_logger\u001b[22m at \u001b[1m./logging.jl:491\u001b[22m [inlined]\n",
      " [16] \u001b[1mwatch_manifest\u001b[22m\u001b[1m(\u001b[22m::String\u001b[1m)\u001b[22m at \u001b[1m/home/jingpeng/.julia/packages/Revise/agmgx/src/pkgs.jl:349\u001b[22m\n",
      " [17] \u001b[1m(::Revise.Rescheduler{typeof(Revise.watch_manifest),Tuple{String}})\u001b[22m\u001b[1m(\u001b[22m\u001b[1m)\u001b[22m at \u001b[1m/home/jingpeng/.julia/packages/Revise/agmgx/src/types.jl:235\u001b[22m\n",
      "while evaluating\n",
      "(Base.similar(::Type{T}, shape::Tuple{OffsetAxis, Vararg{OffsetAxis}}) where T <: AbstractArray) = begin\n",
      "        #= /usr/opt/julia-1.0.4/local/share/julia/packages/OffsetArrays/ruvC7/src/OffsetArrays.jl:115 =#\n",
      "        OffsetArray(T(undef, map(indexlength, shape)), map(indexoffset, shape))\n",
      "    end\n",
      "in module Main.OffsetArrays\n",
      "Revise.LogRecord(Warn, omitting call expression (Core.apply_type)(Main.OffsetArrays.OffsetArray, T, N) in (\"none\", 0), lowered, Revise_c21d3a4d, \"/home/jingpeng/.julia/packages/Revise/agmgx/src/lowered.jl\", 188)Revise.LogRecord(Warn, omitting call expression (Core.apply_type)(Main.OffsetArrays.OffsetArray, T, N) in (\"none\", 0), lowered, Revise_c21d3a4d, \"/home/jingpeng/.julia/packages/Revise/agmgx/src/lowered.jl\", 188)Revise.LogRecord(Warn, omitting call expression (Core.apply_type)(Main.OffsetArrays.OffsetArray, T, 1, #s65<:AbstractRange{T}) in (\"none\", 0), lowered, Revise_c21d3a4d, \"/home/jingpeng/.julia/packages/Revise/agmgx/src/lowered.jl\", 188)Revise.LogRecord(Warn, omitting call expression (UnionAll)(#s65<:AbstractRange{T}, nothing) in (\"none\", 0), lowered, Revise_c21d3a4d, \"/home/jingpeng/.julia/packages/Revise/agmgx/src/lowered.jl\", 188)\u001b[91mexpected return statement, got ($(QuoteNode(UnionAll)))(JuliaInterpreter.SSAValue(4), JuliaInterpreter.SSAValue(9))\u001b[39m\n",
      "Stacktrace:\n",
      " [1] \u001b[1merror\u001b[22m\u001b[1m(\u001b[22m::String, ::Expr\u001b[1m)\u001b[22m at \u001b[1m./error.jl:42\u001b[22m\n",
      " [2] \u001b[1mget_return\u001b[22m\u001b[1m(\u001b[22m::JuliaInterpreter.Frame\u001b[1m)\u001b[22m at \u001b[1m/home/jingpeng/.julia/packages/JuliaInterpreter/Or807/src/interpret.jl:607\u001b[22m\n",
      " [3] \u001b[1m#methods_by_execution!#14\u001b[22m\u001b[1m(\u001b[22m::Bool, ::Bool, ::Function, ::Any, ::Revise.CodeTrackingMethodInfo, ::Dict{Module,Array{Expr,1}}, ::JuliaInterpreter.Frame\u001b[1m)\u001b[22m at \u001b[1m/home/jingpeng/.julia/packages/Revise/agmgx/src/lowered.jl:204\u001b[22m\n",
      " [4] \u001b[1m#methods_by_execution!\u001b[22m at \u001b[1m./none:0\u001b[22m [inlined]\n",
      " [5] \u001b[1m#methods_by_execution!#9\u001b[22m\u001b[1m(\u001b[22m::Base.Iterators.Pairs{Symbol,Bool,Tuple{Symbol},NamedTuple{(:define,),Tuple{Bool}}}, ::Function, ::Any, ::Revise.CodeTrackingMethodInfo, ::Dict{Module,Array{Expr,1}}, ::Module, ::Expr\u001b[1m)\u001b[22m at \u001b[1m/home/jingpeng/.julia/packages/Revise/agmgx/src/lowered.jl:49\u001b[22m\n",
      " [6] \u001b[1m#methods_by_execution!\u001b[22m at \u001b[1m./none:0\u001b[22m [inlined]\n",
      " [7] \u001b[1m#eval_with_signatures#59\u001b[22m at \u001b[1m/home/jingpeng/.julia/packages/Revise/agmgx/src/Revise.jl:344\u001b[22m [inlined]\n",
      " [8] \u001b[1m#eval_with_signatures\u001b[22m at \u001b[1m./none:0\u001b[22m [inlined]\n",
      " [9] \u001b[1m#instantiate_sigs!#60\u001b[22m\u001b[1m(\u001b[22m::Bool, ::Base.Iterators.Pairs{Union{},Union{},Tuple{},NamedTuple{(),Tuple{}}}, ::Function, ::OrderedCollections.OrderedDict{Module,OrderedCollections.OrderedDict{Revise.RelocatableExpr,Union{Nothing, Array{Any,1}}}}\u001b[1m)\u001b[22m at \u001b[1m/home/jingpeng/.julia/packages/Revise/agmgx/src/Revise.jl:352\u001b[22m\n",
      " [10] \u001b[1minstantiate_sigs!\u001b[22m at \u001b[1m/home/jingpeng/.julia/packages/Revise/agmgx/src/Revise.jl:349\u001b[22m [inlined]\n",
      " [11] \u001b[1mmaybe_parse_from_cache!\u001b[22m\u001b[1m(\u001b[22m::Revise.PkgData, ::String\u001b[1m)\u001b[22m at \u001b[1m/home/jingpeng/.julia/packages/Revise/agmgx/src/pkgs.jl:224\u001b[22m\n",
      " [12] \u001b[1m(::getfield(Revise, Symbol(\"##26#27\")){String})\u001b[22m\u001b[1m(\u001b[22m\u001b[1m)\u001b[22m at \u001b[1m/home/jingpeng/.julia/packages/Revise/agmgx/src/pkgs.jl:370\u001b[22m\n",
      " [13] \u001b[1mwith_logstate\u001b[22m\u001b[1m(\u001b[22m::getfield(Revise, Symbol(\"##26#27\")){String}, ::Base.CoreLogging.LogState\u001b[1m)\u001b[22m at \u001b[1m./logging.jl:395\u001b[22m\n",
      " [14] \u001b[1mwith_logger\u001b[22m at \u001b[1m./logging.jl:491\u001b[22m [inlined]\n",
      " [15] \u001b[1mwatch_manifest\u001b[22m\u001b[1m(\u001b[22m::String\u001b[1m)\u001b[22m at \u001b[1m/home/jingpeng/.julia/packages/Revise/agmgx/src/pkgs.jl:349\u001b[22m\n",
      " [16] \u001b[1m(::Revise.Rescheduler{typeof(Revise.watch_manifest),Tuple{String}})\u001b[22m\u001b[1m(\u001b[22m\u001b[1m)\u001b[22m at \u001b[1m/home/jingpeng/.julia/packages/Revise/agmgx/src/types.jl:235\u001b[22m\n",
      "while evaluating\n",
      "const OffsetRange{T} = OffsetArray{T, 1, <:AbstractRange{T}}\n",
      "in module Main.OffsetArrays\n",
      "\u001b[91mUndefVarError: IdentityUnitRange not defined\u001b[39m\n",
      "Stacktrace:\n",
      " [1] \u001b[1m#collect_args#33\u001b[22m\u001b[1m(\u001b[22m::Bool, ::Function, ::JuliaInterpreter.Frame, ::Expr\u001b[1m)\u001b[22m at \u001b[1m/home/jingpeng/.julia/packages/JuliaInterpreter/Or807/src/interpret.jl:64\u001b[22m\n",
      " [2] \u001b[1mcollect_args\u001b[22m at \u001b[1m/home/jingpeng/.julia/packages/JuliaInterpreter/Or807/src/interpret.jl:139\u001b[22m [inlined]\n",
      " [3] \u001b[1mlookup_callexpr\u001b[22m at \u001b[1m/home/jingpeng/.julia/packages/Revise/agmgx/src/lowered.jl:13\u001b[22m [inlined]\n",
      " [4] \u001b[1m#methods_by_execution!#14\u001b[22m\u001b[1m(\u001b[22m::Bool, ::Bool, ::Function, ::Any, ::Revise.CodeTrackingMethodInfo, ::Dict{Module,Array{Expr,1}}, ::JuliaInterpreter.Frame\u001b[1m)\u001b[22m at \u001b[1m/home/jingpeng/.julia/packages/Revise/agmgx/src/lowered.jl:187\u001b[22m\n",
      " [5] \u001b[1m#methods_by_execution!\u001b[22m at \u001b[1m./none:0\u001b[22m [inlined]\n",
      " [6] \u001b[1m#methods_by_execution!#9\u001b[22m\u001b[1m(\u001b[22m::Base.Iterators.Pairs{Symbol,Bool,Tuple{Symbol},NamedTuple{(:define,),Tuple{Bool}}}, ::Function, ::Any, ::Revise.CodeTrackingMethodInfo, ::Dict{Module,Array{Expr,1}}, ::Module, ::Expr\u001b[1m)\u001b[22m at \u001b[1m/home/jingpeng/.julia/packages/Revise/agmgx/src/lowered.jl:49\u001b[22m\n",
      " [7] \u001b[1m#methods_by_execution!\u001b[22m at \u001b[1m./none:0\u001b[22m [inlined]\n",
      " [8] \u001b[1m#eval_with_signatures#59\u001b[22m at \u001b[1m/home/jingpeng/.julia/packages/Revise/agmgx/src/Revise.jl:344\u001b[22m [inlined]\n",
      " [9] \u001b[1m#eval_with_signatures\u001b[22m at \u001b[1m./none:0\u001b[22m [inlined]\n",
      " [10] \u001b[1m#instantiate_sigs!#60\u001b[22m\u001b[1m(\u001b[22m::Bool, ::Base.Iterators.Pairs{Union{},Union{},Tuple{},NamedTuple{(),Tuple{}}}, ::Function, ::OrderedCollections.OrderedDict{Module,OrderedCollections.OrderedDict{Revise.RelocatableExpr,Union{Nothing, Array{Any,1}}}}\u001b[1m)\u001b[22m at \u001b[1m/home/jingpeng/.julia/packages/Revise/agmgx/src/Revise.jl:352\u001b[22m\n",
      " [11] \u001b[1minstantiate_sigs!\u001b[22m at \u001b[1m/home/jingpeng/.julia/packages/Revise/agmgx/src/Revise.jl:349\u001b[22m [inlined]\n",
      " [12] \u001b[1mmaybe_parse_from_cache!\u001b[22m\u001b[1m(\u001b[22m::Revise.PkgData, ::String\u001b[1m)\u001b[22m at \u001b[1m/home/jingpeng/.julia/packages/Revise/agmgx/src/pkgs.jl:224\u001b[22m\n",
      " [13] \u001b[1m(::getfield(Revise, Symbol(\"##26#27\")){String})\u001b[22m\u001b[1m(\u001b[22m\u001b[1m)\u001b[22m at \u001b[1m/home/jingpeng/.julia/packages/Revise/agmgx/src/pkgs.jl:370\u001b[22m\n",
      " [14] \u001b[1mwith_logstate\u001b[22m\u001b[1m(\u001b[22m::getfield(Revise, Symbol(\"##26#27\")){String}, ::Base.CoreLogging.LogState\u001b[1m)\u001b[22m at \u001b[1m./logging.jl:395\u001b[22m\n",
      " [15] \u001b[1mwith_logger\u001b[22m at \u001b[1m./logging.jl:491\u001b[22m [inlined]\n",
      " [16] \u001b[1mwatch_manifest\u001b[22m\u001b[1m(\u001b[22m::String\u001b[1m)\u001b[22m at \u001b[1m/home/jingpeng/.julia/packages/Revise/agmgx/src/pkgs.jl:349\u001b[22m\n",
      " [17] \u001b[1m(::Revise.Rescheduler{typeof(Revise.watch_manifest),Tuple{String}})\u001b[22m\u001b[1m(\u001b[22m\u001b[1m)\u001b[22m at \u001b[1m/home/jingpeng/.julia/packages/Revise/agmgx/src/types.jl:235\u001b[22m\n",
      "while evaluating\n",
      "const IIUR = ((IdentityUnitRange{S} where S <: AbstractUnitRange{T}) where T <: Integer)\n",
      "in module Main.OffsetArrays\n",
      "\u001b[91mUndefVarError: OffsetRange not defined\u001b[39m\n",
      "Stacktrace:\n",
      " [1] \u001b[1m#collect_args#33\u001b[22m\u001b[1m(\u001b[22m::Bool, ::Function, ::JuliaInterpreter.Frame, ::Expr\u001b[1m)\u001b[22m at \u001b[1m/home/jingpeng/.julia/packages/JuliaInterpreter/Or807/src/interpret.jl:64\u001b[22m\n",
      " [2] \u001b[1mcollect_args\u001b[22m at \u001b[1m/home/jingpeng/.julia/packages/JuliaInterpreter/Or807/src/interpret.jl:139\u001b[22m [inlined]\n",
      " [3] \u001b[1mlookup_callexpr\u001b[22m at \u001b[1m/home/jingpeng/.julia/packages/Revise/agmgx/src/lowered.jl:13\u001b[22m [inlined]\n",
      " [4] \u001b[1m#methods_by_execution!#14\u001b[22m\u001b[1m(\u001b[22m::Bool, ::Bool, ::Function, ::Any, ::Revise.CodeTrackingMethodInfo, ::Dict{Module,Array{Expr,1}}, ::JuliaInterpreter.Frame\u001b[1m)\u001b[22m at \u001b[1m/home/jingpeng/.julia/packages/Revise/agmgx/src/lowered.jl:187\u001b[22m\n",
      " [5] \u001b[1m#methods_by_execution!\u001b[22m at \u001b[1m./none:0\u001b[22m [inlined]\n",
      " [6] \u001b[1m#methods_by_execution!#9\u001b[22m\u001b[1m(\u001b[22m::Base.Iterators.Pairs{Symbol,Bool,Tuple{Symbol},NamedTuple{(:define,),Tuple{Bool}}}, ::Function, ::Any, ::Revise.CodeTrackingMethodInfo, ::Dict{Module,Array{Expr,1}}, ::Module, ::Expr\u001b[1m)\u001b[22m at \u001b[1m/home/jingpeng/.julia/packages/Revise/agmgx/src/lowered.jl:49\u001b[22m\n",
      " [7] \u001b[1m#methods_by_execution!\u001b[22m at \u001b[1m./none:0\u001b[22m [inlined]\n",
      " [8] \u001b[1m#eval_with_signatures#59\u001b[22m at \u001b[1m/home/jingpeng/.julia/packages/Revise/agmgx/src/Revise.jl:344\u001b[22m [inlined]\n",
      " [9] \u001b[1m#eval_with_signatures\u001b[22m at \u001b[1m./none:0\u001b[22m [inlined]\n",
      " [10] \u001b[1m#instantiate_sigs!#60\u001b[22m\u001b[1m(\u001b[22m::Bool, ::Base.Iterators.Pairs{Union{},Union{},Tuple{},NamedTuple{(),Tuple{}}}, ::Function, ::OrderedCollections.OrderedDict{Module,OrderedCollections.OrderedDict{Revise.RelocatableExpr,Union{Nothing, Array{Any,1}}}}\u001b[1m)\u001b[22m at \u001b[1m/home/jingpeng/.julia/packages/Revise/agmgx/src/Revise.jl:352\u001b[22m\n",
      " [11] \u001b[1minstantiate_sigs!\u001b[22m at \u001b[1m/home/jingpeng/.julia/packages/Revise/agmgx/src/Revise.jl:349\u001b[22m [inlined]\n",
      " [12] \u001b[1mmaybe_parse_from_cache!\u001b[22m\u001b[1m(\u001b[22m::Revise.PkgData, ::String\u001b[1m)\u001b[22m at \u001b[1m/home/jingpeng/.julia/packages/Revise/agmgx/src/pkgs.jl:224\u001b[22m\n",
      " [13] \u001b[1m(::getfield(Revise, Symbol(\"##26#27\")){String})\u001b[22m\u001b[1m(\u001b[22m\u001b[1m)\u001b[22m at \u001b[1m/home/jingpeng/.julia/packages/Revise/agmgx/src/pkgs.jl:370\u001b[22m\n",
      " [14] \u001b[1mwith_logstate\u001b[22m\u001b[1m(\u001b[22m::getfield(Revise, Symbol(\"##26#27\")){String}, ::Base.CoreLogging.LogState\u001b[1m)\u001b[22m at \u001b[1m./logging.jl:395\u001b[22m\n",
      " [15] \u001b[1mwith_logger\u001b[22m at \u001b[1m./logging.jl:491\u001b[22m [inlined]\n",
      " [16] \u001b[1mwatch_manifest\u001b[22m\u001b[1m(\u001b[22m::String\u001b[1m)\u001b[22m at \u001b[1m/home/jingpeng/.julia/packages/Revise/agmgx/src/pkgs.jl:349\u001b[22m\n",
      " [17] \u001b[1m(::Revise.Rescheduler{typeof(Revise.watch_manifest),Tuple{String}})\u001b[22m\u001b[1m(\u001b[22m\u001b[1m)\u001b[22m at \u001b[1m/home/jingpeng/.julia/packages/Revise/agmgx/src/types.jl:235\u001b[22m\n",
      "while evaluating\n",
      "Base.step(a::OffsetRange) = begin\n",
      "        #= /usr/opt/julia-1.0.4/local/share/julia/packages/OffsetArrays/ruvC7/src/OffsetArrays.jl:165 =#\n",
      "        step(parent(a))\n",
      "    end\n",
      "in module Main.OffsetArrays\n"
     ]
    },
    {
     "name": "stderr",
     "output_type": "stream",
     "text": [
      "\u001b[91mUndefVarError: OffsetRange not defined\u001b[39m\n",
      "Stacktrace:\n",
      " [1] \u001b[1m#collect_args#33\u001b[22m\u001b[1m(\u001b[22m::Bool, ::Function, ::JuliaInterpreter.Frame, ::Expr\u001b[1m)\u001b[22m at \u001b[1m/home/jingpeng/.julia/packages/JuliaInterpreter/Or807/src/interpret.jl:64\u001b[22m\n",
      " [2] \u001b[1mcollect_args\u001b[22m at \u001b[1m/home/jingpeng/.julia/packages/JuliaInterpreter/Or807/src/interpret.jl:139\u001b[22m [inlined]\n",
      " [3] \u001b[1mlookup_callexpr\u001b[22m at \u001b[1m/home/jingpeng/.julia/packages/Revise/agmgx/src/lowered.jl:13\u001b[22m [inlined]\n",
      " [4] \u001b[1m#methods_by_execution!#14\u001b[22m\u001b[1m(\u001b[22m::Bool, ::Bool, ::Function, ::Any, ::Revise.CodeTrackingMethodInfo, ::Dict{Module,Array{Expr,1}}, ::JuliaInterpreter.Frame\u001b[1m)\u001b[22m at \u001b[1m/home/jingpeng/.julia/packages/Revise/agmgx/src/lowered.jl:187\u001b[22m\n",
      " [5] \u001b[1m#methods_by_execution!\u001b[22m at \u001b[1m./none:0\u001b[22m [inlined]\n",
      " [6] \u001b[1m#methods_by_execution!#9\u001b[22m\u001b[1m(\u001b[22m::Base.Iterators.Pairs{Symbol,Bool,Tuple{Symbol},NamedTuple{(:define,),Tuple{Bool}}}, ::Function, ::Any, ::Revise.CodeTrackingMethodInfo, ::Dict{Module,Array{Expr,1}}, ::Module, ::Expr\u001b[1m)\u001b[22m at \u001b[1m/home/jingpeng/.julia/packages/Revise/agmgx/src/lowered.jl:49\u001b[22m\n",
      " [7] \u001b[1m#methods_by_execution!\u001b[22m at \u001b[1m./none:0\u001b[22m [inlined]\n",
      " [8] \u001b[1m#eval_with_signatures#59\u001b[22m at \u001b[1m/home/jingpeng/.julia/packages/Revise/agmgx/src/Revise.jl:344\u001b[22m [inlined]\n",
      " [9] \u001b[1m#eval_with_signatures\u001b[22m at \u001b[1m./none:0\u001b[22m [inlined]\n",
      " [10] \u001b[1m#instantiate_sigs!#60\u001b[22m\u001b[1m(\u001b[22m::Bool, ::Base.Iterators.Pairs{Union{},Union{},Tuple{},NamedTuple{(),Tuple{}}}, ::Function, ::OrderedCollections.OrderedDict{Module,OrderedCollections.OrderedDict{Revise.RelocatableExpr,Union{Nothing, Array{Any,1}}}}\u001b[1m)\u001b[22m at \u001b[1m/home/jingpeng/.julia/packages/Revise/agmgx/src/Revise.jl:352\u001b[22m\n",
      " [11] \u001b[1minstantiate_sigs!\u001b[22m at \u001b[1m/home/jingpeng/.julia/packages/Revise/agmgx/src/Revise.jl:349\u001b[22m [inlined]\n",
      " [12] \u001b[1mmaybe_parse_from_cache!\u001b[22m\u001b[1m(\u001b[22m::Revise.PkgData, ::String\u001b[1m)\u001b[22m at \u001b[1m/home/jingpeng/.julia/packages/Revise/agmgx/src/pkgs.jl:224\u001b[22m\n",
      " [13] \u001b[1m(::getfield(Revise, Symbol(\"##26#27\")){String})\u001b[22m\u001b[1m(\u001b[22m\u001b[1m)\u001b[22m at \u001b[1m/home/jingpeng/.julia/packages/Revise/agmgx/src/pkgs.jl:370\u001b[22m\n",
      " [14] \u001b[1mwith_logstate\u001b[22m\u001b[1m(\u001b[22m::getfield(Revise, Symbol(\"##26#27\")){String}, ::Base.CoreLogging.LogState\u001b[1m)\u001b[22m at \u001b[1m./logging.jl:395\u001b[22m\n",
      " [15] \u001b[1mwith_logger\u001b[22m at \u001b[1m./logging.jl:491\u001b[22m [inlined]\n",
      " [16] \u001b[1mwatch_manifest\u001b[22m\u001b[1m(\u001b[22m::String\u001b[1m)\u001b[22m at \u001b[1m/home/jingpeng/.julia/packages/Revise/agmgx/src/pkgs.jl:349\u001b[22m\n",
      " [17] \u001b[1m(::Revise.Rescheduler{typeof(Revise.watch_manifest),Tuple{String}})\u001b[22m\u001b[1m(\u001b[22m\u001b[1m)\u001b[22m at \u001b[1m/home/jingpeng/.julia/packages/Revise/agmgx/src/types.jl:235\u001b[22m\n",
      "while evaluating\n",
      "Base.getindex(a::OffsetRange, r::OffsetRange) = begin\n",
      "        #= /usr/opt/julia-1.0.4/local/share/julia/packages/OffsetArrays/ruvC7/src/OffsetArrays.jl:167 =#\n",
      "        OffsetArray(a[parent(r)], r.offsets)\n",
      "    end\n",
      "in module Main.OffsetArrays\n",
      "\u001b[91mUndefVarError: OffsetRange not defined\u001b[39m\n",
      "Stacktrace:\n",
      " [1] \u001b[1m#collect_args#33\u001b[22m\u001b[1m(\u001b[22m::Bool, ::Function, ::JuliaInterpreter.Frame, ::Expr\u001b[1m)\u001b[22m at \u001b[1m/home/jingpeng/.julia/packages/JuliaInterpreter/Or807/src/interpret.jl:64\u001b[22m\n",
      " [2] \u001b[1mcollect_args\u001b[22m at \u001b[1m/home/jingpeng/.julia/packages/JuliaInterpreter/Or807/src/interpret.jl:139\u001b[22m [inlined]\n",
      " [3] \u001b[1mlookup_callexpr\u001b[22m at \u001b[1m/home/jingpeng/.julia/packages/Revise/agmgx/src/lowered.jl:13\u001b[22m [inlined]\n",
      " [4] \u001b[1m#methods_by_execution!#14\u001b[22m\u001b[1m(\u001b[22m::Bool, ::Bool, ::Function, ::Any, ::Revise.CodeTrackingMethodInfo, ::Dict{Module,Array{Expr,1}}, ::JuliaInterpreter.Frame\u001b[1m)\u001b[22m at \u001b[1m/home/jingpeng/.julia/packages/Revise/agmgx/src/lowered.jl:187\u001b[22m\n",
      " [5] \u001b[1m#methods_by_execution!\u001b[22m at \u001b[1m./none:0\u001b[22m [inlined]\n",
      " [6] \u001b[1m#methods_by_execution!#9\u001b[22m\u001b[1m(\u001b[22m::Base.Iterators.Pairs{Symbol,Bool,Tuple{Symbol},NamedTuple{(:define,),Tuple{Bool}}}, ::Function, ::Any, ::Revise.CodeTrackingMethodInfo, ::Dict{Module,Array{Expr,1}}, ::Module, ::Expr\u001b[1m)\u001b[22m at \u001b[1m/home/jingpeng/.julia/packages/Revise/agmgx/src/lowered.jl:49\u001b[22m\n",
      " [7] \u001b[1m#methods_by_execution!\u001b[22m at \u001b[1m./none:0\u001b[22m [inlined]\n",
      " [8] \u001b[1m#eval_with_signatures#59\u001b[22m at \u001b[1m/home/jingpeng/.julia/packages/Revise/agmgx/src/Revise.jl:344\u001b[22m [inlined]\n",
      " [9] \u001b[1m#eval_with_signatures\u001b[22m at \u001b[1m./none:0\u001b[22m [inlined]\n",
      " [10] \u001b[1m#instantiate_sigs!#60\u001b[22m\u001b[1m(\u001b[22m::Bool, ::Base.Iterators.Pairs{Union{},Union{},Tuple{},NamedTuple{(),Tuple{}}}, ::Function, ::OrderedCollections.OrderedDict{Module,OrderedCollections.OrderedDict{Revise.RelocatableExpr,Union{Nothing, Array{Any,1}}}}\u001b[1m)\u001b[22m at \u001b[1m/home/jingpeng/.julia/packages/Revise/agmgx/src/Revise.jl:352\u001b[22m\n",
      " [11] \u001b[1minstantiate_sigs!\u001b[22m at \u001b[1m/home/jingpeng/.julia/packages/Revise/agmgx/src/Revise.jl:349\u001b[22m [inlined]\n",
      " [12] \u001b[1mmaybe_parse_from_cache!\u001b[22m\u001b[1m(\u001b[22m::Revise.PkgData, ::String\u001b[1m)\u001b[22m at \u001b[1m/home/jingpeng/.julia/packages/Revise/agmgx/src/pkgs.jl:224\u001b[22m\n",
      " [13] \u001b[1m(::getfield(Revise, Symbol(\"##26#27\")){String})\u001b[22m\u001b[1m(\u001b[22m\u001b[1m)\u001b[22m at \u001b[1m/home/jingpeng/.julia/packages/Revise/agmgx/src/pkgs.jl:370\u001b[22m\n",
      " [14] \u001b[1mwith_logstate\u001b[22m\u001b[1m(\u001b[22m::getfield(Revise, Symbol(\"##26#27\")){String}, ::Base.CoreLogging.LogState\u001b[1m)\u001b[22m at \u001b[1m./logging.jl:395\u001b[22m\n",
      " [15] \u001b[1mwith_logger\u001b[22m at \u001b[1m./logging.jl:491\u001b[22m [inlined]\n",
      " [16] \u001b[1mwatch_manifest\u001b[22m\u001b[1m(\u001b[22m::String\u001b[1m)\u001b[22m at \u001b[1m/home/jingpeng/.julia/packages/Revise/agmgx/src/pkgs.jl:349\u001b[22m\n",
      " [17] \u001b[1m(::Revise.Rescheduler{typeof(Revise.watch_manifest),Tuple{String}})\u001b[22m\u001b[1m(\u001b[22m\u001b[1m)\u001b[22m at \u001b[1m/home/jingpeng/.julia/packages/Revise/agmgx/src/types.jl:235\u001b[22m\n",
      "while evaluating\n",
      "Base.getindex(a::OffsetRange, r::AbstractRange) = begin\n",
      "        #= /usr/opt/julia-1.0.4/local/share/julia/packages/OffsetArrays/ruvC7/src/OffsetArrays.jl:168 =#\n",
      "        a.parent[r .- a.offsets[1]]\n",
      "    end\n",
      "in module Main.OffsetArrays\n",
      "\u001b[91mUndefVarError: OffsetRange not defined\u001b[39m\n",
      "Stacktrace:\n",
      " [1] \u001b[1m#collect_args#33\u001b[22m\u001b[1m(\u001b[22m::Bool, ::Function, ::JuliaInterpreter.Frame, ::Expr\u001b[1m)\u001b[22m at \u001b[1m/home/jingpeng/.julia/packages/JuliaInterpreter/Or807/src/interpret.jl:64\u001b[22m\n",
      " [2] \u001b[1mcollect_args\u001b[22m at \u001b[1m/home/jingpeng/.julia/packages/JuliaInterpreter/Or807/src/interpret.jl:139\u001b[22m [inlined]\n",
      " [3] \u001b[1mlookup_callexpr\u001b[22m at \u001b[1m/home/jingpeng/.julia/packages/Revise/agmgx/src/lowered.jl:13\u001b[22m [inlined]\n",
      " [4] \u001b[1m#methods_by_execution!#14\u001b[22m\u001b[1m(\u001b[22m::Bool, ::Bool, ::Function, ::Any, ::Revise.CodeTrackingMethodInfo, ::Dict{Module,Array{Expr,1}}, ::JuliaInterpreter.Frame\u001b[1m)\u001b[22m at \u001b[1m/home/jingpeng/.julia/packages/Revise/agmgx/src/lowered.jl:187\u001b[22m\n",
      " [5] \u001b[1m#methods_by_execution!\u001b[22m at \u001b[1m./none:0\u001b[22m [inlined]\n",
      " [6] \u001b[1m#methods_by_execution!#9\u001b[22m\u001b[1m(\u001b[22m::Base.Iterators.Pairs{Symbol,Bool,Tuple{Symbol},NamedTuple{(:define,),Tuple{Bool}}}, ::Function, ::Any, ::Revise.CodeTrackingMethodInfo, ::Dict{Module,Array{Expr,1}}, ::Module, ::Expr\u001b[1m)\u001b[22m at \u001b[1m/home/jingpeng/.julia/packages/Revise/agmgx/src/lowered.jl:49\u001b[22m\n",
      " [7] \u001b[1m#methods_by_execution!\u001b[22m at \u001b[1m./none:0\u001b[22m [inlined]\n",
      " [8] \u001b[1m#eval_with_signatures#59\u001b[22m at \u001b[1m/home/jingpeng/.julia/packages/Revise/agmgx/src/Revise.jl:344\u001b[22m [inlined]\n",
      " [9] \u001b[1m#eval_with_signatures\u001b[22m at \u001b[1m./none:0\u001b[22m [inlined]\n",
      " [10] \u001b[1m#instantiate_sigs!#60\u001b[22m\u001b[1m(\u001b[22m::Bool, ::Base.Iterators.Pairs{Union{},Union{},Tuple{},NamedTuple{(),Tuple{}}}, ::Function, ::OrderedCollections.OrderedDict{Module,OrderedCollections.OrderedDict{Revise.RelocatableExpr,Union{Nothing, Array{Any,1}}}}\u001b[1m)\u001b[22m at \u001b[1m/home/jingpeng/.julia/packages/Revise/agmgx/src/Revise.jl:352\u001b[22m\n",
      " [11] \u001b[1minstantiate_sigs!\u001b[22m at \u001b[1m/home/jingpeng/.julia/packages/Revise/agmgx/src/Revise.jl:349\u001b[22m [inlined]\n",
      " [12] \u001b[1mmaybe_parse_from_cache!\u001b[22m\u001b[1m(\u001b[22m::Revise.PkgData, ::String\u001b[1m)\u001b[22m at \u001b[1m/home/jingpeng/.julia/packages/Revise/agmgx/src/pkgs.jl:224\u001b[22m\n",
      " [13] \u001b[1m(::getfield(Revise, Symbol(\"##26#27\")){String})\u001b[22m\u001b[1m(\u001b[22m\u001b[1m)\u001b[22m at \u001b[1m/home/jingpeng/.julia/packages/Revise/agmgx/src/pkgs.jl:370\u001b[22m\n",
      " [14] \u001b[1mwith_logstate\u001b[22m\u001b[1m(\u001b[22m::getfield(Revise, Symbol(\"##26#27\")){String}, ::Base.CoreLogging.LogState\u001b[1m)\u001b[22m at \u001b[1m./logging.jl:395\u001b[22m\n",
      " [15] \u001b[1mwith_logger\u001b[22m at \u001b[1m./logging.jl:491\u001b[22m [inlined]\n",
      " [16] \u001b[1mwatch_manifest\u001b[22m\u001b[1m(\u001b[22m::String\u001b[1m)\u001b[22m at \u001b[1m/home/jingpeng/.julia/packages/Revise/agmgx/src/pkgs.jl:349\u001b[22m\n",
      " [17] \u001b[1m(::Revise.Rescheduler{typeof(Revise.watch_manifest),Tuple{String}})\u001b[22m\u001b[1m(\u001b[22m\u001b[1m)\u001b[22m at \u001b[1m/home/jingpeng/.julia/packages/Revise/agmgx/src/types.jl:235\u001b[22m\n",
      "while evaluating\n",
      "Base.getindex(a::AbstractRange, r::OffsetRange) = begin\n",
      "        #= /usr/opt/julia-1.0.4/local/share/julia/packages/OffsetArrays/ruvC7/src/OffsetArrays.jl:169 =#\n",
      "        OffsetArray(a[parent(r)], r.offsets)\n",
      "    end\n",
      "in module Main.OffsetArrays\n",
      "\u001b[91mUndefVarError: IIUR not defined\u001b[39m\n",
      "Stacktrace:\n",
      " [1] \u001b[1m#collect_args#33\u001b[22m\u001b[1m(\u001b[22m::Bool, ::Function, ::JuliaInterpreter.Frame, ::Expr\u001b[1m)\u001b[22m at \u001b[1m/home/jingpeng/.julia/packages/JuliaInterpreter/Or807/src/interpret.jl:64\u001b[22m\n",
      " [2] \u001b[1mcollect_args\u001b[22m at \u001b[1m/home/jingpeng/.julia/packages/JuliaInterpreter/Or807/src/interpret.jl:139\u001b[22m [inlined]\n",
      " [3] \u001b[1mlookup_callexpr\u001b[22m at \u001b[1m/home/jingpeng/.julia/packages/Revise/agmgx/src/lowered.jl:13\u001b[22m [inlined]\n",
      " [4] \u001b[1m#methods_by_execution!#14\u001b[22m\u001b[1m(\u001b[22m::Bool, ::Bool, ::Function, ::Any, ::Revise.CodeTrackingMethodInfo, ::Dict{Module,Array{Expr,1}}, ::JuliaInterpreter.Frame\u001b[1m)\u001b[22m at \u001b[1m/home/jingpeng/.julia/packages/Revise/agmgx/src/lowered.jl:187\u001b[22m\n",
      " [5] \u001b[1m#methods_by_execution!\u001b[22m at \u001b[1m./none:0\u001b[22m [inlined]\n",
      " [6] \u001b[1m#methods_by_execution!#9\u001b[22m\u001b[1m(\u001b[22m::Base.Iterators.Pairs{Symbol,Bool,Tuple{Symbol},NamedTuple{(:define,),Tuple{Bool}}}, ::Function, ::Any, ::Revise.CodeTrackingMethodInfo, ::Dict{Module,Array{Expr,1}}, ::Module, ::Expr\u001b[1m)\u001b[22m at \u001b[1m/home/jingpeng/.julia/packages/Revise/agmgx/src/lowered.jl:49\u001b[22m\n",
      " [7] \u001b[1m#methods_by_execution!\u001b[22m at \u001b[1m./none:0\u001b[22m [inlined]\n",
      " [8] \u001b[1m#eval_with_signatures#59\u001b[22m at \u001b[1m/home/jingpeng/.julia/packages/Revise/agmgx/src/Revise.jl:344\u001b[22m [inlined]\n",
      " [9] \u001b[1m#eval_with_signatures\u001b[22m at \u001b[1m./none:0\u001b[22m [inlined]\n"
     ]
    },
    {
     "name": "stderr",
     "output_type": "stream",
     "text": [
      " [10] \u001b[1m#instantiate_sigs!#60\u001b[22m\u001b[1m(\u001b[22m::Bool, ::Base.Iterators.Pairs{Union{},Union{},Tuple{},NamedTuple{(),Tuple{}}}, ::Function, ::OrderedCollections.OrderedDict{Module,OrderedCollections.OrderedDict{Revise.RelocatableExpr,Union{Nothing, Array{Any,1}}}}\u001b[1m)\u001b[22m at \u001b[1m/home/jingpeng/.julia/packages/Revise/agmgx/src/Revise.jl:352\u001b[22m\n",
      " [11] \u001b[1minstantiate_sigs!\u001b[22m at \u001b[1m/home/jingpeng/.julia/packages/Revise/agmgx/src/Revise.jl:349\u001b[22m [inlined]\n",
      " [12] \u001b[1mmaybe_parse_from_cache!\u001b[22m\u001b[1m(\u001b[22m::Revise.PkgData, ::String\u001b[1m)\u001b[22m at \u001b[1m/home/jingpeng/.julia/packages/Revise/agmgx/src/pkgs.jl:224\u001b[22m\n",
      " [13] \u001b[1m(::getfield(Revise, Symbol(\"##26#27\")){String})\u001b[22m\u001b[1m(\u001b[22m\u001b[1m)\u001b[22m at \u001b[1m/home/jingpeng/.julia/packages/Revise/agmgx/src/pkgs.jl:370\u001b[22m\n",
      " [14] \u001b[1mwith_logstate\u001b[22m\u001b[1m(\u001b[22m::getfield(Revise, Symbol(\"##26#27\")){String}, ::Base.CoreLogging.LogState\u001b[1m)\u001b[22m at \u001b[1m./logging.jl:395\u001b[22m\n",
      " [15] \u001b[1mwith_logger\u001b[22m at \u001b[1m./logging.jl:491\u001b[22m [inlined]\n",
      " [16] \u001b[1mwatch_manifest\u001b[22m\u001b[1m(\u001b[22m::String\u001b[1m)\u001b[22m at \u001b[1m/home/jingpeng/.julia/packages/Revise/agmgx/src/pkgs.jl:349\u001b[22m\n",
      " [17] \u001b[1m(::Revise.Rescheduler{typeof(Revise.watch_manifest),Tuple{String}})\u001b[22m\u001b[1m(\u001b[22m\u001b[1m)\u001b[22m at \u001b[1m/home/jingpeng/.julia/packages/Revise/agmgx/src/types.jl:235\u001b[22m\n",
      "while evaluating\n",
      "#= /usr/opt/julia-1.0.4/local/share/julia/packages/OffsetArrays/ruvC7/src/OffsetArrays.jl:171 =# @inline #= /usr/opt/julia-1.0.4/local/share/julia/packages/OffsetArrays/ruvC7/src/OffsetArrays.jl:171 =# @propagate_inbounds(Base.getindex(r::UnitRange, s::IIUR) = begin\n",
      "                #= /usr/opt/julia-1.0.4/local/share/julia/packages/OffsetArrays/ruvC7/src/OffsetArrays.jl:171 =#\n",
      "                OffsetArray(r[s.indices], s)\n",
      "            end)\n",
      "in module Main.OffsetArrays\n",
      "\u001b[91mUndefVarError: IIUR not defined\u001b[39m\n",
      "Stacktrace:\n",
      " [1] \u001b[1m#collect_args#33\u001b[22m\u001b[1m(\u001b[22m::Bool, ::Function, ::JuliaInterpreter.Frame, ::Expr\u001b[1m)\u001b[22m at \u001b[1m/home/jingpeng/.julia/packages/JuliaInterpreter/Or807/src/interpret.jl:64\u001b[22m\n",
      " [2] \u001b[1mcollect_args\u001b[22m at \u001b[1m/home/jingpeng/.julia/packages/JuliaInterpreter/Or807/src/interpret.jl:139\u001b[22m [inlined]\n",
      " [3] \u001b[1mlookup_callexpr\u001b[22m at \u001b[1m/home/jingpeng/.julia/packages/Revise/agmgx/src/lowered.jl:13\u001b[22m [inlined]\n",
      " [4] \u001b[1m#methods_by_execution!#14\u001b[22m\u001b[1m(\u001b[22m::Bool, ::Bool, ::Function, ::Any, ::Revise.CodeTrackingMethodInfo, ::Dict{Module,Array{Expr,1}}, ::JuliaInterpreter.Frame\u001b[1m)\u001b[22m at \u001b[1m/home/jingpeng/.julia/packages/Revise/agmgx/src/lowered.jl:187\u001b[22m\n",
      " [5] \u001b[1m#methods_by_execution!\u001b[22m at \u001b[1m./none:0\u001b[22m [inlined]\n",
      " [6] \u001b[1m#methods_by_execution!#9\u001b[22m\u001b[1m(\u001b[22m::Base.Iterators.Pairs{Symbol,Bool,Tuple{Symbol},NamedTuple{(:define,),Tuple{Bool}}}, ::Function, ::Any, ::Revise.CodeTrackingMethodInfo, ::Dict{Module,Array{Expr,1}}, ::Module, ::Expr\u001b[1m)\u001b[22m at \u001b[1m/home/jingpeng/.julia/packages/Revise/agmgx/src/lowered.jl:49\u001b[22m\n",
      " [7] \u001b[1m#methods_by_execution!\u001b[22m at \u001b[1m./none:0\u001b[22m [inlined]\n",
      " [8] \u001b[1m#eval_with_signatures#59\u001b[22m at \u001b[1m/home/jingpeng/.julia/packages/Revise/agmgx/src/Revise.jl:344\u001b[22m [inlined]\n",
      " [9] \u001b[1m#eval_with_signatures\u001b[22m at \u001b[1m./none:0\u001b[22m [inlined]\n",
      " [10] \u001b[1m#instantiate_sigs!#60\u001b[22m\u001b[1m(\u001b[22m::Bool, ::Base.Iterators.Pairs{Union{},Union{},Tuple{},NamedTuple{(),Tuple{}}}, ::Function, ::OrderedCollections.OrderedDict{Module,OrderedCollections.OrderedDict{Revise.RelocatableExpr,Union{Nothing, Array{Any,1}}}}\u001b[1m)\u001b[22m at \u001b[1m/home/jingpeng/.julia/packages/Revise/agmgx/src/Revise.jl:352\u001b[22m\n",
      " [11] \u001b[1minstantiate_sigs!\u001b[22m at \u001b[1m/home/jingpeng/.julia/packages/Revise/agmgx/src/Revise.jl:349\u001b[22m [inlined]\n",
      " [12] \u001b[1mmaybe_parse_from_cache!\u001b[22m\u001b[1m(\u001b[22m::Revise.PkgData, ::String\u001b[1m)\u001b[22m at \u001b[1m/home/jingpeng/.julia/packages/Revise/agmgx/src/pkgs.jl:224\u001b[22m\n",
      " [13] \u001b[1m(::getfield(Revise, Symbol(\"##26#27\")){String})\u001b[22m\u001b[1m(\u001b[22m\u001b[1m)\u001b[22m at \u001b[1m/home/jingpeng/.julia/packages/Revise/agmgx/src/pkgs.jl:370\u001b[22m\n",
      " [14] \u001b[1mwith_logstate\u001b[22m\u001b[1m(\u001b[22m::getfield(Revise, Symbol(\"##26#27\")){String}, ::Base.CoreLogging.LogState\u001b[1m)\u001b[22m at \u001b[1m./logging.jl:395\u001b[22m\n",
      " [15] \u001b[1mwith_logger\u001b[22m at \u001b[1m./logging.jl:491\u001b[22m [inlined]\n",
      " [16] \u001b[1mwatch_manifest\u001b[22m\u001b[1m(\u001b[22m::String\u001b[1m)\u001b[22m at \u001b[1m/home/jingpeng/.julia/packages/Revise/agmgx/src/pkgs.jl:349\u001b[22m\n",
      " [17] \u001b[1m(::Revise.Rescheduler{typeof(Revise.watch_manifest),Tuple{String}})\u001b[22m\u001b[1m(\u001b[22m\u001b[1m)\u001b[22m at \u001b[1m/home/jingpeng/.julia/packages/Revise/agmgx/src/types.jl:235\u001b[22m\n",
      "while evaluating\n",
      "#= /usr/opt/julia-1.0.4/local/share/julia/packages/OffsetArrays/ruvC7/src/OffsetArrays.jl:174 =# @inline #= /usr/opt/julia-1.0.4/local/share/julia/packages/OffsetArrays/ruvC7/src/OffsetArrays.jl:174 =# @propagate_inbounds(Base.getindex(r::StepRange, s::IIUR) = begin\n",
      "                #= /usr/opt/julia-1.0.4/local/share/julia/packages/OffsetArrays/ruvC7/src/OffsetArrays.jl:174 =#\n",
      "                OffsetArray(r[s.indices], s)\n",
      "            end)\n",
      "in module Main.OffsetArrays\n",
      "\u001b[91mUndefVarError: IIUR not defined\u001b[39m\n",
      "Stacktrace:\n",
      " [1] \u001b[1m#collect_args#33\u001b[22m\u001b[1m(\u001b[22m::Bool, ::Function, ::JuliaInterpreter.Frame, ::Expr\u001b[1m)\u001b[22m at \u001b[1m/home/jingpeng/.julia/packages/JuliaInterpreter/Or807/src/interpret.jl:64\u001b[22m\n",
      " [2] \u001b[1mcollect_args\u001b[22m at \u001b[1m/home/jingpeng/.julia/packages/JuliaInterpreter/Or807/src/interpret.jl:139\u001b[22m [inlined]\n",
      " [3] \u001b[1mlookup_callexpr\u001b[22m at \u001b[1m/home/jingpeng/.julia/packages/Revise/agmgx/src/lowered.jl:13\u001b[22m [inlined]\n",
      " [4] \u001b[1m#methods_by_execution!#14\u001b[22m\u001b[1m(\u001b[22m::Bool, ::Bool, ::Function, ::Any, ::Revise.CodeTrackingMethodInfo, ::Dict{Module,Array{Expr,1}}, ::JuliaInterpreter.Frame\u001b[1m)\u001b[22m at \u001b[1m/home/jingpeng/.julia/packages/Revise/agmgx/src/lowered.jl:187\u001b[22m\n",
      " [5] \u001b[1m#methods_by_execution!\u001b[22m at \u001b[1m./none:0\u001b[22m [inlined]\n",
      " [6] \u001b[1m#methods_by_execution!#9\u001b[22m\u001b[1m(\u001b[22m::Base.Iterators.Pairs{Symbol,Bool,Tuple{Symbol},NamedTuple{(:define,),Tuple{Bool}}}, ::Function, ::Any, ::Revise.CodeTrackingMethodInfo, ::Dict{Module,Array{Expr,1}}, ::Module, ::Expr\u001b[1m)\u001b[22m at \u001b[1m/home/jingpeng/.julia/packages/Revise/agmgx/src/lowered.jl:49\u001b[22m\n",
      " [7] \u001b[1m#methods_by_execution!\u001b[22m at \u001b[1m./none:0\u001b[22m [inlined]\n",
      " [8] \u001b[1m#eval_with_signatures#59\u001b[22m at \u001b[1m/home/jingpeng/.julia/packages/Revise/agmgx/src/Revise.jl:344\u001b[22m [inlined]\n",
      " [9] \u001b[1m#eval_with_signatures\u001b[22m at \u001b[1m./none:0\u001b[22m [inlined]\n",
      " [10] \u001b[1m#instantiate_sigs!#60\u001b[22m\u001b[1m(\u001b[22m::Bool, ::Base.Iterators.Pairs{Union{},Union{},Tuple{},NamedTuple{(),Tuple{}}}, ::Function, ::OrderedCollections.OrderedDict{Module,OrderedCollections.OrderedDict{Revise.RelocatableExpr,Union{Nothing, Array{Any,1}}}}\u001b[1m)\u001b[22m at \u001b[1m/home/jingpeng/.julia/packages/Revise/agmgx/src/Revise.jl:352\u001b[22m\n",
      " [11] \u001b[1minstantiate_sigs!\u001b[22m at \u001b[1m/home/jingpeng/.julia/packages/Revise/agmgx/src/Revise.jl:349\u001b[22m [inlined]\n",
      " [12] \u001b[1mmaybe_parse_from_cache!\u001b[22m\u001b[1m(\u001b[22m::Revise.PkgData, ::String\u001b[1m)\u001b[22m at \u001b[1m/home/jingpeng/.julia/packages/Revise/agmgx/src/pkgs.jl:224\u001b[22m\n",
      " [13] \u001b[1m(::getfield(Revise, Symbol(\"##26#27\")){String})\u001b[22m\u001b[1m(\u001b[22m\u001b[1m)\u001b[22m at \u001b[1m/home/jingpeng/.julia/packages/Revise/agmgx/src/pkgs.jl:370\u001b[22m\n",
      " [14] \u001b[1mwith_logstate\u001b[22m\u001b[1m(\u001b[22m::getfield(Revise, Symbol(\"##26#27\")){String}, ::Base.CoreLogging.LogState\u001b[1m)\u001b[22m at \u001b[1m./logging.jl:395\u001b[22m\n",
      " [15] \u001b[1mwith_logger\u001b[22m at \u001b[1m./logging.jl:491\u001b[22m [inlined]\n",
      " [16] \u001b[1mwatch_manifest\u001b[22m\u001b[1m(\u001b[22m::String\u001b[1m)\u001b[22m at \u001b[1m/home/jingpeng/.julia/packages/Revise/agmgx/src/pkgs.jl:349\u001b[22m\n",
      " [17] \u001b[1m(::Revise.Rescheduler{typeof(Revise.watch_manifest),Tuple{String}})\u001b[22m\u001b[1m(\u001b[22m\u001b[1m)\u001b[22m at \u001b[1m/home/jingpeng/.julia/packages/Revise/agmgx/src/types.jl:235\u001b[22m\n",
      "while evaluating\n",
      "#= /usr/opt/julia-1.0.4/local/share/julia/packages/OffsetArrays/ruvC7/src/OffsetArrays.jl:177 =# @inline #= /usr/opt/julia-1.0.4/local/share/julia/packages/OffsetArrays/ruvC7/src/OffsetArrays.jl:177 =# @propagate_inbounds((Base.getindex(r::StepRangeLen{T, <:Base.TwicePrecision, <:Base.TwicePrecision}, s::IIUR) where T) = begin\n",
      "                #= /usr/opt/julia-1.0.4/local/share/julia/packages/OffsetArrays/ruvC7/src/OffsetArrays.jl:177 =#\n",
      "                OffsetArray(r[s.indices], s)\n",
      "            end)\n",
      "in module Main.OffsetArrays\n",
      "\u001b[91mUndefVarError: IIUR not defined\u001b[39m\n",
      "Stacktrace:\n",
      " [1] \u001b[1m#collect_args#33\u001b[22m\u001b[1m(\u001b[22m::Bool, ::Function, ::JuliaInterpreter.Frame, ::Expr\u001b[1m)\u001b[22m at \u001b[1m/home/jingpeng/.julia/packages/JuliaInterpreter/Or807/src/interpret.jl:64\u001b[22m\n",
      " [2] \u001b[1mcollect_args\u001b[22m at \u001b[1m/home/jingpeng/.julia/packages/JuliaInterpreter/Or807/src/interpret.jl:139\u001b[22m [inlined]\n",
      " [3] \u001b[1mlookup_callexpr\u001b[22m at \u001b[1m/home/jingpeng/.julia/packages/Revise/agmgx/src/lowered.jl:13\u001b[22m [inlined]\n",
      " [4] \u001b[1m#methods_by_execution!#14\u001b[22m\u001b[1m(\u001b[22m::Bool, ::Bool, ::Function, ::Any, ::Revise.CodeTrackingMethodInfo, ::Dict{Module,Array{Expr,1}}, ::JuliaInterpreter.Frame\u001b[1m)\u001b[22m at \u001b[1m/home/jingpeng/.julia/packages/Revise/agmgx/src/lowered.jl:187\u001b[22m\n",
      " [5] \u001b[1m#methods_by_execution!\u001b[22m at \u001b[1m./none:0\u001b[22m [inlined]\n",
      " [6] \u001b[1m#methods_by_execution!#9\u001b[22m\u001b[1m(\u001b[22m::Base.Iterators.Pairs{Symbol,Bool,Tuple{Symbol},NamedTuple{(:define,),Tuple{Bool}}}, ::Function, ::Any, ::Revise.CodeTrackingMethodInfo, ::Dict{Module,Array{Expr,1}}, ::Module, ::Expr\u001b[1m)\u001b[22m at \u001b[1m/home/jingpeng/.julia/packages/Revise/agmgx/src/lowered.jl:49\u001b[22m\n",
      " [7] \u001b[1m#methods_by_execution!\u001b[22m at \u001b[1m./none:0\u001b[22m [inlined]\n",
      " [8] \u001b[1m#eval_with_signatures#59\u001b[22m at \u001b[1m/home/jingpeng/.julia/packages/Revise/agmgx/src/Revise.jl:344\u001b[22m [inlined]\n",
      " [9] \u001b[1m#eval_with_signatures\u001b[22m at \u001b[1m./none:0\u001b[22m [inlined]\n",
      " [10] \u001b[1m#instantiate_sigs!#60\u001b[22m\u001b[1m(\u001b[22m::Bool, ::Base.Iterators.Pairs{Union{},Union{},Tuple{},NamedTuple{(),Tuple{}}}, ::Function, ::OrderedCollections.OrderedDict{Module,OrderedCollections.OrderedDict{Revise.RelocatableExpr,Union{Nothing, Array{Any,1}}}}\u001b[1m)\u001b[22m at \u001b[1m/home/jingpeng/.julia/packages/Revise/agmgx/src/Revise.jl:352\u001b[22m\n",
      " [11] \u001b[1minstantiate_sigs!\u001b[22m at \u001b[1m/home/jingpeng/.julia/packages/Revise/agmgx/src/Revise.jl:349\u001b[22m [inlined]\n",
      " [12] \u001b[1mmaybe_parse_from_cache!\u001b[22m\u001b[1m(\u001b[22m::Revise.PkgData, ::String\u001b[1m)\u001b[22m at \u001b[1m/home/jingpeng/.julia/packages/Revise/agmgx/src/pkgs.jl:224\u001b[22m\n",
      " [13] \u001b[1m(::getfield(Revise, Symbol(\"##26#27\")){String})\u001b[22m\u001b[1m(\u001b[22m\u001b[1m)\u001b[22m at \u001b[1m/home/jingpeng/.julia/packages/Revise/agmgx/src/pkgs.jl:370\u001b[22m\n"
     ]
    },
    {
     "name": "stderr",
     "output_type": "stream",
     "text": [
      " [14] \u001b[1mwith_logstate\u001b[22m\u001b[1m(\u001b[22m::getfield(Revise, Symbol(\"##26#27\")){String}, ::Base.CoreLogging.LogState\u001b[1m)\u001b[22m at \u001b[1m./logging.jl:395\u001b[22m\n",
      " [15] \u001b[1mwith_logger\u001b[22m at \u001b[1m./logging.jl:491\u001b[22m [inlined]\n",
      " [16] \u001b[1mwatch_manifest\u001b[22m\u001b[1m(\u001b[22m::String\u001b[1m)\u001b[22m at \u001b[1m/home/jingpeng/.julia/packages/Revise/agmgx/src/pkgs.jl:349\u001b[22m\n",
      " [17] \u001b[1m(::Revise.Rescheduler{typeof(Revise.watch_manifest),Tuple{String}})\u001b[22m\u001b[1m(\u001b[22m\u001b[1m)\u001b[22m at \u001b[1m/home/jingpeng/.julia/packages/Revise/agmgx/src/types.jl:235\u001b[22m\n",
      "while evaluating\n",
      "#= /usr/opt/julia-1.0.4/local/share/julia/packages/OffsetArrays/ruvC7/src/OffsetArrays.jl:179 =# @inline #= /usr/opt/julia-1.0.4/local/share/julia/packages/OffsetArrays/ruvC7/src/OffsetArrays.jl:179 =# @propagate_inbounds((Base.getindex(r::StepRangeLen{T}, s::IIUR) where T) = begin\n",
      "                #= /usr/opt/julia-1.0.4/local/share/julia/packages/OffsetArrays/ruvC7/src/OffsetArrays.jl:179 =#\n",
      "                OffsetArray(r[s.indices], s)\n",
      "            end)\n",
      "in module Main.OffsetArrays\n",
      "\u001b[91mUndefVarError: IIUR not defined\u001b[39m\n",
      "Stacktrace:\n",
      " [1] \u001b[1m#collect_args#33\u001b[22m\u001b[1m(\u001b[22m::Bool, ::Function, ::JuliaInterpreter.Frame, ::Expr\u001b[1m)\u001b[22m at \u001b[1m/home/jingpeng/.julia/packages/JuliaInterpreter/Or807/src/interpret.jl:64\u001b[22m\n",
      " [2] \u001b[1mcollect_args\u001b[22m at \u001b[1m/home/jingpeng/.julia/packages/JuliaInterpreter/Or807/src/interpret.jl:139\u001b[22m [inlined]\n",
      " [3] \u001b[1mlookup_callexpr\u001b[22m at \u001b[1m/home/jingpeng/.julia/packages/Revise/agmgx/src/lowered.jl:13\u001b[22m [inlined]\n",
      " [4] \u001b[1m#methods_by_execution!#14\u001b[22m\u001b[1m(\u001b[22m::Bool, ::Bool, ::Function, ::Any, ::Revise.CodeTrackingMethodInfo, ::Dict{Module,Array{Expr,1}}, ::JuliaInterpreter.Frame\u001b[1m)\u001b[22m at \u001b[1m/home/jingpeng/.julia/packages/Revise/agmgx/src/lowered.jl:187\u001b[22m\n",
      " [5] \u001b[1m#methods_by_execution!\u001b[22m at \u001b[1m./none:0\u001b[22m [inlined]\n",
      " [6] \u001b[1m#methods_by_execution!#9\u001b[22m\u001b[1m(\u001b[22m::Base.Iterators.Pairs{Symbol,Bool,Tuple{Symbol},NamedTuple{(:define,),Tuple{Bool}}}, ::Function, ::Any, ::Revise.CodeTrackingMethodInfo, ::Dict{Module,Array{Expr,1}}, ::Module, ::Expr\u001b[1m)\u001b[22m at \u001b[1m/home/jingpeng/.julia/packages/Revise/agmgx/src/lowered.jl:49\u001b[22m\n",
      " [7] \u001b[1m#methods_by_execution!\u001b[22m at \u001b[1m./none:0\u001b[22m [inlined]\n",
      " [8] \u001b[1m#eval_with_signatures#59\u001b[22m at \u001b[1m/home/jingpeng/.julia/packages/Revise/agmgx/src/Revise.jl:344\u001b[22m [inlined]\n",
      " [9] \u001b[1m#eval_with_signatures\u001b[22m at \u001b[1m./none:0\u001b[22m [inlined]\n",
      " [10] \u001b[1m#instantiate_sigs!#60\u001b[22m\u001b[1m(\u001b[22m::Bool, ::Base.Iterators.Pairs{Union{},Union{},Tuple{},NamedTuple{(),Tuple{}}}, ::Function, ::OrderedCollections.OrderedDict{Module,OrderedCollections.OrderedDict{Revise.RelocatableExpr,Union{Nothing, Array{Any,1}}}}\u001b[1m)\u001b[22m at \u001b[1m/home/jingpeng/.julia/packages/Revise/agmgx/src/Revise.jl:352\u001b[22m\n",
      " [11] \u001b[1minstantiate_sigs!\u001b[22m at \u001b[1m/home/jingpeng/.julia/packages/Revise/agmgx/src/Revise.jl:349\u001b[22m [inlined]\n",
      " [12] \u001b[1mmaybe_parse_from_cache!\u001b[22m\u001b[1m(\u001b[22m::Revise.PkgData, ::String\u001b[1m)\u001b[22m at \u001b[1m/home/jingpeng/.julia/packages/Revise/agmgx/src/pkgs.jl:224\u001b[22m\n",
      " [13] \u001b[1m(::getfield(Revise, Symbol(\"##26#27\")){String})\u001b[22m\u001b[1m(\u001b[22m\u001b[1m)\u001b[22m at \u001b[1m/home/jingpeng/.julia/packages/Revise/agmgx/src/pkgs.jl:370\u001b[22m\n",
      " [14] \u001b[1mwith_logstate\u001b[22m\u001b[1m(\u001b[22m::getfield(Revise, Symbol(\"##26#27\")){String}, ::Base.CoreLogging.LogState\u001b[1m)\u001b[22m at \u001b[1m./logging.jl:395\u001b[22m\n",
      " [15] \u001b[1mwith_logger\u001b[22m at \u001b[1m./logging.jl:491\u001b[22m [inlined]\n",
      " [16] \u001b[1mwatch_manifest\u001b[22m\u001b[1m(\u001b[22m::String\u001b[1m)\u001b[22m at \u001b[1m/home/jingpeng/.julia/packages/Revise/agmgx/src/pkgs.jl:349\u001b[22m\n",
      " [17] \u001b[1m(::Revise.Rescheduler{typeof(Revise.watch_manifest),Tuple{String}})\u001b[22m\u001b[1m(\u001b[22m\u001b[1m)\u001b[22m at \u001b[1m/home/jingpeng/.julia/packages/Revise/agmgx/src/types.jl:235\u001b[22m\n",
      "while evaluating\n",
      "#= /usr/opt/julia-1.0.4/local/share/julia/packages/OffsetArrays/ruvC7/src/OffsetArrays.jl:182 =# @inline #= /usr/opt/julia-1.0.4/local/share/julia/packages/OffsetArrays/ruvC7/src/OffsetArrays.jl:182 =# @propagate_inbounds(Base.getindex(r::LinRange, s::IIUR) = begin\n",
      "                #= /usr/opt/julia-1.0.4/local/share/julia/packages/OffsetArrays/ruvC7/src/OffsetArrays.jl:182 =#\n",
      "                OffsetArray(r[s.indices], s)\n",
      "            end)\n",
      "in module Main.OffsetArrays\n",
      "\u001b[91mUndefVarError: OffsetRange not defined\u001b[39m\n",
      "Stacktrace:\n",
      " [1] \u001b[1m#collect_args#33\u001b[22m\u001b[1m(\u001b[22m::Bool, ::Function, ::JuliaInterpreter.Frame, ::Expr\u001b[1m)\u001b[22m at \u001b[1m/home/jingpeng/.julia/packages/JuliaInterpreter/Or807/src/interpret.jl:64\u001b[22m\n",
      " [2] \u001b[1mcollect_args\u001b[22m at \u001b[1m/home/jingpeng/.julia/packages/JuliaInterpreter/Or807/src/interpret.jl:139\u001b[22m [inlined]\n",
      " [3] \u001b[1mlookup_callexpr\u001b[22m at \u001b[1m/home/jingpeng/.julia/packages/Revise/agmgx/src/lowered.jl:13\u001b[22m [inlined]\n",
      " [4] \u001b[1m#methods_by_execution!#14\u001b[22m\u001b[1m(\u001b[22m::Bool, ::Bool, ::Function, ::Any, ::Revise.CodeTrackingMethodInfo, ::Dict{Module,Array{Expr,1}}, ::JuliaInterpreter.Frame\u001b[1m)\u001b[22m at \u001b[1m/home/jingpeng/.julia/packages/Revise/agmgx/src/lowered.jl:187\u001b[22m\n",
      " [5] \u001b[1m#methods_by_execution!\u001b[22m at \u001b[1m./none:0\u001b[22m [inlined]\n",
      " [6] \u001b[1m#methods_by_execution!#9\u001b[22m\u001b[1m(\u001b[22m::Base.Iterators.Pairs{Symbol,Bool,Tuple{Symbol},NamedTuple{(:define,),Tuple{Bool}}}, ::Function, ::Any, ::Revise.CodeTrackingMethodInfo, ::Dict{Module,Array{Expr,1}}, ::Module, ::Expr\u001b[1m)\u001b[22m at \u001b[1m/home/jingpeng/.julia/packages/Revise/agmgx/src/lowered.jl:49\u001b[22m\n",
      " [7] \u001b[1m#methods_by_execution!\u001b[22m at \u001b[1m./none:0\u001b[22m [inlined]\n",
      " [8] \u001b[1m#eval_with_signatures#59\u001b[22m at \u001b[1m/home/jingpeng/.julia/packages/Revise/agmgx/src/Revise.jl:344\u001b[22m [inlined]\n",
      " [9] \u001b[1m#eval_with_signatures\u001b[22m at \u001b[1m./none:0\u001b[22m [inlined]\n",
      " [10] \u001b[1m#instantiate_sigs!#60\u001b[22m\u001b[1m(\u001b[22m::Bool, ::Base.Iterators.Pairs{Union{},Union{},Tuple{},NamedTuple{(),Tuple{}}}, ::Function, ::OrderedCollections.OrderedDict{Module,OrderedCollections.OrderedDict{Revise.RelocatableExpr,Union{Nothing, Array{Any,1}}}}\u001b[1m)\u001b[22m at \u001b[1m/home/jingpeng/.julia/packages/Revise/agmgx/src/Revise.jl:352\u001b[22m\n",
      " [11] \u001b[1minstantiate_sigs!\u001b[22m at \u001b[1m/home/jingpeng/.julia/packages/Revise/agmgx/src/Revise.jl:349\u001b[22m [inlined]\n",
      " [12] \u001b[1mmaybe_parse_from_cache!\u001b[22m\u001b[1m(\u001b[22m::Revise.PkgData, ::String\u001b[1m)\u001b[22m at \u001b[1m/home/jingpeng/.julia/packages/Revise/agmgx/src/pkgs.jl:224\u001b[22m\n",
      " [13] \u001b[1m(::getfield(Revise, Symbol(\"##26#27\")){String})\u001b[22m\u001b[1m(\u001b[22m\u001b[1m)\u001b[22m at \u001b[1m/home/jingpeng/.julia/packages/Revise/agmgx/src/pkgs.jl:370\u001b[22m\n",
      " [14] \u001b[1mwith_logstate\u001b[22m\u001b[1m(\u001b[22m::getfield(Revise, Symbol(\"##26#27\")){String}, ::Base.CoreLogging.LogState\u001b[1m)\u001b[22m at \u001b[1m./logging.jl:395\u001b[22m\n",
      " [15] \u001b[1mwith_logger\u001b[22m at \u001b[1m./logging.jl:491\u001b[22m [inlined]\n",
      " [16] \u001b[1mwatch_manifest\u001b[22m\u001b[1m(\u001b[22m::String\u001b[1m)\u001b[22m at \u001b[1m/home/jingpeng/.julia/packages/Revise/agmgx/src/pkgs.jl:349\u001b[22m\n",
      " [17] \u001b[1m(::Revise.Rescheduler{typeof(Revise.watch_manifest),Tuple{String}})\u001b[22m\u001b[1m(\u001b[22m\u001b[1m)\u001b[22m at \u001b[1m/home/jingpeng/.julia/packages/Revise/agmgx/src/types.jl:235\u001b[22m\n",
      "while evaluating\n",
      "function Base.show(io::IO, r::OffsetRange)\n",
      "    #= /usr/opt/julia-1.0.4/local/share/julia/packages/OffsetArrays/ruvC7/src/OffsetArrays.jl:186 =#\n",
      "    show(io, r.parent)\n",
      "    #= /usr/opt/julia-1.0.4/local/share/julia/packages/OffsetArrays/ruvC7/src/OffsetArrays.jl:187 =#\n",
      "    o = r.offsets[1]\n",
      "    #= /usr/opt/julia-1.0.4/local/share/julia/packages/OffsetArrays/ruvC7/src/OffsetArrays.jl:188 =#\n",
      "    print(io, \" with indices \", o + 1:o + length(r))\n",
      "end\n",
      "in module Main.OffsetArrays\n",
      "\u001b[91mUndefVarError: OffsetRange not defined\u001b[39m\n",
      "Stacktrace:\n",
      " [1] \u001b[1m#collect_args#33\u001b[22m\u001b[1m(\u001b[22m::Bool, ::Function, ::JuliaInterpreter.Frame, ::Expr\u001b[1m)\u001b[22m at \u001b[1m/home/jingpeng/.julia/packages/JuliaInterpreter/Or807/src/interpret.jl:64\u001b[22m\n",
      " [2] \u001b[1mcollect_args\u001b[22m at \u001b[1m/home/jingpeng/.julia/packages/JuliaInterpreter/Or807/src/interpret.jl:139\u001b[22m [inlined]\n",
      " [3] \u001b[1mlookup_callexpr\u001b[22m at \u001b[1m/home/jingpeng/.julia/packages/Revise/agmgx/src/lowered.jl:13\u001b[22m [inlined]\n",
      " [4] \u001b[1m#methods_by_execution!#14\u001b[22m\u001b[1m(\u001b[22m::Bool, ::Bool, ::Function, ::Any, ::Revise.CodeTrackingMethodInfo, ::Dict{Module,Array{Expr,1}}, ::JuliaInterpreter.Frame\u001b[1m)\u001b[22m at \u001b[1m/home/jingpeng/.julia/packages/Revise/agmgx/src/lowered.jl:187\u001b[22m\n",
      " [5] \u001b[1m#methods_by_execution!\u001b[22m at \u001b[1m./none:0\u001b[22m [inlined]\n",
      " [6] \u001b[1m#methods_by_execution!#9\u001b[22m\u001b[1m(\u001b[22m::Base.Iterators.Pairs{Symbol,Bool,Tuple{Symbol},NamedTuple{(:define,),Tuple{Bool}}}, ::Function, ::Any, ::Revise.CodeTrackingMethodInfo, ::Dict{Module,Array{Expr,1}}, ::Module, ::Expr\u001b[1m)\u001b[22m at \u001b[1m/home/jingpeng/.julia/packages/Revise/agmgx/src/lowered.jl:49\u001b[22m\n",
      " [7] \u001b[1m#methods_by_execution!\u001b[22m at \u001b[1m./none:0\u001b[22m [inlined]\n",
      " [8] \u001b[1m#eval_with_signatures#59\u001b[22m at \u001b[1m/home/jingpeng/.julia/packages/Revise/agmgx/src/Revise.jl:344\u001b[22m [inlined]\n",
      " [9] \u001b[1m#eval_with_signatures\u001b[22m at \u001b[1m./none:0\u001b[22m [inlined]\n",
      " [10] \u001b[1m#instantiate_sigs!#60\u001b[22m\u001b[1m(\u001b[22m::Bool, ::Base.Iterators.Pairs{Union{},Union{},Tuple{},NamedTuple{(),Tuple{}}}, ::Function, ::OrderedCollections.OrderedDict{Module,OrderedCollections.OrderedDict{Revise.RelocatableExpr,Union{Nothing, Array{Any,1}}}}\u001b[1m)\u001b[22m at \u001b[1m/home/jingpeng/.julia/packages/Revise/agmgx/src/Revise.jl:352\u001b[22m\n",
      " [11] \u001b[1minstantiate_sigs!\u001b[22m at \u001b[1m/home/jingpeng/.julia/packages/Revise/agmgx/src/Revise.jl:349\u001b[22m [inlined]\n",
      " [12] \u001b[1mmaybe_parse_from_cache!\u001b[22m\u001b[1m(\u001b[22m::Revise.PkgData, ::String\u001b[1m)\u001b[22m at \u001b[1m/home/jingpeng/.julia/packages/Revise/agmgx/src/pkgs.jl:224\u001b[22m\n",
      " [13] \u001b[1m(::getfield(Revise, Symbol(\"##26#27\")){String})\u001b[22m\u001b[1m(\u001b[22m\u001b[1m)\u001b[22m at \u001b[1m/home/jingpeng/.julia/packages/Revise/agmgx/src/pkgs.jl:370\u001b[22m\n",
      " [14] \u001b[1mwith_logstate\u001b[22m\u001b[1m(\u001b[22m::getfield(Revise, Symbol(\"##26#27\")){String}, ::Base.CoreLogging.LogState\u001b[1m)\u001b[22m at \u001b[1m./logging.jl:395\u001b[22m\n",
      " [15] \u001b[1mwith_logger\u001b[22m at \u001b[1m./logging.jl:491\u001b[22m [inlined]\n",
      " [16] \u001b[1mwatch_manifest\u001b[22m\u001b[1m(\u001b[22m::String\u001b[1m)\u001b[22m at \u001b[1m/home/jingpeng/.julia/packages/Revise/agmgx/src/pkgs.jl:349\u001b[22m\n",
      " [17] \u001b[1m(::Revise.Rescheduler{typeof(Revise.watch_manifest),Tuple{String}})\u001b[22m\u001b[1m(\u001b[22m\u001b[1m)\u001b[22m at \u001b[1m/home/jingpeng/.julia/packages/Revise/agmgx/src/types.jl:235\u001b[22m\n",
      "while evaluating\n"
     ]
    },
    {
     "name": "stderr",
     "output_type": "stream",
     "text": [
      "Base.show(io::IO, ::#= /usr/opt/julia-1.0.4/local/share/julia/packages/OffsetArrays/ruvC7/src/OffsetArrays.jl:190 =# @MIME_str(\"text/plain\"), r::OffsetRange) = begin\n",
      "        #= /usr/opt/julia-1.0.4/local/share/julia/packages/OffsetArrays/ruvC7/src/OffsetArrays.jl:190 =#\n",
      "        show(io, r)\n",
      "    end\n",
      "in module Main.OffsetArrays\n",
      "\u001b[91mUndefVarError: IdentityUnitRange not defined\u001b[39m\n",
      "Stacktrace:\n",
      " [1] \u001b[1mmacro expansion\u001b[22m at \u001b[1m/home/jingpeng/.julia/packages/JuliaInterpreter/Or807/src/interpret.jl:64\u001b[22m [inlined]\n",
      " [2] \u001b[1mgetargs\u001b[22m\u001b[1m(\u001b[22m::Array{Any,1}, ::JuliaInterpreter.Frame\u001b[1m)\u001b[22m at \u001b[1m/home/jingpeng/.julia/packages/JuliaInterpreter/Or807/src/builtins.jl:8\u001b[22m\n",
      " [3] \u001b[1mmaybe_evaluate_builtin\u001b[22m\u001b[1m(\u001b[22m::JuliaInterpreter.Frame, ::Expr, ::Bool\u001b[1m)\u001b[22m at \u001b[1m/home/jingpeng/.julia/packages/JuliaInterpreter/Or807/src/builtins.jl:136\u001b[22m\n",
      " [4] \u001b[1m#evaluate_call_recurse!#37\u001b[22m\u001b[1m(\u001b[22m::Bool, ::Function, ::Any, ::JuliaInterpreter.Frame, ::Expr\u001b[1m)\u001b[22m at \u001b[1m/home/jingpeng/.julia/packages/JuliaInterpreter/Or807/src/interpret.jl:209\u001b[22m\n",
      " [5] \u001b[1mevaluate_call_recurse!\u001b[22m at \u001b[1m/home/jingpeng/.julia/packages/JuliaInterpreter/Or807/src/interpret.jl:206\u001b[22m [inlined]\n",
      " [6] \u001b[1meval_rhs\u001b[22m\u001b[1m(\u001b[22m::Any, ::JuliaInterpreter.Frame, ::Expr\u001b[1m)\u001b[22m at \u001b[1m/home/jingpeng/.julia/packages/JuliaInterpreter/Or807/src/interpret.jl:381\u001b[22m\n",
      " [7] \u001b[1mstep_expr!\u001b[22m\u001b[1m(\u001b[22m::Any, ::JuliaInterpreter.Frame, ::Any, ::Bool\u001b[1m)\u001b[22m at \u001b[1m/home/jingpeng/.julia/packages/JuliaInterpreter/Or807/src/interpret.jl:509\u001b[22m\n",
      " [8] \u001b[1msignature\u001b[22m\u001b[1m(\u001b[22m::Any, ::JuliaInterpreter.Frame, ::Any, ::Int64\u001b[1m)\u001b[22m at \u001b[1m/home/jingpeng/.julia/packages/LoweredCodeUtils/6EZqd/src/LoweredCodeUtils.jl:146\u001b[22m\n",
      " [9] \u001b[1m#methoddef!#3\u001b[22m\u001b[1m(\u001b[22m::Bool, ::Function, ::Any, ::Array{Any,1}, ::JuliaInterpreter.Frame, ::Any, ::Int64\u001b[1m)\u001b[22m at \u001b[1m/home/jingpeng/.julia/packages/LoweredCodeUtils/6EZqd/src/LoweredCodeUtils.jl:420\u001b[22m\n",
      " [10] \u001b[1m(::getfield(LoweredCodeUtils, Symbol(\"#kw##methoddef!\")))\u001b[22m\u001b[1m(\u001b[22m::NamedTuple{(:define,),Tuple{Bool}}, ::typeof(LoweredCodeUtils.methoddef!), ::Function, ::Array{Any,1}, ::JuliaInterpreter.Frame, ::Expr, ::Int64\u001b[1m)\u001b[22m at \u001b[1m./none:0\u001b[22m\n",
      " [11] \u001b[1m#methods_by_execution!#14\u001b[22m\u001b[1m(\u001b[22m::Bool, ::Bool, ::Function, ::Any, ::Revise.CodeTrackingMethodInfo, ::Dict{Module,Array{Expr,1}}, ::JuliaInterpreter.Frame\u001b[1m)\u001b[22m at \u001b[1m/home/jingpeng/.julia/packages/Revise/agmgx/src/lowered.jl:81\u001b[22m\n",
      " [12] \u001b[1m#methods_by_execution!\u001b[22m at \u001b[1m./none:0\u001b[22m [inlined]\n",
      " [13] \u001b[1m#methods_by_execution!#9\u001b[22m\u001b[1m(\u001b[22m::Base.Iterators.Pairs{Symbol,Bool,Tuple{Symbol},NamedTuple{(:define,),Tuple{Bool}}}, ::Function, ::Any, ::Revise.CodeTrackingMethodInfo, ::Dict{Module,Array{Expr,1}}, ::Module, ::Expr\u001b[1m)\u001b[22m at \u001b[1m/home/jingpeng/.julia/packages/Revise/agmgx/src/lowered.jl:49\u001b[22m\n",
      " [14] \u001b[1m#methods_by_execution!\u001b[22m at \u001b[1m./none:0\u001b[22m [inlined]\n",
      " [15] \u001b[1m#eval_with_signatures#59\u001b[22m at \u001b[1m/home/jingpeng/.julia/packages/Revise/agmgx/src/Revise.jl:344\u001b[22m [inlined]\n",
      " [16] \u001b[1m#eval_with_signatures\u001b[22m at \u001b[1m./none:0\u001b[22m [inlined]\n",
      " [17] \u001b[1m#instantiate_sigs!#60\u001b[22m\u001b[1m(\u001b[22m::Bool, ::Base.Iterators.Pairs{Union{},Union{},Tuple{},NamedTuple{(),Tuple{}}}, ::Function, ::OrderedCollections.OrderedDict{Module,OrderedCollections.OrderedDict{Revise.RelocatableExpr,Union{Nothing, Array{Any,1}}}}\u001b[1m)\u001b[22m at \u001b[1m/home/jingpeng/.julia/packages/Revise/agmgx/src/Revise.jl:352\u001b[22m\n",
      " [18] \u001b[1minstantiate_sigs!\u001b[22m at \u001b[1m/home/jingpeng/.julia/packages/Revise/agmgx/src/Revise.jl:349\u001b[22m [inlined]\n",
      " [19] \u001b[1mmaybe_parse_from_cache!\u001b[22m\u001b[1m(\u001b[22m::Revise.PkgData, ::String\u001b[1m)\u001b[22m at \u001b[1m/home/jingpeng/.julia/packages/Revise/agmgx/src/pkgs.jl:224\u001b[22m\n",
      " [20] \u001b[1m(::getfield(Revise, Symbol(\"##26#27\")){String})\u001b[22m\u001b[1m(\u001b[22m\u001b[1m)\u001b[22m at \u001b[1m/home/jingpeng/.julia/packages/Revise/agmgx/src/pkgs.jl:370\u001b[22m\n",
      " [21] \u001b[1mwith_logstate\u001b[22m\u001b[1m(\u001b[22m::getfield(Revise, Symbol(\"##26#27\")){String}, ::Base.CoreLogging.LogState\u001b[1m)\u001b[22m at \u001b[1m./logging.jl:395\u001b[22m\n",
      " [22] \u001b[1mwith_logger\u001b[22m at \u001b[1m./logging.jl:491\u001b[22m [inlined]\n",
      " [23] \u001b[1mwatch_manifest\u001b[22m\u001b[1m(\u001b[22m::String\u001b[1m)\u001b[22m at \u001b[1m/home/jingpeng/.julia/packages/Revise/agmgx/src/pkgs.jl:349\u001b[22m\n",
      " [24] \u001b[1m(::Revise.Rescheduler{typeof(Revise.watch_manifest),Tuple{String}})\u001b[22m\u001b[1m(\u001b[22m\u001b[1m)\u001b[22m at \u001b[1m/home/jingpeng/.julia/packages/Revise/agmgx/src/types.jl:235\u001b[22m\n",
      "while evaluating\n",
      "_unslice(x::IdentityUnitRange) = begin\n",
      "        #= /usr/opt/julia-1.0.4/local/share/julia/packages/OffsetArrays/ruvC7/src/OffsetArrays.jl:233 =#\n",
      "        x.indices\n",
      "    end\n",
      "in module Main.OffsetArrays\n",
      "\u001b[91mArgumentError: Package Query does not have TableTraits in its dependencies:\u001b[39m\n",
      "\u001b[91m- If you have Query checked out for development and have\u001b[39m\n",
      "\u001b[91m  added TableTraits as a dependency but haven't updated your primary\u001b[39m\n",
      "\u001b[91m  environment's manifest file, try `Pkg.resolve()`.\u001b[39m\n",
      "\u001b[91m- Otherwise you may need to report an issue with Query\u001b[39m\n",
      "Stacktrace:\n",
      " [1] \u001b[1mrequire\u001b[22m\u001b[1m(\u001b[22m::Module, ::Symbol\u001b[1m)\u001b[22m at \u001b[1m./loading.jl:836\u001b[22m\n",
      " [2] \u001b[1meval\u001b[22m at \u001b[1m./boot.jl:319\u001b[22m [inlined]\n",
      " [3] \u001b[1mprepare_thunk\u001b[22m\u001b[1m(\u001b[22m::Module, ::Expr, ::Bool\u001b[1m)\u001b[22m at \u001b[1m/home/jingpeng/.julia/packages/JuliaInterpreter/Or807/src/construct.jl:355\u001b[22m\n",
      " [4] \u001b[1mprepare_thunk\u001b[22m\u001b[1m(\u001b[22m::Module, ::Expr, ::Bool\u001b[1m)\u001b[22m at \u001b[1m/home/jingpeng/.julia/packages/JuliaInterpreter/Or807/src/construct.jl:361\u001b[22m\n",
      " [5] \u001b[1mprepare_thunk\u001b[22m at \u001b[1m/home/jingpeng/.julia/packages/JuliaInterpreter/Or807/src/construct.jl:347\u001b[22m [inlined]\n",
      " [6] \u001b[1m#methods_by_execution!#9\u001b[22m\u001b[1m(\u001b[22m::Base.Iterators.Pairs{Symbol,Bool,Tuple{Symbol},NamedTuple{(:define,),Tuple{Bool}}}, ::Function, ::Any, ::Revise.CodeTrackingMethodInfo, ::Dict{Module,Array{Expr,1}}, ::Module, ::Expr\u001b[1m)\u001b[22m at \u001b[1m/home/jingpeng/.julia/packages/Revise/agmgx/src/lowered.jl:47\u001b[22m\n",
      " [7] \u001b[1m#methods_by_execution!\u001b[22m at \u001b[1m./none:0\u001b[22m [inlined]\n",
      " [8] \u001b[1m#eval_with_signatures#59\u001b[22m at \u001b[1m/home/jingpeng/.julia/packages/Revise/agmgx/src/Revise.jl:344\u001b[22m [inlined]\n",
      " [9] \u001b[1m#eval_with_signatures\u001b[22m at \u001b[1m./none:0\u001b[22m [inlined]\n",
      " [10] \u001b[1m#instantiate_sigs!#60\u001b[22m\u001b[1m(\u001b[22m::Bool, ::Base.Iterators.Pairs{Union{},Union{},Tuple{},NamedTuple{(),Tuple{}}}, ::Function, ::OrderedCollections.OrderedDict{Module,OrderedCollections.OrderedDict{Revise.RelocatableExpr,Union{Nothing, Array{Any,1}}}}\u001b[1m)\u001b[22m at \u001b[1m/home/jingpeng/.julia/packages/Revise/agmgx/src/Revise.jl:352\u001b[22m\n",
      " [11] \u001b[1minstantiate_sigs!\u001b[22m at \u001b[1m/home/jingpeng/.julia/packages/Revise/agmgx/src/Revise.jl:349\u001b[22m [inlined]\n",
      " [12] \u001b[1mmaybe_parse_from_cache!\u001b[22m\u001b[1m(\u001b[22m::Revise.PkgData, ::String\u001b[1m)\u001b[22m at \u001b[1m/home/jingpeng/.julia/packages/Revise/agmgx/src/pkgs.jl:224\u001b[22m\n",
      " [13] \u001b[1m(::getfield(Revise, Symbol(\"##26#27\")){String})\u001b[22m\u001b[1m(\u001b[22m\u001b[1m)\u001b[22m at \u001b[1m/home/jingpeng/.julia/packages/Revise/agmgx/src/pkgs.jl:370\u001b[22m\n",
      " [14] \u001b[1mwith_logstate\u001b[22m\u001b[1m(\u001b[22m::getfield(Revise, Symbol(\"##26#27\")){String}, ::Base.CoreLogging.LogState\u001b[1m)\u001b[22m at \u001b[1m./logging.jl:395\u001b[22m\n",
      " [15] \u001b[1mwith_logger\u001b[22m at \u001b[1m./logging.jl:491\u001b[22m [inlined]\n",
      " [16] \u001b[1mwatch_manifest\u001b[22m\u001b[1m(\u001b[22m::String\u001b[1m)\u001b[22m at \u001b[1m/home/jingpeng/.julia/packages/Revise/agmgx/src/pkgs.jl:349\u001b[22m\n",
      " [17] \u001b[1m(::Revise.Rescheduler{typeof(Revise.watch_manifest),Tuple{String}})\u001b[22m\u001b[1m(\u001b[22m\u001b[1m)\u001b[22m at \u001b[1m/home/jingpeng/.julia/packages/Revise/agmgx/src/types.jl:235\u001b[22m\n",
      "while evaluating\n",
      "using TableTraits\n",
      "in module Query\n",
      "\u001b[91mArgumentError: Package DataStructures not found in current path:\u001b[39m\n",
      "\u001b[91m- Run `import Pkg; Pkg.add(\"DataStructures\")` to install the DataStructures package.\u001b[39m\n",
      "\n",
      "Stacktrace:\n",
      " [1] \u001b[1mrequire\u001b[22m\u001b[1m(\u001b[22m::Module, ::Symbol\u001b[1m)\u001b[22m at \u001b[1m./loading.jl:823\u001b[22m\n",
      " [2] \u001b[1meval\u001b[22m at \u001b[1m./boot.jl:319\u001b[22m [inlined]\n",
      " [3] \u001b[1mprepare_thunk\u001b[22m\u001b[1m(\u001b[22m::Module, ::Expr, ::Bool\u001b[1m)\u001b[22m at \u001b[1m/home/jingpeng/.julia/packages/JuliaInterpreter/Or807/src/construct.jl:355\u001b[22m\n",
      " [4] \u001b[1mprepare_thunk\u001b[22m\u001b[1m(\u001b[22m::Module, ::Expr, ::Bool\u001b[1m)\u001b[22m at \u001b[1m/home/jingpeng/.julia/packages/JuliaInterpreter/Or807/src/construct.jl:361\u001b[22m\n",
      " [5] \u001b[1mprepare_thunk\u001b[22m at \u001b[1m/home/jingpeng/.julia/packages/JuliaInterpreter/Or807/src/construct.jl:347\u001b[22m [inlined]\n",
      " [6] \u001b[1m#methods_by_execution!#9\u001b[22m\u001b[1m(\u001b[22m::Base.Iterators.Pairs{Symbol,Bool,Tuple{Symbol},NamedTuple{(:define,),Tuple{Bool}}}, ::Function, ::Any, ::Revise.CodeTrackingMethodInfo, ::Dict{Module,Array{Expr,1}}, ::Module, ::Expr\u001b[1m)\u001b[22m at \u001b[1m/home/jingpeng/.julia/packages/Revise/agmgx/src/lowered.jl:47\u001b[22m\n",
      " [7] \u001b[1m#methods_by_execution!\u001b[22m at \u001b[1m./none:0\u001b[22m [inlined]\n",
      " [8] \u001b[1m#eval_with_signatures#59\u001b[22m at \u001b[1m/home/jingpeng/.julia/packages/Revise/agmgx/src/Revise.jl:344\u001b[22m [inlined]\n",
      " [9] \u001b[1m#eval_with_signatures\u001b[22m at \u001b[1m./none:0\u001b[22m [inlined]\n",
      " [10] \u001b[1m#instantiate_sigs!#60\u001b[22m\u001b[1m(\u001b[22m::Bool, ::Base.Iterators.Pairs{Union{},Union{},Tuple{},NamedTuple{(),Tuple{}}}, ::Function, ::OrderedCollections.OrderedDict{Module,OrderedCollections.OrderedDict{Revise.RelocatableExpr,Union{Nothing, Array{Any,1}}}}\u001b[1m)\u001b[22m at \u001b[1m/home/jingpeng/.julia/packages/Revise/agmgx/src/Revise.jl:352\u001b[22m\n",
      " [11] \u001b[1minstantiate_sigs!\u001b[22m at \u001b[1m/home/jingpeng/.julia/packages/Revise/agmgx/src/Revise.jl:349\u001b[22m [inlined]\n",
      " [12] \u001b[1mmaybe_parse_from_cache!\u001b[22m\u001b[1m(\u001b[22m::Revise.PkgData, ::String\u001b[1m)\u001b[22m at \u001b[1m/home/jingpeng/.julia/packages/Revise/agmgx/src/pkgs.jl:224\u001b[22m\n",
      " [13] \u001b[1m(::getfield(Revise, Symbol(\"##26#27\")){String})\u001b[22m\u001b[1m(\u001b[22m\u001b[1m)\u001b[22m at \u001b[1m/home/jingpeng/.julia/packages/Revise/agmgx/src/pkgs.jl:370\u001b[22m\n",
      " [14] \u001b[1mwith_logstate\u001b[22m\u001b[1m(\u001b[22m::getfield(Revise, Symbol(\"##26#27\")){String}, ::Base.CoreLogging.LogState\u001b[1m)\u001b[22m at \u001b[1m./logging.jl:395\u001b[22m\n",
      " [15] \u001b[1mwith_logger\u001b[22m at \u001b[1m./logging.jl:491\u001b[22m [inlined]\n",
      " [16] \u001b[1mwatch_manifest\u001b[22m\u001b[1m(\u001b[22m::String\u001b[1m)\u001b[22m at \u001b[1m/home/jingpeng/.julia/packages/Revise/agmgx/src/pkgs.jl:349\u001b[22m\n",
      " [17] \u001b[1m(::Revise.Rescheduler{typeof(Revise.watch_manifest),Tuple{String}})\u001b[22m\u001b[1m(\u001b[22m\u001b[1m)\u001b[22m at \u001b[1m/home/jingpeng/.julia/packages/Revise/agmgx/src/types.jl:235\u001b[22m\n",
      "while evaluating\n",
      "using DataStructures, LinearAlgebra\n",
      "in module Main.QuadGK\n"
     ]
    }
   ],
   "source": [
    "df"
   ]
  },
  {
   "cell_type": "code",
   "execution_count": null,
   "metadata": {},
   "outputs": [],
   "source": []
  },
  {
   "cell_type": "code",
   "execution_count": null,
   "metadata": {},
   "outputs": [],
   "source": []
  }
 ],
 "metadata": {
  "@webio": {
   "lastCommId": null,
   "lastKernelId": null
  },
  "kernelspec": {
   "display_name": "Julia 1.0.4",
   "language": "julia",
   "name": "julia-1.0"
  },
  "language_info": {
   "file_extension": ".jl",
   "mimetype": "application/julia",
   "name": "julia",
   "version": "1.0.4"
  }
 },
 "nbformat": 4,
 "nbformat_minor": 2
}
