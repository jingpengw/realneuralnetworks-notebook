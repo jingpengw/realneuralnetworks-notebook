{
 "cells": [
  {
   "cell_type": "markdown",
   "metadata": {},
   "source": [
    "# Real neurons with total path length larger than 40 micron"
   ]
  },
  {
   "cell_type": "code",
   "execution_count": null,
   "metadata": {},
   "outputs": [],
   "source": [
    "# this module keeps the code update, so I can use new function directly after modifying code\n",
    "using PyPlot\n",
    "using Revise\n",
    "\n",
    "using RealNeuralNetworks.Neurons\n",
    "using JLD2\n",
    "using RealNeuralNetworks.SWCs\n",
    "\n",
    "\n",
    "const DATASET_DIR = expanduser(\"../01_data\")\n",
    "\n",
    "NEURON_DIR = \"$(DATASET_DIR)/atlas/bin\"\n",
    "\n",
    "using RealNeuralNetworks\n",
    "using RealNeuralNetworks.SWCs\n",
    "using RealNeuralNetworks.Neurons\n",
    "using RealNeuralNetworks.Neurons.Segments\n",
    "using DataFrames\n",
    "using Plots\n",
    "using Query\n",
    "using JLD2\n",
    "using Statistics\n",
    "using LinearAlgebra\n",
    "using JuliaDB\n",
    "using ProgressMeter\n",
    "\n",
    "# Plots.plotly()\n",
    "# Plots.InspectDRBackend()\n",
    "# Plots.pyplot()\n",
    "\n",
    "df = DataFrame()\n",
    "\n",
    "dirName = NEURON_DIR\n",
    "@show dirName"
   ]
  },
  {
   "cell_type": "code",
   "execution_count": 74,
   "metadata": {},
   "outputs": [
    {
     "ename": "LoadError",
     "evalue": "UndefVarError: DATASET_DIR not defined",
     "output_type": "error",
     "traceback": [
      "UndefVarError: DATASET_DIR not defined",
      "",
      "Stacktrace:",
      " [1] top-level scope",
      "   @ In[74]:3",
      " [2] eval",
      "   @ ./boot.jl:373 [inlined]",
      " [3] include_string(mapexpr::typeof(REPL.softscope), mod::Module, code::String, filename::String)",
      "   @ Base ./loading.jl:1196"
     ]
    }
   ],
   "source": [
    "using JSON\n",
    "DATASET_DIR\n",
    "\n",
    "neuronIdList = JSON.parsefile(joinpath(DATASET_DIR, \"neuron_ids.json\"))[\"valid\"]\n",
    "\n",
    "# using DataStructures\n",
    "neuronId2neuron = Dict{Int,Neuron}()\n",
    "\n",
    "skippedNeuronIdList = Int[]\n",
    "newNeuronIdList = Int[]\n",
    "totalPathLengthList = Float32[]\n",
    "\n",
    "# @showprogress 1 \"read neurons\" for (index, fileName) in enumerate( readdir( NEURON_DIR  ))\n",
    "@showprogress 1 \"read neurons\" for neuronId in neuronIdList\n",
    "#     fullName = joinpath(NEURON_DIR, fileName)\n",
    "#     neuronId = Meta.parse(split(fileName, \".\")[1])\n",
    "    fullName = joinpath(DATASET_DIR, \"atlas/bin/$(neuronId).bin\")\n",
    "    neuron =  Neurons.load(fullName)\n",
    "    \n",
    "    totalPathLength = Neurons.get_total_path_length( neuron )  \n",
    "    \n",
    "    \n",
    "#     neuronId2neuron[neuronId] = neuron\n",
    "    # only keep the neurons with path length larger than 40 microns\n",
    "    if Neurons.get_total_path_length(neuron) > Float32(20000)\n",
    "        push!(totalPathLengthList, totalPathLength)\n",
    "        push!(newNeuronIdList, neuronId)\n",
    "        neuronId2neuron[neuronId] = neuron\n",
    "    else\n",
    "        push!(skippedNeuronIdList, neuronId)\n",
    "    end\n",
    "end  \n",
    "\n",
    "neuronIdList = newNeuronIdList\n",
    "df[!,:neuronId] = neuronIdList;\n",
    "\n",
    "\n",
    "println(\"skipped \", length(skippedNeuronIdList), \" neurons: \", skippedNeuronIdList)"
   ]
  },
  {
   "cell_type": "code",
   "execution_count": 38,
   "metadata": {},
   "outputs": [
    {
     "ename": "LoadError",
     "evalue": "UndefVarError: skippedNeuronIdList not defined",
     "output_type": "error",
     "traceback": [
      "UndefVarError: skippedNeuronIdList not defined",
      "",
      "Stacktrace:",
      " [1] top-level scope",
      "   @ In[38]:1",
      " [2] eval",
      "   @ ./boot.jl:373 [inlined]",
      " [3] include_string(mapexpr::typeof(REPL.softscope), mod::Module, code::String, filename::String)",
      "   @ Base ./loading.jl:1196"
     ]
    }
   ],
   "source": [
    "println(\"skipped \", length(skippedNeuronIdList), \" neurons: \", skippedNeuronIdList)\n",
    "d = JSON.parsefile(joinpath(DATASET_DIR, \"neuron_ids.json\"))\n",
    "d[\"analysis\"] = neuronIdList\n",
    "open(joinpath(DATASET_DIR, \"neuron_ids.json\"), \"w\") do f\n",
    "    write(f, JSON.json(d))\n",
    "end"
   ]
  },
  {
   "cell_type": "code",
   "execution_count": 39,
   "metadata": {},
   "outputs": [
    {
     "ename": "LoadError",
     "evalue": "UndefVarError: df not defined",
     "output_type": "error",
     "traceback": [
      "UndefVarError: df not defined",
      "",
      "Stacktrace:",
      " [1] top-level scope",
      "   @ In[39]:2",
      " [2] eval",
      "   @ ./boot.jl:373 [inlined]",
      " [3] include_string(mapexpr::typeof(REPL.softscope), mod::Module, code::String, filename::String)",
      "   @ Base ./loading.jl:1196"
     ]
    }
   ],
   "source": [
    "\n",
    "df[!, :totalPathLength] = totalPathLengthList\n",
    "\n",
    "p = PyPlot.hist(df[!, :totalPathLength]./1000, bins=80)\n",
    "PyPlot.xlabel(\"total path length (\\u03BCm)\")\n",
    "PyPlot.ylabel(\"count of cells\")\n",
    "\n",
    "# println(\"total path length is \", sum( totalPathLengthList ) / 1e6, \" mm\")\n",
    "\n",
    "fname = expanduser(\"~/Pictures/total_path_length.svg\")\n",
    "\n",
    "PyPlot.savefig(fname)"
   ]
  },
  {
   "cell_type": "code",
   "execution_count": 40,
   "metadata": {},
   "outputs": [],
   "source": [
    "\n",
    "# PyPlot.plt[:hist](totalPathLengthList./1000, bins=40)\n",
    "# PyPlot.xlabel(L\"total\\ path\\ length\\ (\\mu m)\")\n",
    "# PyPlot.ylabel(\"number of neurons\")\n",
    "\n",
    "# p = PyPlot.hist(totalPathLengthList./1000, leg=false, nbins=80)\n",
    "# xlabel!(p, L\"total\\ path\\ length\\ (\\mu m)\")\n",
    "# ylabel!(p, \"number of neurons\")\n",
    "\n",
    "# PyPlot.xlim(0,100)\n",
    "# PyPlot.savefig(\"~/Pictures/total_path_length.svg\")\n",
    "# PyPlot.savefig(expanduser(\"~/Pictures/total_path_length.png\"))"
   ]
  },
  {
   "cell_type": "code",
   "execution_count": 41,
   "metadata": {},
   "outputs": [],
   "source": [
    "# fname = expanduser(\"~/Pictures/total_path_length.png\")\n",
    "\n",
    "# PyPlot.savefig(fname)\n",
    "# PyPlot.SVG(fname)\n",
    "# PyPlot.plt[:savefig](fname)\n"
   ]
  },
  {
   "cell_type": "code",
   "execution_count": 42,
   "metadata": {},
   "outputs": [
    {
     "ename": "LoadError",
     "evalue": "UndefVarError: PyPlot not defined",
     "output_type": "error",
     "traceback": [
      "UndefVarError: PyPlot not defined",
      "",
      "Stacktrace:",
      " [1] top-level scope",
      "   @ In[42]:2",
      " [2] eval",
      "   @ ./boot.jl:373 [inlined]",
      " [3] include_string(mapexpr::typeof(REPL.softscope), mod::Module, code::String, filename::String)",
      "   @ Base ./loading.jl:1196"
     ]
    }
   ],
   "source": [
    "# ?PyPlot.savefig\n",
    "PyPlot.PyCall.python"
   ]
  },
  {
   "cell_type": "code",
   "execution_count": 43,
   "metadata": {},
   "outputs": [
    {
     "ename": "LoadError",
     "evalue": "UndefVarError: neuronId2neuron not defined",
     "output_type": "error",
     "traceback": [
      "UndefVarError: neuronId2neuron not defined",
      "",
      "Stacktrace:",
      " [1] top-level scope",
      "   @ ./In[43]:2",
      " [2] eval",
      "   @ ./boot.jl:373 [inlined]",
      " [3] include_string(mapexpr::typeof(REPL.softscope), mod::Module, code::String, filename::String)",
      "   @ Base ./loading.jl:1196"
     ]
    }
   ],
   "source": [
    "totalAxonPathLengthList = Vector{Float32}()\n",
    "for (neuronId, neuron) in neuronId2neuron \n",
    "    #println(\"compute total path length of $cellId ...\")\n",
    "    totalAxonPathLength = Neurons.get_total_path_length( neuron; class=Neurons.Segments.AXON_CLASS )  \n",
    "    push!(totalAxonPathLengthList, totalAxonPathLength)\n",
    "end  \n",
    "\n",
    "df[!, :totalAxonPathLength] = totalAxonPathLengthList\n",
    "\n",
    "p = PyPlot.hist(df[!, :totalAxonPathLength]./1000,  bins=50)\n",
    "PyPlot.xlabel(L\"total\\ axon\\ path\\ length\\ (\\mu m)\")\n",
    "PyPlot.ylabel(L\"count\\ of\\ cells\")\n",
    "PyPlot.savefig(expanduser(\"~/Pictures/total_axon_path_length.svg\"))"
   ]
  },
  {
   "cell_type": "code",
   "execution_count": 44,
   "metadata": {},
   "outputs": [
    {
     "ename": "LoadError",
     "evalue": "UndefVarError: neuronId2neuron not defined",
     "output_type": "error",
     "traceback": [
      "UndefVarError: neuronId2neuron not defined",
      "",
      "Stacktrace:",
      " [1] top-level scope",
      "   @ ./In[44]:2",
      " [2] eval",
      "   @ ./boot.jl:373 [inlined]",
      " [3] include_string(mapexpr::typeof(REPL.softscope), mod::Module, code::String, filename::String)",
      "   @ Base ./loading.jl:1196"
     ]
    }
   ],
   "source": [
    "totalDendPathLengthList = Vector{Float32}()\n",
    "for (neuronId, neuron) in neuronId2neuron \n",
    "    #println(\"compute total path length of $cellId ...\")\n",
    "    totalDendPathLength = Neurons.get_total_path_length( neuron; class=Neurons.Segments.DENDRITE_CLASS )  \n",
    "    push!(totalDendPathLengthList, totalDendPathLength)\n",
    "end  \n",
    "\n",
    "df[!, :totalDendPathLength] = totalDendPathLengthList\n",
    "\n",
    "p = hist(df[!, :totalDendPathLength]./1000, bins=50)\n",
    "PyPlot.xlabel(L\"total\\ dendrite\\ path\\ length\\ (\\mu m)\")\n",
    "PyPlot.ylabel(L\"count\\ of\\ cells\")\n",
    "xlim(0, 600)\n",
    "PyPlot.savefig(expanduser(\"~/Pictures/total_dendrite_path_length.svg\"))"
   ]
  },
  {
   "cell_type": "code",
   "execution_count": 45,
   "metadata": {},
   "outputs": [
    {
     "ename": "LoadError",
     "evalue": "UndefVarError: neuronId2neuron not defined",
     "output_type": "error",
     "traceback": [
      "UndefVarError: neuronId2neuron not defined",
      "",
      "Stacktrace:",
      " [1] top-level scope",
      "   @ ./In[45]:3",
      " [2] eval",
      "   @ ./boot.jl:373 [inlined]",
      " [3] include_string(mapexpr::typeof(REPL.softscope), mod::Module, code::String, filename::String)",
      "   @ Base ./loading.jl:1196"
     ]
    }
   ],
   "source": [
    "preSynapseNumList = Vector{Int}()\n",
    "postSynapseNumList = Vector{Int}()\n",
    "for (neuronId, neuron) in neuronId2neuron \n",
    "    #println(\"compute total path length of $cellId ...\")\n",
    "    preSynapseNum = Neurons.get_num_pre_synapses( neuron )  \n",
    "    push!(preSynapseNumList, preSynapseNum)\n",
    "    \n",
    "    postSynapseNum = Neurons.get_num_post_synapses( neuron )  \n",
    "    push!(postSynapseNumList, postSynapseNum)\n",
    "end  \n",
    "\n",
    "df[!, :preSynapseNum] = preSynapseNumList\n",
    "df[!, :postSynapseNum] = postSynapseNumList;\n",
    "\n",
    "p = hist(df[!, :preSynapseNum]./1000, bins=50)\n",
    "# PyPlot.scatter()\n",
    "xlabel(L\"presynapse number\")\n",
    "ylabel(L\"count\\ of\\ cells\")\n",
    "xlim(0, 0.5)\n",
    "\n",
    "PyPlot.savefig(expanduser(\"~/Pictures/presynapse_num.svg\"))"
   ]
  },
  {
   "cell_type": "code",
   "execution_count": 46,
   "metadata": {},
   "outputs": [
    {
     "ename": "LoadError",
     "evalue": "UndefVarError: df not defined",
     "output_type": "error",
     "traceback": [
      "UndefVarError: df not defined",
      "",
      "Stacktrace:",
      " [1] top-level scope",
      "   @ In[46]:3",
      " [2] eval",
      "   @ ./boot.jl:373 [inlined]",
      " [3] include_string(mapexpr::typeof(REPL.softscope), mod::Module, code::String, filename::String)",
      "   @ Base ./loading.jl:1196"
     ]
    }
   ],
   "source": [
    "\n",
    "\n",
    "p = hist(df[!, :postSynapseNum]./1000, bins=50)\n",
    "# PyPlot.scatter()\n",
    "xlabel(L\"postsynapse number\")\n",
    "ylabel(L\"count\\ of\\ cells\")\n",
    "xlim(0, 0.8)\n",
    "\n",
    "PyPlot.savefig(expanduser(\"~/Pictures/postsynapse_num.svg\"))"
   ]
  },
  {
   "cell_type": "code",
   "execution_count": 47,
   "metadata": {},
   "outputs": [
    {
     "ename": "LoadError",
     "evalue": "LoadError: UndefVarError: @showprogress not defined\nin expression starting at In[47]:3",
     "output_type": "error",
     "traceback": [
      "LoadError: UndefVarError: @showprogress not defined\nin expression starting at In[47]:3",
      "",
      "Stacktrace:",
      " [1] top-level scope",
      "   @ :0",
      " [2] eval",
      "   @ ./boot.jl:373 [inlined]",
      " [3] include_string(mapexpr::typeof(REPL.softscope), mod::Module, code::String, filename::String)",
      "   @ Base ./loading.jl:1196"
     ]
    }
   ],
   "source": [
    "const ROOT_RADIUS_THRESHOLD = 800\n",
    "rootRadiusList = Vector{Float32}()\n",
    "@showprogress 1 \"compute root radius...\" for (neuronId,neuron) in neuronId2neuron\n",
    "    #root = Neurons.get_root_node(neuron)\n",
    "    root = Neurons.get_root_node( neuron )\n",
    "    push!(rootRadiusList, root[4])\n",
    "end \n",
    "\n",
    "df[!, :rootRadius] = rootRadiusList\n",
    "\n",
    "p = PyPlot.hist( rootRadiusList./1000, bins = 70 )\n",
    "xlabel(L\"root\\ node\\ radius\\ (\\mu m)\")\n",
    "ylabel(L\"count\\ of\\ neurons\")\n",
    "\n",
    "# PyPlot.plt[:hist](rootRadiusList./1000, bins=70)\n",
    "# PyPlot.xlabel(L\"root\\ node\\ radius\\ (\\mu m)\")\n",
    "# PyPlot.ylabel(\"count of neurons\")\n",
    "\n",
    "PyPlot.savefig(expanduser(\"~/Pictures/root_radius.svg\"))"
   ]
  },
  {
   "cell_type": "code",
   "execution_count": 48,
   "metadata": {},
   "outputs": [],
   "source": [
    "# using Query\n",
    "# q = @from i in df begin\n",
    "#      @where i.rootRadius > ROOT_RADIUS_THRESHOLD\n",
    "#      @select {i.neuronId}\n",
    "#      @collect DataFrame\n",
    "# end\n",
    "# neuronIdListWithSoma = q[:neuronId]\n",
    "# @save \"neuron_id_list_with_soma.jld\" neuronIdListWithSoma"
   ]
  },
  {
   "cell_type": "code",
   "execution_count": 49,
   "metadata": {},
   "outputs": [
    {
     "ename": "LoadError",
     "evalue": "UndefVarError: neuronId2neuron not defined",
     "output_type": "error",
     "traceback": [
      "UndefVarError: neuronId2neuron not defined",
      "",
      "Stacktrace:",
      " [1] top-level scope",
      "   @ In[49]:2",
      " [2] eval",
      "   @ ./boot.jl:373 [inlined]",
      " [3] include_string(mapexpr::typeof(REPL.softscope), mod::Module, code::String, filename::String)",
      "   @ Base ./loading.jl:1196"
     ]
    }
   ],
   "source": [
    "averageBranchingAngleList = Vector{Float32}()\n",
    "for (neuronId, neuron) in neuronId2neuron\n",
    "    branchingAngleList = map(i->Neurons.get_branching_angle(neuron,i), \n",
    "                                                        1:Neurons.get_num_segments(neuron))\n",
    "    push!(averageBranchingAngleList, mean(branchingAngleList))\n",
    "end \n",
    "\n",
    "df[!, :averageBranchingAngle] = averageBranchingAngleList\n",
    "\n",
    "# PyPlot.plt[:hist](averageBranchingAngleList, bins=90)\n",
    "# PyPlot.xlabel(\"average branching angle\")\n",
    "# PyPlot.ylabel(\"count of neurons\")\n",
    "\n",
    "PyPlot.hist(averageBranchingAngleList, bins=50)\n",
    "xlabel(\"average branching angle\")\n",
    "ylabel(\"count of neurons\")\n",
    "\n",
    "\n",
    "PyPlot.savefig(expanduser(\"~/Pictures/average_branching_angle.svg\"))"
   ]
  },
  {
   "cell_type": "code",
   "execution_count": 50,
   "metadata": {},
   "outputs": [
    {
     "ename": "LoadError",
     "evalue": "ArgumentError: Package RealNeuralNetworks not found in current path:\n- Run `import Pkg; Pkg.add(\"RealNeuralNetworks\")` to install the RealNeuralNetworks package.\n",
     "output_type": "error",
     "traceback": [
      "ArgumentError: Package RealNeuralNetworks not found in current path:\n- Run `import Pkg; Pkg.add(\"RealNeuralNetworks\")` to install the RealNeuralNetworks package.\n",
      "",
      "Stacktrace:",
      " [1] require(into::Module, mod::Symbol)",
      "   @ Base ./loading.jl:967",
      " [2] eval",
      "   @ ./boot.jl:373 [inlined]",
      " [3] include_string(mapexpr::typeof(REPL.softscope), mod::Module, code::String, filename::String)",
      "   @ Base ./loading.jl:1196"
     ]
    }
   ],
   "source": [
    "using RealNeuralNetworks.Neurons.Segments\n",
    "averageTortuosityList = Vector{Float32}()\n",
    "for (neuronId, neuron) in neuronId2neuron\n",
    "    tortuosityList = map(Neurons.Segments.get_tortuosity, Neurons.get_segment_list(neuron))\n",
    "    push!(averageTortuosityList, mean(tortuosityList))\n",
    "end \n",
    "\n",
    "df[!, :averageTortuosity] = averageTortuosityList\n",
    "\n",
    "# PyPlot.plt[:hist](averageTortuosityList, bins=20)\n",
    "# PyPlot.xlabel(\"average tortuosity\")\n",
    "# PyPlot.ylabel(\"count of neurons\")\n",
    "\n",
    "hist(averageTortuosityList, bins=64)\n",
    "xlabel(\"average tortuosity\")\n",
    "ylabel(\"count of neurons\")\n",
    "xlim(1, 1.6)\n",
    "\n",
    "\n",
    "PyPlot.savefig(expanduser(\"~/Pictures/average_tortuosity.svg\"))"
   ]
  },
  {
   "cell_type": "code",
   "execution_count": 51,
   "metadata": {},
   "outputs": [
    {
     "ename": "LoadError",
     "evalue": "UndefVarError: Neurons not defined",
     "output_type": "error",
     "traceback": [
      "UndefVarError: Neurons not defined",
      "",
      "Stacktrace:",
      " [1] top-level scope",
      "   @ In[51]:1",
      " [2] eval",
      "   @ ./boot.jl:373 [inlined]",
      " [3] include_string(mapexpr::typeof(REPL.softscope), mod::Module, code::String, filename::String)",
      "   @ Base ./loading.jl:1196"
     ]
    }
   ],
   "source": [
    "asymmetryList = map(Neurons.get_asymmetry, values(neuronId2neuron))\n",
    "df[!, :asymmetry] = asymmetryList\n",
    "\n",
    "\n",
    "\n",
    "hist(df[!, :asymmetry]./1000, bins=40)\n",
    "title(\"Asymmetry\")\n",
    "\n",
    "xlabel(L\"euclidean\\ distance\\ from\\ soma\\ to\\ center\\ of\\ skeleton\\ mass\\ (\\mu m)\")\n",
    "ylabel(L\"count\\ of\\ neurons\")\n",
    "\n",
    "\n",
    "PyPlot.savefig(expanduser(\"~/Pictures/asymmetry.svg\"))"
   ]
  },
  {
   "cell_type": "code",
   "execution_count": 52,
   "metadata": {},
   "outputs": [
    {
     "ename": "LoadError",
     "evalue": "UndefVarError: Neurons not defined",
     "output_type": "error",
     "traceback": [
      "UndefVarError: Neurons not defined",
      "",
      "Stacktrace:",
      " [1] top-level scope",
      "   @ In[52]:1",
      " [2] eval",
      "   @ ./boot.jl:373 [inlined]",
      " [3] include_string(mapexpr::typeof(REPL.softscope), mod::Module, code::String, filename::String)",
      "   @ Base ./loading.jl:1196"
     ]
    }
   ],
   "source": [
    "typicalRadiusList = map(Neurons.get_typical_radius, values(neuronId2neuron))\n",
    "df[!, :typicalRadius] = typicalRadiusList\n",
    "\n",
    "PyPlot.hist(df[!, :typicalRadius]./1000, bins=40)\n",
    "xlabel(L\"typical\\ radius\\ (\\mu m)\")\n",
    "ylabel(L\"count\\ of\\ neurons\")\n",
    "\n",
    "\n",
    "PyPlot.savefig(expanduser(\"~/Pictures/typical_radius.svg\"))"
   ]
  },
  {
   "cell_type": "code",
   "execution_count": 53,
   "metadata": {},
   "outputs": [
    {
     "ename": "LoadError",
     "evalue": "UndefVarError: neuronId2neuron not defined",
     "output_type": "error",
     "traceback": [
      "UndefVarError: neuronId2neuron not defined",
      "",
      "Stacktrace:",
      " [1] top-level scope",
      "   @ ./In[53]:2",
      " [2] eval",
      "   @ ./boot.jl:373 [inlined]",
      " [3] include_string(mapexpr::typeof(REPL.softscope), mod::Module, code::String, filename::String)",
      "   @ Base ./loading.jl:1196"
     ]
    }
   ],
   "source": [
    "numBranchingPointList = Vector{Int}()\n",
    "for (neuronId, neuron) in neuronId2neuron\n",
    "    numBranchingPoint = Neurons.get_num_branching_points(neuron)    \n",
    "    push!(numBranchingPointList, numBranchingPoint) \n",
    "end  \n",
    "\n",
    "df[!, :numBranchingPoint] = numBranchingPointList\n",
    "\n",
    "p = hist(df[!, :numBranchingPoint], bins=64)\n",
    "xlabel(\"number of branching points\")\n",
    "ylabel(\"count of neurons\")\n",
    "xlim(0, 100)\n",
    "\n",
    "\n",
    "PyPlot.savefig(expanduser(\"~/Pictures/branching_point_num.svg\"))"
   ]
  },
  {
   "cell_type": "code",
   "execution_count": 54,
   "metadata": {},
   "outputs": [],
   "source": [
    "# using Query\n",
    "# q = @from i in df begin\n",
    "#      @where i.rootRadius > ROOT_RADIUS_THRESHOLD\n",
    "#      @select {numBranchingPoint=i.numBranchingPoint}\n",
    "#      @collect DataFrame\n",
    "# end\n",
    "# p = histogram(q[:numBranchingPoint], leg=false, nbins=40)\n",
    "# xlabel!(p, \"number of branching points\")\n",
    "# ylabel!(p, \"count of neurons\")"
   ]
  },
  {
   "cell_type": "code",
   "execution_count": 55,
   "metadata": {},
   "outputs": [],
   "source": [
    "# q = @from i in df begin\n",
    "#      @where i.numBranchingPoint > 300\n",
    "#      @select {neuronId = i.neuronId, numBranchingPoint=i.numBranchingPoint}\n",
    "#      @collect DataFrame\n",
    "# end\n",
    "# q"
   ]
  },
  {
   "cell_type": "code",
   "execution_count": 56,
   "metadata": {},
   "outputs": [
    {
     "ename": "LoadError",
     "evalue": "UndefVarError: neuronId2neuron not defined",
     "output_type": "error",
     "traceback": [
      "UndefVarError: neuronId2neuron not defined",
      "",
      "Stacktrace:",
      " [1] top-level scope",
      "   @ ./In[56]:3",
      " [2] eval",
      "   @ ./boot.jl:373 [inlined]",
      " [3] include_string(mapexpr::typeof(REPL.softscope), mod::Module, code::String, filename::String)",
      "   @ Base ./loading.jl:1196"
     ]
    }
   ],
   "source": [
    "medianBranchPathLengthList = Vector{Float64}()\n",
    "maxBranchPathLengthList = Vector{Float64}()\n",
    "for (neuronId, neuron) in neuronId2neuron\n",
    "    branchPathLengthList = Neurons.get_segment_path_length_list( neuron )\n",
    "    push!(medianBranchPathLengthList, median(branchPathLengthList))\n",
    "    push!(maxBranchPathLengthList, maximum(branchPathLengthList))\n",
    "end  \n",
    "\n",
    "df[!, :medianBranchPathLength] = medianBranchPathLengthList\n",
    "df[!, :maxBranchPathLength] = maxBranchPathLengthList \n",
    "p = hist(df[!, :medianBranchPathLength]./1000, bins=128 )\n",
    "xlabel(L\"median\\ of\\ branch\\ path\\ length\\ (\\mu m)\")\n",
    "ylabel(L\"count\\ of\\ neurons\")\n",
    "xlim(0, 50)\n",
    "\n",
    "\n",
    "\n",
    "PyPlot.savefig(expanduser(\"~/Pictures/median_of_branch_path_length.svg\"))"
   ]
  },
  {
   "cell_type": "code",
   "execution_count": 57,
   "metadata": {},
   "outputs": [
    {
     "ename": "LoadError",
     "evalue": "ArgumentError: Package Query not found in current path:\n- Run `import Pkg; Pkg.add(\"Query\")` to install the Query package.\n",
     "output_type": "error",
     "traceback": [
      "ArgumentError: Package Query not found in current path:\n- Run `import Pkg; Pkg.add(\"Query\")` to install the Query package.\n",
      "",
      "Stacktrace:",
      " [1] require(into::Module, mod::Symbol)",
      "   @ Base ./loading.jl:967",
      " [2] eval",
      "   @ ./boot.jl:373 [inlined]",
      " [3] include_string(mapexpr::typeof(REPL.softscope), mod::Module, code::String, filename::String)",
      "   @ Base ./loading.jl:1196"
     ]
    }
   ],
   "source": [
    "using Query\n",
    "q = @from i in df begin\n",
    "     @where i.rootRadius > ROOT_RADIUS_THRESHOLD\n",
    "     @select {medianBranchPathLength=i.medianBranchPathLength}\n",
    "     @collect DataFrame\n",
    "end\n",
    "p = hist(q[!, :medianBranchPathLength]./1000, bins=40)\n",
    "xlabel(L\"median\\ of\\ branch\\ path\\ length\\ with\\ soma\\ (\\mu m)\")\n",
    "ylabel(L\"count\\ of\\ neurons\")\n",
    "\n",
    "\n",
    "PyPlot.savefig(expanduser(\"~/Pictures/median_of_branch_path_length_with_soma.svg\"))"
   ]
  },
  {
   "cell_type": "code",
   "execution_count": 58,
   "metadata": {},
   "outputs": [
    {
     "ename": "LoadError",
     "evalue": "UndefVarError: df not defined",
     "output_type": "error",
     "traceback": [
      "UndefVarError: df not defined",
      "",
      "Stacktrace:",
      " [1] top-level scope",
      "   @ In[58]:1",
      " [2] eval",
      "   @ ./boot.jl:373 [inlined]",
      " [3] include_string(mapexpr::typeof(REPL.softscope), mod::Module, code::String, filename::String)",
      "   @ Base ./loading.jl:1196"
     ]
    }
   ],
   "source": [
    "p = hist(df[!, :maxBranchPathLength]./1000, bins=64)\n",
    "xlabel(L\"maximum\\ branch\\ path\\ length\\ (\\mu m)\")\n",
    "ylabel(L\"count\\ of\\ neurons\")\n",
    "\n",
    "\n",
    "PyPlot.savefig(expanduser(\"~/Pictures/maximum_branch_path_length.svg\"))"
   ]
  },
  {
   "cell_type": "code",
   "execution_count": 59,
   "metadata": {},
   "outputs": [
    {
     "ename": "LoadError",
     "evalue": "ArgumentError: Package Query not found in current path:\n- Run `import Pkg; Pkg.add(\"Query\")` to install the Query package.\n",
     "output_type": "error",
     "traceback": [
      "ArgumentError: Package Query not found in current path:\n- Run `import Pkg; Pkg.add(\"Query\")` to install the Query package.\n",
      "",
      "Stacktrace:",
      " [1] require(into::Module, mod::Symbol)",
      "   @ Base ./loading.jl:967",
      " [2] eval",
      "   @ ./boot.jl:373 [inlined]",
      " [3] include_string(mapexpr::typeof(REPL.softscope), mod::Module, code::String, filename::String)",
      "   @ Base ./loading.jl:1196"
     ]
    }
   ],
   "source": [
    "using Query\n",
    "q = @from i in df begin\n",
    "     @where i.rootRadius > ROOT_RADIUS_THRESHOLD\n",
    "     @select {maxBranchPathLength=i.maxBranchPathLength}\n",
    "     @collect DataFrame\n",
    "end\n",
    "p = hist(q[!, :maxBranchPathLength]./1000, bins=64)\n",
    "xlabel(L\"maximum\\ branch\\ path\\ length\\ with\\ soma\\ (\\mu m)\")\n",
    "ylabel(L\"count\\ of\\ neurons\")\n",
    "xlim(0, 175)\n",
    "\n",
    "PyPlot.savefig(expanduser(\"~/Pictures/maximum_branch_path_length_with_soma.svg\"))"
   ]
  },
  {
   "cell_type": "markdown",
   "metadata": {},
   "source": [
    "### Convex Hull"
   ]
  },
  {
   "cell_type": "code",
   "execution_count": 60,
   "metadata": {
    "scrolled": true
   },
   "outputs": [],
   "source": [
    "# # remove cell 76388 which is too small to compute convex hull\n",
    "# q = @from i in df begin\n",
    "#      @where i.neuronId != 76388 && i.neuronId!=79514\n",
    "#      @select i\n",
    "#      @collect DataFrame\n",
    "# end\n",
    "# df = q"
   ]
  },
  {
   "cell_type": "code",
   "execution_count": 61,
   "metadata": {},
   "outputs": [
    {
     "ename": "LoadError",
     "evalue": "ArgumentError: Package QHull not found in current path:\n- Run `import Pkg; Pkg.add(\"QHull\")` to install the QHull package.\n",
     "output_type": "error",
     "traceback": [
      "ArgumentError: Package QHull not found in current path:\n- Run `import Pkg; Pkg.add(\"QHull\")` to install the QHull package.\n",
      "",
      "Stacktrace:",
      " [1] require(into::Module, mod::Symbol)",
      "   @ Base ./loading.jl:967",
      " [2] eval",
      "   @ ./boot.jl:373 [inlined]",
      " [3] include_string(mapexpr::typeof(REPL.softscope), mod::Module, code::String, filename::String)",
      "   @ Base ./loading.jl:1196"
     ]
    }
   ],
   "source": [
    "# convex hull analysis\n",
    "using QHull\n",
    "using ProgressMeter\n",
    "\n",
    "convexHullVolumeList = Float32[]\n",
    "convexHullAreaList = Float32[]\n",
    "@showprogress 1 \"computing convex hull...\" for neuronId in keys(neuronId2neuron)\n",
    "    neuron = neuronId2neuron[neuronId]\n",
    "    nodeList = Neurons.get_node_list(neuron)\n",
    "    points = zeros((length(nodeList), 3))\n",
    "    for (i,node) in enumerate(nodeList)\n",
    "        points[i,:] = [nodeList[i][1:3]...]\n",
    "    end \n",
    "    ch = chull(points)\n",
    "    push!(convexHullVolumeList, ch.volume)\n",
    "    push!(convexHullAreaList, ch.area)\n",
    "end\n",
    "\n",
    "df[!, :convexHullVolume] = Vector{Float32}( convexHullVolumeList )\n",
    "df[!, :convexHullArea] = Vector{Float32}( convexHullAreaList )\n",
    "\n",
    "p = hist(convexHullVolumeList ./ 1e9, bins=64)\n",
    "xlabel(L\"convex\\ hull\\ volume\\ (\\mu m^3)\")\n",
    "ylabel(L\"count\\ of\\ neurons\")\n",
    "\n",
    "\n",
    "PyPlot.savefig(expanduser(\"~/Pictures/convex_hull_volume.svg\"))"
   ]
  },
  {
   "cell_type": "code",
   "execution_count": 62,
   "metadata": {},
   "outputs": [
    {
     "ename": "LoadError",
     "evalue": "LoadError: UndefVarError: @showprogress not defined\nin expression starting at In[62]:5",
     "output_type": "error",
     "traceback": [
      "LoadError: UndefVarError: @showprogress not defined\nin expression starting at In[62]:5",
      "",
      "Stacktrace:",
      " [1] top-level scope",
      "   @ :0",
      " [2] eval",
      "   @ ./boot.jl:373 [inlined]",
      " [3] include_string(mapexpr::typeof(REPL.softscope), mod::Module, code::String, filename::String)",
      "   @ Base ./loading.jl:1196"
     ]
    }
   ],
   "source": [
    "# frustum-based surface area and volume\n",
    "surfaceAreaList = Float32[]\n",
    "volumeList = Float32[]\n",
    "\n",
    "@showprogress 1 \"compute surface area...\" for neuronId in keys(neuronId2neuron)\n",
    "    neuron = neuronId2neuron[neuronId]\n",
    "    push!(surfaceAreaList, Neurons.get_surface_area(neuron))\n",
    "    push!(volumeList, Neurons.get_volume(neuron))\n",
    "end\n",
    "\n",
    "df[!, :surfaceArea] = surfaceAreaList\n",
    "df[!, :volume] = volumeList\n",
    "\n",
    "p = hist(surfaceAreaList./1e6, bins=40)\n",
    "xlabel(L\"surface\\ area\\ (\\mu m^2)\")\n",
    "ylabel(L\"count\\ of\\ neurons\")\n",
    "\n",
    "\n",
    "PyPlot.savefig(expanduser(\"~/Pictures/surface_area.svg\"))"
   ]
  },
  {
   "cell_type": "code",
   "execution_count": 63,
   "metadata": {},
   "outputs": [
    {
     "ename": "LoadError",
     "evalue": "UndefVarError: hist not defined",
     "output_type": "error",
     "traceback": [
      "UndefVarError: hist not defined",
      "",
      "Stacktrace:",
      " [1] top-level scope",
      "   @ In[63]:1",
      " [2] eval",
      "   @ ./boot.jl:373 [inlined]",
      " [3] include_string(mapexpr::typeof(REPL.softscope), mod::Module, code::String, filename::String)",
      "   @ Base ./loading.jl:1196"
     ]
    }
   ],
   "source": [
    "p = hist(volumeList./1e9, bins=64)\n",
    "xlabel(L\"volume\\ (\\mu m^3)\")\n",
    "ylabel(L\"count\\ of\\ neurons\")\n",
    "xlim(0, 150)\n",
    "\n",
    "\n",
    "PyPlot.savefig(expanduser(\"~/Pictures/volume.svg\"))"
   ]
  },
  {
   "cell_type": "markdown",
   "metadata": {},
   "source": [
    "# Save features"
   ]
  },
  {
   "cell_type": "code",
   "execution_count": 64,
   "metadata": {},
   "outputs": [
    {
     "ename": "LoadError",
     "evalue": "ArgumentError: Package CSV not found in current path:\n- Run `import Pkg; Pkg.add(\"CSV\")` to install the CSV package.\n",
     "output_type": "error",
     "traceback": [
      "ArgumentError: Package CSV not found in current path:\n- Run `import Pkg; Pkg.add(\"CSV\")` to install the CSV package.\n",
      "",
      "Stacktrace:",
      " [1] require(into::Module, mod::Symbol)",
      "   @ Base ./loading.jl:967",
      " [2] eval",
      "   @ ./boot.jl:373 [inlined]",
      " [3] include_string(mapexpr::typeof(REPL.softscope), mod::Module, code::String, filename::String)",
      "   @ Base ./loading.jl:1196"
     ]
    }
   ],
   "source": [
    "# save dataframe\n",
    "using CSV\n",
    "@show size(df)\n",
    "@assert DataFrames.ncol(df) >= 14\n",
    "CSV.write(\"$(DATASET_DIR)/features.csv\", df)"
   ]
  },
  {
   "cell_type": "markdown",
   "metadata": {},
   "source": [
    "# Clustering"
   ]
  },
  {
   "cell_type": "code",
   "execution_count": 65,
   "metadata": {
    "scrolled": true
   },
   "outputs": [
    {
     "ename": "LoadError",
     "evalue": "LoadError: UndefVarError: @from not defined\nin expression starting at In[65]:3",
     "output_type": "error",
     "traceback": [
      "LoadError: UndefVarError: @from not defined\nin expression starting at In[65]:3",
      "",
      "Stacktrace:",
      " [1] top-level scope",
      "   @ :0",
      " [2] eval",
      "   @ ./boot.jl:373 [inlined]",
      " [3] include_string(mapexpr::typeof(REPL.softscope), mod::Module, code::String, filename::String)",
      "   @ Base ./loading.jl:1196"
     ]
    }
   ],
   "source": [
    "# data frame only contain neurons\n",
    "# using Que\n",
    "ndf = @from i in df begin\n",
    "     @where i.rootRadius > ROOT_RADIUS_THRESHOLD\n",
    "     @select i\n",
    "     @collect DataFrame\n",
    "end\n",
    "\n",
    "# ndf[:convexHullVolume] |> Vector{Float64}\n",
    "@show nrow(ndf)"
   ]
  },
  {
   "cell_type": "code",
   "execution_count": 66,
   "metadata": {},
   "outputs": [
    {
     "ename": "LoadError",
     "evalue": "UndefVarError: ndf not defined",
     "output_type": "error",
     "traceback": [
      "UndefVarError: ndf not defined",
      "",
      "Stacktrace:",
      " [1] top-level scope",
      "   @ In[66]:1",
      " [2] eval",
      "   @ ./boot.jl:373 [inlined]",
      " [3] include_string(mapexpr::typeof(REPL.softscope), mod::Module, code::String, filename::String)",
      "   @ Base ./loading.jl:1196"
     ]
    }
   ],
   "source": [
    "names(ndf)\n"
   ]
  },
  {
   "cell_type": "code",
   "execution_count": 67,
   "metadata": {},
   "outputs": [
    {
     "ename": "LoadError",
     "evalue": "ArgumentError: Package StatsBase not found in current path:\n- Run `import Pkg; Pkg.add(\"StatsBase\")` to install the StatsBase package.\n",
     "output_type": "error",
     "traceback": [
      "ArgumentError: Package StatsBase not found in current path:\n- Run `import Pkg; Pkg.add(\"StatsBase\")` to install the StatsBase package.\n",
      "",
      "Stacktrace:",
      " [1] require(into::Module, mod::Symbol)",
      "   @ Base ./loading.jl:967",
      " [2] eval",
      "   @ ./boot.jl:373 [inlined]",
      " [3] include_string(mapexpr::typeof(REPL.softscope), mod::Module, code::String, filename::String)",
      "   @ Base ./loading.jl:1196"
     ]
    }
   ],
   "source": [
    "using StatsBase\n",
    "# each column is a sample\n",
    "sampleMatrix = zeros( size(ndf,2), size(ndf,1)) \n",
    "@show size(sampleMatrix)\n",
    "\n",
    "nameIndex = 0\n",
    "for name in names(ndf)\n",
    "    if name != \"neuronId\"\n",
    "        nameIndex += 1\n",
    "#         @show name, typeof(ndf[name]), nameIndex\n",
    "        sampleMatrix[ nameIndex, : ] = zscore(ndf[!, name])\n",
    "    end \n",
    "end \n",
    "\n",
    "# construct distance matrix\n",
    "using Distances\n",
    "distanceMatrix = pairwise( CosineDist(), sampleMatrix )\n",
    "# @show size(distanceMatrix)\n",
    "# @show maximum(distanceMatrix)\n",
    "# @show minimum(distanceMatrix)\n",
    "# @show cosine_dist(sampleMatrix[1,:], sampleMatrix[2,:])\n",
    "# @show sampleMatrix\n",
    "# hierachical clustering\n",
    "using Clustering\n",
    "clust = Clustering.hclust( distanceMatrix, :average);\n"
   ]
  },
  {
   "cell_type": "code",
   "execution_count": 68,
   "metadata": {
    "scrolled": false
   },
   "outputs": [
    {
     "ename": "LoadError",
     "evalue": "UndefVarError: plotly not defined",
     "output_type": "error",
     "traceback": [
      "UndefVarError: plotly not defined",
      "",
      "Stacktrace:",
      " [1] top-level scope",
      "   @ In[68]:1",
      " [2] eval",
      "   @ ./boot.jl:373 [inlined]",
      " [3] include_string(mapexpr::typeof(REPL.softscope), mod::Module, code::String, filename::String)",
      "   @ Base ./loading.jl:1196"
     ]
    }
   ],
   "source": [
    "plotly()\n",
    "import Pkg\n",
    "include(joinpath(Pkg.dir(\"RealNeuralNetworks\"), \"src/Utils/PlotRecipes.jl\")); using .PlotRecipes\n",
    "\n",
    "PlotRecipes.plot(clust)"
   ]
  },
  {
   "cell_type": "code",
   "execution_count": 69,
   "metadata": {
    "scrolled": true
   },
   "outputs": [
    {
     "ename": "LoadError",
     "evalue": "UndefVarError: sampleMatrix not defined",
     "output_type": "error",
     "traceback": [
      "UndefVarError: sampleMatrix not defined",
      "",
      "Stacktrace:",
      " [1] top-level scope",
      "   @ show.jl:1047",
      " [2] eval",
      "   @ ./boot.jl:373 [inlined]",
      " [3] include_string(mapexpr::typeof(REPL.softscope), mod::Module, code::String, filename::String)",
      "   @ Base ./loading.jl:1196"
     ]
    }
   ],
   "source": [
    "@show size(sampleMatrix)\n",
    "@show maximum(distanceMatrix)\n",
    "@show minimum(distanceMatrix)\n",
    "@show cosine_dist(sampleMatrix[:,110], sampleMatrix[:, 13])\n",
    "x = sampleMatrix[:, 110]\n",
    "y = sampleMatrix[:, 13]\n",
    "# @show dot(x, y) / (norm(x) * norm(y))\n",
    "for i in 1:size(distanceMatrix,1)\n",
    "    for j in 1:size(distanceMatrix, 2)\n",
    "        if distanceMatrix[i,j] > 1.9\n",
    "            print(\"$i,$j:$(distanceMatrix[i,j]); \")\n",
    "        end\n",
    "    end \n",
    "end\n"
   ]
  },
  {
   "cell_type": "code",
   "execution_count": 70,
   "metadata": {},
   "outputs": [
    {
     "ename": "LoadError",
     "evalue": "ArgumentError: Package RealNeuralNetworks not found in current path:\n- Run `import Pkg; Pkg.add(\"RealNeuralNetworks\")` to install the RealNeuralNetworks package.\n",
     "output_type": "error",
     "traceback": [
      "ArgumentError: Package RealNeuralNetworks not found in current path:\n- Run `import Pkg; Pkg.add(\"RealNeuralNetworks\")` to install the RealNeuralNetworks package.\n",
      "",
      "Stacktrace:",
      " [1] require(into::Module, mod::Symbol)",
      "   @ Base ./loading.jl:967",
      " [2] eval",
      "   @ ./boot.jl:373 [inlined]",
      " [3] include_string(mapexpr::typeof(REPL.softscope), mod::Module, code::String, filename::String)",
      "   @ Base ./loading.jl:1196"
     ]
    }
   ],
   "source": [
    "#plot heat map\n",
    "# gr()\n",
    "# rearrange distance matrix according to order\n",
    "using RealNeuralNetworks.NeuralNets\n",
    "reorderedDistanceMatrix = NeuralNets.reorder_matrix(distanceMatrix, clust.order)\n",
    "\n",
    "PyPlot.imshow(reorderedDistanceMatrix)\n",
    "title(\"distance matrix based on morphological statistics\")\n",
    "colorbar()\n",
    "\n",
    "\n",
    "\n",
    "PyPlot.savefig(expanduser(\"~/Pictures/distance_matrix.png\"))"
   ]
  },
  {
   "cell_type": "code",
   "execution_count": 71,
   "metadata": {},
   "outputs": [
    {
     "ename": "LoadError",
     "evalue": "UndefVarError: distanceMatrix not defined",
     "output_type": "error",
     "traceback": [
      "UndefVarError: distanceMatrix not defined",
      "",
      "Stacktrace:",
      " [1] top-level scope",
      "   @ In[71]:2",
      " [2] eval",
      "   @ ./boot.jl:373 [inlined]",
      " [3] include_string(mapexpr::typeof(REPL.softscope), mod::Module, code::String, filename::String)",
      "   @ Base ./loading.jl:1196"
     ]
    }
   ],
   "source": [
    "# Pearson correlation coefficient matrix\n",
    "correlationMatrix = zero(distanceMatrix)\n",
    "for i in 1:size(distanceMatrix, 1)\n",
    "    for j in i:size(distanceMatrix, 2)\n",
    "        c = cor( sampleMatrix[:,i], sampleMatrix[:,j] )\n",
    "        correlationMatrix[i,j] = c\n",
    "        correlationMatrix[j,i] = c\n",
    "    end \n",
    "end\n",
    "\n",
    "# rearrange distance matrix according to order\n",
    "reorderedCorrelationMatrix = zero(correlationMatrix)\n",
    "for (i,o1) in enumerate(clust.order)\n",
    "    for (j, o2) in enumerate(clust.order)\n",
    "        reorderedCorrelationMatrix[i,j] = correlationMatrix[o1,o2]\n",
    "    end \n",
    "end \n",
    "PyPlot.imshow(reorderedCorrelationMatrix)\n",
    "title(\"Pearson correlation coefficient matrix\")\n",
    "\n",
    "colorbar()\n",
    "\n",
    "PyPlot.savefig(expanduser(\"~/Pictures/correlation_coefficient.png\"))"
   ]
  },
  {
   "cell_type": "code",
   "execution_count": 72,
   "metadata": {},
   "outputs": [],
   "source": [
    "#fractalDimensionList = Vector{Float64}()\n",
    "# @everywhere using RealNeuralNetworks.BranchNets\n",
    "#addprocs(4)\n",
    "#@time fractalDimensionList = map( n -> BranchNets.get_fractal_dimension(n)[1], values(branchNets) )"
   ]
  }
 ],
 "metadata": {
  "@webio": {
   "lastCommId": null,
   "lastKernelId": null
  },
  "kernelspec": {
   "display_name": "Julia 1.7.1",
   "language": "julia",
   "name": "julia-1.7"
  },
  "language_info": {
   "file_extension": ".jl",
   "mimetype": "application/julia",
   "name": "julia",
   "version": "1.7.1"
  }
 },
 "nbformat": 4,
 "nbformat_minor": 2
}
