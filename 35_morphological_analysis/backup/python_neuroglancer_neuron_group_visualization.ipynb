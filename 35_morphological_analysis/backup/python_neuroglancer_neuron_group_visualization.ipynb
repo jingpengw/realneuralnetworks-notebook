{
 "cells": [
  {
   "cell_type": "code",
   "execution_count": 4,
   "metadata": {},
   "outputs": [],
   "source": [
    "import neuroglancer as ng\n",
    "import os\n",
    "\n",
    "DATASET_DIR = os.path.expanduser('~/seungmount/research/Jingpeng/14_zfish/01_data/20190415')"
   ]
  },
  {
   "cell_type": "code",
   "execution_count": 3,
   "metadata": {},
   "outputs": [
    {
     "data": {
      "text/html": [
       "<a href=\"http://127.0.0.1:44571/v/35842fb20f17e57f14df949c097d940d9aca837c/\" target=\"_blank\">Viewer</a>"
      ],
      "text/plain": [
       "http://127.0.0.1:44571/v/35842fb20f17e57f14df949c097d940d9aca837c/"
      ]
     },
     "execution_count": 3,
     "metadata": {},
     "output_type": "execute_result"
    }
   ],
   "source": [
    "ng.set_static_content_source(url=\"https://nkem-white-mesh-dot-neuromancer-seung-import.appspot.com/\")\n",
    "viewer = ng.Viewer()\n",
    "viewer"
   ]
  },
  {
   "cell_type": "code",
   "execution_count": 6,
   "metadata": {},
   "outputs": [
    {
     "name": "stdout",
     "output_type": "stream",
     "text": [
      "number of groups:  26\n"
     ]
    }
   ],
   "source": [
    "import os \n",
    "import sys\n",
    "import numpy as np\n",
    "import json\n",
    "\n",
    "clustering_result = dict()\n",
    "\n",
    "# # clean up previous viewer\n",
    "# viewer = ng.Viewer()\n",
    "\n",
    "# file_name = '../01_data/0920/postprocessed/atlas_space/manual_clustering.txt'\n",
    "# file_name = '../01_data/0920/postprocessed/atlas_space/affinity_propagation.txt'\n",
    "# file_name = '../01_data/0920/postprocessed/atlas_space/stochastic_block_model_community_detection.txt'\n",
    "file_name = os.path.join(DATASET_DIR, 'neuron_groups.json')\n",
    "with open(file_name) as f:\n",
    "    clustering_result = json.load(f)\n",
    "    \n",
    "\n",
    "\n",
    "# lines = [line.rstrip('\\n') for line in open(file_name)]\n",
    "# for line in lines:\n",
    "#     group_name, neuron_id_list = line.split(':')\n",
    "#     group_name = group_name.replace(' ', '')\n",
    "#     neuron_id_list = neuron_id_list.replace('[', '')\n",
    "#     neuron_id_list = neuron_id_list.replace(']', '')\n",
    "# #     print(group_name, neuron_id_list)\n",
    "# #     neuron_id_list = np.fromstring(neuron_id_list, dtype=int, sep=',')\n",
    "#     neuron_id_list = [int(s) for s in neuron_id_list.split(sep=',')]\n",
    "# #     print(group_name, neuron_id_list)\n",
    "#     clustering_result[ group_name ] = neuron_id_list\n",
    "    \n",
    "print('number of groups: ', len(clustering_result))"
   ]
  },
  {
   "cell_type": "code",
   "execution_count": 57,
   "metadata": {},
   "outputs": [
    {
     "data": {
      "text/html": [
       "<a href=\"http://127.0.0.1:39825/v/4a7522fcecd74fd95d2c3ce3fcd9e21ad80a4776/\" target=\"_blank\">Viewer</a>"
      ],
      "text/plain": [
       "http://127.0.0.1:39825/v/4a7522fcecd74fd95d2c3ce3fcd9e21ad80a4776/"
      ]
     },
     "execution_count": 57,
     "metadata": {},
     "output_type": "execute_result"
    }
   ],
   "source": [
    "import random\n",
    "r = lambda: random.random()\n",
    "\n",
    "img_source = \"precomputed://gs://neuroglancer/zfish_v1/image\"\n",
    "seg_source = \"precomputed://gs://neuroglancer/zfish_v1/consensus-20180920\"\n",
    "\n",
    "with viewer.txn() as state:\n",
    "#     print(state.layers)\n",
    "    state.layers[\"image\"] = ng.ImageLayer(source=img_source)\n",
    "    for group_name,neuron_id_list in clustering_result.items():\n",
    "        state.layers[group_name] = ng.SegmentationLayer(\n",
    "            source=seg_source, object_alpha=1.0,\n",
    "            skeleton_shader='void main() { emitRGB(vec3(%s, %s, %s)); }' % (r(), r(), r()),\n",
    "        )\n",
    "        state.layers[group_name].layer.segments = neuron_id_list\n",
    "    \n",
    "viewer"
   ]
  },
  {
   "cell_type": "code",
   "execution_count": 33,
   "metadata": {},
   "outputs": [],
   "source": [
    "ng.SegmentationLayer?"
   ]
  }
 ],
 "metadata": {
  "@webio": {
   "lastCommId": null,
   "lastKernelId": null
  },
  "kernelspec": {
   "display_name": "Python 3",
   "language": "python",
   "name": "python3"
  },
  "language_info": {
   "codemirror_mode": {
    "name": "ipython",
    "version": 3
   },
   "file_extension": ".py",
   "mimetype": "text/x-python",
   "name": "python",
   "nbconvert_exporter": "python",
   "pygments_lexer": "ipython3",
   "version": "3.7.3"
  }
 },
 "nbformat": 4,
 "nbformat_minor": 2
}
