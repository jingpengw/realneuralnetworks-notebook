{
 "cells": [
  {
   "cell_type": "code",
   "execution_count": 36,
   "metadata": {},
   "outputs": [],
   "source": [
    "# Open3D: www.open3d.org                                                          \n",
    "# The MIT License (MIT)                                                           \n",
    "# See license file or visit www.open3d.org for details                            \n",
    "                                                                                  \n",
    "from open3d import *                                                              \n",
    "import numpy as np                                                                \n",
    "import copy                                                                       \n",
    "                                                                                  \n",
    "def draw_registration_result(source, target, transformation):                     \n",
    "    source_temp = copy.deepcopy(source)                                           \n",
    "    target_temp = copy.deepcopy(target)                                           \n",
    "    source_temp.paint_uniform_color([1, 0.706, 0])                                \n",
    "    target_temp.paint_uniform_color([0, 0.651, 0.929])                            \n",
    "    source_temp.transform(transformation)                                         \n",
    "    draw_geometries([source_temp, target_temp])                                   \n",
    "                                                                                  \n",
    "def align_point_clouds(source_filename, target_filename, threshold=100000):                                                     \n",
    "    source = read_point_cloud(source_filename)               \n",
    "    target = read_point_cloud(target_filename)                                                            \n",
    "#     trans_init = np.asarray(                                                      \n",
    "#                 [[0.862, 0.011, -0.507,  0.5],                                    \n",
    "#                 [-0.139, 0.967, -0.215,  0.7],                                    \n",
    "#                 [0.487, 0.255,  0.835, -1.4],                                     \n",
    "#                 [0.0, 0.0, 0.0, 1.0]]) \n",
    "    trans_init = np.asarray(                                                      \n",
    "                [[1., 0., 0.,  0.],                                    \n",
    "                [0., 1., 0.,  0.],                                    \n",
    "                [0., 0.,  1., 0.],                                     \n",
    "                [0.0, 0.0, 0.0, 1.0]]) \n",
    "#     draw_registration_result(source, target, trans_init)                          \n",
    "    print(\"Initial alignment\")                                                    \n",
    "    evaluation = evaluate_registration(source, target,                            \n",
    "            threshold, trans_init)                                                \n",
    "    print(evaluation)                                                             \n",
    "                                                                                  \n",
    "    print(\"Apply point-to-point ICP\")                                             \n",
    "    reg_p2p = registration_icp(source, target, threshold, trans_init,             \n",
    "            TransformationEstimationPointToPoint())                               \n",
    "    print(reg_p2p)                                                                \n",
    "    print(\"Transformation is:\")                                                   \n",
    "    print(reg_p2p.transformation)                                                 \n",
    "    print(\"\")       \n",
    "    return reg_p2p.transformation\n",
    "#     draw_registration_result(source, target, reg_p2p.transformation)              \n",
    "                                                                                  \n",
    "#     print(\"Apply point-to-plane ICP\")                                             \n",
    "#     reg_p2l = registration_icp(source, target, threshold, trans_init,             \n",
    "#             TransformationEstimationPointToPlane())                               \n",
    "#     print(reg_p2l)                                                                \n",
    "#     print(\"Transformation is:\")                                                   \n",
    "#     print(reg_p2l.transformation)                                                 \n",
    "#     print(\"\")                                                                     \n",
    "#     draw_registration_result(source, target, reg_p2l.transformation)              \n",
    "\n"
   ]
  },
  {
   "cell_type": "code",
   "execution_count": 6,
   "metadata": {},
   "outputs": [
    {
     "name": "stdout",
     "output_type": "stream",
     "text": [
      "Initial alignment\n",
      "RegistrationResult with fitness = 0.174723, inlier_rmse = 0.011771, and correspondence_set size of 34741\n",
      "Access transformation to get result.\n",
      "Apply point-to-point ICP\n",
      "RegistrationResult with fitness = 0.372450, inlier_rmse = 0.007760, and correspondence_set size of 74056\n",
      "Access transformation to get result.\n",
      "Transformation is:\n",
      "[[ 0.83924644  0.01006041 -0.54390867  0.64639961]\n",
      " [-0.15102344  0.96521988 -0.21491604  0.75166079]\n",
      " [ 0.52191123  0.2616952   0.81146378 -1.50303533]\n",
      " [ 0.          0.          0.          1.        ]]\n",
      "\n",
      "Apply point-to-plane ICP\n",
      "RegistrationResult with fitness = 0.620972, inlier_rmse = 0.006581, and correspondence_set size of 123471\n",
      "Access transformation to get result.\n",
      "Transformation is:\n",
      "[[ 0.84023324  0.00618369 -0.54244126  0.64720943]\n",
      " [-0.14752342  0.96523919 -0.21724508  0.81018928]\n",
      " [ 0.52132423  0.26174429  0.81182576 -1.48366001]\n",
      " [ 0.          0.          0.          1.        ]]\n",
      "\n"
     ]
    }
   ],
   "source": [
    "source_filename = \"/opt/Open3D/src/Python/TestData/ICP/cloud_bin_0.pcd\"\n",
    "target_filename = \"/opt/Open3D/src/Python/TestData/ICP/cloud_bin_1.pcd\"\n",
    "\n",
    "align_point_clouds(source_filename, target_filename)"
   ]
  },
  {
   "cell_type": "code",
   "execution_count": 9,
   "metadata": {},
   "outputs": [],
   "source": [
    "import neurom as nm\n",
    "import os\n",
    "SWC_DIR = '/usr/people/jingpeng/workspace/zfish_analysis/20_skeletonization/0412/swc'\n",
    "neuronIds = [77710, 77300]\n",
    "neuron1 = nm.io.swc.read(os.path.join(SWC_DIR, '{}.swc'.format(neuronIds[0])))\n",
    "neuron2 = nm.io.swc.read(os.path.join(SWC_DIR, '{}.swc'.format(neuronIds[1])))"
   ]
  },
  {
   "cell_type": "code",
   "execution_count": 24,
   "metadata": {},
   "outputs": [],
   "source": [
    "import numpy as np\n",
    "source_filename = '{}.xyz'.format(neuronIds[0])\n",
    "target_filename = '{}.xyz'.format(neuronIds[1])\n",
    "np.savetxt(source_filename, neuron1.data_block[:,0:3])\n",
    "np.savetxt(target_filename, neuron2.data_block[:,0:3])"
   ]
  },
  {
   "cell_type": "code",
   "execution_count": 29,
   "metadata": {
    "scrolled": true
   },
   "outputs": [
    {
     "data": {
      "text/plain": [
       "array([[293920., 124400., 805005.],\n",
       "       [293920., 124400., 805050.],\n",
       "       [293920., 124400., 805095.],\n",
       "       ...,\n",
       "       [274160., 165600., 792675.],\n",
       "       [274080., 165600., 792720.],\n",
       "       [274080., 165600., 792720.]])"
      ]
     },
     "execution_count": 29,
     "metadata": {},
     "output_type": "execute_result"
    }
   ],
   "source": [
    "source = read_point_cloud(source_filename)\n",
    "np.asarray(source.points)"
   ]
  },
  {
   "cell_type": "code",
   "execution_count": 30,
   "metadata": {},
   "outputs": [
    {
     "data": {
      "text/plain": [
       "array([[287760., 125600., 804555.],\n",
       "       [287760., 125600., 804510.],\n",
       "       [287760., 125600., 804465.],\n",
       "       ...,\n",
       "       [253360., 163360., 784935.],\n",
       "       [253280., 163440., 784980.],\n",
       "       [253280., 163440., 784980.]])"
      ]
     },
     "execution_count": 30,
     "metadata": {},
     "output_type": "execute_result"
    }
   ],
   "source": [
    "target = read_point_cloud(target_filename)\n",
    "np.asarray(target.points)"
   ]
  },
  {
   "cell_type": "code",
   "execution_count": 40,
   "metadata": {},
   "outputs": [
    {
     "name": "stdout",
     "output_type": "stream",
     "text": [
      "Initial alignment\n",
      "RegistrationResult with fitness = 1.000000, inlier_rmse = 5366.408810, and correspondence_set size of 9753\n",
      "Access transformation to get result.\n",
      "Apply point-to-point ICP\n",
      "RegistrationResult with fitness = 1.000000, inlier_rmse = 4548.567322, and correspondence_set size of 9753\n",
      "Access transformation to get result.\n",
      "Transformation is:\n",
      "[[ 9.99447933e-01  5.49124860e-03 -3.27669966e-02  2.26724272e+04]\n",
      " [-2.01682173e-03  9.94455476e-01  1.05139143e-01 -7.89326809e+04]\n",
      " [ 3.31626644e-02 -1.05015014e-01  9.93917544e-01  8.02679912e+03]\n",
      " [ 0.00000000e+00  0.00000000e+00  0.00000000e+00  1.00000000e+00]]\n",
      "\n",
      "Apply point-to-plane ICP\n",
      "RegistrationResult with fitness = 1.000000, inlier_rmse = 5366.408810, and correspondence_set size of 9753\n",
      "Access transformation to get result.\n",
      "Transformation is:\n",
      "[[1. 0. 0. 0.]\n",
      " [0. 1. 0. 0.]\n",
      " [0. 0. 1. 0.]\n",
      " [0. 0. 0. 1.]]\n",
      "\n"
     ]
    }
   ],
   "source": [
    "align_point_clouds(source_filename, target_filename, threshold=50000)"
   ]
  }
 ],
 "metadata": {
  "kernelspec": {
   "display_name": "Python 3",
   "language": "python",
   "name": "python3"
  },
  "language_info": {
   "codemirror_mode": {
    "name": "ipython",
    "version": 3
   },
   "file_extension": ".py",
   "mimetype": "text/x-python",
   "name": "python",
   "nbconvert_exporter": "python",
   "pygments_lexer": "ipython3",
   "version": "3.5.2"
  }
 },
 "nbformat": 4,
 "nbformat_minor": 2
}
