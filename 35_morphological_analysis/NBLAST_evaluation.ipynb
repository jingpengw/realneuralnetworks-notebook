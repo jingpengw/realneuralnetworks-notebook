{
 "cells": [
  {
   "cell_type": "code",
   "execution_count": 1,
   "metadata": {},
   "outputs": [],
   "source": [
    "using PyPlot\n",
    "using Distributed\n",
    "# addprocs();"
   ]
  },
  {
   "cell_type": "code",
   "execution_count": 2,
   "metadata": {},
   "outputs": [
    {
     "name": "stderr",
     "output_type": "stream",
     "text": [
      "┌ Info: Recompiling stale cache file /usr/people/jingpeng/.julia/compiled/v1.3/RealNeuralNetworks/iv4AJ.ji for RealNeuralNetworks [4491297b-8966-5840-8cb9-b189d60f3398]\n",
      "└ @ Base loading.jl:1240\n",
      "┌ Warning: Package MetaGraphs does not have Random in its dependencies:\n",
      "│ - If you have MetaGraphs checked out for development and have\n",
      "│   added Random as a dependency but haven't updated your primary\n",
      "│   environment's manifest file, try `Pkg.resolve()`.\n",
      "│ - Otherwise you may need to report an issue with MetaGraphs\n",
      "└ Loading Random into MetaGraphs from project dependency, future warnings for MetaGraphs are suppressed.\n",
      "┌ Warning: The call to compilecache failed to create a usable precompiled cache file for RealNeuralNetworks [4491297b-8966-5840-8cb9-b189d60f3398]\n",
      "│   exception = ErrorException(\"Required dependency MetaGraphs [626554b9-1ddb-594c-aa3c-2596fe9399a5] failed to load from a cache file.\")\n",
      "└ @ Base loading.jl:1025\n",
      "┌ Info: Recompiling stale cache file /usr/people/jingpeng/.julia/compiled/v1.3/MetaGraphs/KfBxe.ji for MetaGraphs [626554b9-1ddb-594c-aa3c-2596fe9399a5]\n",
      "└ @ Base loading.jl:1240\n",
      "┌ Warning: Package MetaGraphs does not have Random in its dependencies:\n",
      "│ - If you have MetaGraphs checked out for development and have\n",
      "│   added Random as a dependency but haven't updated your primary\n",
      "│   environment's manifest file, try `Pkg.resolve()`.\n",
      "│ - Otherwise you may need to report an issue with MetaGraphs\n",
      "└ Loading Random into MetaGraphs from project dependency, future warnings for MetaGraphs are suppressed.\n"
     ]
    }
   ],
   "source": [
    "\n",
    "@everywhere using Revise\n",
    "using CSV\n",
    "using JSON\n",
    "using HDF5\n",
    "\n",
    "@everywhere using RealNeuralNetworks\n",
    "@everywhere using RealNeuralNetworks.Neurons\n",
    "@everywhere using RealNeuralNetworks.SWCs\n",
    "@everywhere using RealNeuralNetworks.NBLASTs\n",
    "@everywhere using RealNeuralNetworks.Neurons.Segments.Synapses\n",
    "@everywhere using RealNeuralNetworks.Utils.RangeIndexingArrays\n",
    "\n",
    "@everywhere using ProgressMeter\n",
    "\n",
    "@everywhere DATASET_DIR = expanduser(\"~/seungmount/research/Jingpeng/14_zfish/01_data/20190415\")"
   ]
  },
  {
   "cell_type": "code",
   "execution_count": 3,
   "metadata": {},
   "outputs": [
    {
     "name": "stdout",
     "output_type": "stream",
     "text": [
      "got 209 neurons.\n"
     ]
    },
    {
     "data": {
      "text/plain": [
       "Dict{Symbol,Array{Int64,1}} with 10 entries:\n",
       "  :AbdC                        => [77154, 77646, 77682, 77628, 77295, 77652, 77…\n",
       "  :LateralDorsal               => [76629, 76667, 80185, 76691, 76692, 77357, 77…\n",
       "  :DivingAxon                  => [76784, 76783, 77394, 77326, 77772, 77766, 77…\n",
       "  :ABDiR                       => [77631, 77150, 77618, 77886, 78547, 77158, 78…\n",
       "  :unknown                     => [82188, 82178, 82171, 82179, 82181, 82175, 82…\n",
       "  :Bushy                       => [76618, 76625, 76627, 77132, 77162, 77163, 77…\n",
       "  :ABDiC                       => [77148, 77625, 77641, 77692, 77144, 77643, 77…\n",
       "  :TangentialVestibularNeurons => [78046, 78049, 78048, 78047, 78050, 78051, 78…\n",
       "  :IO                          => [77483, 77484, 77485, 77486, 77487, 77488, 77…\n",
       "  :AbdR                        => [77648, 77710, 77300, 77705, 77305, 77301, 77…"
      ]
     },
     "execution_count": 3,
     "metadata": {},
     "output_type": "execute_result"
    }
   ],
   "source": [
    "# df = CSV.read(\"$(DATASET_DIR)/../groundtruth/ManualSorting_forEvaluation.csv\", header = 2, skipto=3)\n",
    "\n",
    "# manualClustering = Dict{Symbol, Vector{Int}}()\n",
    "\n",
    "# for neuronTypeName in names(df)\n",
    "#     col = df[neuronTypeName]\n",
    "#     # drop missing values\n",
    "#     k = findfirst(ismissing, col)\n",
    "#     if k != nothing\n",
    "#         col = col[1: k-1 ]\n",
    "#     end\n",
    "# #     @show col\n",
    "#     if isa(col, Vector{Union{Missing, String}})\n",
    "#         col = map(Meta.parse, col)\n",
    "#     end\n",
    "#     manualClustering[neuronTypeName] = col\n",
    "# end \n",
    "\n",
    "# # eliminate the neurons which are not valid and was not skeletonized\n",
    "# for (typeName, neuronIdList) in manualClustering\n",
    "#     notSkeletonizedNeuronIdIndex = Vector{Int}()\n",
    "#     for (index, neuronId) in neuronIdList |> enumerate\n",
    "#         if !isfile(joinpath(DATASET_DIR, \"swc.bin/$(neuronId).swc.bin\"))\n",
    "#             push!(notSkeletonizedNeuronIdIndex, index)\n",
    "#         end\n",
    "#     end\n",
    "#     deleteat!(neuronIdList, notSkeletonizedNeuronIdIndex)\n",
    "# end\n",
    "\n",
    "\n",
    "using JSON\n",
    "manualClustering = JSON.parsefile(\"$(DATASET_DIR)/../groundtruth/manual_sorting.json\", \n",
    "                                                        dicttype=Dict{Symbol, Vector{Int}})\n",
    "\n",
    "neuronIdList = Int[]\n",
    "for (groupName,idList) in manualClustering\n",
    "    append!(neuronIdList, idList)\n",
    "end\n",
    "println(\"got $(length(neuronIdList)) neurons.\")\n",
    "\n",
    "# detect duplicates\n",
    "neuronIdSet = Set{Int}(neuronIdList)\n",
    "for (i,neuronId1) in enumerate(neuronIdList)\n",
    "    for neuronId2 in neuronIdList[i+1:end]\n",
    "        if neuronId1 == neuronId2\n",
    "            println(\"detected duplicated neuron: \", neuronId1)\n",
    "        end\n",
    "    end \n",
    "end\n",
    "\n",
    "manualClustering"
   ]
  },
  {
   "cell_type": "code",
   "execution_count": 4,
   "metadata": {},
   "outputs": [
    {
     "name": "stdout",
     "output_type": "stream",
     "text": [
      "neuron ID list: [76618, 76625, 76627, 77132, 77162, 77163, 77329, 77374, 77434, 77447, 77460, 77467, 77797, 77805, 77848, 78357, 78358, 79054, 79055, 79059, 79062, 79074, 79077, 79085, 78544, 76629, 76667, 80185, 76691, 76692, 77357, 77389, 77390, 77621, 77636, 77651, 77656, 77689, 77806, 77816, 78601, 78650, 77667, 77684, 77483, 77484, 77485, 77486, 77487, 77488, 77489, 77490, 77492, 77493, 77494, 77495, 77496, 77497, 76353, 77499, 77500, 77501, 77502, 77503, 77504, 77505, 77506, 77507, 77508, 77509, 77510, 77511, 77512, 77513, 77514, 77515, 77517, 77521, 77523, 77524, 77525, 77526, 77527, 77528, 77529, 77530, 77531, 77532, 77533, 77534, 77535, 77536, 77537, 77538, 77539, 78420, 76350, 76271, 76487, 76355, 76351, 76273, 76272, 76488, 76261, 76266, 78395, 78401, 76784, 76783, 77394, 77326, 77772, 77766, 77756, 77753, 77767, 77775, 77780, 80883, 80247, 80669, 80698, 80762, 80748, 80696, 80761, 80749, 81070, 81044, 80991, 80967, 81008, 81045, 80986, 81023, 78647, 78619, 81141, 76664, 82188, 82178, 82171, 82179, 82181, 82175, 82187, 78059, 82182, 77112, 82176, 82186, 82180, 82174, 82189, 82172, 82170, 82173]\n",
      "ground truth partition: [1, 1, 1, 1, 1, 1, 1, 1, 1, 1, 1, 1, 1, 1, 1, 1, 1, 1, 1, 1, 1, 1, 1, 1, 1, 2, 2, 2, 2, 2, 2, 2, 2, 2, 2, 2, 2, 2, 2, 2, 2, 2, 2, 2, 3, 3, 3, 3, 3, 3, 3, 3, 3, 3, 3, 3, 3, 3, 3, 3, 3, 3, 3, 3, 3, 3, 3, 3, 3, 3, 3, 3, 3, 3, 3, 3, 3, 3, 3, 3, 3, 3, 3, 3, 3, 3, 3, 3, 3, 3, 3, 3, 3, 3, 3, 3, 3, 3, 3, 3, 3, 3, 3, 3, 3, 3, 3, 3, 4, 4, 4, 4, 4, 4, 4, 4, 4, 4, 4, 4, 4, 4, 4, 4, 4, 4, 4, 4, 4, 4, 4, 4, 4, 4, 4, 4, 4, 4, 4, 4, 5, 5, 5, 5, 5, 5, 5, 5, 5, 5, 5, 5, 5, 5, 5, 5, 5, 5]\n",
      "158 test neurons  in 5 groups\n"
     ]
    }
   ],
   "source": [
    "testGroups = Symbol[:Bushy, :LateralDorsal, :IO, :DivingAxon, :unknown]\n",
    "\n",
    "neuronIdList = Int[]\n",
    "groundTruthPartition = Int[]\n",
    "for (groupId, groupName) in enumerate(testGroups)\n",
    "    idList = manualClustering[groupName]\n",
    "    append!(neuronIdList, idList)\n",
    "    append!(groundTruthPartition, ones(Int, length(idList)).*groupId)\n",
    "end\n",
    "\n",
    "println(\"neuron ID list: \", neuronIdList)\n",
    "println(\"ground truth partition: \", groundTruthPartition)\n",
    "\n",
    "println(\"$(length(neuronIdList)) test neurons  in $(length(testGroups)) groups\")\n",
    "\n",
    "# h5open(\"$(DATASET_DIR)/evaluate.h5\", \"cw\") do f\n",
    "#     f[\"neuronIdList\"] = neuronIdList\n",
    "#     f[\"groundTruthPartition\"] = groundTruthPartition\n",
    "# end\n",
    "\n",
    "# read neurons\n",
    "\n",
    "neuronList = pmap(x->Neurons.load(\"$(DATASET_DIR)/bin/$(x).bin\"), neuronIdList);"
   ]
  },
  {
   "cell_type": "markdown",
   "metadata": {},
   "source": [
    "## NBLAST similarity computation"
   ]
  },
  {
   "cell_type": "code",
   "execution_count": 5,
   "metadata": {},
   "outputs": [
    {
     "name": "stdout",
     "output_type": "stream",
     "text": [
      "remove the dataset first, otherwise we can not write!\n"
     ]
    },
    {
     "data": {
      "text/plain": [
       "0"
      ]
     },
     "execution_count": 5,
     "metadata": {},
     "output_type": "execute_result"
    }
   ],
   "source": [
    "using HDF5\n",
    "println(\"remove the dataset first, otherwise we can not write!\")\n",
    "\n",
    "h5open(\"$(DATASET_DIR)/evaluate.h5\", \"r+\") do f\n",
    "    o_delete(f, \"flyTable/rawSimilarityMatrix\")\n",
    "    o_delete(f, \"flyTable/normalizedSimilarityMatrix\")\n",
    "    o_delete(f, \"flyTable/meanSimilarityMatrix\")\n",
    "    \n",
    "    o_delete(f, \"zfishTable/rawSimilarityMatrix\")\n",
    "    o_delete(f, \"zfishTable/normalizedSimilarityMatrix\")\n",
    "    o_delete(f, \"zfishTable/meanSimilarityMatrix\")\n",
    "    \n",
    "    o_delete(f, \"zfishTable/semantic/rawSimilarityMatrix\")\n",
    "    o_delete(f, \"zfishTable/semantic/normalizedSimilarityMatrix\")\n",
    "    o_delete(f, \"zfishTable/semantic/meanSimilarityMatrix\")\n",
    "    \n",
    "    o_delete(f, \"zfishTable/small2big/normalizedSimilarityMatrix\")\n",
    "    o_delete(f, \"zfishTable/small2big/meanSimilarityMatrix\")\n",
    "    \n",
    "    o_delete(f, \"zfishTable/semantic/small2big/normalizedSimilarityMatrix\")\n",
    "    o_delete(f, \"zfishTable/semantic/small2big/meanSimilarityMatrix\")\n",
    "end\n"
   ]
  },
  {
   "cell_type": "code",
   "execution_count": 6,
   "metadata": {},
   "outputs": [
    {
     "name": "stdout",
     "output_type": "stream",
     "text": [
      "read score tables...\n"
     ]
    },
    {
     "name": "stderr",
     "output_type": "stream",
     "text": [
      "┌ Warning: `getindex(df::DataFrame, col_ind::ColumnIndex)` is deprecated, use `df[!, col_ind]` instead.\n",
      "│   caller = RangeIndexingArray{Float32,N} where N(::DataFrames.DataFrame) at RangeIndexingArrays.jl:61\n",
      "└ @ RealNeuralNetworks.Utils.RangeIndexingArrays /usr/people/jingpeng/.julia/dev/RealNeuralNetworks/src/Utils/RangeIndexingArrays.jl:61\n"
     ]
    },
    {
     "name": "stdout",
     "output_type": "stream",
     "text": [
      "compute similarity score using fly table...\n",
      "compute similarity score using zfish table...\n",
      "compute similarity score using zfish table with semantic matching...\n"
     ]
    },
    {
     "name": "stderr",
     "output_type": "stream",
     "text": [
      "┌ Warning: the number of node 0 is less than than the number of neighborhood points k=10, return zero vector\n",
      "└ @ RealNeuralNetworks.NBLASTs /usr/people/jingpeng/.julia/dev/RealNeuralNetworks/src/NBLASTs.jl:58\n",
      "┌ Warning: the number of node 0 is less than than the number of neighborhood points k=10, return zero vector\n",
      "└ @ RealNeuralNetworks.NBLASTs /usr/people/jingpeng/.julia/dev/RealNeuralNetworks/src/NBLASTs.jl:58\n",
      "┌ Warning: the number of node 0 is less than than the number of neighborhood points k=10, return zero vector\n",
      "└ @ RealNeuralNetworks.NBLASTs /usr/people/jingpeng/.julia/dev/RealNeuralNetworks/src/NBLASTs.jl:58\n",
      "┌ Warning: the number of node 0 is less than than the number of neighborhood points k=10, return zero vector\n",
      "└ @ RealNeuralNetworks.NBLASTs /usr/people/jingpeng/.julia/dev/RealNeuralNetworks/src/NBLASTs.jl:58\n",
      "┌ Warning: the number of node 0 is less than than the number of neighborhood points k=10, return zero vector\n",
      "└ @ RealNeuralNetworks.NBLASTs /usr/people/jingpeng/.julia/dev/RealNeuralNetworks/src/NBLASTs.jl:58\n",
      "┌ Warning: the number of node 0 is less than than the number of neighborhood points k=10, return zero vector\n",
      "└ @ RealNeuralNetworks.NBLASTs /usr/people/jingpeng/.julia/dev/RealNeuralNetworks/src/NBLASTs.jl:58\n",
      "┌ Warning: the number of node 0 is less than than the number of neighborhood points k=10, return zero vector\n",
      "└ @ RealNeuralNetworks.NBLASTs /usr/people/jingpeng/.julia/dev/RealNeuralNetworks/src/NBLASTs.jl:58\n",
      "┌ Warning: the number of node 0 is less than than the number of neighborhood points k=10, return zero vector\n",
      "└ @ RealNeuralNetworks.NBLASTs /usr/people/jingpeng/.julia/dev/RealNeuralNetworks/src/NBLASTs.jl:58\n",
      "┌ Warning: the number of node 6 is less than than the number of neighborhood points k=10, return zero vector\n",
      "└ @ RealNeuralNetworks.NBLASTs /usr/people/jingpeng/.julia/dev/RealNeuralNetworks/src/NBLASTs.jl:58\n",
      "┌ Warning: the number of node 0 is less than than the number of neighborhood points k=10, return zero vector\n",
      "└ @ RealNeuralNetworks.NBLASTs /usr/people/jingpeng/.julia/dev/RealNeuralNetworks/src/NBLASTs.jl:58\n",
      "┌ Warning: the number of node 0 is less than than the number of neighborhood points k=10, return zero vector\n",
      "└ @ RealNeuralNetworks.NBLASTs /usr/people/jingpeng/.julia/dev/RealNeuralNetworks/src/NBLASTs.jl:58\n",
      "┌ Warning: the number of node 0 is less than than the number of neighborhood points k=10, return zero vector\n",
      "└ @ RealNeuralNetworks.NBLASTs /usr/people/jingpeng/.julia/dev/RealNeuralNetworks/src/NBLASTs.jl:58\n",
      "┌ Warning: the number of node 0 is less than than the number of neighborhood points k=10, return zero vector\n",
      "└ @ RealNeuralNetworks.NBLASTs /usr/people/jingpeng/.julia/dev/RealNeuralNetworks/src/NBLASTs.jl:58\n",
      "┌ Warning: the number of node 0 is less than than the number of neighborhood points k=10, return zero vector\n",
      "└ @ RealNeuralNetworks.NBLASTs /usr/people/jingpeng/.julia/dev/RealNeuralNetworks/src/NBLASTs.jl:58\n",
      "┌ Warning: the number of node 0 is less than than the number of neighborhood points k=10, return zero vector\n",
      "└ @ RealNeuralNetworks.NBLASTs /usr/people/jingpeng/.julia/dev/RealNeuralNetworks/src/NBLASTs.jl:58\n",
      "┌ Warning: the number of node 0 is less than than the number of neighborhood points k=10, return zero vector\n",
      "└ @ RealNeuralNetworks.NBLASTs /usr/people/jingpeng/.julia/dev/RealNeuralNetworks/src/NBLASTs.jl:58\n",
      "┌ Warning: the number of node 0 is less than than the number of neighborhood points k=10, return zero vector\n",
      "└ @ RealNeuralNetworks.NBLASTs /usr/people/jingpeng/.julia/dev/RealNeuralNetworks/src/NBLASTs.jl:58\n",
      "┌ Warning: the number of node 1 is less than than the number of neighborhood points k=10, return zero vector\n",
      "└ @ RealNeuralNetworks.NBLASTs /usr/people/jingpeng/.julia/dev/RealNeuralNetworks/src/NBLASTs.jl:58\n",
      "┌ Warning: the number of node 4 is less than than the number of neighborhood points k=10, return zero vector\n",
      "└ @ RealNeuralNetworks.NBLASTs /usr/people/jingpeng/.julia/dev/RealNeuralNetworks/src/NBLASTs.jl:58\n",
      "┌ Warning: the number of node 6 is less than than the number of neighborhood points k=10, return zero vector\n",
      "└ @ RealNeuralNetworks.NBLASTs /usr/people/jingpeng/.julia/dev/RealNeuralNetworks/src/NBLASTs.jl:58\n",
      "┌ Warning: the number of node 1 is less than than the number of neighborhood points k=10, return zero vector\n",
      "└ @ RealNeuralNetworks.NBLASTs /usr/people/jingpeng/.julia/dev/RealNeuralNetworks/src/NBLASTs.jl:58\n",
      "┌ Warning: the number of node 4 is less than than the number of neighborhood points k=10, return zero vector\n",
      "└ @ RealNeuralNetworks.NBLASTs /usr/people/jingpeng/.julia/dev/RealNeuralNetworks/src/NBLASTs.jl:58\n",
      "┌ Warning: the number of node 1 is less than than the number of neighborhood points k=10, return zero vector\n",
      "└ @ RealNeuralNetworks.NBLASTs /usr/people/jingpeng/.julia/dev/RealNeuralNetworks/src/NBLASTs.jl:58\n",
      "┌ Warning: the number of node 1 is less than than the number of neighborhood points k=10, return zero vector\n",
      "└ @ RealNeuralNetworks.NBLASTs /usr/people/jingpeng/.julia/dev/RealNeuralNetworks/src/NBLASTs.jl:58\n",
      "┌ Warning: the number of node 0 is less than than the number of neighborhood points k=10, return zero vector\n",
      "└ @ RealNeuralNetworks.NBLASTs /usr/people/jingpeng/.julia/dev/RealNeuralNetworks/src/NBLASTs.jl:58\n",
      "┌ Warning: the number of node 5 is less than than the number of neighborhood points k=10, return zero vector\n",
      "└ @ RealNeuralNetworks.NBLASTs /usr/people/jingpeng/.julia/dev/RealNeuralNetworks/src/NBLASTs.jl:58\n",
      "┌ Warning: the number of node 9 is less than than the number of neighborhood points k=10, return zero vector\n",
      "└ @ RealNeuralNetworks.NBLASTs /usr/people/jingpeng/.julia/dev/RealNeuralNetworks/src/NBLASTs.jl:58\n",
      "┌ Warning: the number of node 3 is less than than the number of neighborhood points k=10, return zero vector\n",
      "└ @ RealNeuralNetworks.NBLASTs /usr/people/jingpeng/.julia/dev/RealNeuralNetworks/src/NBLASTs.jl:58\n",
      "┌ Warning: the number of node 9 is less than than the number of neighborhood points k=10, return zero vector\n",
      "└ @ RealNeuralNetworks.NBLASTs /usr/people/jingpeng/.julia/dev/RealNeuralNetworks/src/NBLASTs.jl:58\n",
      "┌ Warning: the number of node 1 is less than than the number of neighborhood points k=10, return zero vector\n",
      "└ @ RealNeuralNetworks.NBLASTs /usr/people/jingpeng/.julia/dev/RealNeuralNetworks/src/NBLASTs.jl:58\n",
      "┌ Warning: the number of node 2 is less than than the number of neighborhood points k=10, return zero vector\n",
      "└ @ RealNeuralNetworks.NBLASTs /usr/people/jingpeng/.julia/dev/RealNeuralNetworks/src/NBLASTs.jl:58\n",
      "┌ Warning: the number of node 3 is less than than the number of neighborhood points k=10, return zero vector\n",
      "└ @ RealNeuralNetworks.NBLASTs /usr/people/jingpeng/.julia/dev/RealNeuralNetworks/src/NBLASTs.jl:58\n",
      "┌ Warning: the number of node 4 is less than than the number of neighborhood points k=10, return zero vector\n",
      "└ @ RealNeuralNetworks.NBLASTs /usr/people/jingpeng/.julia/dev/RealNeuralNetworks/src/NBLASTs.jl:58\n",
      "┌ Warning: the number of node 5 is less than than the number of neighborhood points k=10, return zero vector\n",
      "└ @ RealNeuralNetworks.NBLASTs /usr/people/jingpeng/.julia/dev/RealNeuralNetworks/src/NBLASTs.jl:58\n",
      "┌ Warning: the number of node 3 is less than than the number of neighborhood points k=10, return zero vector\n",
      "└ @ RealNeuralNetworks.NBLASTs /usr/people/jingpeng/.julia/dev/RealNeuralNetworks/src/NBLASTs.jl:58\n",
      "┌ Warning: the number of node 7 is less than than the number of neighborhood points k=10, return zero vector\n",
      "└ @ RealNeuralNetworks.NBLASTs /usr/people/jingpeng/.julia/dev/RealNeuralNetworks/src/NBLASTs.jl:58\n",
      "┌ Warning: the number of node 1 is less than than the number of neighborhood points k=10, return zero vector\n",
      "└ @ RealNeuralNetworks.NBLASTs /usr/people/jingpeng/.julia/dev/RealNeuralNetworks/src/NBLASTs.jl:58\n",
      "┌ Warning: the number of node 4 is less than than the number of neighborhood points k=10, return zero vector\n",
      "└ @ RealNeuralNetworks.NBLASTs /usr/people/jingpeng/.julia/dev/RealNeuralNetworks/src/NBLASTs.jl:58\n",
      "┌ Warning: the number of node 6 is less than than the number of neighborhood points k=10, return zero vector\n",
      "└ @ RealNeuralNetworks.NBLASTs /usr/people/jingpeng/.julia/dev/RealNeuralNetworks/src/NBLASTs.jl:58\n",
      "┌ Warning: the number of node 8 is less than than the number of neighborhood points k=10, return zero vector\n",
      "└ @ RealNeuralNetworks.NBLASTs /usr/people/jingpeng/.julia/dev/RealNeuralNetworks/src/NBLASTs.jl:58\n",
      "┌ Warning: the number of node 5 is less than than the number of neighborhood points k=10, return zero vector\n",
      "└ @ RealNeuralNetworks.NBLASTs /usr/people/jingpeng/.julia/dev/RealNeuralNetworks/src/NBLASTs.jl:58\n",
      "┌ Warning: the number of node 0 is less than than the number of neighborhood points k=10, return zero vector\n",
      "└ @ RealNeuralNetworks.NBLASTs /usr/people/jingpeng/.julia/dev/RealNeuralNetworks/src/NBLASTs.jl:58\n",
      "┌ Warning: the number of node 6 is less than than the number of neighborhood points k=10, return zero vector\n",
      "└ @ RealNeuralNetworks.NBLASTs /usr/people/jingpeng/.julia/dev/RealNeuralNetworks/src/NBLASTs.jl:58\n",
      "┌ Warning: the number of node 7 is less than than the number of neighborhood points k=10, return zero vector\n",
      "└ @ RealNeuralNetworks.NBLASTs /usr/people/jingpeng/.julia/dev/RealNeuralNetworks/src/NBLASTs.jl:58\n",
      "┌ Warning: the number of node 5 is less than than the number of neighborhood points k=10, return zero vector\n",
      "└ @ RealNeuralNetworks.NBLASTs /usr/people/jingpeng/.julia/dev/RealNeuralNetworks/src/NBLASTs.jl:58\n",
      "┌ Warning: the number of node 0 is less than than the number of neighborhood points k=10, return zero vector\n",
      "└ @ RealNeuralNetworks.NBLASTs /usr/people/jingpeng/.julia/dev/RealNeuralNetworks/src/NBLASTs.jl:58\n",
      "┌ Warning: the number of node 0 is less than than the number of neighborhood points k=10, return zero vector\n",
      "└ @ RealNeuralNetworks.NBLASTs /usr/people/jingpeng/.julia/dev/RealNeuralNetworks/src/NBLASTs.jl:58\n",
      "┌ Warning: the number of node 0 is less than than the number of neighborhood points k=10, return zero vector\n",
      "└ @ RealNeuralNetworks.NBLASTs /usr/people/jingpeng/.julia/dev/RealNeuralNetworks/src/NBLASTs.jl:58\n",
      "┌ Warning: the number of node 6 is less than than the number of neighborhood points k=10, return zero vector\n",
      "└ @ RealNeuralNetworks.NBLASTs /usr/people/jingpeng/.julia/dev/RealNeuralNetworks/src/NBLASTs.jl:58\n",
      "┌ Warning: the number of node 0 is less than than the number of neighborhood points k=10, return zero vector\n",
      "└ @ RealNeuralNetworks.NBLASTs /usr/people/jingpeng/.julia/dev/RealNeuralNetworks/src/NBLASTs.jl:58\n",
      "┌ Warning: the number of node 8 is less than than the number of neighborhood points k=10, return zero vector\n",
      "└ @ RealNeuralNetworks.NBLASTs /usr/people/jingpeng/.julia/dev/RealNeuralNetworks/src/NBLASTs.jl:58\n",
      "┌ Warning: the number of node 8 is less than than the number of neighborhood points k=10, return zero vector\n",
      "└ @ RealNeuralNetworks.NBLASTs /usr/people/jingpeng/.julia/dev/RealNeuralNetworks/src/NBLASTs.jl:58\n"
     ]
    },
    {
     "name": "stderr",
     "output_type": "stream",
     "text": [
      "\u001b[32mcomputing similarity matrix...100%|█████████████████████| Time: 0:00:11\u001b[39m\n"
     ]
    },
    {
     "name": "stdout",
     "output_type": "stream",
     "text": [
      "compute similarity score using zfish table with small-to-big...\n",
      "compute similarity score using zfish table with semantic small-to-big...\n"
     ]
    },
    {
     "name": "stderr",
     "output_type": "stream",
     "text": [
      "┌ Warning: the number of node 0 is less than than the number of neighborhood points k=10, return zero vector\n",
      "└ @ RealNeuralNetworks.NBLASTs /usr/people/jingpeng/.julia/dev/RealNeuralNetworks/src/NBLASTs.jl:58\n",
      "┌ Warning: the number of node 0 is less than than the number of neighborhood points k=10, return zero vector\n",
      "└ @ RealNeuralNetworks.NBLASTs /usr/people/jingpeng/.julia/dev/RealNeuralNetworks/src/NBLASTs.jl:58\n",
      "┌ Warning: the number of node 0 is less than than the number of neighborhood points k=10, return zero vector\n",
      "└ @ RealNeuralNetworks.NBLASTs /usr/people/jingpeng/.julia/dev/RealNeuralNetworks/src/NBLASTs.jl:58\n",
      "┌ Warning: the number of node 0 is less than than the number of neighborhood points k=10, return zero vector\n",
      "└ @ RealNeuralNetworks.NBLASTs /usr/people/jingpeng/.julia/dev/RealNeuralNetworks/src/NBLASTs.jl:58\n",
      "┌ Warning: the number of node 0 is less than than the number of neighborhood points k=10, return zero vector\n",
      "└ @ RealNeuralNetworks.NBLASTs /usr/people/jingpeng/.julia/dev/RealNeuralNetworks/src/NBLASTs.jl:58\n",
      "┌ Warning: the number of node 0 is less than than the number of neighborhood points k=10, return zero vector\n",
      "└ @ RealNeuralNetworks.NBLASTs /usr/people/jingpeng/.julia/dev/RealNeuralNetworks/src/NBLASTs.jl:58\n",
      "┌ Warning: the number of node 0 is less than than the number of neighborhood points k=10, return zero vector\n",
      "└ @ RealNeuralNetworks.NBLASTs /usr/people/jingpeng/.julia/dev/RealNeuralNetworks/src/NBLASTs.jl:58\n",
      "┌ Warning: the number of node 0 is less than than the number of neighborhood points k=10, return zero vector\n",
      "└ @ RealNeuralNetworks.NBLASTs /usr/people/jingpeng/.julia/dev/RealNeuralNetworks/src/NBLASTs.jl:58\n",
      "┌ Warning: the number of node 6 is less than than the number of neighborhood points k=10, return zero vector\n",
      "└ @ RealNeuralNetworks.NBLASTs /usr/people/jingpeng/.julia/dev/RealNeuralNetworks/src/NBLASTs.jl:58\n",
      "┌ Warning: the number of node 0 is less than than the number of neighborhood points k=10, return zero vector\n",
      "└ @ RealNeuralNetworks.NBLASTs /usr/people/jingpeng/.julia/dev/RealNeuralNetworks/src/NBLASTs.jl:58\n",
      "┌ Warning: the number of node 0 is less than than the number of neighborhood points k=10, return zero vector\n",
      "└ @ RealNeuralNetworks.NBLASTs /usr/people/jingpeng/.julia/dev/RealNeuralNetworks/src/NBLASTs.jl:58\n",
      "┌ Warning: the number of node 0 is less than than the number of neighborhood points k=10, return zero vector\n",
      "└ @ RealNeuralNetworks.NBLASTs /usr/people/jingpeng/.julia/dev/RealNeuralNetworks/src/NBLASTs.jl:58\n",
      "┌ Warning: the number of node 0 is less than than the number of neighborhood points k=10, return zero vector\n",
      "└ @ RealNeuralNetworks.NBLASTs /usr/people/jingpeng/.julia/dev/RealNeuralNetworks/src/NBLASTs.jl:58\n",
      "┌ Warning: the number of node 0 is less than than the number of neighborhood points k=10, return zero vector\n",
      "└ @ RealNeuralNetworks.NBLASTs /usr/people/jingpeng/.julia/dev/RealNeuralNetworks/src/NBLASTs.jl:58\n",
      "┌ Warning: the number of node 0 is less than than the number of neighborhood points k=10, return zero vector\n",
      "└ @ RealNeuralNetworks.NBLASTs /usr/people/jingpeng/.julia/dev/RealNeuralNetworks/src/NBLASTs.jl:58\n",
      "┌ Warning: the number of node 0 is less than than the number of neighborhood points k=10, return zero vector\n",
      "└ @ RealNeuralNetworks.NBLASTs /usr/people/jingpeng/.julia/dev/RealNeuralNetworks/src/NBLASTs.jl:58\n",
      "┌ Warning: the number of node 0 is less than than the number of neighborhood points k=10, return zero vector\n",
      "└ @ RealNeuralNetworks.NBLASTs /usr/people/jingpeng/.julia/dev/RealNeuralNetworks/src/NBLASTs.jl:58\n",
      "┌ Warning: the number of node 1 is less than than the number of neighborhood points k=10, return zero vector\n",
      "└ @ RealNeuralNetworks.NBLASTs /usr/people/jingpeng/.julia/dev/RealNeuralNetworks/src/NBLASTs.jl:58\n",
      "┌ Warning: the number of node 4 is less than than the number of neighborhood points k=10, return zero vector\n",
      "└ @ RealNeuralNetworks.NBLASTs /usr/people/jingpeng/.julia/dev/RealNeuralNetworks/src/NBLASTs.jl:58\n",
      "┌ Warning: the number of node 6 is less than than the number of neighborhood points k=10, return zero vector\n",
      "└ @ RealNeuralNetworks.NBLASTs /usr/people/jingpeng/.julia/dev/RealNeuralNetworks/src/NBLASTs.jl:58\n",
      "┌ Warning: the number of node 1 is less than than the number of neighborhood points k=10, return zero vector\n",
      "└ @ RealNeuralNetworks.NBLASTs /usr/people/jingpeng/.julia/dev/RealNeuralNetworks/src/NBLASTs.jl:58\n",
      "┌ Warning: the number of node 4 is less than than the number of neighborhood points k=10, return zero vector\n",
      "└ @ RealNeuralNetworks.NBLASTs /usr/people/jingpeng/.julia/dev/RealNeuralNetworks/src/NBLASTs.jl:58\n",
      "┌ Warning: the number of node 1 is less than than the number of neighborhood points k=10, return zero vector\n",
      "└ @ RealNeuralNetworks.NBLASTs /usr/people/jingpeng/.julia/dev/RealNeuralNetworks/src/NBLASTs.jl:58\n",
      "┌ Warning: the number of node 1 is less than than the number of neighborhood points k=10, return zero vector\n",
      "└ @ RealNeuralNetworks.NBLASTs /usr/people/jingpeng/.julia/dev/RealNeuralNetworks/src/NBLASTs.jl:58\n",
      "┌ Warning: the number of node 0 is less than than the number of neighborhood points k=10, return zero vector\n",
      "└ @ RealNeuralNetworks.NBLASTs /usr/people/jingpeng/.julia/dev/RealNeuralNetworks/src/NBLASTs.jl:58\n",
      "┌ Warning: the number of node 5 is less than than the number of neighborhood points k=10, return zero vector\n",
      "└ @ RealNeuralNetworks.NBLASTs /usr/people/jingpeng/.julia/dev/RealNeuralNetworks/src/NBLASTs.jl:58\n",
      "┌ Warning: the number of node 9 is less than than the number of neighborhood points k=10, return zero vector\n",
      "└ @ RealNeuralNetworks.NBLASTs /usr/people/jingpeng/.julia/dev/RealNeuralNetworks/src/NBLASTs.jl:58\n",
      "┌ Warning: the number of node 3 is less than than the number of neighborhood points k=10, return zero vector\n",
      "└ @ RealNeuralNetworks.NBLASTs /usr/people/jingpeng/.julia/dev/RealNeuralNetworks/src/NBLASTs.jl:58\n",
      "┌ Warning: the number of node 9 is less than than the number of neighborhood points k=10, return zero vector\n",
      "└ @ RealNeuralNetworks.NBLASTs /usr/people/jingpeng/.julia/dev/RealNeuralNetworks/src/NBLASTs.jl:58\n",
      "┌ Warning: the number of node 1 is less than than the number of neighborhood points k=10, return zero vector\n",
      "└ @ RealNeuralNetworks.NBLASTs /usr/people/jingpeng/.julia/dev/RealNeuralNetworks/src/NBLASTs.jl:58\n",
      "┌ Warning: the number of node 2 is less than than the number of neighborhood points k=10, return zero vector\n",
      "└ @ RealNeuralNetworks.NBLASTs /usr/people/jingpeng/.julia/dev/RealNeuralNetworks/src/NBLASTs.jl:58\n",
      "┌ Warning: the number of node 3 is less than than the number of neighborhood points k=10, return zero vector\n",
      "└ @ RealNeuralNetworks.NBLASTs /usr/people/jingpeng/.julia/dev/RealNeuralNetworks/src/NBLASTs.jl:58\n",
      "┌ Warning: the number of node 4 is less than than the number of neighborhood points k=10, return zero vector\n",
      "└ @ RealNeuralNetworks.NBLASTs /usr/people/jingpeng/.julia/dev/RealNeuralNetworks/src/NBLASTs.jl:58\n",
      "┌ Warning: the number of node 5 is less than than the number of neighborhood points k=10, return zero vector\n",
      "└ @ RealNeuralNetworks.NBLASTs /usr/people/jingpeng/.julia/dev/RealNeuralNetworks/src/NBLASTs.jl:58\n",
      "┌ Warning: the number of node 3 is less than than the number of neighborhood points k=10, return zero vector\n",
      "└ @ RealNeuralNetworks.NBLASTs /usr/people/jingpeng/.julia/dev/RealNeuralNetworks/src/NBLASTs.jl:58\n",
      "┌ Warning: the number of node 7 is less than than the number of neighborhood points k=10, return zero vector\n",
      "└ @ RealNeuralNetworks.NBLASTs /usr/people/jingpeng/.julia/dev/RealNeuralNetworks/src/NBLASTs.jl:58\n",
      "┌ Warning: the number of node 1 is less than than the number of neighborhood points k=10, return zero vector\n",
      "└ @ RealNeuralNetworks.NBLASTs /usr/people/jingpeng/.julia/dev/RealNeuralNetworks/src/NBLASTs.jl:58\n",
      "┌ Warning: the number of node 4 is less than than the number of neighborhood points k=10, return zero vector\n",
      "└ @ RealNeuralNetworks.NBLASTs /usr/people/jingpeng/.julia/dev/RealNeuralNetworks/src/NBLASTs.jl:58\n",
      "┌ Warning: the number of node 6 is less than than the number of neighborhood points k=10, return zero vector\n",
      "└ @ RealNeuralNetworks.NBLASTs /usr/people/jingpeng/.julia/dev/RealNeuralNetworks/src/NBLASTs.jl:58\n",
      "┌ Warning: the number of node 8 is less than than the number of neighborhood points k=10, return zero vector\n",
      "└ @ RealNeuralNetworks.NBLASTs /usr/people/jingpeng/.julia/dev/RealNeuralNetworks/src/NBLASTs.jl:58\n",
      "┌ Warning: the number of node 5 is less than than the number of neighborhood points k=10, return zero vector\n",
      "└ @ RealNeuralNetworks.NBLASTs /usr/people/jingpeng/.julia/dev/RealNeuralNetworks/src/NBLASTs.jl:58\n",
      "┌ Warning: the number of node 0 is less than than the number of neighborhood points k=10, return zero vector\n",
      "└ @ RealNeuralNetworks.NBLASTs /usr/people/jingpeng/.julia/dev/RealNeuralNetworks/src/NBLASTs.jl:58\n",
      "┌ Warning: the number of node 6 is less than than the number of neighborhood points k=10, return zero vector\n",
      "└ @ RealNeuralNetworks.NBLASTs /usr/people/jingpeng/.julia/dev/RealNeuralNetworks/src/NBLASTs.jl:58\n",
      "┌ Warning: the number of node 7 is less than than the number of neighborhood points k=10, return zero vector\n",
      "└ @ RealNeuralNetworks.NBLASTs /usr/people/jingpeng/.julia/dev/RealNeuralNetworks/src/NBLASTs.jl:58\n",
      "┌ Warning: the number of node 5 is less than than the number of neighborhood points k=10, return zero vector\n",
      "└ @ RealNeuralNetworks.NBLASTs /usr/people/jingpeng/.julia/dev/RealNeuralNetworks/src/NBLASTs.jl:58\n",
      "┌ Warning: the number of node 0 is less than than the number of neighborhood points k=10, return zero vector\n",
      "└ @ RealNeuralNetworks.NBLASTs /usr/people/jingpeng/.julia/dev/RealNeuralNetworks/src/NBLASTs.jl:58\n",
      "┌ Warning: the number of node 0 is less than than the number of neighborhood points k=10, return zero vector\n",
      "└ @ RealNeuralNetworks.NBLASTs /usr/people/jingpeng/.julia/dev/RealNeuralNetworks/src/NBLASTs.jl:58\n",
      "┌ Warning: the number of node 0 is less than than the number of neighborhood points k=10, return zero vector\n",
      "└ @ RealNeuralNetworks.NBLASTs /usr/people/jingpeng/.julia/dev/RealNeuralNetworks/src/NBLASTs.jl:58\n",
      "┌ Warning: the number of node 6 is less than than the number of neighborhood points k=10, return zero vector\n",
      "└ @ RealNeuralNetworks.NBLASTs /usr/people/jingpeng/.julia/dev/RealNeuralNetworks/src/NBLASTs.jl:58\n",
      "┌ Warning: the number of node 0 is less than than the number of neighborhood points k=10, return zero vector\n",
      "└ @ RealNeuralNetworks.NBLASTs /usr/people/jingpeng/.julia/dev/RealNeuralNetworks/src/NBLASTs.jl:58\n",
      "┌ Warning: the number of node 8 is less than than the number of neighborhood points k=10, return zero vector\n",
      "└ @ RealNeuralNetworks.NBLASTs /usr/people/jingpeng/.julia/dev/RealNeuralNetworks/src/NBLASTs.jl:58\n",
      "┌ Warning: the number of node 8 is less than than the number of neighborhood points k=10, return zero vector\n",
      "└ @ RealNeuralNetworks.NBLASTs /usr/people/jingpeng/.julia/dev/RealNeuralNetworks/src/NBLASTs.jl:58\n"
     ]
    },
    {
     "name": "stdout",
     "output_type": "stream",
     "text": [
      "finished computing similarity matrix!\n"
     ]
    }
   ],
   "source": [
    "using Pkg\n",
    "using HDF5\n",
    "println(\"read score tables...\")\n",
    "df = CSV.read(joinpath(Pkg.devdir(), \"RealNeuralNetworks/asset/zfish_score_table.csv\"))\n",
    "\n",
    "zfish_ria = RangeIndexingArray{Float32}(df)\n",
    "\n",
    "df = CSV.read(joinpath(Pkg.devdir(), \"RealNeuralNetworks/asset/smat_fcwb.csv\"))\n",
    "fly_ria = RangeIndexingArray{Float32}(df)\n",
    "\n",
    "k = 10\n",
    "\n",
    "println(\"compute similarity score using fly table...\")\n",
    "flyTableSimilarityMatrix, flyTableNormalizedSimilarityMatrix, flyTableMeanSimilarityMatrix  = \n",
    "            nblast_allbyall(neuronList; semantic=false, k=k, ria=fly_ria);\n",
    "h5open(\"$(DATASET_DIR)/evaluate.h5\", \"r+\") do f\n",
    "    f[\"flyTable/rawSimilarityMatrix\"] = flyTableSimilarityMatrix\n",
    "    f[\"flyTable/normalizedSimilarityMatrix\"] = flyTableNormalizedSimilarityMatrix\n",
    "    f[\"flyTable/meanSimilarityMatrix\"] = flyTableMeanSimilarityMatrix\n",
    "end\n",
    "\n",
    "println(\"compute similarity score using zfish table...\")\n",
    "zfishTableSimilarityMatrix, zfishTableNormalizedSimilarityMatrix, zfishTableMeanSimilarityMatrix  = \n",
    "            nblast_allbyall(neuronList; semantic=false, k=k, ria=zfish_ria);\n",
    "h5open(\"$(DATASET_DIR)/evaluate.h5\", \"r+\") do f\n",
    "    f[\"zfishTable/rawSimilarityMatrix\"] = zfishTableSimilarityMatrix\n",
    "    f[\"zfishTable/normalizedSimilarityMatrix\"] = zfishTableNormalizedSimilarityMatrix\n",
    "    f[\"zfishTable/meanSimilarityMatrix\"] = zfishTableMeanSimilarityMatrix\n",
    "end\n",
    "\n",
    "println(\"compute similarity score using zfish table with semantic matching...\")\n",
    "zfishTableSemanticSimilarityMatrix, zfishTableSemanticNormalizedSimilarityMatrix, zfishTableSemanticMeanSimilarityMatrix  = \n",
    "            nblast_allbyall(neuronList; semantic=true, k=k, ria=zfish_ria);\n",
    "h5open(\"$(DATASET_DIR)/evaluate.h5\", \"r+\") do f\n",
    "    f[\"zfishTable/semantic/rawSimilarityMatrix\"] = zfishTableSemanticSimilarityMatrix\n",
    "    f[\"zfishTable/semantic/normalizedSimilarityMatrix\"] = zfishTableSemanticNormalizedSimilarityMatrix\n",
    "    f[\"zfishTable/semantic/meanSimilarityMatrix\"] = zfishTableSemanticMeanSimilarityMatrix\n",
    "end\n",
    "\n",
    "println(\"compute similarity score using zfish table with small-to-big...\")\n",
    "small2bigSimilarityMatrix = NBLASTs.nblast_allbyall_small2big(neuronList; k=k, ria=zfish_ria);\n",
    "h5open(\"$(DATASET_DIR)/evaluate.h5\", \"r+\") do f\n",
    "    f[\"zfishTable/small2big/similarityMatrix\"] = small2bigSimilarityMatrix\n",
    "end\n",
    "\n",
    "println(\"compute similarity score using zfish table with semantic small-to-big...\")\n",
    "semanticSmall2bigSimilarityMatrix = NBLASTs.nblast_allbyall_small2big(neuronList; \n",
    "    k=k, ria=zfish_ria, semantic=true);\n",
    "h5open(\"$(DATASET_DIR)/evaluate.h5\", \"r+\") do f\n",
    "    f[\"zfishTable/semantic/small2big/similarityMatrix\"] = semanticSmall2bigSimilarityMatrix\n",
    "end\n",
    "\n",
    "println(\"finished computing similarity matrix!\")"
   ]
  },
  {
   "cell_type": "markdown",
   "metadata": {},
   "source": [
    "# Evaluate clustering"
   ]
  },
  {
   "cell_type": "code",
   "execution_count": 7,
   "metadata": {},
   "outputs": [],
   "source": [
    "# perform clustering in R\n"
   ]
  },
  {
   "cell_type": "markdown",
   "metadata": {},
   "source": [
    "# Investigate a neuron pair"
   ]
  },
  {
   "cell_type": "code",
   "execution_count": 8,
   "metadata": {},
   "outputs": [
    {
     "name": "stdout",
     "output_type": "stream",
     "text": [
      "neuron 77634 has 768 nodes.\n",
      "neuron 77634 has 690 nodes.\n",
      "neuron 79066 has 694 nodes.\n",
      "neuron 79066 has 619 nodes.\n"
     ]
    }
   ],
   "source": [
    "# neuronId1 = 76631\n",
    "# neuronId2 = 82169\n",
    "# neuronId1 = 77710\n",
    "# neuronId2 = 77302\n",
    "\n",
    "neuronId1 = 77634\n",
    "neuronId2 = 79066\n",
    "\n",
    "neuron1 = Neurons.load(\"$(DATASET_DIR)/bin/$(neuronId1).bin\");\n",
    "neuron2 = Neurons.load(\"$(DATASET_DIR)/bin/$(neuronId2).bin\");\n",
    "n1 = Neurons.get_num_nodes(neuron1)\n",
    "println(\"neuron $neuronId1 has $(n1) nodes.\")\n",
    "neuron1 = Neurons.resample(neuron1, Float32(1000))\n",
    "n1 = Neurons.get_num_nodes(neuron1)\n",
    "println(\"neuron $neuronId1 has $(n1) nodes.\")\n",
    "\n",
    "n2 = Neurons.get_num_nodes(neuron2)\n",
    "println(\"neuron $neuronId2 has $(n2) nodes.\")\n",
    "neuron2 = Neurons.resample(neuron2, Float32(1000))\n",
    "n2 = Neurons.get_num_nodes(neuron2)\n",
    "println(\"neuron $neuronId2 has $(n2) nodes.\")"
   ]
  },
  {
   "cell_type": "code",
   "execution_count": 9,
   "metadata": {},
   "outputs": [
    {
     "ename": "ArgumentError",
     "evalue": "ArgumentError: Package Plotly not found in current path:\n- Run `import Pkg; Pkg.add(\"Plotly\")` to install the Plotly package.\n",
     "output_type": "error",
     "traceback": [
      "ArgumentError: Package Plotly not found in current path:\n- Run `import Pkg; Pkg.add(\"Plotly\")` to install the Plotly package.\n",
      "",
      "Stacktrace:",
      " [1] require(::Module, ::Symbol) at ./loading.jl:876",
      " [2] top-level scope at In[9]:1"
     ]
    }
   ],
   "source": [
    "using Plotly\n",
    "import Pkg\n",
    "include(joinpath(Pkg.devdir(), \"RealNeuralNetworks/src/Utils/PlotRecipes.jl\"))\n",
    "\n",
    "neuronId = 77886\n",
    "neuron = Neurons.load(\"$(DATASET_DIR)/bin/$(neuronId).bin\")\n",
    "my_plot = PlotRecipes.plot(neuron; nodeStep=1)\n",
    "\n",
    "remote_plot = Plotly.post(my_plot)\n",
    "remote_plot.url.uri"
   ]
  },
  {
   "cell_type": "code",
   "execution_count": 10,
   "metadata": {},
   "outputs": [
    {
     "data": {
      "text/plain": [
       "-9463.488f0"
      ]
     },
     "execution_count": 10,
     "metadata": {},
     "output_type": "execute_result"
    }
   ],
   "source": [
    "NBLASTs.nblast(neuron1, neuron2)"
   ]
  },
  {
   "cell_type": "code",
   "execution_count": 11,
   "metadata": {},
   "outputs": [
    {
     "data": {
      "text/plain": [
       "-10528.503f0"
      ]
     },
     "execution_count": 11,
     "metadata": {},
     "output_type": "execute_result"
    }
   ],
   "source": [
    "NBLASTs.nblast(neuron2, neuron1)"
   ]
  },
  {
   "cell_type": "code",
   "execution_count": 12,
   "metadata": {},
   "outputs": [
    {
     "name": "stdout",
     "output_type": "stream",
     "text": [
      "77640 and 77710 score is -7163.628\n",
      "77710 and 77640 score is -9363.354\n",
      "small to big score is -7163.628\n"
     ]
    }
   ],
   "source": [
    "neuronId3 = 77705\n",
    "\n",
    "function compute_nblast_score(neuronId1, neuronId2)\n",
    "    neuron1 = Neurons.load(\"$(DATASET_DIR)/atlas/bin/$(neuronId1).bin\")\n",
    "    neuron2 = Neurons.load(\"$(DATASET_DIR)/atlas/bin/$(neuronId2).bin\")\n",
    "    neuron1 = Neurons.resample(neuron1, Float32(1000))\n",
    "    neuron1 = Neurons.resample(neuron1, Float32(1000))\n",
    "    score12 = NBLASTs.nblast(neuron1, neuron2)\n",
    "    score21 = NBLASTs.nblast(neuron2, neuron1)\n",
    "    \n",
    "    \n",
    "    if Neurons.get_num_nodes(neuron1) > Neurons.get_num_nodes(neuron2)\n",
    "        scoresb = score12\n",
    "    else\n",
    "        scoresb = score21\n",
    "    end\n",
    "    \n",
    "    println(\"$(neuronId1) and $neuronId2 score is $(score12)\")\n",
    "    println(\"$(neuronId2) and $neuronId1 score is $(score21)\")\n",
    "    println(\"small to big score is $(scoresb)\")\n",
    "    return score12, score21, scoresb\n",
    "end\n",
    "\n",
    "compute_nblast_score(77640, 77710);"
   ]
  },
  {
   "cell_type": "code",
   "execution_count": 13,
   "metadata": {},
   "outputs": [
    {
     "name": "stdout",
     "output_type": "stream",
     "text": [
      "77302 and 77710 score is -7175.5444\n",
      "77710 and 77302 score is -3462.4004\n",
      "small to big score is -3462.4004\n"
     ]
    }
   ],
   "source": [
    "compute_nblast_score(77302, 77710);"
   ]
  }
 ],
 "metadata": {
  "@webio": {
   "lastCommId": null,
   "lastKernelId": null
  },
  "kernelspec": {
   "display_name": "Julia 1.3.0-alpha",
   "language": "julia",
   "name": "julia-1.3"
  },
  "language_info": {
   "file_extension": ".jl",
   "mimetype": "application/julia",
   "name": "julia",
   "version": "1.3.0"
  }
 },
 "nbformat": 4,
 "nbformat_minor": 2
}
